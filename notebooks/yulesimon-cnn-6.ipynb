{
 "cells": [
  {
   "cell_type": "markdown",
   "metadata": {},
   "source": [
    "# Imports"
   ]
  },
  {
   "cell_type": "code",
   "execution_count": 1,
   "metadata": {},
   "outputs": [],
   "source": [
    "import os\n",
    "import time\n",
    "import datetime\n",
    "import pickle\n",
    "import random\n",
    "from datetime import datetime\n",
    "\n",
    "import numpy as np\n",
    "import pandas as pd\n",
    "\n",
    "from scipy.stats import yulesimon\n",
    "\n",
    "import matplotlib.pyplot as plt\n",
    "%matplotlib inline\n",
    "\n",
    "import seaborn as sns\n",
    "sns.set_style('white')\n",
    "\n",
    "from sklearn.model_selection import train_test_split\n",
    "\n",
    "import tensorflow as tf\n",
    "\n",
    "import keras\n",
    "from keras.callbacks import EarlyStopping, ReduceLROnPlateau, ModelCheckpoint\n",
    "from keras import backend as K\n",
    "from keras import Sequential\n",
    "from keras.layers import Dense, Activation, MaxPooling1D, Dropout, BatchNormalization, Conv1D, Flatten\n",
    "from keras.optimizers import Adam, SGD\n",
    "from keras.regularizers import l1, l2, l1_l2\n",
    "from keras.metrics import mean_squared_error\n",
    "\n",
    "# fix random seed for reproducability\n",
    "def fix_random(seed):\n",
    "    os.environ['PYTONHASHSEED'] = '0'\n",
    "    np.random.seed(seed)\n",
    "    random.seed(seed)\n",
    "    tf.random.set_seed(seed)"
   ]
  },
  {
   "source": [
    "# Generate data\n",
    "### &nbsp;&nbsp; *num_alphas*: number of alphas generated between (min_alpha) and (max_alpha) inclusive\n",
    "### &nbsp;&nbsp; *samples_per_alpha*: number of samples (rows) for each alpha \n",
    "### &nbsp;&nbsp; *N* : number of random variates (number of samples drawn from yulesimon distribution)\n",
    "### &nbsp;&nbsp; *M* : maximun value of random variates (length of input vectors == number of features)"
   ],
   "cell_type": "markdown",
   "metadata": {}
  },
  {
   "cell_type": "code",
   "execution_count": 2,
   "metadata": {
    "tags": []
   },
   "outputs": [],
   "source": [
    "def get_max_M(N, \n",
    "                  num_alphas=100, \n",
    "                  samples_per_alpha=100, \n",
    "                  min_alpha=2.01, \n",
    "                  max_alpha=3.00, \n",
    "                  loc=0, \n",
    "                  random_alpha=False, \n",
    "                  random_state=0):\n",
    "    max_M = 0\n",
    "    \n",
    "    if random_alpha:\n",
    "        alphas = np.random.uniform(low=min_alpha, high=max_alpha, size=num_alphas)\n",
    "    else:\n",
    "        alphas = np.linspace(min_alpha, max_alpha, num=num_alphas)\n",
    "    \n",
    "    for alpha in alphas:\n",
    "        for i in range(samples_per_alpha):\n",
    "            X = yulesimon.rvs(alpha, loc=loc, size=N, random_state=random_state)\n",
    "            max_M = max(max_M, np.max(X))\n",
    "\n",
    "    return max_M\n",
    "\n",
    "def generate_data(N, \n",
    "                  num_alphas=100, \n",
    "                  samples_per_alpha=100, \n",
    "                  min_alpha=2.01, \n",
    "                  max_alpha=3.00, \n",
    "                  loc=0, \n",
    "                  random_alpha=False, \n",
    "                  random_state=0):\n",
    "    '''\n",
    "    params:\n",
    "        num_alphas: number of alphas generated between (min_alpha) and (max_alpha) inclusive\n",
    "        samples_per_alpha: number of samples (rows) for each alpha \n",
    "        N: number of RV samples (columns) per row\n",
    "    '''\n",
    "\n",
    "    X = np.empty((num_alphas * samples_per_alpha, N+1), float)\n",
    "\n",
    "    row = 0\n",
    "    \n",
    "    if random_alpha:\n",
    "        alphas = np.random.uniform(low=min_alpha, high=max_alpha, size=num_alphas)\n",
    "    else:\n",
    "        alphas = np.linspace(min_alpha, max_alpha, num=num_alphas)\n",
    "    \n",
    "    for alpha in alphas:\n",
    "        \n",
    "        # generate samples (rows) for current alpha\n",
    "        for i in range(samples_per_alpha):\n",
    "            X[row, 0] = alpha\n",
    "            X[row, 1:] = yulesimon.rvs(alpha, loc=loc, size=N, random_state=random_state)\n",
    "            row += 1\n",
    "\n",
    "    # suffle rows\n",
    "    np.random.shuffle(X)\n",
    "\n",
    "    # separate X from y\n",
    "    y = X[:, 0]\n",
    "    X = X[:, 1:].astype(int)\n",
    "\n",
    "    # create a histogram (H) from (X) rows\n",
    "    nbins = np.max(X)\n",
    "    H = np.apply_along_axis(lambda a: np.histogram(a, bins=nbins, density=False)[0], 1, X)\n",
    "\n",
    "    # log scale (H) rows\n",
    "    logH = np.apply_along_axis(lambda a: np.log10(a+1), 1, H)\n",
    "\n",
    "    return logH, y, nbins # (nbins == M)"
   ]
  },
  {
   "cell_type": "markdown",
   "metadata": {},
   "source": [
    "# Create Model"
   ]
  },
  {
   "cell_type": "code",
   "execution_count": 3,
   "metadata": {},
   "outputs": [],
   "source": [
    "def create_model_OLD(n_features, filters=32):\n",
    "\n",
    "    model = Sequential()\n",
    "\n",
    "    input_size = n_features\n",
    "    # for i in range(1,5):\n",
    "    # for i in [2, 2, 2, 2]:\n",
    "    for i in [3, 3, 3, 3]:\n",
    "        filter_size = 2 ** i\n",
    "        model.add(Conv1D(filters, filter_size, activation=\"relu\", input_shape=(input_size, 1)))\n",
    "        # model.add(MaxPooling1D(pool_size=2, strides=1, padding='same'))\n",
    "        model.add(MaxPooling1D(pool_size=3, strides=1, padding='same'))\n",
    "        input_size = input_size - filter_size + 1\n",
    "        if filter_size > input_size/2:\n",
    "            break\n",
    "\n",
    "    model.add(Flatten())\n",
    "    model.add(Dense(64, activation=\"relu\"))\n",
    "    model.add(Dense(1))\n",
    "    model.compile(loss=\"mse\", optimizer=\"adam\")\n",
    "\n",
    "    return model\n"
   ]
  },
  {
   "cell_type": "code",
   "execution_count": 4,
   "metadata": {},
   "outputs": [],
   "source": [
    "def create_model(n_features, filters=32):\n",
    "    \n",
    "    model = Sequential()\n",
    "    # model.add(Conv1D(32, 2, activation=\"relu\", input_shape=(n_features,1)))\n",
    "    model.add(Conv1D(32, 3, activation=\"relu\", input_shape=(n_features, 1)))\n",
    "    \n",
    "    # model.add(Dropout(0.5))\n",
    "    model.add(MaxPooling1D(pool_size=2))\n",
    "\n",
    "    model.add(Flatten())\n",
    "    model.add(Dense(64, activation=\"relu\"))\n",
    "    model.add(Dense(1))\n",
    "    model.compile(loss=\"mse\", optimizer=\"adam\")\n",
    "\n",
    "    return model"
   ]
  },
  {
   "cell_type": "markdown",
   "metadata": {},
   "source": [
    "# Training"
   ]
  },
  {
   "cell_type": "code",
   "execution_count": 5,
   "metadata": {
    "tags": []
   },
   "outputs": [],
   "source": [
    "def train(X_train, y_train, filters=32, batch_size=32, random_state=0):\n",
    "\n",
    "    # split train/val\n",
    "    X_train, X_val, y_train, y_val = train_test_split(X_train, y_train, \n",
    "        test_size=0.25, random_state=random_state)\n",
    "\n",
    "    # create model\n",
    "    model = create_model(X_train.shape[1], filters=filters)\n",
    "    \n",
    "    # early-stopping\n",
    "    es_patience = 50\n",
    "    es = EarlyStopping(monitor='val_loss', \n",
    "                        patience=es_patience, \n",
    "                        mode='min', \n",
    "                        restore_best_weights=True, \n",
    "                        verbose=0)\n",
    "    \n",
    "    # model checkpoint\n",
    "    if not os.path.exists('models'):\n",
    "        os.makedirs('models')\n",
    "    date_str = datetime.now().strftime('%d-%m-%Y_%H-%M-%S')\n",
    "    base_path       = 'models/yulesimon_{}'.format(date_str)\n",
    "    model_path      = '{}.h5'.format(base_path)\n",
    "    history_path    = '{}.history'.format(base_path)\n",
    "    \n",
    "    cp = ModelCheckpoint(filepath=model_path, monitor='val_loss', mode='min', save_best_only=True, verbose=0)\n",
    "    \n",
    "    # reduce learning-rate on plateau\n",
    "    reduce_lr = ReduceLROnPlateau(monitor='val_loss', factor=0.95, patience=10)\n",
    "    \n",
    "    # fit model\n",
    "    history = model.fit(X_train, \n",
    "                        y_train, \n",
    "                        validation_data=(X_val, y_val), \n",
    "                        epochs=200, \n",
    "                        batch_size=batch_size, \n",
    "                        shuffle=False, \n",
    "                        callbacks=[es, reduce_lr, cp], \n",
    "                        verbose=0)\n",
    "    \n",
    "    # save history with model\n",
    "    with open(history_path, 'wb') as f:\n",
    "        pickle.dump(history.history, f)\n",
    "    \n",
    "    # load best weights from last checkpoint\n",
    "    model = keras.models.load_model(model_path)\n",
    "    return model, history.history"
   ]
  },
  {
   "cell_type": "code",
   "execution_count": 6,
   "metadata": {},
   "outputs": [],
   "source": [
    "def plot_learning_curves(history, train_key='loss', val_key='val_loss'):\n",
    "    plt.figure(figsize=(2,2))\n",
    "    plt.plot(history[train_key])\n",
    "    plt.plot(history[val_key])\n",
    "    plt.title('learning curves')\n",
    "    plt.ylabel('loss')\n",
    "    plt.xlabel('epoch')\n",
    "    plt.legend(['train', 'validation'], loc='upper right')\n",
    "    plt.show()\n",
    "    print('loss:', np.min(history['loss']))\n",
    "    print('val_loss:', np.min(history['val_loss']))    "
   ]
  },
  {
   "cell_type": "markdown",
   "metadata": {},
   "source": [
    "# Trials"
   ]
  },
  {
   "cell_type": "code",
   "execution_count": 7,
   "metadata": {
    "tags": []
   },
   "outputs": [],
   "source": [
    "def trial(num_alphas=100, random_alpha=False):\n",
    "    print('Processing...')\n",
    "    print()\n",
    "\n",
    "    a_N = np.array([])\n",
    "    a_sqrt_mse = np.array([])\n",
    "\n",
    "    # 10 random states\n",
    "    random_states = [0, 3, 5, 8, 11, 16, 17, 20, 21, 24]\n",
    "    # random_states = [0, 3, 5]\n",
    "    # random_states = [3, 5, 8]\n",
    "    # random_states = [0, 3, 17]\n",
    "\n",
    "    # hold array of absolute errors\n",
    "    abs_errors = np.array([], dtype=float)\n",
    "\n",
    "    # change N [32..2048]\n",
    "    # for i in range(5, 12):\n",
    "    # for i in range(5, 8):\n",
    "    for i in range(5, 12):\n",
    "\n",
    "        N = 2**i\n",
    "\n",
    "        a_N = np.append(a_N, N)\n",
    "\n",
    "        # data generation (fix random state=0)\n",
    "        DATA_SEED = 0\n",
    "        fix_random(seed=DATA_SEED)\n",
    "        X, y, M = generate_data(N=N, num_alphas=num_alphas, samples_per_alpha=100, random_alpha=random_alpha, random_state=DATA_SEED)\n",
    "\n",
    "        # reshape X for Conv1D\n",
    "        X = X.reshape(X.shape[0], X.shape[1], 1)\n",
    "\n",
    "        # split train/test\n",
    "        X_train, X_test, y_train, y_test = train_test_split(X, y, test_size=0.25, random_state=0)\n",
    "\n",
    "        avg_sqrt_mse = 0\n",
    "\n",
    "        # change random state\n",
    "        for rs in random_states:\n",
    "\n",
    "            # fix random\n",
    "            fix_random(seed=rs)\n",
    "        \n",
    "            # training\n",
    "            model, history = train(X_train, y_train, filters=32, batch_size=32, random_state=rs)\n",
    "\n",
    "            # predict\n",
    "            y_pred = model.predict(X_test).flatten()\n",
    "\n",
    "            # mse\n",
    "            mse = mean_squared_error(y_test, y_pred)\n",
    "\n",
    "            # sqrt_mse\n",
    "            sqrt_mse = np.sqrt(mse)\n",
    "\n",
    "            # avg_sqrt_mse (accumulator)\n",
    "            avg_sqrt_mse += sqrt_mse\n",
    "            \n",
    "            print('N = {}, M = {}, random_state = {}    =>    sqrt_mse = {:.6f}'.format(N, M, rs, sqrt_mse))\n",
    "\n",
    "            # absolute errors\n",
    "            abs_errors = np.append(abs_errors, np.abs(y_test - y_pred))\n",
    "\n",
    "        # avg_sqrt_mse\n",
    "        avg_sqrt_mse = avg_sqrt_mse / len(random_states)\n",
    "        a_sqrt_mse = np.append(a_sqrt_mse, avg_sqrt_mse)\n",
    "        print('avg_sqrt_mse = {:.6f}'.format(avg_sqrt_mse))\n",
    "        print()\n",
    "\n",
    "    return abs_errors, a_N, a_sqrt_mse"
   ]
  },
  {
   "cell_type": "code",
   "execution_count": 8,
   "metadata": {
    "tags": []
   },
   "outputs": [
    {
     "output_type": "stream",
     "name": "stdout",
     "text": [
      "Processing...\n",
      "\n",
      "N = 32, M = 34, random_state = 0    =>    sqrt_mse = 0.040493\n",
      "N = 32, M = 34, random_state = 3    =>    sqrt_mse = 0.041951\n",
      "N = 32, M = 34, random_state = 5    =>    sqrt_mse = 0.041736\n",
      "N = 32, M = 34, random_state = 8    =>    sqrt_mse = 0.040969\n",
      "N = 32, M = 34, random_state = 11    =>    sqrt_mse = 0.041056\n",
      "N = 32, M = 34, random_state = 16    =>    sqrt_mse = 0.040675\n",
      "N = 32, M = 34, random_state = 17    =>    sqrt_mse = 0.040593\n",
      "N = 32, M = 34, random_state = 20    =>    sqrt_mse = 0.040639\n",
      "N = 32, M = 34, random_state = 21    =>    sqrt_mse = 0.041739\n",
      "N = 32, M = 34, random_state = 24    =>    sqrt_mse = 0.041204\n",
      "avg_sqrt_mse = 0.041105\n",
      "\n",
      "N = 64, M = 20, random_state = 0    =>    sqrt_mse = 0.011435\n",
      "N = 64, M = 20, random_state = 3    =>    sqrt_mse = 0.011263\n",
      "N = 64, M = 20, random_state = 5    =>    sqrt_mse = 0.011787\n",
      "N = 64, M = 20, random_state = 8    =>    sqrt_mse = 0.011713\n",
      "N = 64, M = 20, random_state = 11    =>    sqrt_mse = 0.013536\n",
      "N = 64, M = 20, random_state = 16    =>    sqrt_mse = 0.012169\n",
      "N = 64, M = 20, random_state = 17    =>    sqrt_mse = 0.011282\n",
      "N = 64, M = 20, random_state = 20    =>    sqrt_mse = 0.014446\n",
      "N = 64, M = 20, random_state = 21    =>    sqrt_mse = 0.011718\n",
      "N = 64, M = 20, random_state = 24    =>    sqrt_mse = 0.016086\n",
      "avg_sqrt_mse = 0.012544\n",
      "\n",
      "N = 128, M = 46, random_state = 0    =>    sqrt_mse = 0.012200\n",
      "N = 128, M = 46, random_state = 3    =>    sqrt_mse = 0.012014\n",
      "N = 128, M = 46, random_state = 5    =>    sqrt_mse = 0.012425\n",
      "N = 128, M = 46, random_state = 8    =>    sqrt_mse = 0.011980\n",
      "N = 128, M = 46, random_state = 11    =>    sqrt_mse = 0.022780\n",
      "N = 128, M = 46, random_state = 16    =>    sqrt_mse = 0.012322\n",
      "N = 128, M = 46, random_state = 17    =>    sqrt_mse = 0.018474\n",
      "N = 128, M = 46, random_state = 20    =>    sqrt_mse = 0.012427\n",
      "N = 128, M = 46, random_state = 21    =>    sqrt_mse = 0.011600\n",
      "N = 128, M = 46, random_state = 24    =>    sqrt_mse = 0.012411\n",
      "avg_sqrt_mse = 0.013863\n",
      "\n",
      "N = 256, M = 21, random_state = 0    =>    sqrt_mse = 0.005838\n",
      "N = 256, M = 21, random_state = 3    =>    sqrt_mse = 0.006636\n",
      "N = 256, M = 21, random_state = 5    =>    sqrt_mse = 0.008285\n",
      "N = 256, M = 21, random_state = 8    =>    sqrt_mse = 0.006858\n",
      "N = 256, M = 21, random_state = 11    =>    sqrt_mse = 0.006600\n",
      "N = 256, M = 21, random_state = 16    =>    sqrt_mse = 0.007405\n",
      "N = 256, M = 21, random_state = 17    =>    sqrt_mse = 0.005887\n",
      "N = 256, M = 21, random_state = 20    =>    sqrt_mse = 0.006460\n",
      "N = 256, M = 21, random_state = 21    =>    sqrt_mse = 0.007727\n",
      "N = 256, M = 21, random_state = 24    =>    sqrt_mse = 0.008234\n",
      "avg_sqrt_mse = 0.006993\n",
      "\n",
      "N = 512, M = 33, random_state = 0    =>    sqrt_mse = 0.005390\n",
      "N = 512, M = 33, random_state = 3    =>    sqrt_mse = 0.004213\n",
      "N = 512, M = 33, random_state = 5    =>    sqrt_mse = 0.003322\n",
      "N = 512, M = 33, random_state = 8    =>    sqrt_mse = 0.003317\n",
      "N = 512, M = 33, random_state = 11    =>    sqrt_mse = 0.003686\n",
      "N = 512, M = 33, random_state = 16    =>    sqrt_mse = 0.003429\n",
      "N = 512, M = 33, random_state = 17    =>    sqrt_mse = 0.003321\n",
      "N = 512, M = 33, random_state = 20    =>    sqrt_mse = 0.006424\n",
      "N = 512, M = 33, random_state = 21    =>    sqrt_mse = 0.003815\n",
      "N = 512, M = 33, random_state = 24    =>    sqrt_mse = 0.003234\n",
      "avg_sqrt_mse = 0.004015\n",
      "\n",
      "N = 1024, M = 63, random_state = 0    =>    sqrt_mse = 0.003164\n",
      "N = 1024, M = 63, random_state = 3    =>    sqrt_mse = 0.003754\n",
      "N = 1024, M = 63, random_state = 5    =>    sqrt_mse = 0.003891\n",
      "N = 1024, M = 63, random_state = 8    =>    sqrt_mse = 0.003700\n",
      "N = 1024, M = 63, random_state = 11    =>    sqrt_mse = 0.003169\n",
      "N = 1024, M = 63, random_state = 16    =>    sqrt_mse = 0.003152\n",
      "N = 1024, M = 63, random_state = 17    =>    sqrt_mse = 0.004349\n",
      "N = 1024, M = 63, random_state = 20    =>    sqrt_mse = 0.003328\n",
      "N = 1024, M = 63, random_state = 21    =>    sqrt_mse = 0.005270\n",
      "N = 1024, M = 63, random_state = 24    =>    sqrt_mse = 0.003257\n",
      "avg_sqrt_mse = 0.003703\n",
      "\n",
      "N = 2048, M = 140, random_state = 0    =>    sqrt_mse = 0.002006\n",
      "N = 2048, M = 140, random_state = 3    =>    sqrt_mse = 0.002024\n",
      "N = 2048, M = 140, random_state = 5    =>    sqrt_mse = 0.001712\n",
      "N = 2048, M = 140, random_state = 8    =>    sqrt_mse = 0.001635\n",
      "N = 2048, M = 140, random_state = 11    =>    sqrt_mse = 0.001884\n",
      "N = 2048, M = 140, random_state = 16    =>    sqrt_mse = 0.001530\n",
      "N = 2048, M = 140, random_state = 17    =>    sqrt_mse = 0.002762\n",
      "N = 2048, M = 140, random_state = 20    =>    sqrt_mse = 0.001883\n",
      "N = 2048, M = 140, random_state = 21    =>    sqrt_mse = 0.002210\n",
      "N = 2048, M = 140, random_state = 24    =>    sqrt_mse = 0.002506\n",
      "avg_sqrt_mse = 0.002015\n",
      "\n",
      "N = 4096, M = 477, random_state = 0    =>    sqrt_mse = 0.000682\n",
      "N = 4096, M = 477, random_state = 3    =>    sqrt_mse = 0.000616\n",
      "N = 4096, M = 477, random_state = 5    =>    sqrt_mse = 0.000646\n",
      "N = 4096, M = 477, random_state = 8    =>    sqrt_mse = 0.000477\n",
      "N = 4096, M = 477, random_state = 11    =>    sqrt_mse = 0.002017\n",
      "N = 4096, M = 477, random_state = 16    =>    sqrt_mse = 0.002057\n",
      "N = 4096, M = 477, random_state = 17    =>    sqrt_mse = 0.000409\n",
      "N = 4096, M = 477, random_state = 20    =>    sqrt_mse = 0.000615\n",
      "N = 4096, M = 477, random_state = 21    =>    sqrt_mse = 0.000378\n",
      "N = 4096, M = 477, random_state = 24    =>    sqrt_mse = 0.001528\n",
      "avg_sqrt_mse = 0.000943\n",
      "\n"
     ]
    }
   ],
   "source": [
    "abs_errors, a_N, a_sqrt_mse = trial(random_alpha=True)"
   ]
  },
  {
   "source": [
    "# plot log(N) vs sqrt_mse"
   ],
   "cell_type": "markdown",
   "metadata": {}
  },
  {
   "cell_type": "code",
   "execution_count": 9,
   "metadata": {},
   "outputs": [
    {
     "output_type": "display_data",
     "data": {
      "text/plain": "<Figure size 1080x288 with 1 Axes>",
      "image/svg+xml": "<?xml version=\"1.0\" encoding=\"utf-8\" standalone=\"no\"?>\n<!DOCTYPE svg PUBLIC \"-//W3C//DTD SVG 1.1//EN\"\n  \"http://www.w3.org/Graphics/SVG/1.1/DTD/svg11.dtd\">\n<!-- Created with matplotlib (https://matplotlib.org/) -->\n<svg height=\"276.980625pt\" version=\"1.1\" viewBox=\"0 0 444.160795 276.980625\" width=\"444.160795pt\" xmlns=\"http://www.w3.org/2000/svg\" xmlns:xlink=\"http://www.w3.org/1999/xlink\">\n <metadata>\n  <rdf:RDF xmlns:cc=\"http://creativecommons.org/ns#\" xmlns:dc=\"http://purl.org/dc/elements/1.1/\" xmlns:rdf=\"http://www.w3.org/1999/02/22-rdf-syntax-ns#\">\n   <cc:Work>\n    <dc:type rdf:resource=\"http://purl.org/dc/dcmitype/StillImage\"/>\n    <dc:date>2020-10-08T14:35:04.112885</dc:date>\n    <dc:format>image/svg+xml</dc:format>\n    <dc:creator>\n     <cc:Agent>\n      <dc:title>Matplotlib v3.3.2, https://matplotlib.org/</dc:title>\n     </cc:Agent>\n    </dc:creator>\n   </cc:Work>\n  </rdf:RDF>\n </metadata>\n <defs>\n  <style type=\"text/css\">*{stroke-linecap:butt;stroke-linejoin:round;}</style>\n </defs>\n <g id=\"figure_1\">\n  <g id=\"patch_1\">\n   <path d=\"M 0 276.980625 \nL 444.160795 276.980625 \nL 444.160795 0 \nL 0 0 \nz\n\" style=\"fill:#ffffff;\"/>\n  </g>\n  <g id=\"axes_1\">\n   <g id=\"patch_2\">\n    <path d=\"M 56.50625 239.424375 \nL 436.960795 239.424375 \nL 436.960795 21.984375 \nL 56.50625 21.984375 \nz\n\" style=\"fill:#ffffff;\"/>\n   </g>\n   <g id=\"matplotlib.axis_1\">\n    <g id=\"xtick_1\">\n     <g id=\"text_1\">\n      <!-- 1.5 -->\n      <g style=\"fill:#262626;\" transform=\"translate(65.002782 254.022812)scale(0.1 -0.1)\">\n       <defs>\n        <path d=\"M 12.40625 8.296875 \nL 28.515625 8.296875 \nL 28.515625 63.921875 \nL 10.984375 60.40625 \nL 10.984375 69.390625 \nL 28.421875 72.90625 \nL 38.28125 72.90625 \nL 38.28125 8.296875 \nL 54.390625 8.296875 \nL 54.390625 0 \nL 12.40625 0 \nz\n\" id=\"DejaVuSans-49\"/>\n        <path d=\"M 10.6875 12.40625 \nL 21 12.40625 \nL 21 0 \nL 10.6875 0 \nz\n\" id=\"DejaVuSans-46\"/>\n        <path d=\"M 10.796875 72.90625 \nL 49.515625 72.90625 \nL 49.515625 64.59375 \nL 19.828125 64.59375 \nL 19.828125 46.734375 \nQ 21.96875 47.46875 24.109375 47.828125 \nQ 26.265625 48.1875 28.421875 48.1875 \nQ 40.625 48.1875 47.75 41.5 \nQ 54.890625 34.8125 54.890625 23.390625 \nQ 54.890625 11.625 47.5625 5.09375 \nQ 40.234375 -1.421875 26.90625 -1.421875 \nQ 22.3125 -1.421875 17.546875 -0.640625 \nQ 12.796875 0.140625 7.71875 1.703125 \nL 7.71875 11.625 \nQ 12.109375 9.234375 16.796875 8.0625 \nQ 21.484375 6.890625 26.703125 6.890625 \nQ 35.15625 6.890625 40.078125 11.328125 \nQ 45.015625 15.765625 45.015625 23.390625 \nQ 45.015625 31 40.078125 35.4375 \nQ 35.15625 39.890625 26.703125 39.890625 \nQ 22.75 39.890625 18.8125 39.015625 \nQ 14.890625 38.140625 10.796875 36.28125 \nz\n\" id=\"DejaVuSans-53\"/>\n       </defs>\n       <use xlink:href=\"#DejaVuSans-49\"/>\n       <use x=\"63.623047\" xlink:href=\"#DejaVuSans-46\"/>\n       <use x=\"95.410156\" xlink:href=\"#DejaVuSans-53\"/>\n      </g>\n     </g>\n    </g>\n    <g id=\"xtick_2\">\n     <g id=\"text_2\">\n      <!-- 2.0 -->\n      <g style=\"fill:#262626;\" transform=\"translate(147.070486 254.022812)scale(0.1 -0.1)\">\n       <defs>\n        <path d=\"M 19.1875 8.296875 \nL 53.609375 8.296875 \nL 53.609375 0 \nL 7.328125 0 \nL 7.328125 8.296875 \nQ 12.9375 14.109375 22.625 23.890625 \nQ 32.328125 33.6875 34.8125 36.53125 \nQ 39.546875 41.84375 41.421875 45.53125 \nQ 43.3125 49.21875 43.3125 52.78125 \nQ 43.3125 58.59375 39.234375 62.25 \nQ 35.15625 65.921875 28.609375 65.921875 \nQ 23.96875 65.921875 18.8125 64.3125 \nQ 13.671875 62.703125 7.8125 59.421875 \nL 7.8125 69.390625 \nQ 13.765625 71.78125 18.9375 73 \nQ 24.125 74.21875 28.421875 74.21875 \nQ 39.75 74.21875 46.484375 68.546875 \nQ 53.21875 62.890625 53.21875 53.421875 \nQ 53.21875 48.921875 51.53125 44.890625 \nQ 49.859375 40.875 45.40625 35.40625 \nQ 44.1875 33.984375 37.640625 27.21875 \nQ 31.109375 20.453125 19.1875 8.296875 \nz\n\" id=\"DejaVuSans-50\"/>\n        <path d=\"M 31.78125 66.40625 \nQ 24.171875 66.40625 20.328125 58.90625 \nQ 16.5 51.421875 16.5 36.375 \nQ 16.5 21.390625 20.328125 13.890625 \nQ 24.171875 6.390625 31.78125 6.390625 \nQ 39.453125 6.390625 43.28125 13.890625 \nQ 47.125 21.390625 47.125 36.375 \nQ 47.125 51.421875 43.28125 58.90625 \nQ 39.453125 66.40625 31.78125 66.40625 \nz\nM 31.78125 74.21875 \nQ 44.046875 74.21875 50.515625 64.515625 \nQ 56.984375 54.828125 56.984375 36.375 \nQ 56.984375 17.96875 50.515625 8.265625 \nQ 44.046875 -1.421875 31.78125 -1.421875 \nQ 19.53125 -1.421875 13.0625 8.265625 \nQ 6.59375 17.96875 6.59375 36.375 \nQ 6.59375 54.828125 13.0625 64.515625 \nQ 19.53125 74.21875 31.78125 74.21875 \nz\n\" id=\"DejaVuSans-48\"/>\n       </defs>\n       <use xlink:href=\"#DejaVuSans-50\"/>\n       <use x=\"63.623047\" xlink:href=\"#DejaVuSans-46\"/>\n       <use x=\"95.410156\" xlink:href=\"#DejaVuSans-48\"/>\n      </g>\n     </g>\n    </g>\n    <g id=\"xtick_3\">\n     <g id=\"text_3\">\n      <!-- 2.5 -->\n      <g style=\"fill:#262626;\" transform=\"translate(229.13819 254.022812)scale(0.1 -0.1)\">\n       <use xlink:href=\"#DejaVuSans-50\"/>\n       <use x=\"63.623047\" xlink:href=\"#DejaVuSans-46\"/>\n       <use x=\"95.410156\" xlink:href=\"#DejaVuSans-53\"/>\n      </g>\n     </g>\n    </g>\n    <g id=\"xtick_4\">\n     <g id=\"text_4\">\n      <!-- 3.0 -->\n      <g style=\"fill:#262626;\" transform=\"translate(311.205894 254.022812)scale(0.1 -0.1)\">\n       <defs>\n        <path d=\"M 40.578125 39.3125 \nQ 47.65625 37.796875 51.625 33 \nQ 55.609375 28.21875 55.609375 21.1875 \nQ 55.609375 10.40625 48.1875 4.484375 \nQ 40.765625 -1.421875 27.09375 -1.421875 \nQ 22.515625 -1.421875 17.65625 -0.515625 \nQ 12.796875 0.390625 7.625 2.203125 \nL 7.625 11.71875 \nQ 11.71875 9.328125 16.59375 8.109375 \nQ 21.484375 6.890625 26.8125 6.890625 \nQ 36.078125 6.890625 40.9375 10.546875 \nQ 45.796875 14.203125 45.796875 21.1875 \nQ 45.796875 27.640625 41.28125 31.265625 \nQ 36.765625 34.90625 28.71875 34.90625 \nL 20.21875 34.90625 \nL 20.21875 43.015625 \nL 29.109375 43.015625 \nQ 36.375 43.015625 40.234375 45.921875 \nQ 44.09375 48.828125 44.09375 54.296875 \nQ 44.09375 59.90625 40.109375 62.90625 \nQ 36.140625 65.921875 28.71875 65.921875 \nQ 24.65625 65.921875 20.015625 65.03125 \nQ 15.375 64.15625 9.8125 62.3125 \nL 9.8125 71.09375 \nQ 15.4375 72.65625 20.34375 73.4375 \nQ 25.25 74.21875 29.59375 74.21875 \nQ 40.828125 74.21875 47.359375 69.109375 \nQ 53.90625 64.015625 53.90625 55.328125 \nQ 53.90625 49.265625 50.4375 45.09375 \nQ 46.96875 40.921875 40.578125 39.3125 \nz\n\" id=\"DejaVuSans-51\"/>\n       </defs>\n       <use xlink:href=\"#DejaVuSans-51\"/>\n       <use x=\"63.623047\" xlink:href=\"#DejaVuSans-46\"/>\n       <use x=\"95.410156\" xlink:href=\"#DejaVuSans-48\"/>\n      </g>\n     </g>\n    </g>\n    <g id=\"xtick_5\">\n     <g id=\"text_5\">\n      <!-- 3.5 -->\n      <g style=\"fill:#262626;\" transform=\"translate(393.273599 254.022812)scale(0.1 -0.1)\">\n       <use xlink:href=\"#DejaVuSans-51\"/>\n       <use x=\"63.623047\" xlink:href=\"#DejaVuSans-46\"/>\n       <use x=\"95.410156\" xlink:href=\"#DejaVuSans-53\"/>\n      </g>\n     </g>\n    </g>\n    <g id=\"text_6\">\n     <!-- log(N) -->\n     <g style=\"fill:#262626;\" transform=\"translate(231.468679 267.700937)scale(0.1 -0.1)\">\n      <defs>\n       <path d=\"M 9.421875 75.984375 \nL 18.40625 75.984375 \nL 18.40625 0 \nL 9.421875 0 \nz\n\" id=\"DejaVuSans-108\"/>\n       <path d=\"M 30.609375 48.390625 \nQ 23.390625 48.390625 19.1875 42.75 \nQ 14.984375 37.109375 14.984375 27.296875 \nQ 14.984375 17.484375 19.15625 11.84375 \nQ 23.34375 6.203125 30.609375 6.203125 \nQ 37.796875 6.203125 41.984375 11.859375 \nQ 46.1875 17.53125 46.1875 27.296875 \nQ 46.1875 37.015625 41.984375 42.703125 \nQ 37.796875 48.390625 30.609375 48.390625 \nz\nM 30.609375 56 \nQ 42.328125 56 49.015625 48.375 \nQ 55.71875 40.765625 55.71875 27.296875 \nQ 55.71875 13.875 49.015625 6.21875 \nQ 42.328125 -1.421875 30.609375 -1.421875 \nQ 18.84375 -1.421875 12.171875 6.21875 \nQ 5.515625 13.875 5.515625 27.296875 \nQ 5.515625 40.765625 12.171875 48.375 \nQ 18.84375 56 30.609375 56 \nz\n\" id=\"DejaVuSans-111\"/>\n       <path d=\"M 45.40625 27.984375 \nQ 45.40625 37.75 41.375 43.109375 \nQ 37.359375 48.484375 30.078125 48.484375 \nQ 22.859375 48.484375 18.828125 43.109375 \nQ 14.796875 37.75 14.796875 27.984375 \nQ 14.796875 18.265625 18.828125 12.890625 \nQ 22.859375 7.515625 30.078125 7.515625 \nQ 37.359375 7.515625 41.375 12.890625 \nQ 45.40625 18.265625 45.40625 27.984375 \nz\nM 54.390625 6.78125 \nQ 54.390625 -7.171875 48.1875 -13.984375 \nQ 42 -20.796875 29.203125 -20.796875 \nQ 24.46875 -20.796875 20.265625 -20.09375 \nQ 16.0625 -19.390625 12.109375 -17.921875 \nL 12.109375 -9.1875 \nQ 16.0625 -11.328125 19.921875 -12.34375 \nQ 23.78125 -13.375 27.78125 -13.375 \nQ 36.625 -13.375 41.015625 -8.765625 \nQ 45.40625 -4.15625 45.40625 5.171875 \nL 45.40625 9.625 \nQ 42.625 4.78125 38.28125 2.390625 \nQ 33.9375 0 27.875 0 \nQ 17.828125 0 11.671875 7.65625 \nQ 5.515625 15.328125 5.515625 27.984375 \nQ 5.515625 40.671875 11.671875 48.328125 \nQ 17.828125 56 27.875 56 \nQ 33.9375 56 38.28125 53.609375 \nQ 42.625 51.21875 45.40625 46.390625 \nL 45.40625 54.6875 \nL 54.390625 54.6875 \nz\n\" id=\"DejaVuSans-103\"/>\n       <path d=\"M 31 75.875 \nQ 24.46875 64.65625 21.28125 53.65625 \nQ 18.109375 42.671875 18.109375 31.390625 \nQ 18.109375 20.125 21.3125 9.0625 \nQ 24.515625 -2 31 -13.1875 \nL 23.1875 -13.1875 \nQ 15.875 -1.703125 12.234375 9.375 \nQ 8.59375 20.453125 8.59375 31.390625 \nQ 8.59375 42.28125 12.203125 53.3125 \nQ 15.828125 64.359375 23.1875 75.875 \nz\n\" id=\"DejaVuSans-40\"/>\n       <path d=\"M 9.8125 72.90625 \nL 23.09375 72.90625 \nL 55.421875 11.921875 \nL 55.421875 72.90625 \nL 64.984375 72.90625 \nL 64.984375 0 \nL 51.703125 0 \nL 19.390625 60.984375 \nL 19.390625 0 \nL 9.8125 0 \nz\n\" id=\"DejaVuSans-78\"/>\n       <path d=\"M 8.015625 75.875 \nL 15.828125 75.875 \nQ 23.140625 64.359375 26.78125 53.3125 \nQ 30.421875 42.28125 30.421875 31.390625 \nQ 30.421875 20.453125 26.78125 9.375 \nQ 23.140625 -1.703125 15.828125 -13.1875 \nL 8.015625 -13.1875 \nQ 14.5 -2 17.703125 9.0625 \nQ 20.90625 20.125 20.90625 31.390625 \nQ 20.90625 42.671875 17.703125 53.65625 \nQ 14.5 64.65625 8.015625 75.875 \nz\n\" id=\"DejaVuSans-41\"/>\n      </defs>\n      <use xlink:href=\"#DejaVuSans-108\"/>\n      <use x=\"27.783203\" xlink:href=\"#DejaVuSans-111\"/>\n      <use x=\"88.964844\" xlink:href=\"#DejaVuSans-103\"/>\n      <use x=\"152.441406\" xlink:href=\"#DejaVuSans-40\"/>\n      <use x=\"191.455078\" xlink:href=\"#DejaVuSans-78\"/>\n      <use x=\"266.259766\" xlink:href=\"#DejaVuSans-41\"/>\n     </g>\n    </g>\n   </g>\n   <g id=\"matplotlib.axis_2\">\n    <g id=\"ytick_1\">\n     <g id=\"text_7\">\n      <!-- 0.000 -->\n      <g style=\"fill:#262626;\" transform=\"translate(20.878125 237.978762)scale(0.1 -0.1)\">\n       <use xlink:href=\"#DejaVuSans-48\"/>\n       <use x=\"63.623047\" xlink:href=\"#DejaVuSans-46\"/>\n       <use x=\"95.410156\" xlink:href=\"#DejaVuSans-48\"/>\n       <use x=\"159.033203\" xlink:href=\"#DejaVuSans-48\"/>\n       <use x=\"222.65625\" xlink:href=\"#DejaVuSans-48\"/>\n      </g>\n     </g>\n    </g>\n    <g id=\"ytick_2\">\n     <g id=\"text_8\">\n      <!-- 0.005 -->\n      <g style=\"fill:#262626;\" transform=\"translate(20.878125 213.369943)scale(0.1 -0.1)\">\n       <use xlink:href=\"#DejaVuSans-48\"/>\n       <use x=\"63.623047\" xlink:href=\"#DejaVuSans-46\"/>\n       <use x=\"95.410156\" xlink:href=\"#DejaVuSans-48\"/>\n       <use x=\"159.033203\" xlink:href=\"#DejaVuSans-48\"/>\n       <use x=\"222.65625\" xlink:href=\"#DejaVuSans-53\"/>\n      </g>\n     </g>\n    </g>\n    <g id=\"ytick_3\">\n     <g id=\"text_9\">\n      <!-- 0.010 -->\n      <g style=\"fill:#262626;\" transform=\"translate(20.878125 188.761123)scale(0.1 -0.1)\">\n       <use xlink:href=\"#DejaVuSans-48\"/>\n       <use x=\"63.623047\" xlink:href=\"#DejaVuSans-46\"/>\n       <use x=\"95.410156\" xlink:href=\"#DejaVuSans-48\"/>\n       <use x=\"159.033203\" xlink:href=\"#DejaVuSans-49\"/>\n       <use x=\"222.65625\" xlink:href=\"#DejaVuSans-48\"/>\n      </g>\n     </g>\n    </g>\n    <g id=\"ytick_4\">\n     <g id=\"text_10\">\n      <!-- 0.015 -->\n      <g style=\"fill:#262626;\" transform=\"translate(20.878125 164.152304)scale(0.1 -0.1)\">\n       <use xlink:href=\"#DejaVuSans-48\"/>\n       <use x=\"63.623047\" xlink:href=\"#DejaVuSans-46\"/>\n       <use x=\"95.410156\" xlink:href=\"#DejaVuSans-48\"/>\n       <use x=\"159.033203\" xlink:href=\"#DejaVuSans-49\"/>\n       <use x=\"222.65625\" xlink:href=\"#DejaVuSans-53\"/>\n      </g>\n     </g>\n    </g>\n    <g id=\"ytick_5\">\n     <g id=\"text_11\">\n      <!-- 0.020 -->\n      <g style=\"fill:#262626;\" transform=\"translate(20.878125 139.543484)scale(0.1 -0.1)\">\n       <use xlink:href=\"#DejaVuSans-48\"/>\n       <use x=\"63.623047\" xlink:href=\"#DejaVuSans-46\"/>\n       <use x=\"95.410156\" xlink:href=\"#DejaVuSans-48\"/>\n       <use x=\"159.033203\" xlink:href=\"#DejaVuSans-50\"/>\n       <use x=\"222.65625\" xlink:href=\"#DejaVuSans-48\"/>\n      </g>\n     </g>\n    </g>\n    <g id=\"ytick_6\">\n     <g id=\"text_12\">\n      <!-- 0.025 -->\n      <g style=\"fill:#262626;\" transform=\"translate(20.878125 114.934665)scale(0.1 -0.1)\">\n       <use xlink:href=\"#DejaVuSans-48\"/>\n       <use x=\"63.623047\" xlink:href=\"#DejaVuSans-46\"/>\n       <use x=\"95.410156\" xlink:href=\"#DejaVuSans-48\"/>\n       <use x=\"159.033203\" xlink:href=\"#DejaVuSans-50\"/>\n       <use x=\"222.65625\" xlink:href=\"#DejaVuSans-53\"/>\n      </g>\n     </g>\n    </g>\n    <g id=\"ytick_7\">\n     <g id=\"text_13\">\n      <!-- 0.030 -->\n      <g style=\"fill:#262626;\" transform=\"translate(20.878125 90.325845)scale(0.1 -0.1)\">\n       <use xlink:href=\"#DejaVuSans-48\"/>\n       <use x=\"63.623047\" xlink:href=\"#DejaVuSans-46\"/>\n       <use x=\"95.410156\" xlink:href=\"#DejaVuSans-48\"/>\n       <use x=\"159.033203\" xlink:href=\"#DejaVuSans-51\"/>\n       <use x=\"222.65625\" xlink:href=\"#DejaVuSans-48\"/>\n      </g>\n     </g>\n    </g>\n    <g id=\"ytick_8\">\n     <g id=\"text_14\">\n      <!-- 0.035 -->\n      <g style=\"fill:#262626;\" transform=\"translate(20.878125 65.717026)scale(0.1 -0.1)\">\n       <use xlink:href=\"#DejaVuSans-48\"/>\n       <use x=\"63.623047\" xlink:href=\"#DejaVuSans-46\"/>\n       <use x=\"95.410156\" xlink:href=\"#DejaVuSans-48\"/>\n       <use x=\"159.033203\" xlink:href=\"#DejaVuSans-51\"/>\n       <use x=\"222.65625\" xlink:href=\"#DejaVuSans-53\"/>\n      </g>\n     </g>\n    </g>\n    <g id=\"ytick_9\">\n     <g id=\"text_15\">\n      <!-- 0.040 -->\n      <g style=\"fill:#262626;\" transform=\"translate(20.878125 41.108206)scale(0.1 -0.1)\">\n       <defs>\n        <path d=\"M 37.796875 64.3125 \nL 12.890625 25.390625 \nL 37.796875 25.390625 \nz\nM 35.203125 72.90625 \nL 47.609375 72.90625 \nL 47.609375 25.390625 \nL 58.015625 25.390625 \nL 58.015625 17.1875 \nL 47.609375 17.1875 \nL 47.609375 0 \nL 37.796875 0 \nL 37.796875 17.1875 \nL 4.890625 17.1875 \nL 4.890625 26.703125 \nz\n\" id=\"DejaVuSans-52\"/>\n       </defs>\n       <use xlink:href=\"#DejaVuSans-48\"/>\n       <use x=\"63.623047\" xlink:href=\"#DejaVuSans-46\"/>\n       <use x=\"95.410156\" xlink:href=\"#DejaVuSans-48\"/>\n       <use x=\"159.033203\" xlink:href=\"#DejaVuSans-52\"/>\n       <use x=\"222.65625\" xlink:href=\"#DejaVuSans-48\"/>\n      </g>\n     </g>\n    </g>\n    <g id=\"text_16\">\n     <!-- sqrt_mse -->\n     <g style=\"fill:#262626;\" transform=\"translate(14.520313 153.550469)rotate(-90)scale(0.1 -0.1)\">\n      <defs>\n       <path d=\"M 44.28125 53.078125 \nL 44.28125 44.578125 \nQ 40.484375 46.53125 36.375 47.5 \nQ 32.28125 48.484375 27.875 48.484375 \nQ 21.1875 48.484375 17.84375 46.4375 \nQ 14.5 44.390625 14.5 40.28125 \nQ 14.5 37.15625 16.890625 35.375 \nQ 19.28125 33.59375 26.515625 31.984375 \nL 29.59375 31.296875 \nQ 39.15625 29.25 43.1875 25.515625 \nQ 47.21875 21.78125 47.21875 15.09375 \nQ 47.21875 7.46875 41.1875 3.015625 \nQ 35.15625 -1.421875 24.609375 -1.421875 \nQ 20.21875 -1.421875 15.453125 -0.5625 \nQ 10.6875 0.296875 5.421875 2 \nL 5.421875 11.28125 \nQ 10.40625 8.6875 15.234375 7.390625 \nQ 20.0625 6.109375 24.8125 6.109375 \nQ 31.15625 6.109375 34.5625 8.28125 \nQ 37.984375 10.453125 37.984375 14.40625 \nQ 37.984375 18.0625 35.515625 20.015625 \nQ 33.0625 21.96875 24.703125 23.78125 \nL 21.578125 24.515625 \nQ 13.234375 26.265625 9.515625 29.90625 \nQ 5.8125 33.546875 5.8125 39.890625 \nQ 5.8125 47.609375 11.28125 51.796875 \nQ 16.75 56 26.8125 56 \nQ 31.78125 56 36.171875 55.265625 \nQ 40.578125 54.546875 44.28125 53.078125 \nz\n\" id=\"DejaVuSans-115\"/>\n       <path d=\"M 14.796875 27.296875 \nQ 14.796875 17.390625 18.875 11.75 \nQ 22.953125 6.109375 30.078125 6.109375 \nQ 37.203125 6.109375 41.296875 11.75 \nQ 45.40625 17.390625 45.40625 27.296875 \nQ 45.40625 37.203125 41.296875 42.84375 \nQ 37.203125 48.484375 30.078125 48.484375 \nQ 22.953125 48.484375 18.875 42.84375 \nQ 14.796875 37.203125 14.796875 27.296875 \nz\nM 45.40625 8.203125 \nQ 42.578125 3.328125 38.25 0.953125 \nQ 33.9375 -1.421875 27.875 -1.421875 \nQ 17.96875 -1.421875 11.734375 6.484375 \nQ 5.515625 14.40625 5.515625 27.296875 \nQ 5.515625 40.1875 11.734375 48.09375 \nQ 17.96875 56 27.875 56 \nQ 33.9375 56 38.25 53.625 \nQ 42.578125 51.265625 45.40625 46.390625 \nL 45.40625 54.6875 \nL 54.390625 54.6875 \nL 54.390625 -20.796875 \nL 45.40625 -20.796875 \nz\n\" id=\"DejaVuSans-113\"/>\n       <path d=\"M 41.109375 46.296875 \nQ 39.59375 47.171875 37.8125 47.578125 \nQ 36.03125 48 33.890625 48 \nQ 26.265625 48 22.1875 43.046875 \nQ 18.109375 38.09375 18.109375 28.8125 \nL 18.109375 0 \nL 9.078125 0 \nL 9.078125 54.6875 \nL 18.109375 54.6875 \nL 18.109375 46.1875 \nQ 20.953125 51.171875 25.484375 53.578125 \nQ 30.03125 56 36.53125 56 \nQ 37.453125 56 38.578125 55.875 \nQ 39.703125 55.765625 41.0625 55.515625 \nz\n\" id=\"DejaVuSans-114\"/>\n       <path d=\"M 18.3125 70.21875 \nL 18.3125 54.6875 \nL 36.8125 54.6875 \nL 36.8125 47.703125 \nL 18.3125 47.703125 \nL 18.3125 18.015625 \nQ 18.3125 11.328125 20.140625 9.421875 \nQ 21.96875 7.515625 27.59375 7.515625 \nL 36.8125 7.515625 \nL 36.8125 0 \nL 27.59375 0 \nQ 17.1875 0 13.234375 3.875 \nQ 9.28125 7.765625 9.28125 18.015625 \nL 9.28125 47.703125 \nL 2.6875 47.703125 \nL 2.6875 54.6875 \nL 9.28125 54.6875 \nL 9.28125 70.21875 \nz\n\" id=\"DejaVuSans-116\"/>\n       <path d=\"M 50.984375 -16.609375 \nL 50.984375 -23.578125 \nL -0.984375 -23.578125 \nL -0.984375 -16.609375 \nz\n\" id=\"DejaVuSans-95\"/>\n       <path d=\"M 52 44.1875 \nQ 55.375 50.25 60.0625 53.125 \nQ 64.75 56 71.09375 56 \nQ 79.640625 56 84.28125 50.015625 \nQ 88.921875 44.046875 88.921875 33.015625 \nL 88.921875 0 \nL 79.890625 0 \nL 79.890625 32.71875 \nQ 79.890625 40.578125 77.09375 44.375 \nQ 74.3125 48.1875 68.609375 48.1875 \nQ 61.625 48.1875 57.5625 43.546875 \nQ 53.515625 38.921875 53.515625 30.90625 \nL 53.515625 0 \nL 44.484375 0 \nL 44.484375 32.71875 \nQ 44.484375 40.625 41.703125 44.40625 \nQ 38.921875 48.1875 33.109375 48.1875 \nQ 26.21875 48.1875 22.15625 43.53125 \nQ 18.109375 38.875 18.109375 30.90625 \nL 18.109375 0 \nL 9.078125 0 \nL 9.078125 54.6875 \nL 18.109375 54.6875 \nL 18.109375 46.1875 \nQ 21.1875 51.21875 25.484375 53.609375 \nQ 29.78125 56 35.6875 56 \nQ 41.65625 56 45.828125 52.96875 \nQ 50 49.953125 52 44.1875 \nz\n\" id=\"DejaVuSans-109\"/>\n       <path d=\"M 56.203125 29.59375 \nL 56.203125 25.203125 \nL 14.890625 25.203125 \nQ 15.484375 15.921875 20.484375 11.0625 \nQ 25.484375 6.203125 34.421875 6.203125 \nQ 39.59375 6.203125 44.453125 7.46875 \nQ 49.3125 8.734375 54.109375 11.28125 \nL 54.109375 2.78125 \nQ 49.265625 0.734375 44.1875 -0.34375 \nQ 39.109375 -1.421875 33.890625 -1.421875 \nQ 20.796875 -1.421875 13.15625 6.1875 \nQ 5.515625 13.8125 5.515625 26.8125 \nQ 5.515625 40.234375 12.765625 48.109375 \nQ 20.015625 56 32.328125 56 \nQ 43.359375 56 49.78125 48.890625 \nQ 56.203125 41.796875 56.203125 29.59375 \nz\nM 47.21875 32.234375 \nQ 47.125 39.59375 43.09375 43.984375 \nQ 39.0625 48.390625 32.421875 48.390625 \nQ 24.90625 48.390625 20.390625 44.140625 \nQ 15.875 39.890625 15.1875 32.171875 \nz\n\" id=\"DejaVuSans-101\"/>\n      </defs>\n      <use xlink:href=\"#DejaVuSans-115\"/>\n      <use x=\"52.099609\" xlink:href=\"#DejaVuSans-113\"/>\n      <use x=\"115.576172\" xlink:href=\"#DejaVuSans-114\"/>\n      <use x=\"156.689453\" xlink:href=\"#DejaVuSans-116\"/>\n      <use x=\"195.898438\" xlink:href=\"#DejaVuSans-95\"/>\n      <use x=\"245.898438\" xlink:href=\"#DejaVuSans-109\"/>\n      <use x=\"343.310547\" xlink:href=\"#DejaVuSans-115\"/>\n      <use x=\"395.410156\" xlink:href=\"#DejaVuSans-101\"/>\n     </g>\n    </g>\n   </g>\n   <g id=\"PathCollection_1\">\n    <defs>\n     <path d=\"M 0 3 \nC 0.795609 3 1.55874 2.683901 2.12132 2.12132 \nC 2.683901 1.55874 3 0.795609 3 0 \nC 3 -0.795609 2.683901 -1.55874 2.12132 -2.12132 \nC 1.55874 -2.683901 0.795609 -3 0 -3 \nC -0.795609 -3 -1.55874 -2.683901 -2.12132 -2.12132 \nC -2.683901 -1.55874 -3 -0.795609 -3 0 \nC -3 0.795609 -2.683901 1.55874 -2.12132 2.12132 \nC -1.55874 2.683901 -0.795609 3 0 3 \nz\n\" id=\"mef820d6b77\" style=\"stroke:#1f77b4;\"/>\n    </defs>\n    <g clip-path=\"url(#p1b4a32f21b)\">\n     <use style=\"fill:#1f77b4;stroke:#1f77b4;\" x=\"73.799638\" xlink:href=\"#mef820d6b77\" y=\"31.868011\"/>\n     <use style=\"fill:#1f77b4;stroke:#1f77b4;\" x=\"123.20932\" xlink:href=\"#mef820d6b77\" y=\"172.443162\"/>\n     <use style=\"fill:#1f77b4;stroke:#1f77b4;\" x=\"172.619001\" xlink:href=\"#mef820d6b77\" y=\"165.948071\"/>\n     <use style=\"fill:#1f77b4;stroke:#1f77b4;\" x=\"222.028682\" xlink:href=\"#mef820d6b77\" y=\"199.761334\"/>\n     <use style=\"fill:#1f77b4;stroke:#1f77b4;\" x=\"271.438363\" xlink:href=\"#mef820d6b77\" y=\"214.418619\"/>\n     <use style=\"fill:#1f77b4;stroke:#1f77b4;\" x=\"320.848045\" xlink:href=\"#mef820d6b77\" y=\"215.952141\"/>\n     <use style=\"fill:#1f77b4;stroke:#1f77b4;\" x=\"370.257726\" xlink:href=\"#mef820d6b77\" y=\"224.261701\"/>\n     <use style=\"fill:#1f77b4;stroke:#1f77b4;\" x=\"419.667407\" xlink:href=\"#mef820d6b77\" y=\"229.540739\"/>\n    </g>\n   </g>\n   <g id=\"patch_3\">\n    <path d=\"M 56.50625 239.424375 \nL 56.50625 21.984375 \n\" style=\"fill:none;stroke:#262626;stroke-linecap:square;stroke-linejoin:miter;stroke-width:0.8;\"/>\n   </g>\n   <g id=\"patch_4\">\n    <path d=\"M 436.960795 239.424375 \nL 436.960795 21.984375 \n\" style=\"fill:none;stroke:#262626;stroke-linecap:square;stroke-linejoin:miter;stroke-width:0.8;\"/>\n   </g>\n   <g id=\"patch_5\">\n    <path d=\"M 56.50625 239.424375 \nL 436.960795 239.424375 \n\" style=\"fill:none;stroke:#262626;stroke-linecap:square;stroke-linejoin:miter;stroke-width:0.8;\"/>\n   </g>\n   <g id=\"patch_6\">\n    <path d=\"M 56.50625 21.984375 \nL 436.960795 21.984375 \n\" style=\"fill:none;stroke:#262626;stroke-linecap:square;stroke-linejoin:miter;stroke-width:0.8;\"/>\n   </g>\n   <g id=\"text_17\">\n    <!-- sqrt_mse -->\n    <g style=\"fill:#262626;\" transform=\"translate(219.31821 15.984375)scale(0.12 -0.12)\">\n     <use xlink:href=\"#DejaVuSans-115\"/>\n     <use x=\"52.099609\" xlink:href=\"#DejaVuSans-113\"/>\n     <use x=\"115.576172\" xlink:href=\"#DejaVuSans-114\"/>\n     <use x=\"156.689453\" xlink:href=\"#DejaVuSans-116\"/>\n     <use x=\"195.898438\" xlink:href=\"#DejaVuSans-95\"/>\n     <use x=\"245.898438\" xlink:href=\"#DejaVuSans-109\"/>\n     <use x=\"343.310547\" xlink:href=\"#DejaVuSans-115\"/>\n     <use x=\"395.410156\" xlink:href=\"#DejaVuSans-101\"/>\n    </g>\n   </g>\n  </g>\n </g>\n <defs>\n  <clipPath id=\"p1b4a32f21b\">\n   <rect height=\"217.44\" width=\"380.454545\" x=\"56.50625\" y=\"21.984375\"/>\n  </clipPath>\n </defs>\n</svg>\n",
      "image/png": "[encoded data removed]"
     },
     "metadata": {}
    }
   ],
   "source": [
    "def plot_sqrt_mse():\n",
    "    \n",
    "    plt.figure(figsize=(15, 4))\n",
    "    \n",
    "    ax1 = plt.subplot(1, 2, 1)\n",
    "    ax1.set(title='sqrt_mse', xlabel='log(N)', ylabel='sqrt_mse')\n",
    "    ax1.scatter(np.log10(a_N), a_sqrt_mse)\n",
    "\n",
    "plot_sqrt_mse()"
   ]
  },
  {
   "source": [
    "# plot abs(error) distributions"
   ],
   "cell_type": "markdown",
   "metadata": {}
  },
  {
   "cell_type": "code",
   "execution_count": 10,
   "metadata": {},
   "outputs": [
    {
     "output_type": "display_data",
     "data": {
      "text/plain": "<Figure size 432x288 with 1 Axes>",
      "image/svg+xml": "<?xml version=\"1.0\" encoding=\"utf-8\" standalone=\"no\"?>\n<!DOCTYPE svg PUBLIC \"-//W3C//DTD SVG 1.1//EN\"\n  \"http://www.w3.org/Graphics/SVG/1.1/DTD/svg11.dtd\">\n<!-- Created with matplotlib (https://matplotlib.org/) -->\n<svg height=\"248.518125pt\" version=\"1.1\" viewBox=\"0 0 388.965625 248.518125\" width=\"388.965625pt\" xmlns=\"http://www.w3.org/2000/svg\" xmlns:xlink=\"http://www.w3.org/1999/xlink\">\n <metadata>\n  <rdf:RDF xmlns:cc=\"http://creativecommons.org/ns#\" xmlns:dc=\"http://purl.org/dc/elements/1.1/\" xmlns:rdf=\"http://www.w3.org/1999/02/22-rdf-syntax-ns#\">\n   <cc:Work>\n    <dc:type rdf:resource=\"http://purl.org/dc/dcmitype/StillImage\"/>\n    <dc:date>2020-10-08T14:35:05.128977</dc:date>\n    <dc:format>image/svg+xml</dc:format>\n    <dc:creator>\n     <cc:Agent>\n      <dc:title>Matplotlib v3.3.2, https://matplotlib.org/</dc:title>\n     </cc:Agent>\n    </dc:creator>\n   </cc:Work>\n  </rdf:RDF>\n </metadata>\n <defs>\n  <style type=\"text/css\">*{stroke-linecap:butt;stroke-linejoin:round;}</style>\n </defs>\n <g id=\"figure_1\">\n  <g id=\"patch_1\">\n   <path d=\"M 0 248.518125 \nL 388.965625 248.518125 \nL 388.965625 0 \nL 0 0 \nz\n\" style=\"fill:#ffffff;\"/>\n  </g>\n  <g id=\"axes_1\">\n   <g id=\"patch_2\">\n    <path d=\"M 46.965625 224.64 \nL 381.765625 224.64 \nL 381.765625 7.2 \nL 46.965625 7.2 \nz\n\" style=\"fill:#ffffff;\"/>\n   </g>\n   <g id=\"matplotlib.axis_1\">\n    <g id=\"xtick_1\">\n     <g id=\"text_1\">\n      <!-- 0.00 -->\n      <g style=\"fill:#262626;\" transform=\"translate(61.603703 239.238437)scale(0.1 -0.1)\">\n       <defs>\n        <path d=\"M 31.78125 66.40625 \nQ 24.171875 66.40625 20.328125 58.90625 \nQ 16.5 51.421875 16.5 36.375 \nQ 16.5 21.390625 20.328125 13.890625 \nQ 24.171875 6.390625 31.78125 6.390625 \nQ 39.453125 6.390625 43.28125 13.890625 \nQ 47.125 21.390625 47.125 36.375 \nQ 47.125 51.421875 43.28125 58.90625 \nQ 39.453125 66.40625 31.78125 66.40625 \nz\nM 31.78125 74.21875 \nQ 44.046875 74.21875 50.515625 64.515625 \nQ 56.984375 54.828125 56.984375 36.375 \nQ 56.984375 17.96875 50.515625 8.265625 \nQ 44.046875 -1.421875 31.78125 -1.421875 \nQ 19.53125 -1.421875 13.0625 8.265625 \nQ 6.59375 17.96875 6.59375 36.375 \nQ 6.59375 54.828125 13.0625 64.515625 \nQ 19.53125 74.21875 31.78125 74.21875 \nz\n\" id=\"DejaVuSans-48\"/>\n        <path d=\"M 10.6875 12.40625 \nL 21 12.40625 \nL 21 0 \nL 10.6875 0 \nz\n\" id=\"DejaVuSans-46\"/>\n       </defs>\n       <use xlink:href=\"#DejaVuSans-48\"/>\n       <use x=\"63.623047\" xlink:href=\"#DejaVuSans-46\"/>\n       <use x=\"95.410156\" xlink:href=\"#DejaVuSans-48\"/>\n       <use x=\"159.033203\" xlink:href=\"#DejaVuSans-48\"/>\n      </g>\n     </g>\n    </g>\n    <g id=\"xtick_2\">\n     <g id=\"text_2\">\n      <!-- 0.02 -->\n      <g style=\"fill:#262626;\" transform=\"translate(118.367582 239.238437)scale(0.1 -0.1)\">\n       <defs>\n        <path d=\"M 19.1875 8.296875 \nL 53.609375 8.296875 \nL 53.609375 0 \nL 7.328125 0 \nL 7.328125 8.296875 \nQ 12.9375 14.109375 22.625 23.890625 \nQ 32.328125 33.6875 34.8125 36.53125 \nQ 39.546875 41.84375 41.421875 45.53125 \nQ 43.3125 49.21875 43.3125 52.78125 \nQ 43.3125 58.59375 39.234375 62.25 \nQ 35.15625 65.921875 28.609375 65.921875 \nQ 23.96875 65.921875 18.8125 64.3125 \nQ 13.671875 62.703125 7.8125 59.421875 \nL 7.8125 69.390625 \nQ 13.765625 71.78125 18.9375 73 \nQ 24.125 74.21875 28.421875 74.21875 \nQ 39.75 74.21875 46.484375 68.546875 \nQ 53.21875 62.890625 53.21875 53.421875 \nQ 53.21875 48.921875 51.53125 44.890625 \nQ 49.859375 40.875 45.40625 35.40625 \nQ 44.1875 33.984375 37.640625 27.21875 \nQ 31.109375 20.453125 19.1875 8.296875 \nz\n\" id=\"DejaVuSans-50\"/>\n       </defs>\n       <use xlink:href=\"#DejaVuSans-48\"/>\n       <use x=\"63.623047\" xlink:href=\"#DejaVuSans-46\"/>\n       <use x=\"95.410156\" xlink:href=\"#DejaVuSans-48\"/>\n       <use x=\"159.033203\" xlink:href=\"#DejaVuSans-50\"/>\n      </g>\n     </g>\n    </g>\n    <g id=\"xtick_3\">\n     <g id=\"text_3\">\n      <!-- 0.04 -->\n      <g style=\"fill:#262626;\" transform=\"translate(175.131462 239.238437)scale(0.1 -0.1)\">\n       <defs>\n        <path d=\"M 37.796875 64.3125 \nL 12.890625 25.390625 \nL 37.796875 25.390625 \nz\nM 35.203125 72.90625 \nL 47.609375 72.90625 \nL 47.609375 25.390625 \nL 58.015625 25.390625 \nL 58.015625 17.1875 \nL 47.609375 17.1875 \nL 47.609375 0 \nL 37.796875 0 \nL 37.796875 17.1875 \nL 4.890625 17.1875 \nL 4.890625 26.703125 \nz\n\" id=\"DejaVuSans-52\"/>\n       </defs>\n       <use xlink:href=\"#DejaVuSans-48\"/>\n       <use x=\"63.623047\" xlink:href=\"#DejaVuSans-46\"/>\n       <use x=\"95.410156\" xlink:href=\"#DejaVuSans-48\"/>\n       <use x=\"159.033203\" xlink:href=\"#DejaVuSans-52\"/>\n      </g>\n     </g>\n    </g>\n    <g id=\"xtick_4\">\n     <g id=\"text_4\">\n      <!-- 0.06 -->\n      <g style=\"fill:#262626;\" transform=\"translate(231.895341 239.238437)scale(0.1 -0.1)\">\n       <defs>\n        <path d=\"M 33.015625 40.375 \nQ 26.375 40.375 22.484375 35.828125 \nQ 18.609375 31.296875 18.609375 23.390625 \nQ 18.609375 15.53125 22.484375 10.953125 \nQ 26.375 6.390625 33.015625 6.390625 \nQ 39.65625 6.390625 43.53125 10.953125 \nQ 47.40625 15.53125 47.40625 23.390625 \nQ 47.40625 31.296875 43.53125 35.828125 \nQ 39.65625 40.375 33.015625 40.375 \nz\nM 52.59375 71.296875 \nL 52.59375 62.3125 \nQ 48.875 64.0625 45.09375 64.984375 \nQ 41.3125 65.921875 37.59375 65.921875 \nQ 27.828125 65.921875 22.671875 59.328125 \nQ 17.53125 52.734375 16.796875 39.40625 \nQ 19.671875 43.65625 24.015625 45.921875 \nQ 28.375 48.1875 33.59375 48.1875 \nQ 44.578125 48.1875 50.953125 41.515625 \nQ 57.328125 34.859375 57.328125 23.390625 \nQ 57.328125 12.15625 50.6875 5.359375 \nQ 44.046875 -1.421875 33.015625 -1.421875 \nQ 20.359375 -1.421875 13.671875 8.265625 \nQ 6.984375 17.96875 6.984375 36.375 \nQ 6.984375 53.65625 15.1875 63.9375 \nQ 23.390625 74.21875 37.203125 74.21875 \nQ 40.921875 74.21875 44.703125 73.484375 \nQ 48.484375 72.75 52.59375 71.296875 \nz\n\" id=\"DejaVuSans-54\"/>\n       </defs>\n       <use xlink:href=\"#DejaVuSans-48\"/>\n       <use x=\"63.623047\" xlink:href=\"#DejaVuSans-46\"/>\n       <use x=\"95.410156\" xlink:href=\"#DejaVuSans-48\"/>\n       <use x=\"159.033203\" xlink:href=\"#DejaVuSans-54\"/>\n      </g>\n     </g>\n    </g>\n    <g id=\"xtick_5\">\n     <g id=\"text_5\">\n      <!-- 0.08 -->\n      <g style=\"fill:#262626;\" transform=\"translate(288.659221 239.238437)scale(0.1 -0.1)\">\n       <defs>\n        <path d=\"M 31.78125 34.625 \nQ 24.75 34.625 20.71875 30.859375 \nQ 16.703125 27.09375 16.703125 20.515625 \nQ 16.703125 13.921875 20.71875 10.15625 \nQ 24.75 6.390625 31.78125 6.390625 \nQ 38.8125 6.390625 42.859375 10.171875 \nQ 46.921875 13.96875 46.921875 20.515625 \nQ 46.921875 27.09375 42.890625 30.859375 \nQ 38.875 34.625 31.78125 34.625 \nz\nM 21.921875 38.8125 \nQ 15.578125 40.375 12.03125 44.71875 \nQ 8.5 49.078125 8.5 55.328125 \nQ 8.5 64.0625 14.71875 69.140625 \nQ 20.953125 74.21875 31.78125 74.21875 \nQ 42.671875 74.21875 48.875 69.140625 \nQ 55.078125 64.0625 55.078125 55.328125 \nQ 55.078125 49.078125 51.53125 44.71875 \nQ 48 40.375 41.703125 38.8125 \nQ 48.828125 37.15625 52.796875 32.3125 \nQ 56.78125 27.484375 56.78125 20.515625 \nQ 56.78125 9.90625 50.3125 4.234375 \nQ 43.84375 -1.421875 31.78125 -1.421875 \nQ 19.734375 -1.421875 13.25 4.234375 \nQ 6.78125 9.90625 6.78125 20.515625 \nQ 6.78125 27.484375 10.78125 32.3125 \nQ 14.796875 37.15625 21.921875 38.8125 \nz\nM 18.3125 54.390625 \nQ 18.3125 48.734375 21.84375 45.5625 \nQ 25.390625 42.390625 31.78125 42.390625 \nQ 38.140625 42.390625 41.71875 45.5625 \nQ 45.3125 48.734375 45.3125 54.390625 \nQ 45.3125 60.0625 41.71875 63.234375 \nQ 38.140625 66.40625 31.78125 66.40625 \nQ 25.390625 66.40625 21.84375 63.234375 \nQ 18.3125 60.0625 18.3125 54.390625 \nz\n\" id=\"DejaVuSans-56\"/>\n       </defs>\n       <use xlink:href=\"#DejaVuSans-48\"/>\n       <use x=\"63.623047\" xlink:href=\"#DejaVuSans-46\"/>\n       <use x=\"95.410156\" xlink:href=\"#DejaVuSans-48\"/>\n       <use x=\"159.033203\" xlink:href=\"#DejaVuSans-56\"/>\n      </g>\n     </g>\n    </g>\n    <g id=\"xtick_6\">\n     <g id=\"text_6\">\n      <!-- 0.10 -->\n      <g style=\"fill:#262626;\" transform=\"translate(345.4231 239.238437)scale(0.1 -0.1)\">\n       <defs>\n        <path d=\"M 12.40625 8.296875 \nL 28.515625 8.296875 \nL 28.515625 63.921875 \nL 10.984375 60.40625 \nL 10.984375 69.390625 \nL 28.421875 72.90625 \nL 38.28125 72.90625 \nL 38.28125 8.296875 \nL 54.390625 8.296875 \nL 54.390625 0 \nL 12.40625 0 \nz\n\" id=\"DejaVuSans-49\"/>\n       </defs>\n       <use xlink:href=\"#DejaVuSans-48\"/>\n       <use x=\"63.623047\" xlink:href=\"#DejaVuSans-46\"/>\n       <use x=\"95.410156\" xlink:href=\"#DejaVuSans-49\"/>\n       <use x=\"159.033203\" xlink:href=\"#DejaVuSans-48\"/>\n      </g>\n     </g>\n    </g>\n   </g>\n   <g id=\"matplotlib.axis_2\">\n    <g id=\"ytick_1\">\n     <g id=\"text_7\">\n      <!-- 0 -->\n      <g style=\"fill:#262626;\" transform=\"translate(33.603125 228.439219)scale(0.1 -0.1)\">\n       <use xlink:href=\"#DejaVuSans-48\"/>\n      </g>\n     </g>\n    </g>\n    <g id=\"ytick_2\">\n     <g id=\"text_8\">\n      <!-- 20 -->\n      <g style=\"fill:#262626;\" transform=\"translate(27.240625 198.731405)scale(0.1 -0.1)\">\n       <use xlink:href=\"#DejaVuSans-50\"/>\n       <use x=\"63.623047\" xlink:href=\"#DejaVuSans-48\"/>\n      </g>\n     </g>\n    </g>\n    <g id=\"ytick_3\">\n     <g id=\"text_9\">\n      <!-- 40 -->\n      <g style=\"fill:#262626;\" transform=\"translate(27.240625 169.023591)scale(0.1 -0.1)\">\n       <use xlink:href=\"#DejaVuSans-52\"/>\n       <use x=\"63.623047\" xlink:href=\"#DejaVuSans-48\"/>\n      </g>\n     </g>\n    </g>\n    <g id=\"ytick_4\">\n     <g id=\"text_10\">\n      <!-- 60 -->\n      <g style=\"fill:#262626;\" transform=\"translate(27.240625 139.315778)scale(0.1 -0.1)\">\n       <use xlink:href=\"#DejaVuSans-54\"/>\n       <use x=\"63.623047\" xlink:href=\"#DejaVuSans-48\"/>\n      </g>\n     </g>\n    </g>\n    <g id=\"ytick_5\">\n     <g id=\"text_11\">\n      <!-- 80 -->\n      <g style=\"fill:#262626;\" transform=\"translate(27.240625 109.607964)scale(0.1 -0.1)\">\n       <use xlink:href=\"#DejaVuSans-56\"/>\n       <use x=\"63.623047\" xlink:href=\"#DejaVuSans-48\"/>\n      </g>\n     </g>\n    </g>\n    <g id=\"ytick_6\">\n     <g id=\"text_12\">\n      <!-- 100 -->\n      <g style=\"fill:#262626;\" transform=\"translate(20.878125 79.900151)scale(0.1 -0.1)\">\n       <use xlink:href=\"#DejaVuSans-49\"/>\n       <use x=\"63.623047\" xlink:href=\"#DejaVuSans-48\"/>\n       <use x=\"127.246094\" xlink:href=\"#DejaVuSans-48\"/>\n      </g>\n     </g>\n    </g>\n    <g id=\"ytick_7\">\n     <g id=\"text_13\">\n      <!-- 120 -->\n      <g style=\"fill:#262626;\" transform=\"translate(20.878125 50.192337)scale(0.1 -0.1)\">\n       <use xlink:href=\"#DejaVuSans-49\"/>\n       <use x=\"63.623047\" xlink:href=\"#DejaVuSans-50\"/>\n       <use x=\"127.246094\" xlink:href=\"#DejaVuSans-48\"/>\n      </g>\n     </g>\n    </g>\n    <g id=\"ytick_8\">\n     <g id=\"text_14\">\n      <!-- 140 -->\n      <g style=\"fill:#262626;\" transform=\"translate(20.878125 20.484523)scale(0.1 -0.1)\">\n       <use xlink:href=\"#DejaVuSans-49\"/>\n       <use x=\"63.623047\" xlink:href=\"#DejaVuSans-52\"/>\n       <use x=\"127.246094\" xlink:href=\"#DejaVuSans-48\"/>\n      </g>\n     </g>\n    </g>\n    <g id=\"text_15\">\n     <!-- Density -->\n     <g style=\"fill:#262626;\" transform=\"translate(14.798438 134.928594)rotate(-90)scale(0.1 -0.1)\">\n      <defs>\n       <path d=\"M 19.671875 64.796875 \nL 19.671875 8.109375 \nL 31.59375 8.109375 \nQ 46.6875 8.109375 53.6875 14.9375 \nQ 60.6875 21.78125 60.6875 36.53125 \nQ 60.6875 51.171875 53.6875 57.984375 \nQ 46.6875 64.796875 31.59375 64.796875 \nz\nM 9.8125 72.90625 \nL 30.078125 72.90625 \nQ 51.265625 72.90625 61.171875 64.09375 \nQ 71.09375 55.28125 71.09375 36.53125 \nQ 71.09375 17.671875 61.125 8.828125 \nQ 51.171875 0 30.078125 0 \nL 9.8125 0 \nz\n\" id=\"DejaVuSans-68\"/>\n       <path d=\"M 56.203125 29.59375 \nL 56.203125 25.203125 \nL 14.890625 25.203125 \nQ 15.484375 15.921875 20.484375 11.0625 \nQ 25.484375 6.203125 34.421875 6.203125 \nQ 39.59375 6.203125 44.453125 7.46875 \nQ 49.3125 8.734375 54.109375 11.28125 \nL 54.109375 2.78125 \nQ 49.265625 0.734375 44.1875 -0.34375 \nQ 39.109375 -1.421875 33.890625 -1.421875 \nQ 20.796875 -1.421875 13.15625 6.1875 \nQ 5.515625 13.8125 5.515625 26.8125 \nQ 5.515625 40.234375 12.765625 48.109375 \nQ 20.015625 56 32.328125 56 \nQ 43.359375 56 49.78125 48.890625 \nQ 56.203125 41.796875 56.203125 29.59375 \nz\nM 47.21875 32.234375 \nQ 47.125 39.59375 43.09375 43.984375 \nQ 39.0625 48.390625 32.421875 48.390625 \nQ 24.90625 48.390625 20.390625 44.140625 \nQ 15.875 39.890625 15.1875 32.171875 \nz\n\" id=\"DejaVuSans-101\"/>\n       <path d=\"M 54.890625 33.015625 \nL 54.890625 0 \nL 45.90625 0 \nL 45.90625 32.71875 \nQ 45.90625 40.484375 42.875 44.328125 \nQ 39.84375 48.1875 33.796875 48.1875 \nQ 26.515625 48.1875 22.3125 43.546875 \nQ 18.109375 38.921875 18.109375 30.90625 \nL 18.109375 0 \nL 9.078125 0 \nL 9.078125 54.6875 \nL 18.109375 54.6875 \nL 18.109375 46.1875 \nQ 21.34375 51.125 25.703125 53.5625 \nQ 30.078125 56 35.796875 56 \nQ 45.21875 56 50.046875 50.171875 \nQ 54.890625 44.34375 54.890625 33.015625 \nz\n\" id=\"DejaVuSans-110\"/>\n       <path d=\"M 44.28125 53.078125 \nL 44.28125 44.578125 \nQ 40.484375 46.53125 36.375 47.5 \nQ 32.28125 48.484375 27.875 48.484375 \nQ 21.1875 48.484375 17.84375 46.4375 \nQ 14.5 44.390625 14.5 40.28125 \nQ 14.5 37.15625 16.890625 35.375 \nQ 19.28125 33.59375 26.515625 31.984375 \nL 29.59375 31.296875 \nQ 39.15625 29.25 43.1875 25.515625 \nQ 47.21875 21.78125 47.21875 15.09375 \nQ 47.21875 7.46875 41.1875 3.015625 \nQ 35.15625 -1.421875 24.609375 -1.421875 \nQ 20.21875 -1.421875 15.453125 -0.5625 \nQ 10.6875 0.296875 5.421875 2 \nL 5.421875 11.28125 \nQ 10.40625 8.6875 15.234375 7.390625 \nQ 20.0625 6.109375 24.8125 6.109375 \nQ 31.15625 6.109375 34.5625 8.28125 \nQ 37.984375 10.453125 37.984375 14.40625 \nQ 37.984375 18.0625 35.515625 20.015625 \nQ 33.0625 21.96875 24.703125 23.78125 \nL 21.578125 24.515625 \nQ 13.234375 26.265625 9.515625 29.90625 \nQ 5.8125 33.546875 5.8125 39.890625 \nQ 5.8125 47.609375 11.28125 51.796875 \nQ 16.75 56 26.8125 56 \nQ 31.78125 56 36.171875 55.265625 \nQ 40.578125 54.546875 44.28125 53.078125 \nz\n\" id=\"DejaVuSans-115\"/>\n       <path d=\"M 9.421875 54.6875 \nL 18.40625 54.6875 \nL 18.40625 0 \nL 9.421875 0 \nz\nM 9.421875 75.984375 \nL 18.40625 75.984375 \nL 18.40625 64.59375 \nL 9.421875 64.59375 \nz\n\" id=\"DejaVuSans-105\"/>\n       <path d=\"M 18.3125 70.21875 \nL 18.3125 54.6875 \nL 36.8125 54.6875 \nL 36.8125 47.703125 \nL 18.3125 47.703125 \nL 18.3125 18.015625 \nQ 18.3125 11.328125 20.140625 9.421875 \nQ 21.96875 7.515625 27.59375 7.515625 \nL 36.8125 7.515625 \nL 36.8125 0 \nL 27.59375 0 \nQ 17.1875 0 13.234375 3.875 \nQ 9.28125 7.765625 9.28125 18.015625 \nL 9.28125 47.703125 \nL 2.6875 47.703125 \nL 2.6875 54.6875 \nL 9.28125 54.6875 \nL 9.28125 70.21875 \nz\n\" id=\"DejaVuSans-116\"/>\n       <path d=\"M 32.171875 -5.078125 \nQ 28.375 -14.84375 24.75 -17.8125 \nQ 21.140625 -20.796875 15.09375 -20.796875 \nL 7.90625 -20.796875 \nL 7.90625 -13.28125 \nL 13.1875 -13.28125 \nQ 16.890625 -13.28125 18.9375 -11.515625 \nQ 21 -9.765625 23.484375 -3.21875 \nL 25.09375 0.875 \nL 2.984375 54.6875 \nL 12.5 54.6875 \nL 29.59375 11.921875 \nL 46.6875 54.6875 \nL 56.203125 54.6875 \nz\n\" id=\"DejaVuSans-121\"/>\n      </defs>\n      <use xlink:href=\"#DejaVuSans-68\"/>\n      <use x=\"77.001953\" xlink:href=\"#DejaVuSans-101\"/>\n      <use x=\"138.525391\" xlink:href=\"#DejaVuSans-110\"/>\n      <use x=\"201.904297\" xlink:href=\"#DejaVuSans-115\"/>\n      <use x=\"254.003906\" xlink:href=\"#DejaVuSans-105\"/>\n      <use x=\"281.787109\" xlink:href=\"#DejaVuSans-116\"/>\n      <use x=\"320.996094\" xlink:href=\"#DejaVuSans-121\"/>\n     </g>\n    </g>\n   </g>\n   <g id=\"PolyCollection_1\">\n    <defs>\n     <path d=\"M 62.183807 -24.523114 \nL 62.183807 -23.878125 \nL 63.713272 -23.878125 \nL 65.242738 -23.878125 \nL 66.772203 -23.878125 \nL 68.301669 -23.878125 \nL 69.831134 -23.878125 \nL 71.3606 -23.878125 \nL 72.890065 -23.878125 \nL 74.419531 -23.878125 \nL 75.948996 -23.878125 \nL 77.478462 -23.878125 \nL 79.007927 -23.878125 \nL 80.537393 -23.878125 \nL 82.066858 -23.878125 \nL 83.596324 -23.878125 \nL 85.125789 -23.878125 \nL 86.655255 -23.878125 \nL 88.18472 -23.878125 \nL 89.714186 -23.878125 \nL 91.243651 -23.878125 \nL 92.773117 -23.878125 \nL 94.302583 -23.878125 \nL 95.832048 -23.878125 \nL 97.361514 -23.878125 \nL 98.890979 -23.878125 \nL 100.420445 -23.878125 \nL 101.94991 -23.878125 \nL 103.479376 -23.878125 \nL 105.008841 -23.878125 \nL 106.538307 -23.878125 \nL 108.067772 -23.878125 \nL 109.597238 -23.878125 \nL 111.126703 -23.878125 \nL 112.656169 -23.878125 \nL 114.185634 -23.878125 \nL 115.7151 -23.878125 \nL 117.244565 -23.878125 \nL 118.774031 -23.878125 \nL 120.303496 -23.878125 \nL 121.832962 -23.878125 \nL 123.362427 -23.878125 \nL 124.891893 -23.878125 \nL 126.421358 -23.878125 \nL 127.950824 -23.878125 \nL 129.480289 -23.878125 \nL 131.009755 -23.878125 \nL 132.53922 -23.878125 \nL 134.068686 -23.878125 \nL 135.598151 -23.878125 \nL 137.127617 -23.878125 \nL 138.657082 -23.878125 \nL 140.186548 -23.878125 \nL 141.716013 -23.878125 \nL 143.245479 -23.878125 \nL 144.774944 -23.878125 \nL 146.30441 -23.878125 \nL 147.833875 -23.878125 \nL 149.363341 -23.878125 \nL 150.892806 -23.878125 \nL 152.422272 -23.878125 \nL 153.951737 -23.878125 \nL 155.481203 -23.878125 \nL 157.010668 -23.878125 \nL 158.540134 -23.878125 \nL 160.069599 -23.878125 \nL 161.599065 -23.878125 \nL 163.12853 -23.878125 \nL 164.657996 -23.878125 \nL 166.187461 -23.878125 \nL 167.716927 -23.878125 \nL 169.246392 -23.878125 \nL 170.775858 -23.878125 \nL 172.305323 -23.878125 \nL 173.834789 -23.878125 \nL 175.364255 -23.878125 \nL 176.89372 -23.878125 \nL 178.423186 -23.878125 \nL 179.952651 -23.878125 \nL 181.482117 -23.878125 \nL 183.011582 -23.878125 \nL 184.541048 -23.878125 \nL 186.070513 -23.878125 \nL 187.599979 -23.878125 \nL 189.129444 -23.878125 \nL 190.65891 -23.878125 \nL 192.188375 -23.878125 \nL 193.717841 -23.878125 \nL 195.247306 -23.878125 \nL 196.776772 -23.878125 \nL 198.306237 -23.878125 \nL 199.835703 -23.878125 \nL 201.365168 -23.878125 \nL 202.894634 -23.878125 \nL 204.424099 -23.878125 \nL 205.953565 -23.878125 \nL 207.48303 -23.878125 \nL 209.012496 -23.878125 \nL 210.541961 -23.878125 \nL 212.071427 -23.878125 \nL 213.600892 -23.878125 \nL 215.130358 -23.878125 \nL 216.659823 -23.878125 \nL 218.189289 -23.878125 \nL 219.718754 -23.878125 \nL 221.24822 -23.878125 \nL 222.777685 -23.878125 \nL 224.307151 -23.878125 \nL 225.836616 -23.878125 \nL 227.366082 -23.878125 \nL 228.895547 -23.878125 \nL 230.425013 -23.878125 \nL 231.954478 -23.878125 \nL 233.483944 -23.878125 \nL 235.013409 -23.878125 \nL 236.542875 -23.878125 \nL 238.07234 -23.878125 \nL 239.601806 -23.878125 \nL 241.131271 -23.878125 \nL 242.660737 -23.878125 \nL 244.190202 -23.878125 \nL 245.719668 -23.878125 \nL 247.249133 -23.878125 \nL 248.778599 -23.878125 \nL 250.308064 -23.878125 \nL 251.83753 -23.878125 \nL 253.366995 -23.878125 \nL 254.896461 -23.878125 \nL 256.425927 -23.878125 \nL 257.955392 -23.878125 \nL 259.484858 -23.878125 \nL 261.014323 -23.878125 \nL 262.543789 -23.878125 \nL 264.073254 -23.878125 \nL 265.60272 -23.878125 \nL 267.132185 -23.878125 \nL 268.661651 -23.878125 \nL 270.191116 -23.878125 \nL 271.720582 -23.878125 \nL 273.250047 -23.878125 \nL 274.779513 -23.878125 \nL 276.308978 -23.878125 \nL 277.838444 -23.878125 \nL 279.367909 -23.878125 \nL 280.897375 -23.878125 \nL 282.42684 -23.878125 \nL 283.956306 -23.878125 \nL 285.485771 -23.878125 \nL 287.015237 -23.878125 \nL 288.544702 -23.878125 \nL 290.074168 -23.878125 \nL 291.603633 -23.878125 \nL 293.133099 -23.878125 \nL 294.662564 -23.878125 \nL 296.19203 -23.878125 \nL 297.721495 -23.878125 \nL 299.250961 -23.878125 \nL 300.780426 -23.878125 \nL 302.309892 -23.878125 \nL 303.839357 -23.878125 \nL 305.368823 -23.878125 \nL 306.898288 -23.878125 \nL 308.427754 -23.878125 \nL 309.957219 -23.878125 \nL 311.486685 -23.878125 \nL 313.01615 -23.878125 \nL 314.545616 -23.878125 \nL 316.075081 -23.878125 \nL 317.604547 -23.878125 \nL 319.134012 -23.878125 \nL 320.663478 -23.878125 \nL 322.192943 -23.878125 \nL 323.722409 -23.878125 \nL 325.251874 -23.878125 \nL 326.78134 -23.878125 \nL 328.310805 -23.878125 \nL 329.840271 -23.878125 \nL 331.369736 -23.878125 \nL 332.899202 -23.878125 \nL 334.428667 -23.878125 \nL 335.958133 -23.878125 \nL 337.487599 -23.878125 \nL 339.017064 -23.878125 \nL 340.54653 -23.878125 \nL 342.075995 -23.878125 \nL 343.605461 -23.878125 \nL 345.134926 -23.878125 \nL 346.664392 -23.878125 \nL 348.193857 -23.878125 \nL 349.723323 -23.878125 \nL 351.252788 -23.878125 \nL 352.782254 -23.878125 \nL 354.311719 -23.878125 \nL 355.841185 -23.878125 \nL 357.37065 -23.878125 \nL 358.900116 -23.878125 \nL 360.429581 -23.878125 \nL 361.959047 -23.878125 \nL 363.488512 -23.878125 \nL 365.017978 -23.878125 \nL 366.547443 -23.878125 \nL 366.547443 -23.878776 \nL 366.547443 -23.878776 \nL 365.017978 -23.880362 \nL 363.488512 -23.884554 \nL 361.959047 -23.893609 \nL 360.429581 -23.909496 \nL 358.900116 -23.931807 \nL 357.37065 -23.956026 \nL 355.841185 -23.974367 \nL 354.311719 -23.979796 \nL 352.782254 -23.970859 \nL 351.252788 -23.953772 \nL 349.723323 -23.940336 \nL 348.193857 -23.94325 \nL 346.664392 -23.971317 \nL 345.134926 -24.025909 \nL 343.605461 -24.099591 \nL 342.075995 -24.178309 \nL 340.54653 -24.247383 \nL 339.017064 -24.298386 \nL 337.487599 -24.332219 \nL 335.958133 -24.356242 \nL 334.428667 -24.378371 \nL 332.899202 -24.403933 \nL 331.369736 -24.438067 \nL 329.840271 -24.489003 \nL 328.310805 -24.56411 \nL 326.78134 -24.658318 \nL 325.251874 -24.747116 \nL 323.722409 -24.797089 \nL 322.192943 -24.790113 \nL 320.663478 -24.739903 \nL 319.134012 -24.684027 \nL 317.604547 -24.65851 \nL 316.075081 -24.67794 \nL 314.545616 -24.734646 \nL 313.01615 -24.81089 \nL 311.486685 -24.890369 \nL 309.957219 -24.9618 \nL 308.427754 -25.017135 \nL 306.898288 -25.051321 \nL 305.368823 -25.066265 \nL 303.839357 -25.073285 \nL 302.309892 -25.086821 \nL 300.780426 -25.112037 \nL 299.250961 -25.138832 \nL 297.721495 -25.150485 \nL 296.19203 -25.139208 \nL 294.662564 -25.112413 \nL 293.133099 -25.084129 \nL 291.603633 -25.063094 \nL 290.074168 -25.050745 \nL 288.544702 -25.047376 \nL 287.015237 -25.054535 \nL 285.485771 -25.069775 \nL 283.956306 -25.082271 \nL 282.42684 -25.077001 \nL 280.897375 -25.044993 \nL 279.367909 -24.991536 \nL 277.838444 -24.936185 \nL 276.308978 -24.902225 \nL 274.779513 -24.899691 \nL 273.250047 -24.91494 \nL 271.720582 -24.919245 \nL 270.191116 -24.892181 \nL 268.661651 -24.839153 \nL 267.132185 -24.786956 \nL 265.60272 -24.762065 \nL 264.073254 -24.770611 \nL 262.543789 -24.794778 \nL 261.014323 -24.806323 \nL 259.484858 -24.78692 \nL 257.955392 -24.741493 \nL 256.425927 -24.694784 \nL 254.896461 -24.672499 \nL 253.366995 -24.680491 \nL 251.83753 -24.698141 \nL 250.308064 -24.692247 \nL 248.778599 -24.642931 \nL 247.249133 -24.563684 \nL 245.719668 -24.499571 \nL 244.190202 -24.501231 \nL 242.660737 -24.590541 \nL 241.131271 -24.742822 \nL 239.601806 -24.9 \nL 238.07234 -25.005903 \nL 236.542875 -25.038312 \nL 235.013409 -25.016543 \nL 233.483944 -24.982874 \nL 231.954478 -24.973469 \nL 230.425013 -24.99849 \nL 228.895547 -25.043329 \nL 227.366082 -25.087589 \nL 225.836616 -25.123522 \nL 224.307151 -25.156687 \nL 222.777685 -25.192399 \nL 221.24822 -25.228645 \nL 219.718754 -25.26595 \nL 218.189289 -25.319126 \nL 216.659823 -25.410409 \nL 215.130358 -25.547505 \nL 213.600892 -25.710597 \nL 212.071427 -25.861085 \nL 210.541961 -25.960748 \nL 209.012496 -25.987093 \nL 207.48303 -25.943219 \nL 205.953565 -25.860127 \nL 204.424099 -25.781388 \nL 202.894634 -25.732947 \nL 201.365168 -25.705501 \nL 199.835703 -25.672097 \nL 198.306237 -25.625947 \nL 196.776772 -25.599046 \nL 195.247306 -25.640573 \nL 193.717841 -25.773766 \nL 192.188375 -25.971079 \nL 190.65891 -26.17141 \nL 189.129444 -26.32437 \nL 187.599979 -26.421821 \nL 186.070513 -26.491755 \nL 184.541048 -26.56647 \nL 183.011582 -26.655607 \nL 181.482117 -26.742952 \nL 179.952651 -26.805565 \nL 178.423186 -26.839749 \nL 176.89372 -26.870601 \nL 175.364255 -26.930885 \nL 173.834789 -27.027265 \nL 172.305323 -27.132956 \nL 170.775858 -27.218248 \nL 169.246392 -27.28377 \nL 167.716927 -27.357885 \nL 166.187461 -27.461855 \nL 164.657996 -27.580371 \nL 163.12853 -27.667698 \nL 161.599065 -27.685718 \nL 160.069599 -27.642019 \nL 158.540134 -27.595948 \nL 157.010668 -27.625709 \nL 155.481203 -27.779028 \nL 153.951737 -28.043991 \nL 152.422272 -28.363973 \nL 150.892806 -28.681859 \nL 149.363341 -28.967517 \nL 147.833875 -29.203425 \nL 146.30441 -29.359983 \nL 144.774944 -29.407143 \nL 143.245479 -29.358243 \nL 141.716013 -29.29704 \nL 140.186548 -29.355162 \nL 138.657082 -29.651414 \nL 137.127617 -30.228597 \nL 135.598151 -31.024436 \nL 134.068686 -31.897595 \nL 132.53922 -32.696491 \nL 131.009755 -33.326508 \nL 129.480289 -33.772283 \nL 127.950824 -34.071274 \nL 126.421358 -34.278619 \nL 124.891893 -34.46223 \nL 123.362427 -34.716487 \nL 121.832962 -35.148648 \nL 120.303496 -35.824488 \nL 118.774031 -36.715346 \nL 117.244565 -37.699891 \nL 115.7151 -38.633149 \nL 114.185634 -39.437854 \nL 112.656169 -40.150033 \nL 111.126703 -40.893338 \nL 109.597238 -41.81699 \nL 108.067772 -43.037578 \nL 106.538307 -44.595408 \nL 105.008841 -46.436043 \nL 103.479376 -48.441397 \nL 101.94991 -50.508782 \nL 100.420445 -52.632012 \nL 98.890979 -54.936707 \nL 97.361514 -57.660836 \nL 95.832048 -61.096725 \nL 94.302583 -65.505552 \nL 92.773117 -71.024063 \nL 91.243651 -77.624559 \nL 89.714186 -85.197138 \nL 88.18472 -93.741972 \nL 86.655255 -103.559973 \nL 85.125789 -115.331076 \nL 83.596324 -130.048888 \nL 82.066858 -148.751187 \nL 80.537393 -171.779709 \nL 79.007927 -197.333659 \nL 77.478462 -219.964121 \nL 75.948996 -230.963839 \nL 74.419531 -222.26902 \nL 72.890065 -192.204762 \nL 71.3606 -148.115607 \nL 69.831134 -102.624625 \nL 68.301669 -66.353423 \nL 66.772203 -43.249872 \nL 65.242738 -31.313861 \nL 63.713272 -26.272237 \nL 62.183807 -24.523114 \nz\n\" id=\"ma909fe8260\" style=\"stroke:#1f77b4;\"/>\n    </defs>\n    <g clip-path=\"url(#p320a8f166f)\">\n     <use style=\"fill:#1f77b4;fill-opacity:0.25;stroke:#1f77b4;\" x=\"0\" xlink:href=\"#ma909fe8260\" y=\"248.518125\"/>\n    </g>\n   </g>\n   <g id=\"patch_3\">\n    <path d=\"M 46.965625 224.64 \nL 46.965625 7.2 \n\" style=\"fill:none;stroke:#262626;stroke-linecap:square;stroke-linejoin:miter;stroke-width:0.8;\"/>\n   </g>\n   <g id=\"patch_4\">\n    <path d=\"M 381.765625 224.64 \nL 381.765625 7.2 \n\" style=\"fill:none;stroke:#262626;stroke-linecap:square;stroke-linejoin:miter;stroke-width:0.8;\"/>\n   </g>\n   <g id=\"patch_5\">\n    <path d=\"M 46.965625 224.64 \nL 381.765625 224.64 \n\" style=\"fill:none;stroke:#262626;stroke-linecap:square;stroke-linejoin:miter;stroke-width:0.8;\"/>\n   </g>\n   <g id=\"patch_6\">\n    <path d=\"M 46.965625 7.2 \nL 381.765625 7.2 \n\" style=\"fill:none;stroke:#262626;stroke-linecap:square;stroke-linejoin:miter;stroke-width:0.8;\"/>\n   </g>\n  </g>\n </g>\n <defs>\n  <clipPath id=\"p320a8f166f\">\n   <rect height=\"217.44\" width=\"334.8\" x=\"46.965625\" y=\"7.2\"/>\n  </clipPath>\n </defs>\n</svg>\n",
      "image/png": "[encoded data removed]"
     },
     "metadata": {}
    }
   ],
   "source": [
    "_ = sns.distplot(abs_errors, hist=False, kde=True, kde_kws={\"shade\": True})"
   ]
  },
  {
   "source": [
    "# avg & std of errors"
   ],
   "cell_type": "markdown",
   "metadata": {}
  },
  {
   "cell_type": "code",
   "execution_count": 11,
   "metadata": {
    "tags": []
   },
   "outputs": [
    {
     "output_type": "stream",
     "name": "stdout",
     "text": [
      "avg(abs_errors):\t0.008056\n\nstd(abs_errors):\t0.014237\n"
     ]
    }
   ],
   "source": [
    "print('avg(abs_errors):\\t{:.6f}'.format(np.average(abs_errors)))\n",
    "print()\n",
    "print('std(abs_errors):\\t{:.6f}'.format(np.std(abs_errors)))"
   ]
  }
 ],
 "metadata": {
  "kernelspec": {
   "display_name": "ou",
   "language": "python",
   "name": "ou"
  },
  "language_info": {
   "codemirror_mode": {
    "name": "ipython",
    "version": 3
   },
   "file_extension": ".py",
   "mimetype": "text/x-python",
   "name": "python",
   "nbconvert_exporter": "python",
   "pygments_lexer": "ipython3",
   "version": "3.8.6-final"
  }
 },
 "nbformat": 4,
 "nbformat_minor": 4
}