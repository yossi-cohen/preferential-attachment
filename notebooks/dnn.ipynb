{
 "cells": [
  {
   "cell_type": "markdown",
   "id": "9b6e118a",
   "metadata": {},
   "source": [
    "# Imports"
   ]
  },
  {
   "cell_type": "code",
   "execution_count": 32,
   "id": "6aef392b",
   "metadata": {},
   "outputs": [],
   "source": [
    "import os\n",
    "\n",
    "import pickle\n",
    "import numpy as np\n",
    "np.set_printoptions(precision=4)\n",
    "\n",
    "os.environ['CUDA_VISIBLE_DEVICES'] = '' # run tensorflow without GPU\n",
    "os.environ['TF_CPP_MIN_LOG_LEVEL'] = '2'\n",
    "\n",
    "import tensorflow as tf\n",
    "print(f'Tensorflow version {tf.__version__}')\n",
    "from tensorflow import keras;\n",
    "from tensorflow.keras.metrics import mean_squared_error, mean_absolute_error\n",
    "from tensorflow.keras.regularizers import l2\n",
    "from tensorflow.keras.callbacks import EarlyStopping, ReduceLROnPlateau, ModelCheckpoint\n",
    "from tensorflow.keras import Sequential\n",
    "from tensorflow.keras.layers import Dense, Activation, Dropout, BatchNormalization\n",
    "from tensorflow.keras.optimizers import Adam"
   ]
  },
  {
   "cell_type": "markdown",
   "id": "902af362",
   "metadata": {},
   "source": [
    "# DNN Model\n",
    "Multi-output regression involves predicting two or more numerical variables."
   ]
  },
  {
   "cell_type": "code",
   "execution_count": 4,
   "id": "fcf82484",
   "metadata": {},
   "outputs": [],
   "source": [
    "def create_dnn_model(n_features, \n",
    "                     layers, \n",
    "                     n_outputs=1, \n",
    "                     activation='relu', \n",
    "                     init='he_uniform', \n",
    "                     batch_normalization=False, \n",
    "                     dropout=0, \n",
    "                     k_reg=False, \n",
    "                     k_reg_lr=0.001, \n",
    "                     a_reg=False, \n",
    "                     a_reg_lr=0.001, \n",
    "                     loss='mse', \n",
    "                     optimizer='adam'):\n",
    "\n",
    "    model = Sequential()\n",
    "    \n",
    "    # ============\n",
    "    # input-layer\n",
    "    # ============\n",
    "    model.add(Dense(units=layers[0]\n",
    "                      , input_dim=n_features\n",
    "                      , kernel_initializer=init\n",
    "                      , kernel_regularizer=l2(k_reg_lr) if k_reg else None\n",
    "                      , activity_regularizer=l2(a_reg_lr) if a_reg else None\n",
    "                      , use_bias=(not batch_normalization)\n",
    "                    ))\n",
    "    \n",
    "    \n",
    "    if batch_normalization:\n",
    "        model.add(BatchNormalization())\n",
    "    \n",
    "    model.add(Activation(activation))\n",
    "\n",
    "    if dropout >= 0:\n",
    "        model.add(Dropout(dropout))\n",
    "\n",
    "    # ==============\n",
    "    # hidden-layers\n",
    "    # ==============\n",
    "    if len(layers) > 1:\n",
    "        for units in layers[1:]:\n",
    "            model.add(Dense(units=units\n",
    "                            , kernel_initializer=init\n",
    "                            , kernel_regularizer=l2(k_reg_lr) if k_reg else None\n",
    "                            , activity_regularizer=l2(a_reg_lr) if a_reg else None\n",
    "                            , use_bias=(not batch_normalization)\n",
    "                            ))\n",
    "\n",
    "            if batch_normalization:\n",
    "                model.add(BatchNormalization())\n",
    "\n",
    "            model.add(Activation(activation))\n",
    "\n",
    "            if dropout > 0:\n",
    "                model.add(Dropout(dropout))\n",
    "\n",
    "    # =============\n",
    "    # output-layer\n",
    "    # =============\n",
    "    model.add(Dense(n_outputs))\n",
    "\n",
    "    model.compile(loss=loss, metrics=[loss], optimizer=optimizer)\n",
    "\n",
    "    return model"
   ]
  },
  {
   "cell_type": "markdown",
   "id": "fa939fe7",
   "metadata": {},
   "source": [
    "# Train model"
   ]
  },
  {
   "cell_type": "code",
   "execution_count": null,
   "id": "76d187a5",
   "metadata": {},
   "outputs": [],
   "source": [
    "from datetime import datetime\n",
    "from sklearn.model_selection import train_test_split\n",
    "\n",
    "def train_model(model, X_train, y_train, batch_size=32):\n",
    "\n",
    "    # split train/val\n",
    "    X_train, X_val, y_train, y_val = train_test_split(X_train, \n",
    "                                                      y_train, \n",
    "                                                      test_size=0.25)\n",
    "\n",
    "    # early-stopping\n",
    "    es_patience = 50\n",
    "    es = EarlyStopping(monitor='val_loss', \n",
    "                        patience=es_patience, \n",
    "                        mode='min', \n",
    "                        restore_best_weights=True, \n",
    "                        verbose=0)\n",
    "    \n",
    "    # reduce learning-rate on plateau\n",
    "    reduce_lr = ReduceLROnPlateau(monitor='val_loss', factor=0.95, patience=10)\n",
    "\n",
    "    # fit model\n",
    "    history = model.fit(X_train, \n",
    "                        y_train, \n",
    "                        validation_data=(X_val, y_val), \n",
    "                        epochs=200, \n",
    "                        batch_size=batch_size, \n",
    "                        shuffle=False, \n",
    "                        callbacks=[es, reduce_lr], \n",
    "                        verbose=0)\n",
    "\n",
    "    return model, history.history"
   ]
  },
  {
   "cell_type": "markdown",
   "id": "002ab375",
   "metadata": {
    "tags": []
   },
   "source": [
    "# Plot learning curves"
   ]
  },
  {
   "cell_type": "code",
   "execution_count": null,
   "id": "8f558d00",
   "metadata": {},
   "outputs": [],
   "source": [
    "%matplotlib inline\n",
    "import matplotlib.pyplot as plt\n",
    "\n",
    "def plot_learning_curves(history, train_key='loss', val_key='val_loss'):\n",
    "    plt.figure(figsize=(2,2))\n",
    "    plt.plot(history[train_key])\n",
    "    plt.plot(history[val_key])\n",
    "    plt.title('learning curves')\n",
    "    plt.ylabel('loss')\n",
    "    plt.xlabel('epoch')\n",
    "    plt.legend(['train', 'validation'], loc='upper right')\n",
    "    plt.show()"
   ]
  },
  {
   "cell_type": "markdown",
   "id": "9916d6a6",
   "metadata": {},
   "source": [
    "# Fit"
   ]
  },
  {
   "cell_type": "code",
   "execution_count": null,
   "id": "2c9759e5",
   "metadata": {},
   "outputs": [],
   "source": [
    "def fit_dnn_model(X_train, y_train):\n",
    "    \"\"\"\n",
    "    Fit a DNN model to training data\n",
    "    \"\"\"\n",
    "    \n",
    "    # create model\n",
    "    dnn_model = create_dnn_model(X_train.shape[1], \n",
    "#                             layers=[256,256], \n",
    "                            layers=[64,64], \n",
    "                            n_outputs=y_train.shape[1], \n",
    "                            activation='relu', \n",
    "                            init=keras.initializers.HeUniform(), \n",
    "                            batch_normalization=True, \n",
    "                            dropout=0.0, \n",
    "                            optimizer=Adam(learning_rate=1e-2), \n",
    "                            k_reg=True,\n",
    "                            k_reg_lr=1e-5, \n",
    "                            a_reg=True,\n",
    "                            a_reg_lr=1e-5)\n",
    "    # train model\n",
    "    dnn_model, history = train_model(dnn_model, X_train, y_train)\n",
    "    return dnn_model, history"
   ]
  },
  {
   "cell_type": "markdown",
   "id": "cba6c8fa",
   "metadata": {},
   "source": [
    "# Predict"
   ]
  },
  {
   "cell_type": "code",
   "execution_count": 34,
   "id": "55cba58f",
   "metadata": {},
   "outputs": [],
   "source": [
    "def predict(model, X_test, y_test):\n",
    "    \n",
    "    # predict\n",
    "    y_pred = model.predict_step(X_test)\n",
    "    \n",
    "    # mse\n",
    "    mse = mean_squared_error(y_test, y_pred)\n",
    "\n",
    "    return y_pred, float(mse)"
   ]
  }
 ],
 "metadata": {
  "interpreter": {
   "hash": "b779d45533b5c6c3f8167369b5fb9305f3978c8e947a1d85123271165eb50113"
  },
  "kernelspec": {
   "display_name": "Python 3 (ipykernel)",
   "language": "python",
   "name": "python3"
  },
  "language_info": {
   "codemirror_mode": {
    "name": "ipython",
    "version": 3
   },
   "file_extension": ".py",
   "mimetype": "text/x-python",
   "name": "python",
   "nbconvert_exporter": "python",
   "pygments_lexer": "ipython3",
   "version": "3.8.12"
  }
 },
 "nbformat": 4,
 "nbformat_minor": 5
}
