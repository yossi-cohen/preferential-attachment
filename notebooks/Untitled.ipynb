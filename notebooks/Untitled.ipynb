{
 "cells": [
  {
   "cell_type": "code",
   "execution_count": 2,
   "metadata": {},
   "outputs": [],
   "source": [
    "import math\n",
    "import numpy as np\n",
    "from scipy import stats\n",
    "from scipy.stats import yulesimon"
   ]
  },
  {
   "cell_type": "code",
   "execution_count": 7,
   "metadata": {},
   "outputs": [
    {
     "name": "stdout",
     "output_type": "stream",
     "text": [
      "0 3 2.63\n",
      "5 11 2.63\n",
      "14 16 2.07\n",
      "67 22 2.21\n",
      "2041 41 2.05\n",
      "9561 62 2.92\n"
     ]
    }
   ],
   "source": [
    "max = 0\n",
    "# i = 0\n",
    "# while True:\n",
    "#     i += 1\n",
    "for i in range(10000):\n",
    "    alpha = np.random.uniform(low=2.0, high=3.0, size=1)[0]\n",
    "    m = yulesimon.rvs(alpha, loc=0, size=1)[0]\n",
    "    if m > max:\n",
    "        max = m\n",
    "        print(f'{i} {m} {alpha:.2f}')\n"
   ]
  }
 ],
 "metadata": {
  "kernelspec": {
   "display_name": "ou",
   "language": "python",
   "name": "ou"
  },
  "language_info": {
   "codemirror_mode": {
    "name": "ipython",
    "version": 3
   },
   "file_extension": ".py",
   "mimetype": "text/x-python",
   "name": "python",
   "nbconvert_exporter": "python",
   "pygments_lexer": "ipython3",
   "version": "3.8.10"
  }
 },
 "nbformat": 4,
 "nbformat_minor": 4
}
