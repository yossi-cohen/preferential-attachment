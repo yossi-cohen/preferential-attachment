{
 "cells": [
  {
   "cell_type": "code",
   "execution_count": null,
   "metadata": {},
   "outputs": [],
   "source": [
    "%run yulesimon-lib.ipynb"
   ]
  },
  {
   "source": [
    "# CONSTANTS"
   ],
   "cell_type": "markdown",
   "metadata": {}
  },
  {
   "cell_type": "code",
   "execution_count": null,
   "metadata": {},
   "outputs": [],
   "source": [
    "N_RANGE=[11]; RANDOM_STATES=[17]\n",
    "# N_RANGE=[5,8,11]; RANDOM_STATES=[0, 17]\n",
    "# N_RANGE=range(5, 12); RANDOM_STATES=[0, 3, 5, 8, 11, 16, 17, 20, 21, 24]\n",
    "\n",
    "trials_out = {}\n",
    "\n",
    "PLOT_LEARNING_CURVES = True\n",
    "\n",
    "RUN_DNN = True\n",
    "RUN_DNN_ZEROS = True\n",
    "RUN_DNN_WIN = True\n",
    "RUN_DNN_WIN_ZEROS = True\n",
    "RUN_CNN = True\n",
    "RUN_CNN_ZEROS = True\n",
    "RUN_CNNM = True\n"
   ]
  },
  {
   "cell_type": "code",
   "execution_count": null,
   "metadata": {},
   "outputs": [],
   "source": [
    "# helper function to plot learning curves for the given trial output\n",
    "def trial_plot_learning_curves(trial):\n",
    "    history_path = '{}.history'.format(trial['base_path'])\n",
    "    history = pickle.load(open(history_path, 'rb'))\n",
    "    plot_learning_curves(history)"
   ]
  },
  {
   "source": [
    "# DNN"
   ],
   "cell_type": "markdown",
   "metadata": {}
  },
  {
   "cell_type": "code",
   "execution_count": null,
   "metadata": {},
   "outputs": [],
   "source": [
    "%%time\n",
    "if RUN_DNN:\n",
    "    nn = 'DNN'\n",
    "    trials_out[nn] = trial(nn=nn, N_range=N_RANGE, hstack_zeros=False, random_states=RANDOM_STATES)\n",
    "    if PLOT_LEARNING_CURVES:\n",
    "        trial_plot_learning_curves(trials_out[nn])\n",
    "        print(trials_out[nn]['input_sample'])"
   ]
  },
  {
   "source": [
    "# DNN zeros"
   ],
   "cell_type": "markdown",
   "metadata": {}
  },
  {
   "cell_type": "code",
   "execution_count": null,
   "metadata": {
    "tags": []
   },
   "outputs": [],
   "source": [
    "%%time\n",
    "if RUN_DNN_ZEROS:\n",
    "    nn = 'DNN_ZEROS'\n",
    "    trials_out[nn] = trial(nn=nn, N_range=N_RANGE, hstack_zeros=True, random_states=RANDOM_STATES)\n",
    "    if PLOT_LEARNING_CURVES: trial_plot_learning_curves(trials_out[nn])"
   ]
  },
  {
   "source": [
    "# DNN win test\n",
    "Test to show that 'data_hstack_win_sum()' is working correctly"
   ],
   "cell_type": "markdown",
   "metadata": {}
  },
  {
   "cell_type": "code",
   "execution_count": null,
   "metadata": {},
   "outputs": [],
   "source": [
    "X_win_test = np.array([ [1,2,3,4,5,6,7], [1,2,3,4,5,6,7] ])\n",
    "\n",
    "print('X_win_test:')\n",
    "print(X_win_test)\n",
    "\n",
    "OUT_win_test, window_sizes = data_hstack_win_sum(X_win_test)\n",
    "\n",
    "print()\n",
    "print('window_sizes:', window_sizes)\n",
    "\n",
    "print()\n",
    "print('OUT_win_test:')\n",
    "print(OUT_win_test)"
   ]
  },
  {
   "source": [
    "# DNN win"
   ],
   "cell_type": "markdown",
   "metadata": {}
  },
  {
   "cell_type": "code",
   "execution_count": null,
   "metadata": {},
   "outputs": [],
   "source": [
    "%%time\n",
    "if RUN_DNN_WIN:\n",
    "    nn = 'DNN_WIN'\n",
    "    trials_out[nn] = trial(nn=nn, N_range=N_RANGE, hstack_zeros=False, random_states=RANDOM_STATES)\n",
    "    if PLOT_LEARNING_CURVES: trial_plot_learning_curves(trials_out[nn])"
   ]
  },
  {
   "source": [
    "# DNN win zeros"
   ],
   "cell_type": "markdown",
   "metadata": {}
  },
  {
   "cell_type": "code",
   "execution_count": null,
   "metadata": {},
   "outputs": [],
   "source": [
    "%%time\n",
    "if RUN_DNN_WIN_ZEROS:\n",
    "    nn = 'DNN_WIN_ZEROS'\n",
    "    trials_out[nn] = trial(nn=nn, N_range=N_RANGE, hstack_zeros=True, random_states=RANDOM_STATES)\n",
    "    if PLOT_LEARNING_CURVES: trial_plot_learning_curves(trials_out[nn])"
   ]
  },
  {
   "source": [
    "# CNN"
   ],
   "cell_type": "markdown",
   "metadata": {}
  },
  {
   "cell_type": "code",
   "execution_count": null,
   "metadata": {},
   "outputs": [],
   "source": [
    "%%time\n",
    "if RUN_CNN:\n",
    "    nn = 'CNN'\n",
    "    trials_out[nn] = trial(nn=nn, N_range=N_RANGE, hstack_zeros=False, random_states=RANDOM_STATES)\n",
    "    if PLOT_LEARNING_CURVES: trial_plot_learning_curves(trials_out[nn])"
   ]
  },
  {
   "source": [
    "# CNN zeros"
   ],
   "cell_type": "markdown",
   "metadata": {}
  },
  {
   "cell_type": "code",
   "execution_count": null,
   "metadata": {},
   "outputs": [],
   "source": [
    "%%time\n",
    "if RUN_CNN_ZEROS:\n",
    "    nn = 'CNN_ZEROS'\n",
    "    trials_out[nn] = trial(nn=nn, N_range=N_RANGE, hstack_zeros=True, random_states=RANDOM_STATES)\n",
    "    if PLOT_LEARNING_CURVES: trial_plot_learning_curves(trials_out[nn])"
   ]
  },
  {
   "source": [
    "# CNN multi-layer"
   ],
   "cell_type": "markdown",
   "metadata": {}
  },
  {
   "cell_type": "code",
   "execution_count": null,
   "metadata": {},
   "outputs": [],
   "source": [
    "%%time\n",
    "if RUN_CNNM:\n",
    "    nn = 'CNNM'\n",
    "    trials_out[nn] = trial(nn=nn, N_range=N_RANGE, hstack_zeros=False, random_states=RANDOM_STATES)\n",
    "    if PLOT_LEARNING_CURVES: trial_plot_learning_curves(trials_out[nn])"
   ]
  },
  {
   "source": [
    "# CNN multi-layer + zeros"
   ],
   "cell_type": "markdown",
   "metadata": {}
  },
  {
   "cell_type": "code",
   "execution_count": null,
   "metadata": {},
   "outputs": [],
   "source": [
    "%%time\n",
    "if RUN_CNNM:\n",
    "    nn = 'CNNM_ZEROS'\n",
    "    trials_out[nn] = trial(nn=nn, N_range=N_RANGE, hstack_zeros=True, random_states=RANDOM_STATES)\n",
    "    if PLOT_LEARNING_CURVES: trial_plot_learning_curves(trials_out[nn])"
   ]
  },
  {
   "source": [
    "# plot log(N) vs sqrt_mse (all trials)"
   ],
   "cell_type": "markdown",
   "metadata": {}
  },
  {
   "cell_type": "code",
   "execution_count": null,
   "metadata": {},
   "outputs": [],
   "source": [
    "def plot_sqrt_mse(plot_std=False):\n",
    "    \n",
    "    plt.figure(figsize=(15, 4))\n",
    "    \n",
    "    ax1 = plt.subplot(1, 2, 1)\n",
    "\n",
    "    ax1.set(title='sqrt_mse', xlabel='log(N)', ylabel='sqrt_mse')\n",
    "\n",
    "    colors = iter(cm.rainbow(np.linspace(0, 1, len(trials_out))))\n",
    "\n",
    "    for i, out in enumerate(trials_out):\n",
    "        x = np.log10(out['a_N'])\n",
    "        y = out['a_sqrt_mse']\n",
    "        c = next(colors)\n",
    "        ax1.plot(x, y, linewidth=0.5, c=c, marker='o', markersize=3, label=out['nn'])\n",
    "        if plot_std:\n",
    "            std = out['a_std_abs_errors']\n",
    "            ax1.fill_between(x, y - std, y + std, facecolor=colors[i], alpha=0.3)\n",
    "    \n",
    "    plt.legend(loc='upper right')\n",
    "\n",
    "plot_sqrt_mse()\n"
   ]
  },
  {
   "source": [
    "# print and save statistics (yulesimon.csv)"
   ],
   "cell_type": "markdown",
   "metadata": {}
  },
  {
   "cell_type": "code",
   "execution_count": null,
   "metadata": {},
   "outputs": [],
   "source": [
    "dict_list = []\n",
    "for t in trials_out:\n",
    "    dict_list.append(('N', t['a_N']))\n",
    "for t in trials_out:\n",
    "    dict_list.append(('sqrt_mse_{}'.format(t['nn']), t['a_sqrt_mse']))\n",
    "for t in trials_out:\n",
    "    dict_list.append(('std_{}'.format(t['nn']), t['a_std_abs_errors']))\n",
    "for t in trials_out:\n",
    "    dict_list.append(('avg_abs_error_{}'.format(t['nn']), t['a_avg_abs_errors']))\n",
    "\n",
    "df = pd.DataFrame(dict(dict_list))\n",
    "\n",
    "df = df.set_index('N')\n",
    "\n",
    "df.to_csv('yulesimon.csv', float_format='%.5f')\n",
    "\n",
    "columns=[]\n",
    "for t in trials_out:\n",
    "    columns.append(('sqrt_MSE',t['nn']))\n",
    "for t in trials_out:\n",
    "    columns.append(('STD',t['nn']))\n",
    "for t in trials_out:\n",
    "    columns.append(('avg_abs_err',t['nn']))\n",
    "\n",
    "df.columns=pd.MultiIndex.from_tuples(columns)\n",
    "\n",
    "print('err = y_test - y_pred')\n",
    "df"
   ]
  }
 ],
 "metadata": {
  "kernelspec": {
   "display_name": "ou",
   "language": "python",
   "name": "ou"
  },
  "language_info": {
   "codemirror_mode": {
    "name": "ipython",
    "version": 3
   },
   "file_extension": ".py",
   "mimetype": "text/x-python",
   "name": "python",
   "nbconvert_exporter": "python",
   "pygments_lexer": "ipython3",
   "version": "3.8.6-final"
  }
 },
 "nbformat": 4,
 "nbformat_minor": 4
}