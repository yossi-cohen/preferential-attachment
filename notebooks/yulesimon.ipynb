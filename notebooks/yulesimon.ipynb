{
 "cells": [
  {
   "cell_type": "code",
   "execution_count": 1,
   "metadata": {},
   "outputs": [],
   "source": [
    "%run yulesimon-lib.ipynb"
   ]
  },
  {
   "source": [
    "# CONSTANTS"
   ],
   "cell_type": "markdown",
   "metadata": {}
  },
  {
   "cell_type": "code",
   "execution_count": 2,
   "metadata": {},
   "outputs": [],
   "source": [
    "# N_RANGE=[5,8,11]; RANDOM_STATES=[0, 17]\n",
    "N_RANGE=range(5, 12); RANDOM_STATES=[0, 3, 5, 8, 11, 16, 17, 20, 21, 24]\n",
    "\n",
    "trials_out = []\n",
    "\n",
    "RUN_DNN = True\n",
    "RUN_DNN_ZEROS = True\n",
    "RUN_DNN_WIN = True\n",
    "RUN_DNN_WIN_ZEROS = True\n",
    "RUN_CNN = True\n",
    "RUN_CNN_ZEROS = True\n",
    "RUN_CNNM = True\n"
   ]
  },
  {
   "source": [
    "# DNN"
   ],
   "cell_type": "markdown",
   "metadata": {}
  },
  {
   "cell_type": "code",
   "execution_count": 3,
   "metadata": {},
   "outputs": [
    {
     "output_type": "stream",
     "name": "stdout",
     "text": [
      "Processing...\n",
      "\n",
      "input.shape: (10000, 34)\n",
      "N: 32 \t avg_sqrt_mse = 0.042611\n",
      "\n",
      "input.shape: (10000, 20)\n",
      "N: 64 \t avg_sqrt_mse = 0.012804\n",
      "\n",
      "input.shape: (10000, 46)\n",
      "N: 128 \t avg_sqrt_mse = 0.016111\n",
      "\n",
      "input.shape: (10000, 21)\n",
      "N: 256 \t avg_sqrt_mse = 0.008903\n",
      "\n",
      "input.shape: (10000, 33)\n",
      "N: 512 \t avg_sqrt_mse = 0.008291\n",
      "\n",
      "input.shape: (10000, 63)\n",
      "N: 1024 \t avg_sqrt_mse = 0.008765\n",
      "\n",
      "input.shape: (10000, 140)\n",
      "N: 2048 \t avg_sqrt_mse = 0.007681\n",
      "\n"
     ]
    }
   ],
   "source": [
    "if RUN_DNN:\n",
    "    trials_out.append(trial(nn='DNN', N_range=N_RANGE, hstack_zeros=False, random_states=RANDOM_STATES))"
   ]
  },
  {
   "source": [
    "# DNN zeros"
   ],
   "cell_type": "markdown",
   "metadata": {}
  },
  {
   "cell_type": "code",
   "execution_count": 4,
   "metadata": {
    "tags": []
   },
   "outputs": [
    {
     "output_type": "stream",
     "name": "stdout",
     "text": [
      "Processing...\n",
      "\n",
      "input.shape: (10000, 44)\n",
      "N: 32 \t avg_sqrt_mse = 0.043565\n",
      "\n",
      "input.shape: (10000, 30)\n",
      "N: 64 \t avg_sqrt_mse = 0.015030\n",
      "\n",
      "input.shape: (10000, 56)\n",
      "N: 128 \t avg_sqrt_mse = 0.015634\n",
      "\n",
      "input.shape: (10000, 31)\n",
      "N: 256 \t avg_sqrt_mse = 0.010121\n",
      "\n",
      "input.shape: (10000, 43)\n",
      "N: 512 \t avg_sqrt_mse = 0.008875\n",
      "\n",
      "input.shape: (10000, 73)\n",
      "N: 1024 \t avg_sqrt_mse = 0.010565\n",
      "\n",
      "input.shape: (10000, 150)\n",
      "N: 2048 \t avg_sqrt_mse = 0.008792\n",
      "\n"
     ]
    }
   ],
   "source": [
    "if RUN_DNN_ZEROS:\n",
    "    trials_out.append(trial(nn='DNN_ZEROS', N_range=N_RANGE, hstack_zeros=True, random_states=RANDOM_STATES))"
   ]
  },
  {
   "source": [
    "# DNN win"
   ],
   "cell_type": "markdown",
   "metadata": {}
  },
  {
   "cell_type": "code",
   "execution_count": 5,
   "metadata": {},
   "outputs": [
    {
     "output_type": "stream",
     "name": "stdout",
     "text": [
      "Processing...\n",
      "\n",
      "input.shape: (10000, 68)\n",
      "N: 32 \t avg_sqrt_mse = 0.045955\n",
      "\n",
      "input.shape: (10000, 38)\n",
      "N: 64 \t avg_sqrt_mse = 0.015155\n",
      "\n",
      "input.shape: (10000, 90)\n",
      "N: 128 \t avg_sqrt_mse = 0.017238\n",
      "\n",
      "input.shape: (10000, 41)\n",
      "N: 256 \t avg_sqrt_mse = 0.010887\n",
      "\n",
      "input.shape: (10000, 67)\n",
      "N: 512 \t avg_sqrt_mse = 0.013539\n",
      "\n",
      "input.shape: (10000, 123)\n",
      "N: 1024 \t avg_sqrt_mse = 0.011768\n",
      "\n",
      "input.shape: (10000, 280)\n",
      "N: 2048 \t avg_sqrt_mse = 0.012445\n",
      "\n"
     ]
    }
   ],
   "source": [
    "if RUN_DNN_WIN:\n",
    "    trials_out.append(trial(nn='DNN_WIN', N_range=N_RANGE, hstack_zeros=False, random_states=RANDOM_STATES))"
   ]
  },
  {
   "source": [
    "# DNN win zeros"
   ],
   "cell_type": "markdown",
   "metadata": {}
  },
  {
   "cell_type": "code",
   "execution_count": 6,
   "metadata": {},
   "outputs": [
    {
     "output_type": "stream",
     "name": "stdout",
     "text": [
      "Processing...\n",
      "\n",
      "input.shape: (10000, 44)\n",
      "N: 32 \t avg_sqrt_mse = 0.043565\n",
      "\n",
      "input.shape: (10000, 30)\n",
      "N: 64 \t avg_sqrt_mse = 0.015030\n",
      "\n",
      "input.shape: (10000, 56)\n",
      "N: 128 \t avg_sqrt_mse = 0.015634\n",
      "\n",
      "input.shape: (10000, 31)\n",
      "N: 256 \t avg_sqrt_mse = 0.010121\n",
      "\n",
      "input.shape: (10000, 43)\n",
      "N: 512 \t avg_sqrt_mse = 0.008875\n",
      "\n",
      "input.shape: (10000, 73)\n",
      "N: 1024 \t avg_sqrt_mse = 0.010565\n",
      "\n",
      "input.shape: (10000, 150)\n",
      "N: 2048 \t avg_sqrt_mse = 0.008792\n",
      "\n"
     ]
    }
   ],
   "source": [
    "if RUN_DNN_WIN_ZEROS:\n",
    "    trials_out.append(trial(nn='DNN_WIN_ZEROS', N_range=N_RANGE, hstack_zeros=True, random_states=RANDOM_STATES))"
   ]
  },
  {
   "source": [
    "# CNN"
   ],
   "cell_type": "markdown",
   "metadata": {}
  },
  {
   "cell_type": "code",
   "execution_count": 7,
   "metadata": {},
   "outputs": [
    {
     "output_type": "stream",
     "name": "stdout",
     "text": [
      "Processing...\n",
      "\n",
      "input.shape: (10000, 34, 1)\n",
      "N: 32 \t avg_sqrt_mse = 0.041033\n",
      "\n",
      "input.shape: (10000, 20, 1)\n",
      "N: 64 \t avg_sqrt_mse = 0.010838\n",
      "\n",
      "input.shape: (10000, 46, 1)\n",
      "N: 128 \t avg_sqrt_mse = 0.011325\n",
      "\n",
      "input.shape: (10000, 21, 1)\n",
      "N: 256 \t avg_sqrt_mse = 0.004959\n",
      "\n",
      "input.shape: (10000, 33, 1)\n",
      "N: 512 \t avg_sqrt_mse = 0.003148\n",
      "\n",
      "input.shape: (10000, 63, 1)\n",
      "N: 1024 \t avg_sqrt_mse = 0.002209\n",
      "\n",
      "input.shape: (10000, 140, 1)\n",
      "N: 2048 \t avg_sqrt_mse = 0.001131\n",
      "\n"
     ]
    }
   ],
   "source": [
    "if RUN_CNN:\n",
    "    trials_out.append(trial(nn='CNN', N_range=N_RANGE, hstack_zeros=False, random_states=RANDOM_STATES))"
   ]
  },
  {
   "source": [
    "# CNN zeros"
   ],
   "cell_type": "markdown",
   "metadata": {}
  },
  {
   "cell_type": "code",
   "execution_count": 8,
   "metadata": {},
   "outputs": [
    {
     "output_type": "stream",
     "name": "stdout",
     "text": [
      "Processing...\n",
      "\n",
      "input.shape: (10000, 44, 1)\n",
      "N: 32 \t avg_sqrt_mse = 0.041114\n",
      "\n",
      "input.shape: (10000, 30, 1)\n",
      "N: 64 \t avg_sqrt_mse = 0.011195\n",
      "\n",
      "input.shape: (10000, 56, 1)\n",
      "N: 128 \t avg_sqrt_mse = 0.011740\n",
      "\n",
      "input.shape: (10000, 31, 1)\n",
      "N: 256 \t avg_sqrt_mse = 0.004874\n",
      "\n",
      "input.shape: (10000, 43, 1)\n",
      "N: 512 \t avg_sqrt_mse = 0.003146\n",
      "\n",
      "input.shape: (10000, 73, 1)\n",
      "N: 1024 \t avg_sqrt_mse = 0.002275\n",
      "\n",
      "input.shape: (10000, 150, 1)\n",
      "N: 2048 \t avg_sqrt_mse = 0.001161\n",
      "\n"
     ]
    }
   ],
   "source": [
    "if RUN_CNN_ZEROS:\n",
    "    trials_out.append(trial(nn='CNN_ZEROS', N_range=N_RANGE, hstack_zeros=True, random_states=RANDOM_STATES))"
   ]
  },
  {
   "source": [
    "# CNN multi-layer"
   ],
   "cell_type": "markdown",
   "metadata": {}
  },
  {
   "cell_type": "code",
   "execution_count": null,
   "metadata": {},
   "outputs": [],
   "source": [
    "if RUN_CNNM:\n",
    "    trials_out.append(trial(nn='CNNM', N_range=N_RANGE, hstack_zeros=False, ran dom_states=RANDOM_STATES))"
   ]
  },
  {
   "source": [
    "# CNN multi-layer + zeros"
   ],
   "cell_type": "markdown",
   "metadata": {}
  },
  {
   "cell_type": "code",
   "execution_count": 9,
   "metadata": {},
   "outputs": [
    {
     "output_type": "stream",
     "name": "stdout",
     "text": [
      "Processing...\n",
      "\n",
      "input.shape: (10000, 44, 1)\n",
      "N: 32 \t avg_sqrt_mse = 0.041750\n",
      "\n",
      "input.shape: (10000, 30, 1)\n",
      "N: 64 \t avg_sqrt_mse = 0.010728\n",
      "\n",
      "input.shape: (10000, 56, 1)\n",
      "N: 128 \t avg_sqrt_mse = 0.011147\n",
      "\n",
      "input.shape: (10000, 31, 1)\n",
      "N: 256 \t avg_sqrt_mse = 0.004782\n",
      "\n",
      "input.shape: (10000, 43, 1)\n",
      "N: 512 \t avg_sqrt_mse = 0.002795\n",
      "\n",
      "input.shape: (10000, 73, 1)\n",
      "N: 1024 \t avg_sqrt_mse = 0.001548\n",
      "\n",
      "input.shape: (10000, 150, 1)\n",
      "N: 2048 \t avg_sqrt_mse = 0.000720\n",
      "\n"
     ]
    }
   ],
   "source": [
    "if RUN_CNNM:\n",
    "    trials_out.append(trial(nn='CNNM_zeros', N_range=N_RANGE, hstack_zeros=True, random_states=RANDOM_STATES))"
   ]
  },
  {
   "source": [
    "# plot log(N) vs sqrt_mse"
   ],
   "cell_type": "markdown",
   "metadata": {}
  },
  {
   "cell_type": "code",
   "execution_count": 10,
   "metadata": {},
   "outputs": [
    {
     "output_type": "display_data",
     "data": {
      "text/plain": "<Figure size 1080x288 with 1 Axes>",
      "image/svg+xml": "<?xml version=\"1.0\" encoding=\"utf-8\" standalone=\"no\"?>\n<!DOCTYPE svg PUBLIC \"-//W3C//DTD SVG 1.1//EN\"\n  \"http://www.w3.org/Graphics/SVG/1.1/DTD/svg11.dtd\">\n<!-- Created with matplotlib (https://matplotlib.org/) -->\n<svg height=\"276.980625pt\" version=\"1.1\" viewBox=\"0 0 437.798295 276.980625\" width=\"437.798295pt\" xmlns=\"http://www.w3.org/2000/svg\" xmlns:xlink=\"http://www.w3.org/1999/xlink\">\n <metadata>\n  <rdf:RDF xmlns:cc=\"http://creativecommons.org/ns#\" xmlns:dc=\"http://purl.org/dc/elements/1.1/\" xmlns:rdf=\"http://www.w3.org/1999/02/22-rdf-syntax-ns#\">\n   <cc:Work>\n    <dc:type rdf:resource=\"http://purl.org/dc/dcmitype/StillImage\"/>\n    <dc:date>2020-10-17T22:34:56.309550</dc:date>\n    <dc:format>image/svg+xml</dc:format>\n    <dc:creator>\n     <cc:Agent>\n      <dc:title>Matplotlib v3.3.1, https://matplotlib.org/</dc:title>\n     </cc:Agent>\n    </dc:creator>\n   </cc:Work>\n  </rdf:RDF>\n </metadata>\n <defs>\n  <style type=\"text/css\">*{stroke-linecap:butt;stroke-linejoin:round;}</style>\n </defs>\n <g id=\"figure_1\">\n  <g id=\"patch_1\">\n   <path d=\"M 0 276.980625 \nL 437.798295 276.980625 \nL 437.798295 0 \nL 0 0 \nz\n\" style=\"fill:#ffffff;\"/>\n  </g>\n  <g id=\"axes_1\">\n   <g id=\"patch_2\">\n    <path d=\"M 50.14375 239.424375 \nL 430.598295 239.424375 \nL 430.598295 21.984375 \nL 50.14375 21.984375 \nz\n\" style=\"fill:#ffffff;\"/>\n   </g>\n   <g id=\"matplotlib.axis_1\">\n    <g id=\"xtick_1\">\n     <g id=\"text_1\">\n      <!-- 1.50 -->\n      <g style=\"fill:#262626;\" transform=\"translate(55.31815 254.022812)scale(0.1 -0.1)\">\n       <defs>\n        <path d=\"M 12.40625 8.296875 \nL 28.515625 8.296875 \nL 28.515625 63.921875 \nL 10.984375 60.40625 \nL 10.984375 69.390625 \nL 28.421875 72.90625 \nL 38.28125 72.90625 \nL 38.28125 8.296875 \nL 54.390625 8.296875 \nL 54.390625 0 \nL 12.40625 0 \nz\n\" id=\"DejaVuSans-49\"/>\n        <path d=\"M 10.6875 12.40625 \nL 21 12.40625 \nL 21 0 \nL 10.6875 0 \nz\n\" id=\"DejaVuSans-46\"/>\n        <path d=\"M 10.796875 72.90625 \nL 49.515625 72.90625 \nL 49.515625 64.59375 \nL 19.828125 64.59375 \nL 19.828125 46.734375 \nQ 21.96875 47.46875 24.109375 47.828125 \nQ 26.265625 48.1875 28.421875 48.1875 \nQ 40.625 48.1875 47.75 41.5 \nQ 54.890625 34.8125 54.890625 23.390625 \nQ 54.890625 11.625 47.5625 5.09375 \nQ 40.234375 -1.421875 26.90625 -1.421875 \nQ 22.3125 -1.421875 17.546875 -0.640625 \nQ 12.796875 0.140625 7.71875 1.703125 \nL 7.71875 11.625 \nQ 12.109375 9.234375 16.796875 8.0625 \nQ 21.484375 6.890625 26.703125 6.890625 \nQ 35.15625 6.890625 40.078125 11.328125 \nQ 45.015625 15.765625 45.015625 23.390625 \nQ 45.015625 31 40.078125 35.4375 \nQ 35.15625 39.890625 26.703125 39.890625 \nQ 22.75 39.890625 18.8125 39.015625 \nQ 14.890625 38.140625 10.796875 36.28125 \nz\n\" id=\"DejaVuSans-53\"/>\n        <path d=\"M 31.78125 66.40625 \nQ 24.171875 66.40625 20.328125 58.90625 \nQ 16.5 51.421875 16.5 36.375 \nQ 16.5 21.390625 20.328125 13.890625 \nQ 24.171875 6.390625 31.78125 6.390625 \nQ 39.453125 6.390625 43.28125 13.890625 \nQ 47.125 21.390625 47.125 36.375 \nQ 47.125 51.421875 43.28125 58.90625 \nQ 39.453125 66.40625 31.78125 66.40625 \nz\nM 31.78125 74.21875 \nQ 44.046875 74.21875 50.515625 64.515625 \nQ 56.984375 54.828125 56.984375 36.375 \nQ 56.984375 17.96875 50.515625 8.265625 \nQ 44.046875 -1.421875 31.78125 -1.421875 \nQ 19.53125 -1.421875 13.0625 8.265625 \nQ 6.59375 17.96875 6.59375 36.375 \nQ 6.59375 54.828125 13.0625 64.515625 \nQ 19.53125 74.21875 31.78125 74.21875 \nz\n\" id=\"DejaVuSans-48\"/>\n       </defs>\n       <use xlink:href=\"#DejaVuSans-49\"/>\n       <use x=\"63.623047\" xlink:href=\"#DejaVuSans-46\"/>\n       <use x=\"95.410156\" xlink:href=\"#DejaVuSans-53\"/>\n       <use x=\"159.033203\" xlink:href=\"#DejaVuSans-48\"/>\n      </g>\n     </g>\n    </g>\n    <g id=\"xtick_2\">\n     <g id=\"text_2\">\n      <!-- 1.75 -->\n      <g style=\"fill:#262626;\" transform=\"translate(103.190977 254.022812)scale(0.1 -0.1)\">\n       <defs>\n        <path d=\"M 8.203125 72.90625 \nL 55.078125 72.90625 \nL 55.078125 68.703125 \nL 28.609375 0 \nL 18.3125 0 \nL 43.21875 64.59375 \nL 8.203125 64.59375 \nz\n\" id=\"DejaVuSans-55\"/>\n       </defs>\n       <use xlink:href=\"#DejaVuSans-49\"/>\n       <use x=\"63.623047\" xlink:href=\"#DejaVuSans-46\"/>\n       <use x=\"95.410156\" xlink:href=\"#DejaVuSans-55\"/>\n       <use x=\"159.033203\" xlink:href=\"#DejaVuSans-53\"/>\n      </g>\n     </g>\n    </g>\n    <g id=\"xtick_3\">\n     <g id=\"text_3\">\n      <!-- 2.00 -->\n      <g style=\"fill:#262626;\" transform=\"translate(151.063805 254.022812)scale(0.1 -0.1)\">\n       <defs>\n        <path d=\"M 19.1875 8.296875 \nL 53.609375 8.296875 \nL 53.609375 0 \nL 7.328125 0 \nL 7.328125 8.296875 \nQ 12.9375 14.109375 22.625 23.890625 \nQ 32.328125 33.6875 34.8125 36.53125 \nQ 39.546875 41.84375 41.421875 45.53125 \nQ 43.3125 49.21875 43.3125 52.78125 \nQ 43.3125 58.59375 39.234375 62.25 \nQ 35.15625 65.921875 28.609375 65.921875 \nQ 23.96875 65.921875 18.8125 64.3125 \nQ 13.671875 62.703125 7.8125 59.421875 \nL 7.8125 69.390625 \nQ 13.765625 71.78125 18.9375 73 \nQ 24.125 74.21875 28.421875 74.21875 \nQ 39.75 74.21875 46.484375 68.546875 \nQ 53.21875 62.890625 53.21875 53.421875 \nQ 53.21875 48.921875 51.53125 44.890625 \nQ 49.859375 40.875 45.40625 35.40625 \nQ 44.1875 33.984375 37.640625 27.21875 \nQ 31.109375 20.453125 19.1875 8.296875 \nz\n\" id=\"DejaVuSans-50\"/>\n       </defs>\n       <use xlink:href=\"#DejaVuSans-50\"/>\n       <use x=\"63.623047\" xlink:href=\"#DejaVuSans-46\"/>\n       <use x=\"95.410156\" xlink:href=\"#DejaVuSans-48\"/>\n       <use x=\"159.033203\" xlink:href=\"#DejaVuSans-48\"/>\n      </g>\n     </g>\n    </g>\n    <g id=\"xtick_4\">\n     <g id=\"text_4\">\n      <!-- 2.25 -->\n      <g style=\"fill:#262626;\" transform=\"translate(198.936632 254.022812)scale(0.1 -0.1)\">\n       <use xlink:href=\"#DejaVuSans-50\"/>\n       <use x=\"63.623047\" xlink:href=\"#DejaVuSans-46\"/>\n       <use x=\"95.410156\" xlink:href=\"#DejaVuSans-50\"/>\n       <use x=\"159.033203\" xlink:href=\"#DejaVuSans-53\"/>\n      </g>\n     </g>\n    </g>\n    <g id=\"xtick_5\">\n     <g id=\"text_5\">\n      <!-- 2.50 -->\n      <g style=\"fill:#262626;\" transform=\"translate(246.809459 254.022812)scale(0.1 -0.1)\">\n       <use xlink:href=\"#DejaVuSans-50\"/>\n       <use x=\"63.623047\" xlink:href=\"#DejaVuSans-46\"/>\n       <use x=\"95.410156\" xlink:href=\"#DejaVuSans-53\"/>\n       <use x=\"159.033203\" xlink:href=\"#DejaVuSans-48\"/>\n      </g>\n     </g>\n    </g>\n    <g id=\"xtick_6\">\n     <g id=\"text_6\">\n      <!-- 2.75 -->\n      <g style=\"fill:#262626;\" transform=\"translate(294.682287 254.022812)scale(0.1 -0.1)\">\n       <use xlink:href=\"#DejaVuSans-50\"/>\n       <use x=\"63.623047\" xlink:href=\"#DejaVuSans-46\"/>\n       <use x=\"95.410156\" xlink:href=\"#DejaVuSans-55\"/>\n       <use x=\"159.033203\" xlink:href=\"#DejaVuSans-53\"/>\n      </g>\n     </g>\n    </g>\n    <g id=\"xtick_7\">\n     <g id=\"text_7\">\n      <!-- 3.00 -->\n      <g style=\"fill:#262626;\" transform=\"translate(342.555114 254.022812)scale(0.1 -0.1)\">\n       <defs>\n        <path d=\"M 40.578125 39.3125 \nQ 47.65625 37.796875 51.625 33 \nQ 55.609375 28.21875 55.609375 21.1875 \nQ 55.609375 10.40625 48.1875 4.484375 \nQ 40.765625 -1.421875 27.09375 -1.421875 \nQ 22.515625 -1.421875 17.65625 -0.515625 \nQ 12.796875 0.390625 7.625 2.203125 \nL 7.625 11.71875 \nQ 11.71875 9.328125 16.59375 8.109375 \nQ 21.484375 6.890625 26.8125 6.890625 \nQ 36.078125 6.890625 40.9375 10.546875 \nQ 45.796875 14.203125 45.796875 21.1875 \nQ 45.796875 27.640625 41.28125 31.265625 \nQ 36.765625 34.90625 28.71875 34.90625 \nL 20.21875 34.90625 \nL 20.21875 43.015625 \nL 29.109375 43.015625 \nQ 36.375 43.015625 40.234375 45.921875 \nQ 44.09375 48.828125 44.09375 54.296875 \nQ 44.09375 59.90625 40.109375 62.90625 \nQ 36.140625 65.921875 28.71875 65.921875 \nQ 24.65625 65.921875 20.015625 65.03125 \nQ 15.375 64.15625 9.8125 62.3125 \nL 9.8125 71.09375 \nQ 15.4375 72.65625 20.34375 73.4375 \nQ 25.25 74.21875 29.59375 74.21875 \nQ 40.828125 74.21875 47.359375 69.109375 \nQ 53.90625 64.015625 53.90625 55.328125 \nQ 53.90625 49.265625 50.4375 45.09375 \nQ 46.96875 40.921875 40.578125 39.3125 \nz\n\" id=\"DejaVuSans-51\"/>\n       </defs>\n       <use xlink:href=\"#DejaVuSans-51\"/>\n       <use x=\"63.623047\" xlink:href=\"#DejaVuSans-46\"/>\n       <use x=\"95.410156\" xlink:href=\"#DejaVuSans-48\"/>\n       <use x=\"159.033203\" xlink:href=\"#DejaVuSans-48\"/>\n      </g>\n     </g>\n    </g>\n    <g id=\"xtick_8\">\n     <g id=\"text_8\">\n      <!-- 3.25 -->\n      <g style=\"fill:#262626;\" transform=\"translate(390.427942 254.022812)scale(0.1 -0.1)\">\n       <use xlink:href=\"#DejaVuSans-51\"/>\n       <use x=\"63.623047\" xlink:href=\"#DejaVuSans-46\"/>\n       <use x=\"95.410156\" xlink:href=\"#DejaVuSans-50\"/>\n       <use x=\"159.033203\" xlink:href=\"#DejaVuSans-53\"/>\n      </g>\n     </g>\n    </g>\n    <g id=\"text_9\">\n     <!-- log(N) -->\n     <g style=\"fill:#262626;\" transform=\"translate(225.106179 267.700937)scale(0.1 -0.1)\">\n      <defs>\n       <path d=\"M 9.421875 75.984375 \nL 18.40625 75.984375 \nL 18.40625 0 \nL 9.421875 0 \nz\n\" id=\"DejaVuSans-108\"/>\n       <path d=\"M 30.609375 48.390625 \nQ 23.390625 48.390625 19.1875 42.75 \nQ 14.984375 37.109375 14.984375 27.296875 \nQ 14.984375 17.484375 19.15625 11.84375 \nQ 23.34375 6.203125 30.609375 6.203125 \nQ 37.796875 6.203125 41.984375 11.859375 \nQ 46.1875 17.53125 46.1875 27.296875 \nQ 46.1875 37.015625 41.984375 42.703125 \nQ 37.796875 48.390625 30.609375 48.390625 \nz\nM 30.609375 56 \nQ 42.328125 56 49.015625 48.375 \nQ 55.71875 40.765625 55.71875 27.296875 \nQ 55.71875 13.875 49.015625 6.21875 \nQ 42.328125 -1.421875 30.609375 -1.421875 \nQ 18.84375 -1.421875 12.171875 6.21875 \nQ 5.515625 13.875 5.515625 27.296875 \nQ 5.515625 40.765625 12.171875 48.375 \nQ 18.84375 56 30.609375 56 \nz\n\" id=\"DejaVuSans-111\"/>\n       <path d=\"M 45.40625 27.984375 \nQ 45.40625 37.75 41.375 43.109375 \nQ 37.359375 48.484375 30.078125 48.484375 \nQ 22.859375 48.484375 18.828125 43.109375 \nQ 14.796875 37.75 14.796875 27.984375 \nQ 14.796875 18.265625 18.828125 12.890625 \nQ 22.859375 7.515625 30.078125 7.515625 \nQ 37.359375 7.515625 41.375 12.890625 \nQ 45.40625 18.265625 45.40625 27.984375 \nz\nM 54.390625 6.78125 \nQ 54.390625 -7.171875 48.1875 -13.984375 \nQ 42 -20.796875 29.203125 -20.796875 \nQ 24.46875 -20.796875 20.265625 -20.09375 \nQ 16.0625 -19.390625 12.109375 -17.921875 \nL 12.109375 -9.1875 \nQ 16.0625 -11.328125 19.921875 -12.34375 \nQ 23.78125 -13.375 27.78125 -13.375 \nQ 36.625 -13.375 41.015625 -8.765625 \nQ 45.40625 -4.15625 45.40625 5.171875 \nL 45.40625 9.625 \nQ 42.625 4.78125 38.28125 2.390625 \nQ 33.9375 0 27.875 0 \nQ 17.828125 0 11.671875 7.65625 \nQ 5.515625 15.328125 5.515625 27.984375 \nQ 5.515625 40.671875 11.671875 48.328125 \nQ 17.828125 56 27.875 56 \nQ 33.9375 56 38.28125 53.609375 \nQ 42.625 51.21875 45.40625 46.390625 \nL 45.40625 54.6875 \nL 54.390625 54.6875 \nz\n\" id=\"DejaVuSans-103\"/>\n       <path d=\"M 31 75.875 \nQ 24.46875 64.65625 21.28125 53.65625 \nQ 18.109375 42.671875 18.109375 31.390625 \nQ 18.109375 20.125 21.3125 9.0625 \nQ 24.515625 -2 31 -13.1875 \nL 23.1875 -13.1875 \nQ 15.875 -1.703125 12.234375 9.375 \nQ 8.59375 20.453125 8.59375 31.390625 \nQ 8.59375 42.28125 12.203125 53.3125 \nQ 15.828125 64.359375 23.1875 75.875 \nz\n\" id=\"DejaVuSans-40\"/>\n       <path d=\"M 9.8125 72.90625 \nL 23.09375 72.90625 \nL 55.421875 11.921875 \nL 55.421875 72.90625 \nL 64.984375 72.90625 \nL 64.984375 0 \nL 51.703125 0 \nL 19.390625 60.984375 \nL 19.390625 0 \nL 9.8125 0 \nz\n\" id=\"DejaVuSans-78\"/>\n       <path d=\"M 8.015625 75.875 \nL 15.828125 75.875 \nQ 23.140625 64.359375 26.78125 53.3125 \nQ 30.421875 42.28125 30.421875 31.390625 \nQ 30.421875 20.453125 26.78125 9.375 \nQ 23.140625 -1.703125 15.828125 -13.1875 \nL 8.015625 -13.1875 \nQ 14.5 -2 17.703125 9.0625 \nQ 20.90625 20.125 20.90625 31.390625 \nQ 20.90625 42.671875 17.703125 53.65625 \nQ 14.5 64.65625 8.015625 75.875 \nz\n\" id=\"DejaVuSans-41\"/>\n      </defs>\n      <use xlink:href=\"#DejaVuSans-108\"/>\n      <use x=\"27.783203\" xlink:href=\"#DejaVuSans-111\"/>\n      <use x=\"88.964844\" xlink:href=\"#DejaVuSans-103\"/>\n      <use x=\"152.441406\" xlink:href=\"#DejaVuSans-40\"/>\n      <use x=\"191.455078\" xlink:href=\"#DejaVuSans-78\"/>\n      <use x=\"266.259766\" xlink:href=\"#DejaVuSans-41\"/>\n     </g>\n    </g>\n   </g>\n   <g id=\"matplotlib.axis_2\">\n    <g id=\"ytick_1\">\n     <g id=\"text_10\">\n      <!-- 0.00 -->\n      <g style=\"fill:#262626;\" transform=\"translate(20.878125 236.48568)scale(0.1 -0.1)\">\n       <use xlink:href=\"#DejaVuSans-48\"/>\n       <use x=\"63.623047\" xlink:href=\"#DejaVuSans-46\"/>\n       <use x=\"95.410156\" xlink:href=\"#DejaVuSans-48\"/>\n       <use x=\"159.033203\" xlink:href=\"#DejaVuSans-48\"/>\n      </g>\n     </g>\n    </g>\n    <g id=\"ytick_2\">\n     <g id=\"text_11\">\n      <!-- 0.01 -->\n      <g style=\"fill:#262626;\" transform=\"translate(20.878125 192.787093)scale(0.1 -0.1)\">\n       <use xlink:href=\"#DejaVuSans-48\"/>\n       <use x=\"63.623047\" xlink:href=\"#DejaVuSans-46\"/>\n       <use x=\"95.410156\" xlink:href=\"#DejaVuSans-48\"/>\n       <use x=\"159.033203\" xlink:href=\"#DejaVuSans-49\"/>\n      </g>\n     </g>\n    </g>\n    <g id=\"ytick_3\">\n     <g id=\"text_12\">\n      <!-- 0.02 -->\n      <g style=\"fill:#262626;\" transform=\"translate(20.878125 149.088505)scale(0.1 -0.1)\">\n       <use xlink:href=\"#DejaVuSans-48\"/>\n       <use x=\"63.623047\" xlink:href=\"#DejaVuSans-46\"/>\n       <use x=\"95.410156\" xlink:href=\"#DejaVuSans-48\"/>\n       <use x=\"159.033203\" xlink:href=\"#DejaVuSans-50\"/>\n      </g>\n     </g>\n    </g>\n    <g id=\"ytick_4\">\n     <g id=\"text_13\">\n      <!-- 0.03 -->\n      <g style=\"fill:#262626;\" transform=\"translate(20.878125 105.389917)scale(0.1 -0.1)\">\n       <use xlink:href=\"#DejaVuSans-48\"/>\n       <use x=\"63.623047\" xlink:href=\"#DejaVuSans-46\"/>\n       <use x=\"95.410156\" xlink:href=\"#DejaVuSans-48\"/>\n       <use x=\"159.033203\" xlink:href=\"#DejaVuSans-51\"/>\n      </g>\n     </g>\n    </g>\n    <g id=\"ytick_5\">\n     <g id=\"text_14\">\n      <!-- 0.04 -->\n      <g style=\"fill:#262626;\" transform=\"translate(20.878125 61.69133)scale(0.1 -0.1)\">\n       <defs>\n        <path d=\"M 37.796875 64.3125 \nL 12.890625 25.390625 \nL 37.796875 25.390625 \nz\nM 35.203125 72.90625 \nL 47.609375 72.90625 \nL 47.609375 25.390625 \nL 58.015625 25.390625 \nL 58.015625 17.1875 \nL 47.609375 17.1875 \nL 47.609375 0 \nL 37.796875 0 \nL 37.796875 17.1875 \nL 4.890625 17.1875 \nL 4.890625 26.703125 \nz\n\" id=\"DejaVuSans-52\"/>\n       </defs>\n       <use xlink:href=\"#DejaVuSans-48\"/>\n       <use x=\"63.623047\" xlink:href=\"#DejaVuSans-46\"/>\n       <use x=\"95.410156\" xlink:href=\"#DejaVuSans-48\"/>\n       <use x=\"159.033203\" xlink:href=\"#DejaVuSans-52\"/>\n      </g>\n     </g>\n    </g>\n    <g id=\"text_15\">\n     <!-- sqrt_mse -->\n     <g style=\"fill:#262626;\" transform=\"translate(14.520313 153.550469)rotate(-90)scale(0.1 -0.1)\">\n      <defs>\n       <path d=\"M 44.28125 53.078125 \nL 44.28125 44.578125 \nQ 40.484375 46.53125 36.375 47.5 \nQ 32.28125 48.484375 27.875 48.484375 \nQ 21.1875 48.484375 17.84375 46.4375 \nQ 14.5 44.390625 14.5 40.28125 \nQ 14.5 37.15625 16.890625 35.375 \nQ 19.28125 33.59375 26.515625 31.984375 \nL 29.59375 31.296875 \nQ 39.15625 29.25 43.1875 25.515625 \nQ 47.21875 21.78125 47.21875 15.09375 \nQ 47.21875 7.46875 41.1875 3.015625 \nQ 35.15625 -1.421875 24.609375 -1.421875 \nQ 20.21875 -1.421875 15.453125 -0.5625 \nQ 10.6875 0.296875 5.421875 2 \nL 5.421875 11.28125 \nQ 10.40625 8.6875 15.234375 7.390625 \nQ 20.0625 6.109375 24.8125 6.109375 \nQ 31.15625 6.109375 34.5625 8.28125 \nQ 37.984375 10.453125 37.984375 14.40625 \nQ 37.984375 18.0625 35.515625 20.015625 \nQ 33.0625 21.96875 24.703125 23.78125 \nL 21.578125 24.515625 \nQ 13.234375 26.265625 9.515625 29.90625 \nQ 5.8125 33.546875 5.8125 39.890625 \nQ 5.8125 47.609375 11.28125 51.796875 \nQ 16.75 56 26.8125 56 \nQ 31.78125 56 36.171875 55.265625 \nQ 40.578125 54.546875 44.28125 53.078125 \nz\n\" id=\"DejaVuSans-115\"/>\n       <path d=\"M 14.796875 27.296875 \nQ 14.796875 17.390625 18.875 11.75 \nQ 22.953125 6.109375 30.078125 6.109375 \nQ 37.203125 6.109375 41.296875 11.75 \nQ 45.40625 17.390625 45.40625 27.296875 \nQ 45.40625 37.203125 41.296875 42.84375 \nQ 37.203125 48.484375 30.078125 48.484375 \nQ 22.953125 48.484375 18.875 42.84375 \nQ 14.796875 37.203125 14.796875 27.296875 \nz\nM 45.40625 8.203125 \nQ 42.578125 3.328125 38.25 0.953125 \nQ 33.9375 -1.421875 27.875 -1.421875 \nQ 17.96875 -1.421875 11.734375 6.484375 \nQ 5.515625 14.40625 5.515625 27.296875 \nQ 5.515625 40.1875 11.734375 48.09375 \nQ 17.96875 56 27.875 56 \nQ 33.9375 56 38.25 53.625 \nQ 42.578125 51.265625 45.40625 46.390625 \nL 45.40625 54.6875 \nL 54.390625 54.6875 \nL 54.390625 -20.796875 \nL 45.40625 -20.796875 \nz\n\" id=\"DejaVuSans-113\"/>\n       <path d=\"M 41.109375 46.296875 \nQ 39.59375 47.171875 37.8125 47.578125 \nQ 36.03125 48 33.890625 48 \nQ 26.265625 48 22.1875 43.046875 \nQ 18.109375 38.09375 18.109375 28.8125 \nL 18.109375 0 \nL 9.078125 0 \nL 9.078125 54.6875 \nL 18.109375 54.6875 \nL 18.109375 46.1875 \nQ 20.953125 51.171875 25.484375 53.578125 \nQ 30.03125 56 36.53125 56 \nQ 37.453125 56 38.578125 55.875 \nQ 39.703125 55.765625 41.0625 55.515625 \nz\n\" id=\"DejaVuSans-114\"/>\n       <path d=\"M 18.3125 70.21875 \nL 18.3125 54.6875 \nL 36.8125 54.6875 \nL 36.8125 47.703125 \nL 18.3125 47.703125 \nL 18.3125 18.015625 \nQ 18.3125 11.328125 20.140625 9.421875 \nQ 21.96875 7.515625 27.59375 7.515625 \nL 36.8125 7.515625 \nL 36.8125 0 \nL 27.59375 0 \nQ 17.1875 0 13.234375 3.875 \nQ 9.28125 7.765625 9.28125 18.015625 \nL 9.28125 47.703125 \nL 2.6875 47.703125 \nL 2.6875 54.6875 \nL 9.28125 54.6875 \nL 9.28125 70.21875 \nz\n\" id=\"DejaVuSans-116\"/>\n       <path d=\"M 50.984375 -16.609375 \nL 50.984375 -23.578125 \nL -0.984375 -23.578125 \nL -0.984375 -16.609375 \nz\n\" id=\"DejaVuSans-95\"/>\n       <path d=\"M 52 44.1875 \nQ 55.375 50.25 60.0625 53.125 \nQ 64.75 56 71.09375 56 \nQ 79.640625 56 84.28125 50.015625 \nQ 88.921875 44.046875 88.921875 33.015625 \nL 88.921875 0 \nL 79.890625 0 \nL 79.890625 32.71875 \nQ 79.890625 40.578125 77.09375 44.375 \nQ 74.3125 48.1875 68.609375 48.1875 \nQ 61.625 48.1875 57.5625 43.546875 \nQ 53.515625 38.921875 53.515625 30.90625 \nL 53.515625 0 \nL 44.484375 0 \nL 44.484375 32.71875 \nQ 44.484375 40.625 41.703125 44.40625 \nQ 38.921875 48.1875 33.109375 48.1875 \nQ 26.21875 48.1875 22.15625 43.53125 \nQ 18.109375 38.875 18.109375 30.90625 \nL 18.109375 0 \nL 9.078125 0 \nL 9.078125 54.6875 \nL 18.109375 54.6875 \nL 18.109375 46.1875 \nQ 21.1875 51.21875 25.484375 53.609375 \nQ 29.78125 56 35.6875 56 \nQ 41.65625 56 45.828125 52.96875 \nQ 50 49.953125 52 44.1875 \nz\n\" id=\"DejaVuSans-109\"/>\n       <path d=\"M 56.203125 29.59375 \nL 56.203125 25.203125 \nL 14.890625 25.203125 \nQ 15.484375 15.921875 20.484375 11.0625 \nQ 25.484375 6.203125 34.421875 6.203125 \nQ 39.59375 6.203125 44.453125 7.46875 \nQ 49.3125 8.734375 54.109375 11.28125 \nL 54.109375 2.78125 \nQ 49.265625 0.734375 44.1875 -0.34375 \nQ 39.109375 -1.421875 33.890625 -1.421875 \nQ 20.796875 -1.421875 13.15625 6.1875 \nQ 5.515625 13.8125 5.515625 26.8125 \nQ 5.515625 40.234375 12.765625 48.109375 \nQ 20.015625 56 32.328125 56 \nQ 43.359375 56 49.78125 48.890625 \nQ 56.203125 41.796875 56.203125 29.59375 \nz\nM 47.21875 32.234375 \nQ 47.125 39.59375 43.09375 43.984375 \nQ 39.0625 48.390625 32.421875 48.390625 \nQ 24.90625 48.390625 20.390625 44.140625 \nQ 15.875 39.890625 15.1875 32.171875 \nz\n\" id=\"DejaVuSans-101\"/>\n      </defs>\n      <use xlink:href=\"#DejaVuSans-115\"/>\n      <use x=\"52.099609\" xlink:href=\"#DejaVuSans-113\"/>\n      <use x=\"115.576172\" xlink:href=\"#DejaVuSans-114\"/>\n      <use x=\"156.689453\" xlink:href=\"#DejaVuSans-116\"/>\n      <use x=\"195.898438\" xlink:href=\"#DejaVuSans-95\"/>\n      <use x=\"245.898438\" xlink:href=\"#DejaVuSans-109\"/>\n      <use x=\"343.310547\" xlink:href=\"#DejaVuSans-115\"/>\n      <use x=\"395.410156\" xlink:href=\"#DejaVuSans-101\"/>\n     </g>\n    </g>\n   </g>\n   <g id=\"line2d_1\">\n    <path clip-path=\"url(#p19e0b05af8)\" d=\"M 67.437138 46.480875 \nL 125.081767 176.734317 \nL 182.726395 162.282869 \nL 240.371023 193.782265 \nL 298.015651 196.454437 \nL 355.660279 194.382987 \nL 413.304907 199.120637 \n\" style=\"fill:none;stroke:#8000ff;stroke-linecap:round;stroke-width:2;\"/>\n    <defs>\n     <path d=\"M 0 3 \nC 0.795609 3 1.55874 2.683901 2.12132 2.12132 \nC 2.683901 1.55874 3 0.795609 3 0 \nC 3 -0.795609 2.683901 -1.55874 2.12132 -2.12132 \nC 1.55874 -2.683901 0.795609 -3 0 -3 \nC -0.795609 -3 -1.55874 -2.683901 -2.12132 -2.12132 \nC -2.683901 -1.55874 -3 -0.795609 -3 0 \nC -3 0.795609 -2.683901 1.55874 -2.12132 2.12132 \nC -1.55874 2.683901 -0.795609 3 0 3 \nz\n\" id=\"m1c39de8783\" style=\"stroke:#8000ff;\"/>\n    </defs>\n    <g clip-path=\"url(#p19e0b05af8)\">\n     <use style=\"fill:#8000ff;stroke:#8000ff;\" x=\"67.437138\" xlink:href=\"#m1c39de8783\" y=\"46.480875\"/>\n     <use style=\"fill:#8000ff;stroke:#8000ff;\" x=\"125.081767\" xlink:href=\"#m1c39de8783\" y=\"176.734317\"/>\n     <use style=\"fill:#8000ff;stroke:#8000ff;\" x=\"182.726395\" xlink:href=\"#m1c39de8783\" y=\"162.282869\"/>\n     <use style=\"fill:#8000ff;stroke:#8000ff;\" x=\"240.371023\" xlink:href=\"#m1c39de8783\" y=\"193.782265\"/>\n     <use style=\"fill:#8000ff;stroke:#8000ff;\" x=\"298.015651\" xlink:href=\"#m1c39de8783\" y=\"196.454437\"/>\n     <use style=\"fill:#8000ff;stroke:#8000ff;\" x=\"355.660279\" xlink:href=\"#m1c39de8783\" y=\"194.382987\"/>\n     <use style=\"fill:#8000ff;stroke:#8000ff;\" x=\"413.304907\" xlink:href=\"#m1c39de8783\" y=\"199.120637\"/>\n    </g>\n   </g>\n   <g id=\"line2d_2\">\n    <path clip-path=\"url(#p19e0b05af8)\" d=\"M 67.437138 42.314715 \nL 125.081767 167.006823 \nL 182.726395 164.369532 \nL 240.371023 188.45786 \nL 298.015651 193.905647 \nL 355.660279 186.520298 \nL 413.304907 194.26577 \n\" style=\"fill:none;stroke:#2c7ef7;stroke-linecap:round;stroke-width:2;\"/>\n    <defs>\n     <path d=\"M 0 3 \nC 0.795609 3 1.55874 2.683901 2.12132 2.12132 \nC 2.683901 1.55874 3 0.795609 3 0 \nC 3 -0.795609 2.683901 -1.55874 2.12132 -2.12132 \nC 1.55874 -2.683901 0.795609 -3 0 -3 \nC -0.795609 -3 -1.55874 -2.683901 -2.12132 -2.12132 \nC -2.683901 -1.55874 -3 -0.795609 -3 0 \nC -3 0.795609 -2.683901 1.55874 -2.12132 2.12132 \nC -1.55874 2.683901 -0.795609 3 0 3 \nz\n\" id=\"m99f2e51f2d\" style=\"stroke:#2c7ef7;\"/>\n    </defs>\n    <g clip-path=\"url(#p19e0b05af8)\">\n     <use style=\"fill:#2c7ef7;stroke:#2c7ef7;\" x=\"67.437138\" xlink:href=\"#m99f2e51f2d\" y=\"42.314715\"/>\n     <use style=\"fill:#2c7ef7;stroke:#2c7ef7;\" x=\"125.081767\" xlink:href=\"#m99f2e51f2d\" y=\"167.006823\"/>\n     <use style=\"fill:#2c7ef7;stroke:#2c7ef7;\" x=\"182.726395\" xlink:href=\"#m99f2e51f2d\" y=\"164.369532\"/>\n     <use style=\"fill:#2c7ef7;stroke:#2c7ef7;\" x=\"240.371023\" xlink:href=\"#m99f2e51f2d\" y=\"188.45786\"/>\n     <use style=\"fill:#2c7ef7;stroke:#2c7ef7;\" x=\"298.015651\" xlink:href=\"#m99f2e51f2d\" y=\"193.905647\"/>\n     <use style=\"fill:#2c7ef7;stroke:#2c7ef7;\" x=\"355.660279\" xlink:href=\"#m99f2e51f2d\" y=\"186.520298\"/>\n     <use style=\"fill:#2c7ef7;stroke:#2c7ef7;\" x=\"413.304907\" xlink:href=\"#m99f2e51f2d\" y=\"194.26577\"/>\n    </g>\n   </g>\n   <g id=\"line2d_3\">\n    <path clip-path=\"url(#p19e0b05af8)\" d=\"M 67.437138 31.868011 \nL 125.081767 166.462714 \nL 182.726395 157.359668 \nL 240.371023 185.109645 \nL 298.015651 173.521909 \nL 355.660279 181.261456 \nL 413.304907 178.302067 \n\" style=\"fill:none;stroke:#2adddd;stroke-linecap:round;stroke-width:2;\"/>\n    <defs>\n     <path d=\"M 0 3 \nC 0.795609 3 1.55874 2.683901 2.12132 2.12132 \nC 2.683901 1.55874 3 0.795609 3 0 \nC 3 -0.795609 2.683901 -1.55874 2.12132 -2.12132 \nC 1.55874 -2.683901 0.795609 -3 0 -3 \nC -0.795609 -3 -1.55874 -2.683901 -2.12132 -2.12132 \nC -2.683901 -1.55874 -3 -0.795609 -3 0 \nC -3 0.795609 -2.683901 1.55874 -2.12132 2.12132 \nC -1.55874 2.683901 -0.795609 3 0 3 \nz\n\" id=\"m9050cbe21a\" style=\"stroke:#2adddd;\"/>\n    </defs>\n    <g clip-path=\"url(#p19e0b05af8)\">\n     <use style=\"fill:#2adddd;stroke:#2adddd;\" x=\"67.437138\" xlink:href=\"#m9050cbe21a\" y=\"31.868011\"/>\n     <use style=\"fill:#2adddd;stroke:#2adddd;\" x=\"125.081767\" xlink:href=\"#m9050cbe21a\" y=\"166.462714\"/>\n     <use style=\"fill:#2adddd;stroke:#2adddd;\" x=\"182.726395\" xlink:href=\"#m9050cbe21a\" y=\"157.359668\"/>\n     <use style=\"fill:#2adddd;stroke:#2adddd;\" x=\"240.371023\" xlink:href=\"#m9050cbe21a\" y=\"185.109645\"/>\n     <use style=\"fill:#2adddd;stroke:#2adddd;\" x=\"298.015651\" xlink:href=\"#m9050cbe21a\" y=\"173.521909\"/>\n     <use style=\"fill:#2adddd;stroke:#2adddd;\" x=\"355.660279\" xlink:href=\"#m9050cbe21a\" y=\"181.261456\"/>\n     <use style=\"fill:#2adddd;stroke:#2adddd;\" x=\"413.304907\" xlink:href=\"#m9050cbe21a\" y=\"178.302067\"/>\n    </g>\n   </g>\n   <g id=\"line2d_4\">\n    <path clip-path=\"url(#p19e0b05af8)\" d=\"M 67.437138 42.314715 \nL 125.081767 167.006823 \nL 182.726395 164.369532 \nL 240.371023 188.45786 \nL 298.015651 193.905647 \nL 355.660279 186.520298 \nL 413.304907 194.26577 \n\" style=\"fill:none;stroke:#80ffb4;stroke-linecap:round;stroke-width:2;\"/>\n    <defs>\n     <path d=\"M 0 3 \nC 0.795609 3 1.55874 2.683901 2.12132 2.12132 \nC 2.683901 1.55874 3 0.795609 3 0 \nC 3 -0.795609 2.683901 -1.55874 2.12132 -2.12132 \nC 1.55874 -2.683901 0.795609 -3 0 -3 \nC -0.795609 -3 -1.55874 -2.683901 -2.12132 -2.12132 \nC -2.683901 -1.55874 -3 -0.795609 -3 0 \nC -3 0.795609 -2.683901 1.55874 -2.12132 2.12132 \nC -1.55874 2.683901 -0.795609 3 0 3 \nz\n\" id=\"m071f4239c5\" style=\"stroke:#80ffb4;\"/>\n    </defs>\n    <g clip-path=\"url(#p19e0b05af8)\">\n     <use style=\"fill:#80ffb4;stroke:#80ffb4;\" x=\"67.437138\" xlink:href=\"#m071f4239c5\" y=\"42.314715\"/>\n     <use style=\"fill:#80ffb4;stroke:#80ffb4;\" x=\"125.081767\" xlink:href=\"#m071f4239c5\" y=\"167.006823\"/>\n     <use style=\"fill:#80ffb4;stroke:#80ffb4;\" x=\"182.726395\" xlink:href=\"#m071f4239c5\" y=\"164.369532\"/>\n     <use style=\"fill:#80ffb4;stroke:#80ffb4;\" x=\"240.371023\" xlink:href=\"#m071f4239c5\" y=\"188.45786\"/>\n     <use style=\"fill:#80ffb4;stroke:#80ffb4;\" x=\"298.015651\" xlink:href=\"#m071f4239c5\" y=\"193.905647\"/>\n     <use style=\"fill:#80ffb4;stroke:#80ffb4;\" x=\"355.660279\" xlink:href=\"#m071f4239c5\" y=\"186.520298\"/>\n     <use style=\"fill:#80ffb4;stroke:#80ffb4;\" x=\"413.304907\" xlink:href=\"#m071f4239c5\" y=\"194.26577\"/>\n    </g>\n   </g>\n   <g id=\"line2d_5\">\n    <path clip-path=\"url(#p19e0b05af8)\" d=\"M 67.437138 53.377226 \nL 125.081767 185.32382 \nL 182.726395 183.198582 \nL 240.371023 211.018231 \nL 298.015651 218.92987 \nL 355.660279 223.032196 \nL 413.304907 227.743272 \n\" style=\"fill:none;stroke:#d4dd80;stroke-linecap:round;stroke-width:2;\"/>\n    <defs>\n     <path d=\"M 0 3 \nC 0.795609 3 1.55874 2.683901 2.12132 2.12132 \nC 2.683901 1.55874 3 0.795609 3 0 \nC 3 -0.795609 2.683901 -1.55874 2.12132 -2.12132 \nC 1.55874 -2.683901 0.795609 -3 0 -3 \nC -0.795609 -3 -1.55874 -2.683901 -2.12132 -2.12132 \nC -2.683901 -1.55874 -3 -0.795609 -3 0 \nC -3 0.795609 -2.683901 1.55874 -2.12132 2.12132 \nC -1.55874 2.683901 -0.795609 3 0 3 \nz\n\" id=\"m794fe146b9\" style=\"stroke:#d4dd80;\"/>\n    </defs>\n    <g clip-path=\"url(#p19e0b05af8)\">\n     <use style=\"fill:#d4dd80;stroke:#d4dd80;\" x=\"67.437138\" xlink:href=\"#m794fe146b9\" y=\"53.377226\"/>\n     <use style=\"fill:#d4dd80;stroke:#d4dd80;\" x=\"125.081767\" xlink:href=\"#m794fe146b9\" y=\"185.32382\"/>\n     <use style=\"fill:#d4dd80;stroke:#d4dd80;\" x=\"182.726395\" xlink:href=\"#m794fe146b9\" y=\"183.198582\"/>\n     <use style=\"fill:#d4dd80;stroke:#d4dd80;\" x=\"240.371023\" xlink:href=\"#m794fe146b9\" y=\"211.018231\"/>\n     <use style=\"fill:#d4dd80;stroke:#d4dd80;\" x=\"298.015651\" xlink:href=\"#m794fe146b9\" y=\"218.92987\"/>\n     <use style=\"fill:#d4dd80;stroke:#d4dd80;\" x=\"355.660279\" xlink:href=\"#m794fe146b9\" y=\"223.032196\"/>\n     <use style=\"fill:#d4dd80;stroke:#d4dd80;\" x=\"413.304907\" xlink:href=\"#m794fe146b9\" y=\"227.743272\"/>\n    </g>\n   </g>\n   <g id=\"line2d_6\">\n    <path clip-path=\"url(#p19e0b05af8)\" d=\"M 67.437138 53.025614 \nL 125.081767 183.766579 \nL 182.726395 181.383205 \nL 240.371023 211.389092 \nL 298.015651 218.940017 \nL 355.660279 222.746875 \nL 413.304907 227.613581 \n\" style=\"fill:none;stroke:#ff7e41;stroke-linecap:round;stroke-width:2;\"/>\n    <defs>\n     <path d=\"M 0 3 \nC 0.795609 3 1.55874 2.683901 2.12132 2.12132 \nC 2.683901 1.55874 3 0.795609 3 0 \nC 3 -0.795609 2.683901 -1.55874 2.12132 -2.12132 \nC 1.55874 -2.683901 0.795609 -3 0 -3 \nC -0.795609 -3 -1.55874 -2.683901 -2.12132 -2.12132 \nC -2.683901 -1.55874 -3 -0.795609 -3 0 \nC -3 0.795609 -2.683901 1.55874 -2.12132 2.12132 \nC -1.55874 2.683901 -0.795609 3 0 3 \nz\n\" id=\"mc9ae599ecd\" style=\"stroke:#ff7e41;\"/>\n    </defs>\n    <g clip-path=\"url(#p19e0b05af8)\">\n     <use style=\"fill:#ff7e41;stroke:#ff7e41;\" x=\"67.437138\" xlink:href=\"#mc9ae599ecd\" y=\"53.025614\"/>\n     <use style=\"fill:#ff7e41;stroke:#ff7e41;\" x=\"125.081767\" xlink:href=\"#mc9ae599ecd\" y=\"183.766579\"/>\n     <use style=\"fill:#ff7e41;stroke:#ff7e41;\" x=\"182.726395\" xlink:href=\"#mc9ae599ecd\" y=\"181.383205\"/>\n     <use style=\"fill:#ff7e41;stroke:#ff7e41;\" x=\"240.371023\" xlink:href=\"#mc9ae599ecd\" y=\"211.389092\"/>\n     <use style=\"fill:#ff7e41;stroke:#ff7e41;\" x=\"298.015651\" xlink:href=\"#mc9ae599ecd\" y=\"218.940017\"/>\n     <use style=\"fill:#ff7e41;stroke:#ff7e41;\" x=\"355.660279\" xlink:href=\"#mc9ae599ecd\" y=\"222.746875\"/>\n     <use style=\"fill:#ff7e41;stroke:#ff7e41;\" x=\"413.304907\" xlink:href=\"#mc9ae599ecd\" y=\"227.613581\"/>\n    </g>\n   </g>\n   <g id=\"line2d_7\">\n    <path clip-path=\"url(#p19e0b05af8)\" d=\"M 67.437138 50.244471 \nL 125.081767 185.806273 \nL 182.726395 183.976008 \nL 240.371023 211.78896 \nL 298.015651 220.472895 \nL 355.660279 225.922721 \nL 413.304907 229.540739 \n\" style=\"fill:none;stroke:#ff0000;stroke-linecap:round;stroke-width:2;\"/>\n    <defs>\n     <path d=\"M 0 3 \nC 0.795609 3 1.55874 2.683901 2.12132 2.12132 \nC 2.683901 1.55874 3 0.795609 3 0 \nC 3 -0.795609 2.683901 -1.55874 2.12132 -2.12132 \nC 1.55874 -2.683901 0.795609 -3 0 -3 \nC -0.795609 -3 -1.55874 -2.683901 -2.12132 -2.12132 \nC -2.683901 -1.55874 -3 -0.795609 -3 0 \nC -3 0.795609 -2.683901 1.55874 -2.12132 2.12132 \nC -1.55874 2.683901 -0.795609 3 0 3 \nz\n\" id=\"me29a8c941e\" style=\"stroke:#ff0000;\"/>\n    </defs>\n    <g clip-path=\"url(#p19e0b05af8)\">\n     <use style=\"fill:#ff0000;stroke:#ff0000;\" x=\"67.437138\" xlink:href=\"#me29a8c941e\" y=\"50.244471\"/>\n     <use style=\"fill:#ff0000;stroke:#ff0000;\" x=\"125.081767\" xlink:href=\"#me29a8c941e\" y=\"185.806273\"/>\n     <use style=\"fill:#ff0000;stroke:#ff0000;\" x=\"182.726395\" xlink:href=\"#me29a8c941e\" y=\"183.976008\"/>\n     <use style=\"fill:#ff0000;stroke:#ff0000;\" x=\"240.371023\" xlink:href=\"#me29a8c941e\" y=\"211.78896\"/>\n     <use style=\"fill:#ff0000;stroke:#ff0000;\" x=\"298.015651\" xlink:href=\"#me29a8c941e\" y=\"220.472895\"/>\n     <use style=\"fill:#ff0000;stroke:#ff0000;\" x=\"355.660279\" xlink:href=\"#me29a8c941e\" y=\"225.922721\"/>\n     <use style=\"fill:#ff0000;stroke:#ff0000;\" x=\"413.304907\" xlink:href=\"#me29a8c941e\" y=\"229.540739\"/>\n    </g>\n   </g>\n   <g id=\"patch_3\">\n    <path d=\"M 50.14375 239.424375 \nL 50.14375 21.984375 \n\" style=\"fill:none;stroke:#262626;stroke-linecap:square;stroke-linejoin:miter;stroke-width:0.8;\"/>\n   </g>\n   <g id=\"patch_4\">\n    <path d=\"M 430.598295 239.424375 \nL 430.598295 21.984375 \n\" style=\"fill:none;stroke:#262626;stroke-linecap:square;stroke-linejoin:miter;stroke-width:0.8;\"/>\n   </g>\n   <g id=\"patch_5\">\n    <path d=\"M 50.14375 239.424375 \nL 430.598295 239.424375 \n\" style=\"fill:none;stroke:#262626;stroke-linecap:square;stroke-linejoin:miter;stroke-width:0.8;\"/>\n   </g>\n   <g id=\"patch_6\">\n    <path d=\"M 50.14375 21.984375 \nL 430.598295 21.984375 \n\" style=\"fill:none;stroke:#262626;stroke-linecap:square;stroke-linejoin:miter;stroke-width:0.8;\"/>\n   </g>\n   <g id=\"text_16\">\n    <!-- sqrt_mse -->\n    <g style=\"fill:#262626;\" transform=\"translate(212.95571 15.984375)scale(0.12 -0.12)\">\n     <use xlink:href=\"#DejaVuSans-115\"/>\n     <use x=\"52.099609\" xlink:href=\"#DejaVuSans-113\"/>\n     <use x=\"115.576172\" xlink:href=\"#DejaVuSans-114\"/>\n     <use x=\"156.689453\" xlink:href=\"#DejaVuSans-116\"/>\n     <use x=\"195.898438\" xlink:href=\"#DejaVuSans-95\"/>\n     <use x=\"245.898438\" xlink:href=\"#DejaVuSans-109\"/>\n     <use x=\"343.310547\" xlink:href=\"#DejaVuSans-115\"/>\n     <use x=\"395.410156\" xlink:href=\"#DejaVuSans-101\"/>\n    </g>\n   </g>\n   <g id=\"legend_1\">\n    <g id=\"patch_7\">\n     <path d=\"M 304.279545 133.84375 \nL 423.598295 133.84375 \nQ 425.598295 133.84375 425.598295 131.84375 \nL 425.598295 28.984375 \nQ 425.598295 26.984375 423.598295 26.984375 \nL 304.279545 26.984375 \nQ 302.279545 26.984375 302.279545 28.984375 \nL 302.279545 131.84375 \nQ 302.279545 133.84375 304.279545 133.84375 \nz\n\" style=\"fill:#ffffff;opacity:0.8;stroke:#cccccc;stroke-linejoin:miter;\"/>\n    </g>\n    <g id=\"line2d_8\">\n     <path d=\"M 306.279545 35.082812 \nL 326.279545 35.082812 \n\" style=\"fill:none;stroke:#8000ff;stroke-linecap:round;stroke-width:2;\"/>\n    </g>\n    <g id=\"line2d_9\">\n     <g>\n      <use style=\"fill:#8000ff;stroke:#8000ff;\" x=\"316.279545\" xlink:href=\"#m1c39de8783\" y=\"35.082812\"/>\n     </g>\n    </g>\n    <g id=\"text_17\">\n     <!-- DNN -->\n     <g style=\"fill:#262626;\" transform=\"translate(334.279545 38.582812)scale(0.1 -0.1)\">\n      <defs>\n       <path d=\"M 19.671875 64.796875 \nL 19.671875 8.109375 \nL 31.59375 8.109375 \nQ 46.6875 8.109375 53.6875 14.9375 \nQ 60.6875 21.78125 60.6875 36.53125 \nQ 60.6875 51.171875 53.6875 57.984375 \nQ 46.6875 64.796875 31.59375 64.796875 \nz\nM 9.8125 72.90625 \nL 30.078125 72.90625 \nQ 51.265625 72.90625 61.171875 64.09375 \nQ 71.09375 55.28125 71.09375 36.53125 \nQ 71.09375 17.671875 61.125 8.828125 \nQ 51.171875 0 30.078125 0 \nL 9.8125 0 \nz\n\" id=\"DejaVuSans-68\"/>\n      </defs>\n      <use xlink:href=\"#DejaVuSans-68\"/>\n      <use x=\"77.001953\" xlink:href=\"#DejaVuSans-78\"/>\n      <use x=\"151.806641\" xlink:href=\"#DejaVuSans-78\"/>\n     </g>\n    </g>\n    <g id=\"line2d_10\">\n     <path d=\"M 306.279545 49.760938 \nL 326.279545 49.760938 \n\" style=\"fill:none;stroke:#2c7ef7;stroke-linecap:round;stroke-width:2;\"/>\n    </g>\n    <g id=\"line2d_11\">\n     <g>\n      <use style=\"fill:#2c7ef7;stroke:#2c7ef7;\" x=\"316.279545\" xlink:href=\"#m99f2e51f2d\" y=\"49.760938\"/>\n     </g>\n    </g>\n    <g id=\"text_18\">\n     <!-- DNN_ZEROS -->\n     <g style=\"fill:#262626;\" transform=\"translate(334.279545 53.260938)scale(0.1 -0.1)\">\n      <defs>\n       <path d=\"M 5.609375 72.90625 \nL 62.890625 72.90625 \nL 62.890625 65.375 \nL 16.796875 8.296875 \nL 64.015625 8.296875 \nL 64.015625 0 \nL 4.5 0 \nL 4.5 7.515625 \nL 50.59375 64.59375 \nL 5.609375 64.59375 \nz\n\" id=\"DejaVuSans-90\"/>\n       <path d=\"M 9.8125 72.90625 \nL 55.90625 72.90625 \nL 55.90625 64.59375 \nL 19.671875 64.59375 \nL 19.671875 43.015625 \nL 54.390625 43.015625 \nL 54.390625 34.71875 \nL 19.671875 34.71875 \nL 19.671875 8.296875 \nL 56.78125 8.296875 \nL 56.78125 0 \nL 9.8125 0 \nz\n\" id=\"DejaVuSans-69\"/>\n       <path d=\"M 44.390625 34.1875 \nQ 47.5625 33.109375 50.5625 29.59375 \nQ 53.5625 26.078125 56.59375 19.921875 \nL 66.609375 0 \nL 56 0 \nL 46.6875 18.703125 \nQ 43.0625 26.03125 39.671875 28.421875 \nQ 36.28125 30.8125 30.421875 30.8125 \nL 19.671875 30.8125 \nL 19.671875 0 \nL 9.8125 0 \nL 9.8125 72.90625 \nL 32.078125 72.90625 \nQ 44.578125 72.90625 50.734375 67.671875 \nQ 56.890625 62.453125 56.890625 51.90625 \nQ 56.890625 45.015625 53.6875 40.46875 \nQ 50.484375 35.9375 44.390625 34.1875 \nz\nM 19.671875 64.796875 \nL 19.671875 38.921875 \nL 32.078125 38.921875 \nQ 39.203125 38.921875 42.84375 42.21875 \nQ 46.484375 45.515625 46.484375 51.90625 \nQ 46.484375 58.296875 42.84375 61.546875 \nQ 39.203125 64.796875 32.078125 64.796875 \nz\n\" id=\"DejaVuSans-82\"/>\n       <path d=\"M 39.40625 66.21875 \nQ 28.65625 66.21875 22.328125 58.203125 \nQ 16.015625 50.203125 16.015625 36.375 \nQ 16.015625 22.609375 22.328125 14.59375 \nQ 28.65625 6.59375 39.40625 6.59375 \nQ 50.140625 6.59375 56.421875 14.59375 \nQ 62.703125 22.609375 62.703125 36.375 \nQ 62.703125 50.203125 56.421875 58.203125 \nQ 50.140625 66.21875 39.40625 66.21875 \nz\nM 39.40625 74.21875 \nQ 54.734375 74.21875 63.90625 63.9375 \nQ 73.09375 53.65625 73.09375 36.375 \nQ 73.09375 19.140625 63.90625 8.859375 \nQ 54.734375 -1.421875 39.40625 -1.421875 \nQ 24.03125 -1.421875 14.8125 8.828125 \nQ 5.609375 19.09375 5.609375 36.375 \nQ 5.609375 53.65625 14.8125 63.9375 \nQ 24.03125 74.21875 39.40625 74.21875 \nz\n\" id=\"DejaVuSans-79\"/>\n       <path d=\"M 53.515625 70.515625 \nL 53.515625 60.890625 \nQ 47.90625 63.578125 42.921875 64.890625 \nQ 37.9375 66.21875 33.296875 66.21875 \nQ 25.25 66.21875 20.875 63.09375 \nQ 16.5 59.96875 16.5 54.203125 \nQ 16.5 49.359375 19.40625 46.890625 \nQ 22.3125 44.4375 30.421875 42.921875 \nL 36.375 41.703125 \nQ 47.40625 39.59375 52.65625 34.296875 \nQ 57.90625 29 57.90625 20.125 \nQ 57.90625 9.515625 50.796875 4.046875 \nQ 43.703125 -1.421875 29.984375 -1.421875 \nQ 24.8125 -1.421875 18.96875 -0.25 \nQ 13.140625 0.921875 6.890625 3.21875 \nL 6.890625 13.375 \nQ 12.890625 10.015625 18.65625 8.296875 \nQ 24.421875 6.59375 29.984375 6.59375 \nQ 38.421875 6.59375 43.015625 9.90625 \nQ 47.609375 13.234375 47.609375 19.390625 \nQ 47.609375 24.75 44.3125 27.78125 \nQ 41.015625 30.8125 33.5 32.328125 \nL 27.484375 33.5 \nQ 16.453125 35.6875 11.515625 40.375 \nQ 6.59375 45.0625 6.59375 53.421875 \nQ 6.59375 63.09375 13.40625 68.65625 \nQ 20.21875 74.21875 32.171875 74.21875 \nQ 37.3125 74.21875 42.625 73.28125 \nQ 47.953125 72.359375 53.515625 70.515625 \nz\n\" id=\"DejaVuSans-83\"/>\n      </defs>\n      <use xlink:href=\"#DejaVuSans-68\"/>\n      <use x=\"77.001953\" xlink:href=\"#DejaVuSans-78\"/>\n      <use x=\"151.806641\" xlink:href=\"#DejaVuSans-78\"/>\n      <use x=\"226.611328\" xlink:href=\"#DejaVuSans-95\"/>\n      <use x=\"276.611328\" xlink:href=\"#DejaVuSans-90\"/>\n      <use x=\"345.117188\" xlink:href=\"#DejaVuSans-69\"/>\n      <use x=\"408.300781\" xlink:href=\"#DejaVuSans-82\"/>\n      <use x=\"477.783203\" xlink:href=\"#DejaVuSans-79\"/>\n      <use x=\"556.494141\" xlink:href=\"#DejaVuSans-83\"/>\n     </g>\n    </g>\n    <g id=\"line2d_12\">\n     <path d=\"M 306.279545 64.717187 \nL 326.279545 64.717187 \n\" style=\"fill:none;stroke:#2adddd;stroke-linecap:round;stroke-width:2;\"/>\n    </g>\n    <g id=\"line2d_13\">\n     <g>\n      <use style=\"fill:#2adddd;stroke:#2adddd;\" x=\"316.279545\" xlink:href=\"#m9050cbe21a\" y=\"64.717187\"/>\n     </g>\n    </g>\n    <g id=\"text_19\">\n     <!-- DNN_WIN -->\n     <g style=\"fill:#262626;\" transform=\"translate(334.279545 68.217187)scale(0.1 -0.1)\">\n      <defs>\n       <path d=\"M 3.328125 72.90625 \nL 13.28125 72.90625 \nL 28.609375 11.28125 \nL 43.890625 72.90625 \nL 54.984375 72.90625 \nL 70.3125 11.28125 \nL 85.59375 72.90625 \nL 95.609375 72.90625 \nL 77.296875 0 \nL 64.890625 0 \nL 49.515625 63.28125 \nL 33.984375 0 \nL 21.578125 0 \nz\n\" id=\"DejaVuSans-87\"/>\n       <path d=\"M 9.8125 72.90625 \nL 19.671875 72.90625 \nL 19.671875 0 \nL 9.8125 0 \nz\n\" id=\"DejaVuSans-73\"/>\n      </defs>\n      <use xlink:href=\"#DejaVuSans-68\"/>\n      <use x=\"77.001953\" xlink:href=\"#DejaVuSans-78\"/>\n      <use x=\"151.806641\" xlink:href=\"#DejaVuSans-78\"/>\n      <use x=\"226.611328\" xlink:href=\"#DejaVuSans-95\"/>\n      <use x=\"276.611328\" xlink:href=\"#DejaVuSans-87\"/>\n      <use x=\"375.488281\" xlink:href=\"#DejaVuSans-73\"/>\n      <use x=\"404.980469\" xlink:href=\"#DejaVuSans-78\"/>\n     </g>\n    </g>\n    <g id=\"line2d_14\">\n     <path d=\"M 306.279545 79.673437 \nL 326.279545 79.673437 \n\" style=\"fill:none;stroke:#80ffb4;stroke-linecap:round;stroke-width:2;\"/>\n    </g>\n    <g id=\"line2d_15\">\n     <g>\n      <use style=\"fill:#80ffb4;stroke:#80ffb4;\" x=\"316.279545\" xlink:href=\"#m071f4239c5\" y=\"79.673437\"/>\n     </g>\n    </g>\n    <g id=\"text_20\">\n     <!-- DNN_WIN_ZEROS -->\n     <g style=\"fill:#262626;\" transform=\"translate(334.279545 83.173437)scale(0.1 -0.1)\">\n      <use xlink:href=\"#DejaVuSans-68\"/>\n      <use x=\"77.001953\" xlink:href=\"#DejaVuSans-78\"/>\n      <use x=\"151.806641\" xlink:href=\"#DejaVuSans-78\"/>\n      <use x=\"226.611328\" xlink:href=\"#DejaVuSans-95\"/>\n      <use x=\"276.611328\" xlink:href=\"#DejaVuSans-87\"/>\n      <use x=\"375.488281\" xlink:href=\"#DejaVuSans-73\"/>\n      <use x=\"404.980469\" xlink:href=\"#DejaVuSans-78\"/>\n      <use x=\"479.785156\" xlink:href=\"#DejaVuSans-95\"/>\n      <use x=\"529.785156\" xlink:href=\"#DejaVuSans-90\"/>\n      <use x=\"598.291016\" xlink:href=\"#DejaVuSans-69\"/>\n      <use x=\"661.474609\" xlink:href=\"#DejaVuSans-82\"/>\n      <use x=\"730.957031\" xlink:href=\"#DejaVuSans-79\"/>\n      <use x=\"809.667969\" xlink:href=\"#DejaVuSans-83\"/>\n     </g>\n    </g>\n    <g id=\"line2d_16\">\n     <path d=\"M 306.279545 94.629687 \nL 326.279545 94.629687 \n\" style=\"fill:none;stroke:#d4dd80;stroke-linecap:round;stroke-width:2;\"/>\n    </g>\n    <g id=\"line2d_17\">\n     <g>\n      <use style=\"fill:#d4dd80;stroke:#d4dd80;\" x=\"316.279545\" xlink:href=\"#m794fe146b9\" y=\"94.629687\"/>\n     </g>\n    </g>\n    <g id=\"text_21\">\n     <!-- CNN -->\n     <g style=\"fill:#262626;\" transform=\"translate(334.279545 98.129687)scale(0.1 -0.1)\">\n      <defs>\n       <path d=\"M 64.40625 67.28125 \nL 64.40625 56.890625 \nQ 59.421875 61.53125 53.78125 63.8125 \nQ 48.140625 66.109375 41.796875 66.109375 \nQ 29.296875 66.109375 22.65625 58.46875 \nQ 16.015625 50.828125 16.015625 36.375 \nQ 16.015625 21.96875 22.65625 14.328125 \nQ 29.296875 6.6875 41.796875 6.6875 \nQ 48.140625 6.6875 53.78125 8.984375 \nQ 59.421875 11.28125 64.40625 15.921875 \nL 64.40625 5.609375 \nQ 59.234375 2.09375 53.4375 0.328125 \nQ 47.65625 -1.421875 41.21875 -1.421875 \nQ 24.65625 -1.421875 15.125 8.703125 \nQ 5.609375 18.84375 5.609375 36.375 \nQ 5.609375 53.953125 15.125 64.078125 \nQ 24.65625 74.21875 41.21875 74.21875 \nQ 47.75 74.21875 53.53125 72.484375 \nQ 59.328125 70.75 64.40625 67.28125 \nz\n\" id=\"DejaVuSans-67\"/>\n      </defs>\n      <use xlink:href=\"#DejaVuSans-67\"/>\n      <use x=\"69.824219\" xlink:href=\"#DejaVuSans-78\"/>\n      <use x=\"144.628906\" xlink:href=\"#DejaVuSans-78\"/>\n     </g>\n    </g>\n    <g id=\"line2d_18\">\n     <path d=\"M 306.279545 109.307812 \nL 326.279545 109.307812 \n\" style=\"fill:none;stroke:#ff7e41;stroke-linecap:round;stroke-width:2;\"/>\n    </g>\n    <g id=\"line2d_19\">\n     <g>\n      <use style=\"fill:#ff7e41;stroke:#ff7e41;\" x=\"316.279545\" xlink:href=\"#mc9ae599ecd\" y=\"109.307812\"/>\n     </g>\n    </g>\n    <g id=\"text_22\">\n     <!-- CNN_ZEROS -->\n     <g style=\"fill:#262626;\" transform=\"translate(334.279545 112.807812)scale(0.1 -0.1)\">\n      <use xlink:href=\"#DejaVuSans-67\"/>\n      <use x=\"69.824219\" xlink:href=\"#DejaVuSans-78\"/>\n      <use x=\"144.628906\" xlink:href=\"#DejaVuSans-78\"/>\n      <use x=\"219.433594\" xlink:href=\"#DejaVuSans-95\"/>\n      <use x=\"269.433594\" xlink:href=\"#DejaVuSans-90\"/>\n      <use x=\"337.939453\" xlink:href=\"#DejaVuSans-69\"/>\n      <use x=\"401.123047\" xlink:href=\"#DejaVuSans-82\"/>\n      <use x=\"470.605469\" xlink:href=\"#DejaVuSans-79\"/>\n      <use x=\"549.316406\" xlink:href=\"#DejaVuSans-83\"/>\n     </g>\n    </g>\n    <g id=\"line2d_20\">\n     <path d=\"M 306.279545 124.264062 \nL 326.279545 124.264062 \n\" style=\"fill:none;stroke:#ff0000;stroke-linecap:round;stroke-width:2;\"/>\n    </g>\n    <g id=\"line2d_21\">\n     <g>\n      <use style=\"fill:#ff0000;stroke:#ff0000;\" x=\"316.279545\" xlink:href=\"#me29a8c941e\" y=\"124.264062\"/>\n     </g>\n    </g>\n    <g id=\"text_23\">\n     <!-- CNNM -->\n     <g style=\"fill:#262626;\" transform=\"translate(334.279545 127.764062)scale(0.1 -0.1)\">\n      <defs>\n       <path d=\"M 9.8125 72.90625 \nL 24.515625 72.90625 \nL 43.109375 23.296875 \nL 61.8125 72.90625 \nL 76.515625 72.90625 \nL 76.515625 0 \nL 66.890625 0 \nL 66.890625 64.015625 \nL 48.09375 14.015625 \nL 38.1875 14.015625 \nL 19.390625 64.015625 \nL 19.390625 0 \nL 9.8125 0 \nz\n\" id=\"DejaVuSans-77\"/>\n      </defs>\n      <use xlink:href=\"#DejaVuSans-67\"/>\n      <use x=\"69.824219\" xlink:href=\"#DejaVuSans-78\"/>\n      <use x=\"144.628906\" xlink:href=\"#DejaVuSans-78\"/>\n      <use x=\"219.433594\" xlink:href=\"#DejaVuSans-77\"/>\n     </g>\n    </g>\n   </g>\n  </g>\n </g>\n <defs>\n  <clipPath id=\"p19e0b05af8\">\n   <rect height=\"217.44\" width=\"380.454545\" x=\"50.14375\" y=\"21.984375\"/>\n  </clipPath>\n </defs>\n</svg>\n",
      "image/png": "[encoded data removed]"
     },
     "metadata": {}
    }
   ],
   "source": [
    "def plot_sqrt_mse():\n",
    "    \n",
    "    plt.figure(figsize=(15, 4))\n",
    "    \n",
    "    ax1 = plt.subplot(1, 2, 1)\n",
    "\n",
    "    ax1.set(title='sqrt_mse', xlabel='log(N)', ylabel='sqrt_mse')\n",
    "\n",
    "    colors = iter(cm.rainbow(np.linspace(0, 1, len(trials_out))))\n",
    "\n",
    "    for i, out in enumerate(trials_out):\n",
    "        x = np.log10(out['a_N'])\n",
    "        y = out['a_sqrt_mse']\n",
    "        std = out['a_std_abs_errors']\n",
    "        c = next(colors)\n",
    "        ax1.plot(x, y, linewidth=2, c=c, marker='o', markersize=6, label=out['nn'])\n",
    "        # ax1.fill_between(x, y - std, y + std, facecolor=colors[i], alpha=0.3)\n",
    "    \n",
    "    plt.legend(loc='upper right')\n",
    "\n",
    "plot_sqrt_mse()\n"
   ]
  },
  {
   "source": [
    "# print and save statistics"
   ],
   "cell_type": "markdown",
   "metadata": {}
  },
  {
   "cell_type": "code",
   "execution_count": 11,
   "metadata": {},
   "outputs": [
    {
     "output_type": "stream",
     "name": "stdout",
     "text": [
      "err = y_test - y_pred\n"
     ]
    },
    {
     "output_type": "execute_result",
     "data": {
      "text/plain": [
       "        sqrt_MSE                                                        \\\n",
       "             DNN DNN_ZEROS   DNN_WIN DNN_WIN_ZEROS       CNN CNN_ZEROS   \n",
       "N                                                                        \n",
       "32.0    0.042611  0.043565  0.045955      0.043565  0.041033  0.041114   \n",
       "64.0    0.012804  0.015030  0.015155      0.015030  0.010838  0.011195   \n",
       "128.0   0.016111  0.015634  0.017238      0.015634  0.011325  0.011740   \n",
       "256.0   0.008903  0.010121  0.010887      0.010121  0.004959  0.004874   \n",
       "512.0   0.008291  0.008875  0.013539      0.008875  0.003148  0.003146   \n",
       "1024.0  0.008765  0.010565  0.011768      0.010565  0.002209  0.002275   \n",
       "2048.0  0.007681  0.008792  0.012445      0.008792  0.001131  0.001161   \n",
       "\n",
       "                       STD                      ...                      \\\n",
       "            CNNM       DNN DNN_ZEROS   DNN_WIN  ...       CNN CNN_ZEROS   \n",
       "N                                               ...                       \n",
       "32.0    0.041750  0.023458  0.023335  0.021577  ...  0.025301  0.025209   \n",
       "64.0    0.010728  0.006410  0.005856  0.005811  ...  0.007184  0.007363   \n",
       "128.0   0.011147  0.006737  0.006848  0.006624  ...  0.007534  0.007721   \n",
       "256.0   0.004782  0.002454  0.003390  0.002499  ...  0.003488  0.003447   \n",
       "512.0   0.002795  0.002247  0.002643  0.003700  ...  0.002102  0.002165   \n",
       "1024.0  0.001548  0.002344  0.002486  0.003266  ...  0.001606  0.001688   \n",
       "2048.0  0.000720  0.002760  0.001664  0.002856  ...  0.000620  0.000605   \n",
       "\n",
       "                 avg_abs_err                                              \\\n",
       "            CNNM         DNN DNN_ZEROS   DNN_WIN DNN_WIN_ZEROS       CNN   \n",
       "N                                                                          \n",
       "32.0    0.024636    0.034085  0.034608  0.037505      0.034608  0.031739   \n",
       "64.0    0.007286    0.009942  0.011839  0.011960      0.011839  0.007935   \n",
       "128.0   0.006833    0.012422  0.011904  0.013866      0.011904  0.008026   \n",
       "256.0   0.002873    0.007150  0.008226  0.008851      0.008226  0.003369   \n",
       "512.0   0.001899    0.006627  0.007120  0.011612      0.007120  0.002110   \n",
       "1024.0  0.001067    0.007126  0.008800  0.009823      0.008800  0.001388   \n",
       "2048.0  0.000448    0.006465  0.007091  0.010872      0.007091  0.000799   \n",
       "\n",
       "                            \n",
       "       CNN_ZEROS      CNNM  \n",
       "N                           \n",
       "32.0    0.031805  0.032543  \n",
       "64.0    0.008260  0.007724  \n",
       "128.0   0.008334  0.007868  \n",
       "256.0   0.003322  0.003340  \n",
       "512.0   0.002079  0.001876  \n",
       "1024.0  0.001401  0.000960  \n",
       "2048.0  0.000820  0.000479  \n",
       "\n",
       "[7 rows x 21 columns]"
      ],
      "text/html": "<div>\n<style scoped>\n    .dataframe tbody tr th:only-of-type {\n        vertical-align: middle;\n    }\n\n    .dataframe tbody tr th {\n        vertical-align: top;\n    }\n\n    .dataframe thead tr th {\n        text-align: left;\n    }\n\n    .dataframe thead tr:last-of-type th {\n        text-align: right;\n    }\n</style>\n<table border=\"1\" class=\"dataframe\">\n  <thead>\n    <tr>\n      <th></th>\n      <th colspan=\"7\" halign=\"left\">sqrt_MSE</th>\n      <th colspan=\"7\" halign=\"left\">STD</th>\n      <th colspan=\"7\" halign=\"left\">avg_abs_err</th>\n    </tr>\n    <tr>\n      <th></th>\n      <th>DNN</th>\n      <th>DNN_ZEROS</th>\n      <th>DNN_WIN</th>\n      <th>DNN_WIN_ZEROS</th>\n      <th>CNN</th>\n      <th>CNN_ZEROS</th>\n      <th>CNNM</th>\n      <th>DNN</th>\n      <th>DNN_ZEROS</th>\n      <th>DNN_WIN</th>\n      <th>...</th>\n      <th>CNN</th>\n      <th>CNN_ZEROS</th>\n      <th>CNNM</th>\n      <th>DNN</th>\n      <th>DNN_ZEROS</th>\n      <th>DNN_WIN</th>\n      <th>DNN_WIN_ZEROS</th>\n      <th>CNN</th>\n      <th>CNN_ZEROS</th>\n      <th>CNNM</th>\n    </tr>\n    <tr>\n      <th>N</th>\n      <th></th>\n      <th></th>\n      <th></th>\n      <th></th>\n      <th></th>\n      <th></th>\n      <th></th>\n      <th></th>\n      <th></th>\n      <th></th>\n      <th></th>\n      <th></th>\n      <th></th>\n      <th></th>\n      <th></th>\n      <th></th>\n      <th></th>\n      <th></th>\n      <th></th>\n      <th></th>\n      <th></th>\n    </tr>\n  </thead>\n  <tbody>\n    <tr>\n      <th>32.0</th>\n      <td>0.042611</td>\n      <td>0.043565</td>\n      <td>0.045955</td>\n      <td>0.043565</td>\n      <td>0.041033</td>\n      <td>0.041114</td>\n      <td>0.041750</td>\n      <td>0.023458</td>\n      <td>0.023335</td>\n      <td>0.021577</td>\n      <td>...</td>\n      <td>0.025301</td>\n      <td>0.025209</td>\n      <td>0.024636</td>\n      <td>0.034085</td>\n      <td>0.034608</td>\n      <td>0.037505</td>\n      <td>0.034608</td>\n      <td>0.031739</td>\n      <td>0.031805</td>\n      <td>0.032543</td>\n    </tr>\n    <tr>\n      <th>64.0</th>\n      <td>0.012804</td>\n      <td>0.015030</td>\n      <td>0.015155</td>\n      <td>0.015030</td>\n      <td>0.010838</td>\n      <td>0.011195</td>\n      <td>0.010728</td>\n      <td>0.006410</td>\n      <td>0.005856</td>\n      <td>0.005811</td>\n      <td>...</td>\n      <td>0.007184</td>\n      <td>0.007363</td>\n      <td>0.007286</td>\n      <td>0.009942</td>\n      <td>0.011839</td>\n      <td>0.011960</td>\n      <td>0.011839</td>\n      <td>0.007935</td>\n      <td>0.008260</td>\n      <td>0.007724</td>\n    </tr>\n    <tr>\n      <th>128.0</th>\n      <td>0.016111</td>\n      <td>0.015634</td>\n      <td>0.017238</td>\n      <td>0.015634</td>\n      <td>0.011325</td>\n      <td>0.011740</td>\n      <td>0.011147</td>\n      <td>0.006737</td>\n      <td>0.006848</td>\n      <td>0.006624</td>\n      <td>...</td>\n      <td>0.007534</td>\n      <td>0.007721</td>\n      <td>0.006833</td>\n      <td>0.012422</td>\n      <td>0.011904</td>\n      <td>0.013866</td>\n      <td>0.011904</td>\n      <td>0.008026</td>\n      <td>0.008334</td>\n      <td>0.007868</td>\n    </tr>\n    <tr>\n      <th>256.0</th>\n      <td>0.008903</td>\n      <td>0.010121</td>\n      <td>0.010887</td>\n      <td>0.010121</td>\n      <td>0.004959</td>\n      <td>0.004874</td>\n      <td>0.004782</td>\n      <td>0.002454</td>\n      <td>0.003390</td>\n      <td>0.002499</td>\n      <td>...</td>\n      <td>0.003488</td>\n      <td>0.003447</td>\n      <td>0.002873</td>\n      <td>0.007150</td>\n      <td>0.008226</td>\n      <td>0.008851</td>\n      <td>0.008226</td>\n      <td>0.003369</td>\n      <td>0.003322</td>\n      <td>0.003340</td>\n    </tr>\n    <tr>\n      <th>512.0</th>\n      <td>0.008291</td>\n      <td>0.008875</td>\n      <td>0.013539</td>\n      <td>0.008875</td>\n      <td>0.003148</td>\n      <td>0.003146</td>\n      <td>0.002795</td>\n      <td>0.002247</td>\n      <td>0.002643</td>\n      <td>0.003700</td>\n      <td>...</td>\n      <td>0.002102</td>\n      <td>0.002165</td>\n      <td>0.001899</td>\n      <td>0.006627</td>\n      <td>0.007120</td>\n      <td>0.011612</td>\n      <td>0.007120</td>\n      <td>0.002110</td>\n      <td>0.002079</td>\n      <td>0.001876</td>\n    </tr>\n    <tr>\n      <th>1024.0</th>\n      <td>0.008765</td>\n      <td>0.010565</td>\n      <td>0.011768</td>\n      <td>0.010565</td>\n      <td>0.002209</td>\n      <td>0.002275</td>\n      <td>0.001548</td>\n      <td>0.002344</td>\n      <td>0.002486</td>\n      <td>0.003266</td>\n      <td>...</td>\n      <td>0.001606</td>\n      <td>0.001688</td>\n      <td>0.001067</td>\n      <td>0.007126</td>\n      <td>0.008800</td>\n      <td>0.009823</td>\n      <td>0.008800</td>\n      <td>0.001388</td>\n      <td>0.001401</td>\n      <td>0.000960</td>\n    </tr>\n    <tr>\n      <th>2048.0</th>\n      <td>0.007681</td>\n      <td>0.008792</td>\n      <td>0.012445</td>\n      <td>0.008792</td>\n      <td>0.001131</td>\n      <td>0.001161</td>\n      <td>0.000720</td>\n      <td>0.002760</td>\n      <td>0.001664</td>\n      <td>0.002856</td>\n      <td>...</td>\n      <td>0.000620</td>\n      <td>0.000605</td>\n      <td>0.000448</td>\n      <td>0.006465</td>\n      <td>0.007091</td>\n      <td>0.010872</td>\n      <td>0.007091</td>\n      <td>0.000799</td>\n      <td>0.000820</td>\n      <td>0.000479</td>\n    </tr>\n  </tbody>\n</table>\n<p>7 rows × 21 columns</p>\n</div>"
     },
     "metadata": {},
     "execution_count": 11
    }
   ],
   "source": [
    "dict_list = []\n",
    "for t in trials_out:\n",
    "    dict_list.append(('N', t['a_N']))\n",
    "for t in trials_out:\n",
    "    dict_list.append(('sqrt_mse_{}'.format(t['nn']), t['a_sqrt_mse']))\n",
    "for t in trials_out:\n",
    "    dict_list.append(('std_{}'.format(t['nn']), t['a_std_abs_errors']))\n",
    "for t in trials_out:\n",
    "    dict_list.append(('avg_abs_error_{}'.format(t['nn']), t['a_avg_abs_errors']))\n",
    "\n",
    "df = pd.DataFrame(dict(dict_list))\n",
    "\n",
    "df = df.set_index('N')\n",
    "\n",
    "df.to_csv('yulesimon.csv', float_format='%.5f')\n",
    "\n",
    "columns=[]\n",
    "for t in trials_out:\n",
    "    columns.append(('sqrt_MSE',t['nn']))\n",
    "for t in trials_out:\n",
    "    columns.append(('STD',t['nn']))\n",
    "for t in trials_out:\n",
    "    columns.append(('avg_abs_err',t['nn']))\n",
    "\n",
    "df.columns=pd.MultiIndex.from_tuples(columns)\n",
    "\n",
    "print('err = y_test - y_pred')\n",
    "df"
   ]
  }
 ],
 "metadata": {
  "kernelspec": {
   "display_name": "ou",
   "language": "python",
   "name": "ou"
  },
  "language_info": {
   "codemirror_mode": {
    "name": "ipython",
    "version": 3
   },
   "file_extension": ".py",
   "mimetype": "text/x-python",
   "name": "python",
   "nbconvert_exporter": "python",
   "pygments_lexer": "ipython3",
   "version": "3.8.5-final"
  }
 },
 "nbformat": 4,
 "nbformat_minor": 4
}