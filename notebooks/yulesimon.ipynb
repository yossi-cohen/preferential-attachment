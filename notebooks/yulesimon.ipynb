{
 "cells": [
  {
   "source": [
    "# CONSTANTS"
   ],
   "cell_type": "markdown",
   "metadata": {}
  },
  {
   "cell_type": "code",
   "execution_count": 8,
   "metadata": {},
   "outputs": [],
   "source": [
    "N_RANGE=[6]; RANDOM_STATES=[24]\n",
    "# N_RANGE=[11]; RANDOM_STATES=[17]\n",
    "# N_RANGE=[5,6,7,8,9,10,11]; RANDOM_STATES=[0, 17]\n",
    "# N_RANGE=range(5, 12); RANDOM_STATES=[0, 3, 5, 8, 11, 16, 17, 20, 21, 24]\n",
    "\n",
    "RANDOM_ALPHA = True\n",
    "NUM_ZERO_COLUMNS_TO_HSTACK = 10 # effective only if we hstack-zeros (model name ends with _ZEROS)\n",
    "\n",
    "trials_out = {}\n",
    "\n",
    "PLOT_LEARNING_CURVES = True\n",
    "PLOT_INPUT = True\n",
    "\n",
    "RUN_DNN = True\n",
    "RUN_DNN_ZEROS = True\n",
    "RUN_DNN_WIN_SLIDING_AVG = False\n",
    "RUN_DNN_WIN_SLIDING_AVG_ZEROS = False\n",
    "RUN_DNN_SLIDING_SUM = False\n",
    "RUN_DNN_SLIDING_SUM_ZEROS = False\n",
    "RUN_DNN_WIN = False\n",
    "RUN_DNN_WIN_ZEROS = False\n",
    "RUN_CNN = True\n",
    "RUN_CNN_ZEROS = True\n",
    "RUN_CNNM = True\n",
    "\n",
    "TTEST_NUM_TESTS = 10"
   ]
  },
  {
   "source": [
    "# Import function library"
   ],
   "cell_type": "markdown",
   "metadata": {}
  },
  {
   "cell_type": "code",
   "execution_count": 10,
   "metadata": {},
   "outputs": [],
   "source": [
    "%run yulesimon-lib.ipynb"
   ]
  },
  {
   "source": [
    "# Debug helpers"
   ],
   "cell_type": "markdown",
   "metadata": {}
  },
  {
   "cell_type": "code",
   "execution_count": null,
   "metadata": {},
   "outputs": [],
   "source": [
    "def debug_summary(trial):\n",
    "    if PLOT_INPUT:\n",
    "        trial_plot_input(trial['input_sample'])\n",
    "    if PLOT_LEARNING_CURVES:\n",
    "        trial_plot_learning_curves(trial)\n",
    "\n",
    "# helper function to plot learning curves for the given trial output\n",
    "def trial_plot_learning_curves(trial):\n",
    "    history_path = '{}.history'.format(trial['base_path'])\n",
    "    history = pickle.load(open(history_path, 'rb'))\n",
    "    plot_learning_curves(history)\n",
    "\n",
    "# helper function to plot input shape\n",
    "def trial_plot_input(x):\n",
    "    z = x.flatten()\n",
    "    _ = plt.scatter(range(len(z)), z, s=5, color=\"blue\", label=\"original\")"
   ]
  },
  {
   "source": [
    "# DNN"
   ],
   "cell_type": "markdown",
   "metadata": {}
  },
  {
   "cell_type": "code",
   "execution_count": null,
   "metadata": {},
   "outputs": [],
   "source": [
    "%%time\n",
    "if RUN_DNN:\n",
    "    nn = 'DNN'\n",
    "    trials_out[nn] = trial(nn=nn, N_range=N_RANGE, random_states=RANDOM_STATES)\n",
    "    debug_summary(trials_out[nn])\n"
   ]
  },
  {
   "source": [
    "# DNN zeros"
   ],
   "cell_type": "markdown",
   "metadata": {}
  },
  {
   "cell_type": "code",
   "execution_count": null,
   "metadata": {
    "tags": []
   },
   "outputs": [],
   "source": [
    "%%time\n",
    "if RUN_DNN_ZEROS:\n",
    "    nn = 'DNN_ZEROS'\n",
    "    trials_out[nn] = trial(nn=nn, N_range=N_RANGE, random_states=RANDOM_STATES)\n",
    "    debug_summary(trials_out[nn])"
   ]
  },
  {
   "source": [
    "# DNN sliding-avg test"
   ],
   "cell_type": "markdown",
   "metadata": {}
  },
  {
   "cell_type": "code",
   "execution_count": null,
   "metadata": {},
   "outputs": [],
   "source": [
    "X_moving_avg_test = np.array([ [1,2,3,4,5,6,7], [1,2,3,4,5,6,7] ])\n",
    "\n",
    "print('X_moving_avg_test:')\n",
    "print(X_moving_avg_test)\n",
    "\n",
    "OUT_moving_avg_test, window_sizes = data_hstack_moving_avg(X_moving_avg_test)\n",
    "\n",
    "print()\n",
    "print('window_sizes:', window_sizes)\n",
    "\n",
    "print()\n",
    "print('OUT_moving_avg_test:')\n",
    "print(OUT_moving_avg_test)"
   ]
  },
  {
   "source": [
    "# DNN sliding-avg"
   ],
   "cell_type": "markdown",
   "metadata": {}
  },
  {
   "cell_type": "code",
   "execution_count": null,
   "metadata": {},
   "outputs": [],
   "source": [
    "%%time\n",
    "if RUN_DNN_WIN_SLIDING_AVG:\n",
    "    nn = 'DNN_SLIDING_AVG'\n",
    "    trials_out[nn] = trial(nn=nn, N_range=N_RANGE, random_states=RANDOM_STATES)\n",
    "    debug_summary(trials_out[nn])"
   ]
  },
  {
   "source": [
    "# DNN sliding-avg zeros"
   ],
   "cell_type": "markdown",
   "metadata": {}
  },
  {
   "cell_type": "code",
   "execution_count": null,
   "metadata": {},
   "outputs": [],
   "source": [
    "%%time\n",
    "if RUN_DNN_WIN_SLIDING_AVG_ZEROS:\n",
    "    nn = 'DNN_SLIDING_AVG'\n",
    "    trials_out[nn] = trial(nn=nn, N_range=N_RANGE, random_states=RANDOM_STATES)\n",
    "    debug_summary(trials_out[nn])"
   ]
  },
  {
   "source": [
    "# DNN sliding-sum"
   ],
   "cell_type": "markdown",
   "metadata": {}
  },
  {
   "cell_type": "code",
   "execution_count": null,
   "metadata": {},
   "outputs": [],
   "source": [
    "%%time\n",
    "if RUN_DNN_SLIDING_SUM:\n",
    "    nn = 'DNN_SLIDING_SUM'\n",
    "    trials_out[nn] = trial(nn=nn, N_range=N_RANGE, random_states=RANDOM_STATES)\n",
    "    debug_summary(trials_out[nn])"
   ]
  },
  {
   "source": [
    "# DNN sliding-sum zeros"
   ],
   "cell_type": "markdown",
   "metadata": {}
  },
  {
   "cell_type": "code",
   "execution_count": null,
   "metadata": {},
   "outputs": [],
   "source": [
    "%%time\n",
    "if RUN_DNN_SLIDING_SUM_ZEROS:\n",
    "    nn = 'DNN_SLIDING_SUM_ZEROS'\n",
    "    trials_out[nn] = trial(nn=nn, N_range=N_RANGE, random_states=RANDOM_STATES)\n",
    "    debug_summary(trials_out[nn])"
   ]
  },
  {
   "source": [
    "# DNN win test\n",
    "Test to show that 'data_hstack_win_sum()' is working correctly"
   ],
   "cell_type": "markdown",
   "metadata": {}
  },
  {
   "cell_type": "code",
   "execution_count": null,
   "metadata": {},
   "outputs": [],
   "source": [
    "X_win_test = np.array([ [1,2,3,4,5,6,7], [1,2,3,4,5,6,7] ])\n",
    "\n",
    "print('X_win_test:')\n",
    "print(X_win_test)\n",
    "\n",
    "OUT_win_test, window_sizes = data_hstack_win_sum(X_win_test)\n",
    "\n",
    "print()\n",
    "print('window_sizes:', window_sizes)\n",
    "\n",
    "print()\n",
    "print('OUT_win_test:')\n",
    "print(OUT_win_test)"
   ]
  },
  {
   "source": [
    "# DNN win"
   ],
   "cell_type": "markdown",
   "metadata": {}
  },
  {
   "cell_type": "code",
   "execution_count": null,
   "metadata": {},
   "outputs": [],
   "source": [
    "%%time\n",
    "if RUN_DNN_WIN:\n",
    "    nn = 'DNN_WIN'\n",
    "    trials_out[nn] = trial(nn=nn, N_range=N_RANGE, random_states=RANDOM_STATES)\n",
    "    debug_summary(trials_out[nn])"
   ]
  },
  {
   "source": [
    "# DNN win zeros"
   ],
   "cell_type": "markdown",
   "metadata": {}
  },
  {
   "cell_type": "code",
   "execution_count": null,
   "metadata": {},
   "outputs": [],
   "source": [
    "%%time\n",
    "if RUN_DNN_WIN_ZEROS:\n",
    "    nn = 'DNN_WIN_ZEROS'\n",
    "    trials_out[nn] = trial(nn=nn, N_range=N_RANGE, random_states=RANDOM_STATES)\n",
    "    debug_summary(trials_out[nn])"
   ]
  },
  {
   "source": [
    "# CNN"
   ],
   "cell_type": "markdown",
   "metadata": {}
  },
  {
   "cell_type": "code",
   "execution_count": null,
   "metadata": {},
   "outputs": [],
   "source": [
    "%%time\n",
    "if RUN_CNN:\n",
    "    nn = 'CNN'\n",
    "    trials_out[nn] = trial(nn=nn, N_range=N_RANGE, random_states=RANDOM_STATES)\n",
    "    debug_summary(trials_out[nn])"
   ]
  },
  {
   "source": [
    "# CNN zeros"
   ],
   "cell_type": "markdown",
   "metadata": {}
  },
  {
   "cell_type": "code",
   "execution_count": null,
   "metadata": {},
   "outputs": [],
   "source": [
    "%%time\n",
    "if RUN_CNN_ZEROS:\n",
    "    nn = 'CNN_ZEROS'\n",
    "    trials_out[nn] = trial(nn=nn, N_range=N_RANGE, random_states=RANDOM_STATES)\n",
    "    debug_summary(trials_out[nn])"
   ]
  },
  {
   "source": [
    "# CNN multi-layer"
   ],
   "cell_type": "markdown",
   "metadata": {}
  },
  {
   "cell_type": "code",
   "execution_count": null,
   "metadata": {},
   "outputs": [],
   "source": [
    "%%time\n",
    "if RUN_CNNM:\n",
    "    nn = 'CNNM'\n",
    "    trials_out[nn] = trial(nn=nn, N_range=N_RANGE, random_states=RANDOM_STATES)\n",
    "    debug_summary(trials_out[nn])"
   ]
  },
  {
   "source": [
    "# CNN multi-layer + zeros"
   ],
   "cell_type": "markdown",
   "metadata": {}
  },
  {
   "cell_type": "code",
   "execution_count": null,
   "metadata": {},
   "outputs": [],
   "source": [
    "%%time\n",
    "if RUN_CNNM:\n",
    "    nn = 'CNNM_ZEROS'\n",
    "    trials_out[nn] = trial(nn=nn, N_range=N_RANGE, random_states=RANDOM_STATES)\n",
    "    debug_summary(trials_out[nn])"
   ]
  },
  {
   "source": [
    "# plot log(N) vs sqrt_mse (all trials)"
   ],
   "cell_type": "markdown",
   "metadata": {}
  },
  {
   "cell_type": "code",
   "execution_count": null,
   "metadata": {},
   "outputs": [],
   "source": [
    "def plot_sqrt_mse(plot_std=False):\n",
    "    \n",
    "    plt.figure(figsize=(15, 4))\n",
    "    \n",
    "    ax1 = plt.subplot(1, 2, 1)\n",
    "\n",
    "    ax1.set(title='sqrt_mse', xlabel='log(N)', ylabel='sqrt_mse')\n",
    "\n",
    "    colors = iter(cm.rainbow(np.linspace(0, 1, len(trials_out))))\n",
    "\n",
    "    for trial in trials_out:\n",
    "        out = trials_out[trial]\n",
    "        x = np.log10(out['a_N'])\n",
    "        y = out['a_sqrt_mse']\n",
    "        c = next(colors)\n",
    "        ax1.plot(x, y, linewidth=0.5, c=c, marker='o', markersize=3, label=trial)\n",
    "        if plot_std:\n",
    "            std = out['a_std_abs_errors']\n",
    "            ax1.fill_between(x, y - std, y + std, facecolor=colors[i], alpha=0.3)\n",
    "    \n",
    "    plt.legend(loc='upper right')\n",
    "\n",
    "plot_sqrt_mse()\n"
   ]
  },
  {
   "source": [
    "# print and save statistics (yulesimon.csv)"
   ],
   "cell_type": "markdown",
   "metadata": {}
  },
  {
   "cell_type": "code",
   "execution_count": null,
   "metadata": {},
   "outputs": [],
   "source": [
    "dict_list = []\n",
    "for trial in trials_out:\n",
    "    t = trials_out[trial]\n",
    "    dict_list.append(('N', t['a_N']))\n",
    "for trial in trials_out:\n",
    "    t = trials_out[trial]\n",
    "    dict_list.append(('sqrt_mse_{}'.format(trial), t['a_sqrt_mse']))\n",
    "for trial in trials_out:\n",
    "    t = trials_out[trial]\n",
    "    dict_list.append(('std_{}'.format(trial), t['a_std_abs_errors']))\n",
    "for trial in trials_out:\n",
    "    t = trials_out[trial]\n",
    "    dict_list.append(('avg_abs_error_{}'.format(trial), t['a_avg_abs_errors']))\n",
    "\n",
    "df = pd.DataFrame(dict(dict_list))\n",
    "\n",
    "df = df.set_index('N')\n",
    "\n",
    "df.to_csv('yulesimon.csv', float_format='%.5f')\n",
    "\n",
    "columns=[]\n",
    "for t in trials_out:\n",
    "    columns.append(('sqrt_MSE', trial))\n",
    "for t in trials_out:\n",
    "    columns.append(('STD', trial))\n",
    "for t in trials_out:\n",
    "    columns.append(('avg_abs_err', trial))\n",
    "\n",
    "df.columns=pd.MultiIndex.from_tuples(columns)\n",
    "\n",
    "print('err = y_test - y_pred')\n",
    "df"
   ]
  },
  {
   "source": [
    "## $mse$ comparison"
   ],
   "cell_type": "markdown",
   "metadata": {}
  },
  {
   "cell_type": "code",
   "execution_count": null,
   "metadata": {},
   "outputs": [],
   "source": [
    "dict_list_mse = []\n",
    "for trial in trials_out:\n",
    "    t = trials_out[trial]\n",
    "    dict_list_mse.append(('N', t['a_N']))\n",
    "    dict_list_mse.append((f'{trial}', t['a_sqrt_mse']))\n",
    "\n",
    "df = pd.DataFrame(dict(dict_list_mse))\n",
    "\n",
    "df = df.set_index('N')\n",
    "\n",
    "df"
   ]
  },
  {
   "source": [
    "## $STD$ comparison"
   ],
   "cell_type": "markdown",
   "metadata": {}
  },
  {
   "cell_type": "code",
   "execution_count": null,
   "metadata": {},
   "outputs": [],
   "source": [
    "dict_list_std = []\n",
    "for trial in trials_out:\n",
    "    t = trials_out[trial]\n",
    "    dict_list_std.append(('N', t['a_N']))\n",
    "    dict_list_std.append((f'{trial}', t['a_std_abs_errors']))\n",
    "\n",
    "df = pd.DataFrame(dict(dict_list_std))\n",
    "\n",
    "df = df.set_index('N')\n",
    "print(df)"
   ]
  },
  {
   "source": [
    "## T-TEST"
   ],
   "cell_type": "markdown",
   "metadata": {}
  },
  {
   "cell_type": "code",
   "execution_count": 3,
   "metadata": {},
   "outputs": [
    {
     "output_type": "stream",
     "name": "stdout",
     "text": [
      "generating data, random-state: 49\n",
      "input.shape: (10000, 8)\n",
      "training model: DNN...\n",
      "model: DNN - sqrt_mse: 0.03384760767221451\n",
      "training model: CNN...\n",
      "model: CNN - sqrt_mse: 0.02646857127547264\n",
      "generating data, random-state: 8\n",
      "input.shape: (10000, 12)\n",
      "training model: DNN...\n",
      "model: DNN - sqrt_mse: 0.03222949430346489\n",
      "training model: CNN...\n",
      "model: CNN - sqrt_mse: 0.026133036240935326\n",
      "generating data, random-state: 29\n",
      "input.shape: (10000, 22)\n",
      "training model: DNN...\n",
      "model: DNN - sqrt_mse: 0.025474390015006065\n",
      "training model: CNN...\n",
      "model: CNN - sqrt_mse: 0.023727882653474808\n",
      "generating data, random-state: 70\n",
      "input.shape: (10000, 26)\n",
      "training model: DNN...\n",
      "model: DNN - sqrt_mse: 0.018664028495550156\n",
      "training model: CNN...\n",
      "model: CNN - sqrt_mse: 0.02234259620308876\n",
      "generating data, random-state: 15\n",
      "input.shape: (10000, 10)\n",
      "training model: DNN...\n",
      "model: DNN - sqrt_mse: 0.030891451984643936\n",
      "training model: CNN...\n",
      "model: CNN - sqrt_mse: 0.029560349881649017\n",
      "generating data, random-state: 26\n",
      "input.shape: (10000, 20)\n",
      "training model: DNN...\n",
      "model: DNN - sqrt_mse: 0.01701080985367298\n",
      "training model: CNN...\n",
      "model: CNN - sqrt_mse: 0.016411956399679184\n",
      "generating data, random-state: 95\n",
      "input.shape: (10000, 45)\n",
      "training model: DNN...\n",
      "model: DNN - sqrt_mse: 0.01489738654345274\n",
      "training model: CNN...\n",
      "model: CNN - sqrt_mse: 0.011327946558594704\n",
      "generating data, random-state: 97\n",
      "input.shape: (10000, 52)\n",
      "training model: DNN...\n",
      "model: DNN - sqrt_mse: 0.01568741165101528\n",
      "training model: CNN...\n",
      "model: CNN - sqrt_mse: 0.02285930886864662\n",
      "generating data, random-state: 24\n",
      "input.shape: (10000, 14)\n",
      "training model: DNN...\n",
      "model: DNN - sqrt_mse: 0.040347401052713394\n",
      "training model: CNN...\n",
      "model: CNN - sqrt_mse: 0.041154757142066956\n",
      "generating data, random-state: 91\n",
      "input.shape: (10000, 13)\n",
      "training model: DNN...\n",
      "model: DNN - sqrt_mse: 0.015806516632437706\n",
      "training model: CNN...\n",
      "model: CNN - sqrt_mse: 0.014669310301542282\n",
      "avg(sqrt_mse): 0.02449\n",
      "avg(sqrt_mse): 0.02347\n",
      "(paired) t-test result: t = 0.75100  p = 0.47183\n"
     ]
    },
    {
     "output_type": "execute_result",
     "data": {
      "text/plain": [
       "(0.7510009030479406, 0.4718310161781093)"
      ]
     },
     "metadata": {},
     "execution_count": 3
    }
   ],
   "source": [
    "t, p = model_compare(nn1='DNN', nn2='CNN', num_tests=TTEST_NUM_TESTS, N_pow=6)"
   ]
  },
  {
   "cell_type": "code",
   "execution_count": 12,
   "metadata": {},
   "outputs": [
    {
     "output_type": "stream",
     "name": "stdout",
     "text": [
      "generating data, random-state: 35\n",
      "input.shape: (10000, 18)\n",
      "training model: DNN...\n",
      "model: DNN - sqrt_mse: 0.02048092521727085\n",
      "training model: CNN...\n",
      "model: CNN - sqrt_mse: 0.019196897745132446\n",
      "generating data, random-state: 70\n",
      "input.shape: (10000, 26)\n",
      "training model: DNN...\n",
      "model: DNN - sqrt_mse: 0.018664028495550156\n",
      "training model: CNN...\n",
      "model: CNN - sqrt_mse: 0.02234259620308876\n",
      "generating data, random-state: 15\n",
      "input.shape: (10000, 10)\n",
      "training model: DNN...\n",
      "model: DNN - sqrt_mse: 0.030891451984643936\n",
      "training model: CNN...\n",
      "model: CNN - sqrt_mse: 0.029560349881649017\n",
      "generating data, random-state: 26\n",
      "input.shape: (10000, 20)\n",
      "training model: DNN...\n",
      "model: DNN - sqrt_mse: 0.01701080985367298\n",
      "training model: CNN...\n",
      "model: CNN - sqrt_mse: 0.016411956399679184\n",
      "generating data, random-state: 95\n",
      "input.shape: (10000, 45)\n",
      "training model: DNN...\n",
      "model: DNN - sqrt_mse: 0.01489738654345274\n",
      "training model: CNN...\n",
      "model: CNN - sqrt_mse: 0.011327946558594704\n",
      "avg(sqrt_mse): 0.02039\n",
      "avg(sqrt_mse): 0.01977\n",
      "a: [0.020480925, 0.018664028, 0.030891452, 0.01701081, 0.014897387]\n",
      "b: [0.019196898, 0.022342596, 0.02956035, 0.016411956, 0.011327947]\n",
      "(paired) t-test result: t = 0.52366  p = 0.62819\n"
     ]
    },
    {
     "output_type": "execute_result",
     "data": {
      "text/plain": [
       "(0.5236588157161924, 0.6281883666528589)"
      ]
     },
     "metadata": {},
     "execution_count": 12
    }
   ],
   "source": [
    "t, p = model_compare(nn1='DNN', nn2='CNN', num_tests=5, N_pow=6)"
   ]
  },
  {
   "cell_type": "code",
   "execution_count": null,
   "metadata": {},
   "outputs": [],
   "source": [
    "t, p = model_compare(nn1='DNN', nn2='CNN', num_tests=5, N_pow=7)"
   ]
  },
  {
   "cell_type": "code",
   "execution_count": 14,
   "metadata": {},
   "outputs": [
    {
     "output_type": "stream",
     "name": "stdout",
     "text": [
      "generating data, random-state: 35\n",
      "input.shape: (10000, 149)\n",
      "training model: DNN...\n",
      "model: DNN - sqrt_mse: 0.011718248017132282\n",
      "training model: CNN...\n",
      "model: CNN - sqrt_mse: 0.004520948976278305\n",
      "generating data, random-state: 70\n",
      "input.shape: (10000, 23)\n",
      "training model: DNN...\n",
      "model: DNN - sqrt_mse: 0.011269272305071354\n",
      "training model: CNN...\n",
      "model: CNN - sqrt_mse: 0.008883754722774029\n",
      "generating data, random-state: 15\n",
      "input.shape: (10000, 41)\n",
      "training model: DNN...\n",
      "model: DNN - sqrt_mse: 0.01341298595070839\n",
      "training model: CNN...\n",
      "model: CNN - sqrt_mse: 0.010129159316420555\n",
      "generating data, random-state: 26\n",
      "input.shape: (10000, 21)\n",
      "training model: DNN...\n",
      "model: DNN - sqrt_mse: 0.010682626627385616\n",
      "training model: CNN...\n",
      "model: CNN - sqrt_mse: 0.009267493151128292\n",
      "generating data, random-state: 95\n",
      "input.shape: (10000, 27)\n",
      "training model: DNN...\n",
      "model: DNN - sqrt_mse: 0.014745078049600124\n",
      "training model: CNN...\n",
      "model: CNN - sqrt_mse: 0.009644766338169575\n",
      "avg(sqrt_mse): 0.01237\n",
      "avg(sqrt_mse): 0.00849\n",
      "a: [0.011718248, 0.011269272, 0.013412986, 0.010682627, 0.014745078]\n",
      "b: [0.004520949, 0.008883755, 0.010129159, 0.009267493, 0.009644766]\n",
      "(paired) t-test result: t = 3.76884  p = 0.01962\n"
     ]
    },
    {
     "output_type": "execute_result",
     "data": {
      "text/plain": [
       "(3.7688415615335167, 0.019624120299666058)"
      ]
     },
     "metadata": {},
     "execution_count": 14
    }
   ],
   "source": [
    "t, p = model_compare(nn1='DNN', nn2='CNN', num_tests=5, N_pow=8)"
   ]
  },
  {
   "cell_type": "code",
   "execution_count": 13,
   "metadata": {},
   "outputs": [
    {
     "output_type": "stream",
     "name": "stdout",
     "text": [
      "generating data, random-state: 97\n",
      "input.shape: (10000, 59)\n",
      "training model: DNN...\n",
      "model: DNN - sqrt_mse: 0.012684240005910397\n",
      "training model: CNN...\n",
      "model: CNN - sqrt_mse: 0.0021043620072305202\n",
      "generating data, random-state: 24\n",
      "input.shape: (10000, 35)\n",
      "training model: DNN...\n",
      "model: DNN - sqrt_mse: 0.012221936136484146\n",
      "training model: CNN...\n",
      "model: CNN - sqrt_mse: 0.00942912045866251\n",
      "generating data, random-state: 91\n",
      "input.shape: (10000, 45)\n",
      "training model: DNN...\n",
      "model: DNN - sqrt_mse: 0.008246810175478458\n",
      "training model: CNN...\n",
      "model: CNN - sqrt_mse: 0.002478939015418291\n",
      "generating data, random-state: 10\n",
      "input.shape: (10000, 130)\n",
      "training model: DNN...\n",
      "model: DNN - sqrt_mse: 0.009596068412065506\n",
      "training model: CNN...\n",
      "model: CNN - sqrt_mse: 0.0024331030435860157\n",
      "generating data, random-state: 73\n",
      "input.shape: (10000, 45)\n",
      "training model: DNN...\n",
      "model: DNN - sqrt_mse: 0.009359772317111492\n",
      "training model: CNN...\n",
      "model: CNN - sqrt_mse: 0.004051082767546177\n",
      "avg(sqrt_mse): 0.01042\n",
      "avg(sqrt_mse): 0.00410\n",
      "a: [0.01268424, 0.012221936, 0.00824681, 0.009596068, 0.009359772]\n",
      "b: [0.002104362, 0.00942912, 0.002478939, 0.002433103, 0.004051083]\n",
      "(paired) t-test result: t = 4.95017  p = 0.00776\n"
     ]
    },
    {
     "output_type": "execute_result",
     "data": {
      "text/plain": [
       "(4.950165771263389, 0.007760287902238209)"
      ]
     },
     "metadata": {},
     "execution_count": 13
    }
   ],
   "source": [
    "t, p = model_compare(nn1='DNN', nn2='CNN', num_tests=5, N_pow=10)"
   ]
  },
  {
   "cell_type": "code",
   "execution_count": 4,
   "metadata": {},
   "outputs": [
    {
     "output_type": "stream",
     "name": "stdout",
     "text": [
      "generating data, random-state: 10\n",
      "input.shape: (10000, 15)\n",
      "training model: DNN...\n",
      "model: DNN - sqrt_mse: 0.02336922101676464\n",
      "training model: DNN_ZEROS...\n",
      "model: DNN_ZEROS - sqrt_mse: 0.024510515853762627\n",
      "generating data, random-state: 73\n",
      "input.shape: (10000, 20)\n",
      "training model: DNN...\n",
      "model: DNN - sqrt_mse: 0.03428180143237114\n",
      "training model: DNN_ZEROS...\n",
      "model: DNN_ZEROS - sqrt_mse: 0.0376528725028038\n",
      "generating data, random-state: 35\n",
      "input.shape: (10000, 18)\n",
      "training model: DNN...\n",
      "model: DNN - sqrt_mse: 0.02048092521727085\n",
      "training model: DNN_ZEROS...\n",
      "model: DNN_ZEROS - sqrt_mse: 0.020383810624480247\n",
      "generating data, random-state: 70\n",
      "input.shape: (10000, 26)\n",
      "training model: DNN...\n",
      "model: DNN - sqrt_mse: 0.018664028495550156\n",
      "training model: DNN_ZEROS...\n",
      "model: DNN_ZEROS - sqrt_mse: 0.022514985874295235\n",
      "generating data, random-state: 15\n",
      "input.shape: (10000, 10)\n",
      "training model: DNN...\n",
      "model: DNN - sqrt_mse: 0.030891451984643936\n",
      "training model: DNN_ZEROS...\n",
      "model: DNN_ZEROS - sqrt_mse: 0.031407203525304794\n",
      "generating data, random-state: 26\n",
      "input.shape: (10000, 20)\n",
      "training model: DNN...\n",
      "model: DNN - sqrt_mse: 0.01701080985367298\n",
      "training model: DNN_ZEROS...\n",
      "model: DNN_ZEROS - sqrt_mse: 0.018823804333806038\n",
      "generating data, random-state: 95\n",
      "input.shape: (10000, 45)\n",
      "training model: DNN...\n",
      "model: DNN - sqrt_mse: 0.01489738654345274\n",
      "training model: DNN_ZEROS...\n",
      "model: DNN_ZEROS - sqrt_mse: 0.014123738743364811\n",
      "generating data, random-state: 97\n",
      "input.shape: (10000, 52)\n",
      "training model: DNN...\n",
      "model: DNN - sqrt_mse: 0.01568741165101528\n",
      "training model: DNN_ZEROS...\n",
      "model: DNN_ZEROS - sqrt_mse: 0.014350087381899357\n",
      "generating data, random-state: 24\n",
      "input.shape: (10000, 14)\n",
      "training model: DNN...\n",
      "model: DNN - sqrt_mse: 0.040347401052713394\n",
      "training model: DNN_ZEROS...\n",
      "model: DNN_ZEROS - sqrt_mse: 0.03970111533999443\n",
      "generating data, random-state: 91\n",
      "input.shape: (10000, 13)\n",
      "training model: DNN...\n",
      "model: DNN - sqrt_mse: 0.015806516632437706\n",
      "training model: DNN_ZEROS...\n",
      "model: DNN_ZEROS - sqrt_mse: 0.015153883025050163\n",
      "avg(sqrt_mse): 0.02314\n",
      "avg(sqrt_mse): 0.02386\n",
      "(paired) t-test result: t = -1.26300  p = 0.23833\n"
     ]
    },
    {
     "output_type": "execute_result",
     "data": {
      "text/plain": [
       "(-1.263001905040609, 0.23832707990524132)"
      ]
     },
     "metadata": {},
     "execution_count": 4
    }
   ],
   "source": [
    "t, p = model_compare(nn1='DNN', nn2='DNN_ZEROS', num_tests=TTEST_NUM_TESTS, N_pow=6)"
   ]
  },
  {
   "cell_type": "code",
   "execution_count": null,
   "metadata": {},
   "outputs": [],
   "source": [
    "t, p = model_compare(nn1='DNN', nn2='DNN_ZEROS', num_tests=5, N_pow=8)"
   ]
  },
  {
   "cell_type": "code",
   "execution_count": 5,
   "metadata": {},
   "outputs": [
    {
     "output_type": "stream",
     "name": "stdout",
     "text": [
      "generating data, random-state: 10\n",
      "input.shape: (10000, 15)\n",
      "training model: CNN...\n",
      "model: CNN - sqrt_mse: 0.022210270166397095\n",
      "training model: CNN_ZEROS...\n",
      "model: CNN_ZEROS - sqrt_mse: 0.022039160132408142\n",
      "generating data, random-state: 73\n",
      "input.shape: (10000, 20)\n",
      "training model: CNN...\n",
      "model: CNN - sqrt_mse: 0.03397931903600693\n",
      "training model: CNN_ZEROS...\n",
      "model: CNN_ZEROS - sqrt_mse: 0.03395166993141174\n",
      "generating data, random-state: 35\n",
      "input.shape: (10000, 18)\n",
      "training model: CNN...\n",
      "model: CNN - sqrt_mse: 0.019196897745132446\n",
      "training model: CNN_ZEROS...\n",
      "model: CNN_ZEROS - sqrt_mse: 0.019657129421830177\n",
      "generating data, random-state: 70\n",
      "input.shape: (10000, 26)\n",
      "training model: CNN...\n",
      "model: CNN - sqrt_mse: 0.02234259620308876\n",
      "training model: CNN_ZEROS...\n",
      "model: CNN_ZEROS - sqrt_mse: 0.0177319273352623\n",
      "generating data, random-state: 15\n",
      "input.shape: (10000, 10)\n",
      "training model: CNN...\n",
      "model: CNN - sqrt_mse: 0.029560349881649017\n",
      "training model: CNN_ZEROS...\n",
      "model: CNN_ZEROS - sqrt_mse: 0.029727168381214142\n",
      "generating data, random-state: 26\n",
      "input.shape: (10000, 20)\n",
      "training model: CNN...\n",
      "model: CNN - sqrt_mse: 0.016411956399679184\n",
      "training model: CNN_ZEROS...\n",
      "model: CNN_ZEROS - sqrt_mse: 0.015394516289234161\n",
      "generating data, random-state: 95\n",
      "input.shape: (10000, 45)\n",
      "training model: CNN...\n",
      "model: CNN - sqrt_mse: 0.011327946558594704\n",
      "training model: CNN_ZEROS...\n",
      "model: CNN_ZEROS - sqrt_mse: 0.011226354166865349\n",
      "generating data, random-state: 97\n",
      "input.shape: (10000, 52)\n",
      "training model: CNN...\n",
      "model: CNN - sqrt_mse: 0.02285930886864662\n",
      "training model: CNN_ZEROS...\n",
      "model: CNN_ZEROS - sqrt_mse: 0.020015548914670944\n",
      "generating data, random-state: 24\n",
      "input.shape: (10000, 14)\n",
      "training model: CNN...\n",
      "model: CNN - sqrt_mse: 0.041154757142066956\n",
      "training model: CNN_ZEROS...\n",
      "model: CNN_ZEROS - sqrt_mse: 0.039675116539001465\n",
      "generating data, random-state: 91\n",
      "input.shape: (10000, 13)\n",
      "training model: CNN...\n",
      "model: CNN - sqrt_mse: 0.014669310301542282\n",
      "training model: CNN_ZEROS...\n",
      "model: CNN_ZEROS - sqrt_mse: 0.018616752699017525\n",
      "avg(sqrt_mse): 0.02337\n",
      "avg(sqrt_mse): 0.02280\n",
      "(paired) t-test result: t = 0.80104  p = 0.44374\n"
     ]
    },
    {
     "output_type": "execute_result",
     "data": {
      "text/plain": [
       "(0.801044748432294, 0.4437381523694527)"
      ]
     },
     "metadata": {},
     "execution_count": 5
    }
   ],
   "source": [
    "t, p = model_compare(nn1='CNN', nn2='CNN_ZEROS', num_tests=TTEST_NUM_TESTS, N_pow=6)"
   ]
  },
  {
   "cell_type": "code",
   "execution_count": null,
   "metadata": {},
   "outputs": [],
   "source": [
    "t, p = model_compare(nn1='CNN', nn2='CNN_ZEROS', num_tests=5, N_pow=8)"
   ]
  },
  {
   "cell_type": "code",
   "execution_count": 6,
   "metadata": {},
   "outputs": [
    {
     "output_type": "stream",
     "name": "stdout",
     "text": [
      "generating data, random-state: 10\n",
      "input.shape: (10000, 15)\n",
      "training model: CNN...\n",
      "model: CNN - sqrt_mse: 0.022210270166397095\n",
      "training model: CNNM...\n",
      "model: CNNM - sqrt_mse: 0.02235337533056736\n",
      "generating data, random-state: 73\n",
      "input.shape: (10000, 20)\n",
      "training model: CNN...\n",
      "model: CNN - sqrt_mse: 0.03397931903600693\n",
      "training model: CNNM...\n",
      "model: CNNM - sqrt_mse: 0.052472323179244995\n",
      "generating data, random-state: 35\n",
      "input.shape: (10000, 18)\n",
      "training model: CNN...\n",
      "model: CNN - sqrt_mse: 0.019196897745132446\n",
      "training model: CNNM...\n",
      "model: CNNM - sqrt_mse: 0.020855123177170753\n",
      "generating data, random-state: 70\n",
      "input.shape: (10000, 26)\n",
      "training model: CNN...\n",
      "model: CNN - sqrt_mse: 0.02234259620308876\n",
      "training model: CNNM...\n",
      "model: CNNM - sqrt_mse: 0.015498194843530655\n",
      "generating data, random-state: 15\n",
      "input.shape: (10000, 10)\n",
      "training model: CNN...\n",
      "model: CNN - sqrt_mse: 0.029560349881649017\n",
      "training model: CNNM...\n",
      "model: CNNM - sqrt_mse: 0.029274381697177887\n",
      "generating data, random-state: 26\n",
      "input.shape: (10000, 20)\n",
      "training model: CNN...\n",
      "model: CNN - sqrt_mse: 0.016411956399679184\n",
      "training model: CNNM...\n",
      "model: CNNM - sqrt_mse: 0.015912070870399475\n",
      "generating data, random-state: 95\n",
      "input.shape: (10000, 45)\n",
      "training model: CNN...\n",
      "model: CNN - sqrt_mse: 0.011327946558594704\n",
      "training model: CNNM...\n",
      "model: CNNM - sqrt_mse: 0.011993414722383022\n",
      "generating data, random-state: 97\n",
      "input.shape: (10000, 52)\n",
      "training model: CNN...\n",
      "model: CNN - sqrt_mse: 0.02285930886864662\n",
      "training model: CNNM...\n",
      "model: CNNM - sqrt_mse: 0.0143613051623106\n",
      "generating data, random-state: 24\n",
      "input.shape: (10000, 14)\n",
      "training model: CNN...\n",
      "model: CNN - sqrt_mse: 0.041154757142066956\n",
      "training model: CNNM...\n",
      "model: CNNM - sqrt_mse: 0.03987065702676773\n",
      "generating data, random-state: 91\n",
      "input.shape: (10000, 13)\n",
      "training model: CNN...\n",
      "model: CNN - sqrt_mse: 0.014669310301542282\n",
      "training model: CNNM...\n",
      "model: CNNM - sqrt_mse: 0.014283795841038227\n",
      "avg(sqrt_mse): 0.02337\n",
      "avg(sqrt_mse): 0.02369\n",
      "(paired) t-test result: t = -0.13905  p = 0.89247\n"
     ]
    },
    {
     "output_type": "execute_result",
     "data": {
      "text/plain": [
       "(-0.1390472256112209, 0.8924745179547484)"
      ]
     },
     "metadata": {},
     "execution_count": 6
    }
   ],
   "source": [
    "t, p = model_compare(nn1='CNN', nn2='CNNM', num_tests=TTEST_NUM_TESTS, N_pow=6)"
   ]
  },
  {
   "cell_type": "code",
   "execution_count": null,
   "metadata": {},
   "outputs": [],
   "source": [
    "t, p = model_compare(nn1='CNN', nn2='CNNM', num_tests=5, N_pow=8)"
   ]
  }
 ],
 "metadata": {
  "kernelspec": {
   "display_name": "ou",
   "language": "python",
   "name": "ou"
  },
  "language_info": {
   "codemirror_mode": {
    "name": "ipython",
    "version": 3
   },
   "file_extension": ".py",
   "mimetype": "text/x-python",
   "name": "python",
   "nbconvert_exporter": "python",
   "pygments_lexer": "ipython3",
   "version": "3.8.7-final"
  }
 },
 "nbformat": 4,
 "nbformat_minor": 4
}