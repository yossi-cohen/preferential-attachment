{
 "cells": [
  {
   "cell_type": "code",
   "execution_count": null,
   "metadata": {},
   "outputs": [],
   "source": [
    "%run common.ipynb"
   ]
  },
  {
   "cell_type": "markdown",
   "metadata": {},
   "source": [
    "# Trials"
   ]
  },
  {
   "cell_type": "code",
   "execution_count": null,
   "metadata": {
    "tags": []
   },
   "outputs": [],
   "source": [
    "def trial(nn='CNN', N_range=[5,6], random_states=[0, 17]):\n",
    "    print('Processing...')\n",
    "    print()\n",
    "\n",
    "    a_N = np.array([])\n",
    "    a_sqrt_mse = np.array([])\n",
    "    a_avg_abs_errors = np.array([])\n",
    "    a_std_abs_errors = np.array([])\n",
    "\n",
    "    # change N [32..2048]\n",
    "    for i in N_range:\n",
    "\n",
    "        N = 2**i\n",
    "\n",
    "        a_N = np.append(a_N, N)\n",
    "\n",
    "        # data generation (fix random state)\n",
    "        DATA_RANDOM_STATE = 0\n",
    "        fix_random(seed=DATA_RANDOM_STATE)\n",
    "        X, y, M = generate_data(N=N, \n",
    "                                num_alphas=100, \n",
    "                                samples_per_alpha=100, \n",
    "                                random_alpha=True, \n",
    "                                max_M_only=False, \n",
    "                                random_state=DATA_RANDOM_STATE)\n",
    "\n",
    "        # reshape X for Conv1D\n",
    "        if 'CNN' == nn:\n",
    "            X = X.reshape(X.shape[0], X.shape[1], 1)\n",
    "        elif 'DNN2' == nn:\n",
    "            X = data_hstack_windows_sum(X, window_sizes=None)\n",
    "\n",
    "        # split train/test\n",
    "        print('input.shape:', X.shape)\n",
    "        X_train, X_test, y_train, y_test = train_test_split(X, y, test_size=0.25, random_state=DATA_RANDOM_STATE)\n",
    "\n",
    "        # create model\n",
    "        if 'CNN' == nn:\n",
    "            model = create_cnn_model(X.shape[1], filters=32)\n",
    "        elif 'CNNM' == nn: # CNN-multi-layers\n",
    "            model = create_cnn_model_multi_layer(X.shape[1], filters=32)\n",
    "        elif nn.startswith('DNN'):\n",
    "            model = create_dnn_model(X_train.shape[1], \n",
    "                            layers=[256,256], \n",
    "                            activation='relu', \n",
    "                            init=keras.initializers.HeUniform(seed=DATA_RANDOM_STATE), \n",
    "                            batch_normalization=True, \n",
    "                            dropout=0.0, \n",
    "                            optimizer=Adam(lr=1e-2), \n",
    "                            k_reg=True, \n",
    "                            k_reg_lr=1e-5, \n",
    "                            a_reg=True, \n",
    "                            a_reg_lr=1e-5)\n",
    "        else:\n",
    "            raise RuntimeError(\"nn: '{}' not supported\".format(nn))\n",
    "\n",
    "        # average sqrt_mse among different random states (fixed N)\n",
    "        avg_sqrt_mse = 0\n",
    "\n",
    "        # array of absolute errors\n",
    "        avg_abs_errors = np.zeros_like(y_test)\n",
    "\n",
    "        # change random state\n",
    "        for rs in random_states:\n",
    "\n",
    "            # fix random\n",
    "            fix_random(seed=rs)\n",
    "        \n",
    "            # training\n",
    "            model, history = train(model, X_train, y_train, batch_size=32, random_state=rs)\n",
    "\n",
    "            # predict\n",
    "            y_pred = model.predict(X_test).flatten()\n",
    "\n",
    "            # mse\n",
    "            mse = mean_squared_error(y_test, y_pred)\n",
    "\n",
    "            # sqrt_mse\n",
    "            sqrt_mse = np.sqrt(mse)\n",
    "\n",
    "            # avg_sqrt_mse (accumulator)\n",
    "            avg_sqrt_mse += sqrt_mse\n",
    "            \n",
    "            #print('N = {}, M = {}, random_state = {}    =>    sqrt_mse = {:.6f}'.format(N, M, rs, sqrt_mse))\n",
    "\n",
    "            # absolute errors\n",
    "            avg_abs_errors += np.abs(y_test - y_pred)\n",
    "\n",
    "        # avg errors across random_states\n",
    "        avg_abs_errors = avg_abs_errors / len(random_states)\n",
    "        \n",
    "        # avg errors across samples (t_test)\n",
    "        a_avg_abs_errors = np.append(a_avg_abs_errors, np.average(avg_abs_errors))\n",
    "\n",
    "        # std across samples\n",
    "        a_std_abs_errors = np.append(a_std_abs_errors, np.std(avg_abs_errors))\n",
    "\n",
    "        # avg_sqrt_mse\n",
    "        avg_sqrt_mse = avg_sqrt_mse / len(random_states)\n",
    "        a_sqrt_mse = np.append(a_sqrt_mse, avg_sqrt_mse)\n",
    "        print('N: {} \\t avg_sqrt_mse = {:.6f}'.format(N, avg_sqrt_mse))\n",
    "        print()\n",
    "\n",
    "    return a_N, a_sqrt_mse, a_avg_abs_errors, a_std_abs_errors"
   ]
  },
  {
   "source": [
    "# CONSTANTS"
   ],
   "cell_type": "markdown",
   "metadata": {}
  },
  {
   "cell_type": "code",
   "execution_count": null,
   "metadata": {},
   "outputs": [],
   "source": [
    "N_RANGE=[5,6,7]; RANDOM_STATES=[0, 17]\n",
    "# N_RANGE=range(5, 12); RANDOM_STATES=[0, 3, 5, 8, 11, 16, 17, 20, 21, 24]"
   ]
  },
  {
   "source": [
    "# DNN trials"
   ],
   "cell_type": "markdown",
   "metadata": {}
  },
  {
   "cell_type": "code",
   "execution_count": null,
   "metadata": {
    "tags": []
   },
   "outputs": [],
   "source": [
    "a_N, a_sqrt_mse_dnn, a_avg_abs_errors_dnn, a_std_abs_errors_dnn = trial(nn='DNN', N_range=N_RANGE, random_states=RANDOM_STATES)"
   ]
  },
  {
   "source": [
    "# CNN trials"
   ],
   "cell_type": "markdown",
   "metadata": {}
  },
  {
   "cell_type": "code",
   "execution_count": null,
   "metadata": {},
   "outputs": [],
   "source": [
    "a_N, a_sqrt_mse_cnn, a_avg_abs_errors_cnn, a_std_abs_errors_cnn = trial(nn='CNN', N_range=N_RANGE, random_states=RANDOM_STATES)"
   ]
  },
  {
   "source": [
    "# CNN multi-layer trials"
   ],
   "cell_type": "markdown",
   "metadata": {}
  },
  {
   "cell_type": "code",
   "execution_count": null,
   "metadata": {},
   "outputs": [],
   "source": [
    "# TODO\n",
    "# a_N, a_sqrt_mse_cnn2, a_avg_abs_errors_cnn2, a_std_abs_errors_cnn2 = trial(nn='CNNM', N_range=N_RANGE, random_states=RANDOM_STATES)"
   ]
  },
  {
   "source": [
    "# DNN trials with data augmentation (hstack windows sums of sizes [2,4,8,...])"
   ],
   "cell_type": "markdown",
   "metadata": {}
  },
  {
   "cell_type": "code",
   "execution_count": null,
   "metadata": {},
   "outputs": [],
   "source": [
    "a_N, a_sqrt_mse_dnn2, a_avg_abs_errors_dnn2, a_std_abs_errors_dnn2 = trial(nn='DNN2', N_range=N_RANGE, random_states=RANDOM_STATES)"
   ]
  },
  {
   "source": [
    "# plot log(N) vs sqrt_mse"
   ],
   "cell_type": "markdown",
   "metadata": {}
  },
  {
   "cell_type": "code",
   "execution_count": null,
   "metadata": {},
   "outputs": [],
   "source": [
    "def plot_sqrt_mse():\n",
    "    \n",
    "    plt.figure(figsize=(15, 4))\n",
    "    \n",
    "    ax1 = plt.subplot(1, 2, 1)\n",
    "\n",
    "    ax1.set(title='sqrt_mse', xlabel='log(N)', ylabel='sqrt_mse')\n",
    "\n",
    "    x = np.log10(a_N)\n",
    "\n",
    "    y = a_sqrt_mse_cnn\n",
    "    std = a_std_abs_errors_cnn\n",
    "    ax1.plot(x, y, '.b-', linewidth=2, markersize=10, label='cnn')\n",
    "    ax1.fill_between(x, y - std, y + std, facecolor='blue', alpha=0.3)\n",
    "    \n",
    "    y = a_sqrt_mse_dnn\n",
    "    std = a_std_abs_errors_dnn\n",
    "    ax1.plot(x, y, '.r-', linewidth=2, markersize=10, label='dnn')\n",
    "    ax1.fill_between(x, y - std, y + std, facecolor='red', alpha=0.3)\n",
    "    \n",
    "    plt.legend(loc='upper right')\n",
    "\n",
    "plot_sqrt_mse()\n"
   ]
  },
  {
   "source": [
    "# print statistics"
   ],
   "cell_type": "markdown",
   "metadata": {}
  },
  {
   "cell_type": "code",
   "execution_count": null,
   "metadata": {},
   "outputs": [],
   "source": [
    "df = pd.DataFrame({\n",
    "    'N': a_N, \n",
    "    'sqrt_mse(DNN)': a_sqrt_mse_dnn, \n",
    "    'sqrt_mse(CNN)': a_sqrt_mse_cnn, \n",
    "    'std(DNN)': a_std_abs_errors_dnn, \n",
    "    'std(CNN)': a_std_abs_errors_cnn, \n",
    "    'avg_abs_error(DNN)': a_avg_abs_errors_dnn, \n",
    "    'avg_abs_error(CNN)': a_avg_abs_errors_cnn, \n",
    "})\n",
    "\n",
    "\n",
    "df = df.set_index('N')\n",
    "\n",
    "columns=[\n",
    "    ('sqrt(MSE)','DNN'), ('sqrt(MSE)','CNN'), \n",
    "    ('STD', 'DNN'), ('STD', 'CNN'),\n",
    "    ('avg(abs(err))','DNN'), ('avg(abs(err))','CNN'), \n",
    "]\n",
    "\n",
    "df.columns=pd.MultiIndex.from_tuples(columns)\n",
    "\n",
    "print('err = y_test - y_pred')\n",
    "df"
   ]
  }
 ],
 "metadata": {
  "kernelspec": {
   "display_name": "ou",
   "language": "python",
   "name": "ou"
  },
  "language_info": {
   "codemirror_mode": {
    "name": "ipython",
    "version": 3
   },
   "file_extension": ".py",
   "mimetype": "text/x-python",
   "name": "python",
   "nbconvert_exporter": "python",
   "pygments_lexer": "ipython3",
   "version": "3.8.6-final"
  }
 },
 "nbformat": 4,
 "nbformat_minor": 4
}