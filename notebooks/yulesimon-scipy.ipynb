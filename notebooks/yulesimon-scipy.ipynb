{
 "cells": [
  {
   "cell_type": "code",
   "execution_count": 1,
   "metadata": {},
   "outputs": [],
   "source": [
    "import os\n",
    "import time\n",
    "import numpy as np\n",
    "from scipy.stats import yulesimon\n",
    "import matplotlib.pyplot as plt\n",
    "import pandas as pd"
   ]
  },
  {
   "cell_type": "code",
   "execution_count": 27,
   "metadata": {},
   "outputs": [
    {
     "name": "stdout",
     "output_type": "stream",
     "text": [
      "CPU times: user 395 ms, sys: 0 ns, total: 395 ms\n",
      "Wall time: 403 ms\n"
     ]
    }
   ],
   "source": [
    "%%time\n",
    "\n",
    "if not os.path.exists('data'):\n",
    "    os.makedirs('data')\n",
    "\n",
    "# number of files generated (each with a different alpha)\n",
    "num_alphas = 100\n",
    "\n",
    "# number of samples per file (per alpha)\n",
    "num_samples_per_alpha = 1000\n",
    "\n",
    "# fix loc at zero\n",
    "loc = 0\n",
    "\n",
    "for alpha in np.linspace(2.01, 3, num=10):\n",
    "    alpha = round(alpha, 2)\n",
    "\n",
    "    # init samples and corresponding alphas\n",
    "    samples = np.empty((0, num_samples_per_alpha), int)\n",
    "    alphas = np.empty(num_samples_per_alpha, float)\n",
    "    \n",
    "    # generate samples for this alpha\n",
    "    for i in range(100): \n",
    "        z = yulesimon.rvs(alpha, loc=loc, size=num_samples_per_alpha, random_state=None)\n",
    "        samples = np.append(samples, [z], axis=0)\n",
    "        alphas = np.append(alphas, alpha)\n",
    "\n",
    "    # write samples csv file\n",
    "    DATA_FILE_PREFIX = 'scipy.yulesimon'\n",
    "    data_path = 'data/{}_alpha={}_loc={}_size={}.csv'.format(DATA_FILE_PREFIX, alpha, loc, num_samples_per_alpha)\n",
    "    df = pd.DataFrame(samples)\n",
    "    df.insert(0, 'alpha', alpha)\n",
    "    df.to_csv(data_path, header=None, index=None)"
   ]
  }
 ],
 "metadata": {
  "kernelspec": {
   "display_name": "ou",
   "language": "python",
   "name": "ou"
  },
  "language_info": {
   "codemirror_mode": {
    "name": "ipython",
    "version": 3
   },
   "file_extension": ".py",
   "mimetype": "text/x-python",
   "name": "python",
   "nbconvert_exporter": "python",
   "pygments_lexer": "ipython3",
   "version": "3.8.2"
  }
 },
 "nbformat": 4,
 "nbformat_minor": 4
}
