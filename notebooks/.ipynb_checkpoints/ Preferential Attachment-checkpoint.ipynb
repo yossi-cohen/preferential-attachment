{
 "cells": [
  {
   "cell_type": "markdown",
   "metadata": {},
   "source": [
    "# Preferential Attachment & Machine Learning\n"
   ]
  },
  {
   "cell_type": "markdown",
   "metadata": {},
   "source": [
    "## Expiramental settings\n",
    "Fix $N >> 1$, the total number of balls we wish to distribute.\n",
    "- Choose $1≤ m ≤10$, the number of balls thrown at each iteration.\n",
    "- Choose $1 ≤ k_0 ≤ 10$, the initial number of balls that each newly created urn has.\n",
    "- Run as many iterations as necessary to distribute all the balls, proportional to the number of balls in each urn (preferential attachment).\n",
    "- Compute a summary of the distribution in a vector $P$, so that $P[i]$ is the number of urns that have precisely $i$ balls.\n",
    "\n",
    "Now, feed the vectors to a deep neural network, whose purpose is to learn $k_0$ and $m$ from vector $P$.\n"
   ]
  },
  {
   "cell_type": "code",
   "execution_count": 1,
   "metadata": {},
   "outputs": [],
   "source": [
    "# matplotlib.pyplot.loglog\n",
    "# https://matplotlib.org/3.1.1/api/_as_gen/matplotlib.pyplot.loglog.html"
   ]
  },
  {
   "cell_type": "code",
   "execution_count": 2,
   "metadata": {},
   "outputs": [],
   "source": [
    "import numpy as np\n",
    "\n",
    "import matplotlib.pyplot as plt\n",
    "%matplotlib inline\n",
    "plt.rcParams.update({'figure.figsize':(7,5), 'figure.dpi':100})\n",
    "\n",
    "import seaborn as sns\n",
    "# sns.set_style(\"white\")"
   ]
  },
  {
   "cell_type": "code",
   "execution_count": 3,
   "metadata": {},
   "outputs": [],
   "source": [
    "def preferential_attachment(N, m, k0):\n",
    "    \"\"\"Distributes 𝑁 >> 1 balls among urns iteratively using preferential attachment policy.\n",
    "        At each step, add an urn with 𝑘0 balls and distribute m balls among urns \n",
    "        with probablility proportional to the number of balls in each urn.\n",
    "        Run as many iterations as necessary to distribute all 𝑁 balls.\n",
    "\n",
    "    Parameters:\n",
    "        𝑁  (int): 𝑁 >> 1, the total number of balls we wish to distribute.\n",
    "        m  (int): 1≤ 𝑚 ≤10, the number of balls thrown at each iteration.\n",
    "        𝑘0 (int): 1≤ 𝑘0 ≤10, the initial number of balls that each newly created urn has.\n",
    "\n",
    "    Returns:\n",
    "        urns vector(int):  urns[𝑖] contains the number of balls distributed to the 𝑖-th urn.\n",
    "        P vector(int): Vector 𝑃, such that 𝑃[𝑖] is the number of urns that have precisely 𝑖 balls.\n",
    "\n",
    "   \"\"\"\n",
    "\n",
    "    urns = np.array([], dtype=int)\n",
    "    total_balls_distributed = 0\n",
    "\n",
    "    # iterations\n",
    "    n = N\n",
    "    while n > 0:\n",
    "        # add a new urn with k0 balls\n",
    "        urns = np.append(urns, k0)\n",
    "\n",
    "        total_balls_distributed += k0\n",
    "\n",
    "        # do preferential selection of m urns proportioanl to the number of balls at each urn\n",
    "\n",
    "        probs = urns / total_balls_distributed\n",
    "        #print(probs)\n",
    "\n",
    "        # we want the indices of the selected cells, not their values, \n",
    "        # so random choice from an index array of len(urns)\n",
    "        urn_indices = list(range(len(urns)))\n",
    "        num_balls_distributed = min(m, n) # because n might not be a multiple of m\n",
    "        idx = np.random.choice(urn_indices, size=num_balls_distributed, p=probs)\n",
    "\n",
    "        # distribute m balls among the selected urns \n",
    "        # (an urn may get more than one ball!)\n",
    "        for i in range(len(idx)):\n",
    "            urns[idx[i]] += 1\n",
    "\n",
    "        total_balls_distributed += m\n",
    "        n -= m\n",
    "\n",
    "    # initialize an output array of size [0 .. max(urns)]\n",
    "    P = np.zeros((1+int(max(urns)),), dtype=int)\n",
    "    for i in range(len(urns)):\n",
    "        num_balls_in_urns_i = int(urns[i])\n",
    "        P[num_balls_in_urns_i] += 1\n",
    "    \n",
    "    return urns, P\n"
   ]
  },
  {
   "cell_type": "code",
   "execution_count": 4,
   "metadata": {},
   "outputs": [],
   "source": [
    "# def distplot(x, bins=50, title='preferential attachment', xlabel='x', ylabel='Frequency'):\n",
    "#     kwargs = dict(hist_kws={'alpha':.6}, kde_kws={'linewidth':1})\n",
    "#     plt.figure(figsize=(10,7), dpi= 80)\n",
    "#     sns.distplot(x, bins=bins, **kwargs)\n",
    "#     plt.xlim(0)\n",
    "# distplot(urns, bins=max_balls, xlabel='balls', ylabel='urns');"
   ]
  },
  {
   "cell_type": "code",
   "execution_count": 6,
   "metadata": {},
   "outputs": [
    {
     "data": {
      "image/png": "[encoded data removed]",
      "text/plain": [
       "<Figure size 700x500 with 1 Axes>"
      ]
     },
     "metadata": {
      "needs_background": "light"
     },
     "output_type": "display_data"
    }
   ],
   "source": [
    "urns, P = preferential_attachment(N=1000, m=10, k0=10)\n",
    "\n",
    "# plot a histogram on urns\n",
    "max_balls = np.max(urns)\n",
    "plt.hist(urns, bins=max_balls, density=True);\n",
    "plt.gca().set(title='preferential attachment', xlabel='balls', ylabel='urns');"
   ]
  }
 ],
 "metadata": {
  "kernelspec": {
   "display_name": "ou",
   "language": "python",
   "name": "ou"
  },
  "language_info": {
   "codemirror_mode": {
    "name": "ipython",
    "version": 3
   },
   "file_extension": ".py",
   "mimetype": "text/x-python",
   "name": "python",
   "nbconvert_exporter": "python",
   "pygments_lexer": "ipython3",
   "version": "3.8.2"
  }
 },
 "nbformat": 4,
 "nbformat_minor": 4
}
