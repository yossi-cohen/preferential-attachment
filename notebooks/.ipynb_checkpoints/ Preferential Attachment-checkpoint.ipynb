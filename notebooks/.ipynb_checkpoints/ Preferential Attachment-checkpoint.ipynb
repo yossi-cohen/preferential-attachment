{
 "cells": [
  {
   "cell_type": "markdown",
   "metadata": {},
   "source": [
    "# Preferential Attachment & Machine Learning\n"
   ]
  },
  {
   "cell_type": "markdown",
   "metadata": {},
   "source": [
    "## Expiramental settings\n",
    "Fix $N >> 1$, the total number of balls we wish to distribute.\n",
    "- Choose $1≤ m ≤10$, the number of balls thrown at each iteration.\n",
    "- Choose $1 ≤ k_0 ≤ 10$, the initial number of balls that each newly created urn has.\n",
    "- Run as many iterations as necessary to distribute all the balls, proportional to the number of balls in each urn (preferential attachment).\n",
    "- Compute a summary of the distribution in a vector $P$, so that $P[i]$ is the number of urns that have precisely $i$ balls.\n",
    "\n",
    "Now, feed the vectors to a deep neural network, whose purpose is to learn $k_0$ and $m$ from vector $P$.\n"
   ]
  },
  {
   "cell_type": "code",
   "execution_count": 42,
   "metadata": {},
   "outputs": [
    {
     "name": "stdout",
     "output_type": "stream",
     "text": [
      "[  0   0   0   0   0 575 402 231 288 171 140 143  60  78  84  75  64  17\n",
      "   0  19  20   0  22   0   0   0  26   0   0   0   0  31   0   0   0  35\n",
      "   0  37  38   0   0   0  42   0   0   0   0   0   0   0   0   0   0   0\n",
      "   0   0   0   0   0   0   0   0   0   0   0   0   0   0   0   0   0   0\n",
      "  72]\n"
     ]
    }
   ],
   "source": [
    "import numpy as np\n",
    "\n",
    "def preferential_attachment(N, m, k0):\n",
    "    \"\"\"Distributes 𝑁 >> 1 balls\n",
    "\n",
    "    Parameters:\n",
    "    𝑁 (int): 𝑁 >> 1, the total number of balls we wish to distribute.\n",
    "    m (int): 1≤ 𝑚 ≤10, the number of balls thrown at each iteration.\n",
    "    𝑘0: 1≤ 𝑘0 ≤10, the initial number of balls that each newly created urn has.\n",
    "\n",
    "    Returns:\n",
    "    P: Vector 𝑃, so that 𝑃[𝑖] is the number of urns that have precisely 𝑖 balls.\n",
    "\n",
    "   \"\"\"\n",
    "\n",
    "    urns = np.array([])\n",
    "    total_balls_distributed = 0\n",
    "\n",
    "    # iterations\n",
    "    n = N\n",
    "    while n > 0:\n",
    "        # add a new urn with k0 balls\n",
    "        urns = np.append(urns, k0)\n",
    "\n",
    "        total_balls_distributed += k0\n",
    "\n",
    "        # do preferential selection of m urns proportioanl to the number of balls at each urn\n",
    "\n",
    "        probs = urns / total_balls_distributed\n",
    "        #print(probs)\n",
    "\n",
    "        # we want the indices of the selected cells, not their values, \n",
    "        # so random choice from an index array of len(urns)\n",
    "        urn_indices = list(range(len(urns)))\n",
    "        num_balls_distributed = min(m, n) # because n might not be a multiple of m\n",
    "        idx = np.random.choice(urn_indices, size=num_balls_distributed, p=probs)\n",
    "\n",
    "        # distribute m balls among the selected urns \n",
    "        # (an urn may get more than one ball!)\n",
    "        for i in range(len(idx)):\n",
    "            urns[idx[i]] += 1\n",
    "\n",
    "        total_balls_distributed += m\n",
    "        n -= m\n",
    "\n",
    "    # initialize an output array of size [0 .. max(urns)]\n",
    "    P = np.zeros((1+int(max(urns)),), dtype=int)\n",
    "    for i in range(len(urns)):\n",
    "        num_balls_in_urns_i = int(urns[i])\n",
    "        P[num_balls_in_urns_i] += num_balls_in_urns_i\n",
    "    \n",
    "    return P\n",
    "\n",
    "P = preferential_attachment(N=1000, m=3, k0=5)\n",
    "print(P)\n"
   ]
  }
 ],
 "metadata": {
  "kernelspec": {
   "display_name": "ou",
   "language": "python",
   "name": "ou"
  },
  "language_info": {
   "codemirror_mode": {
    "name": "ipython",
    "version": 3
   },
   "file_extension": ".py",
   "mimetype": "text/x-python",
   "name": "python",
   "nbconvert_exporter": "python",
   "pygments_lexer": "ipython3",
   "version": "3.5.2"
  }
 },
 "nbformat": 4,
 "nbformat_minor": 4
}
