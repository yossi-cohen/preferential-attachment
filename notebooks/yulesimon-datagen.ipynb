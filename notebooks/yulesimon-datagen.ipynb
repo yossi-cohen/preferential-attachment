{
 "cells": [
  {
   "cell_type": "code",
   "execution_count": 7,
   "metadata": {},
   "outputs": [],
   "source": [
    "import os\n",
    "import time\n",
    "import numpy as np\n",
    "from scipy.stats import yulesimon\n",
    "import matplotlib.pyplot as plt\n",
    "import pandas as pd"
   ]
  },
  {
   "cell_type": "code",
   "execution_count": 12,
   "metadata": {
    "tags": []
   },
   "outputs": [
    {
     "output_type": "stream",
     "name": "stdout",
     "text": "CPU times: user 3.47 s, sys: 44 ms, total: 3.52 s\nWall time: 3.52 s\n"
    }
   ],
   "source": [
    "%%time\n",
    "\n",
    "# --------------------------------------------------------------------------------------\n",
    "# Generate trainig dataset for predicting the alpha parameter of yulesimon distribution.\n",
    "# The training dataset contains 'num_alpha' files, each with num_rows (samples) per file.\n",
    "# Each row contains random_variate_size samples drawn from the yulesimon distribution.\n",
    "# Each file correspons to a different value of alpha.\n",
    "# (rows of same file corresponds to the same alpha).\n",
    "# --------------------------------------------------------------------------------------\n",
    "\n",
    "if not os.path.exists('data'):\n",
    "    os.makedirs('data')\n",
    "\n",
    "MIN_ALPHA = 2.01\n",
    "MAX_ALPHA = 3.00\n",
    "\n",
    "# number of files generated (each with a different alpha)\n",
    "num_alphas = 10 # (between 2.01 and 3.00 inclusive)\n",
    "\n",
    "# number of raws (samples) in each file\n",
    "num_rows = 100\n",
    "\n",
    "# number of RV samples per row\n",
    "random_variate_size = 10000\n",
    "\n",
    "# fix loc at zero\n",
    "loc = 0\n",
    "\n",
    "for alpha in np.linspace(MIN_ALPHA, MAX_ALPHA, num=num_alphas):\n",
    "    alpha = round(alpha, 2)\n",
    "\n",
    "    # init placeholders for samples and corresponding alphas\n",
    "    samples = np.empty((0, random_variate_size), int)\n",
    "    alphas = np.empty(random_variate_size, float)\n",
    "    \n",
    "    # generate samples (rows) for current alpha\n",
    "    for i in range(num_rows):\n",
    "        z = yulesimon.rvs(alpha, loc=loc, size=random_variate_size, random_state=None)\n",
    "        samples = np.append(samples, [z], axis=0)\n",
    "        alphas = np.append(alphas, alpha)\n",
    "\n",
    "    # write samples to a csv file\n",
    "    DATA_FILE_PREFIX = 'yulesimon'\n",
    "    data_path = 'data/{}_alpha={:.2f}_loc={}_size={}.csv'.format(\n",
    "        DATA_FILE_PREFIX, alpha, loc, random_variate_size)\n",
    "    df = pd.DataFrame(samples)\n",
    "    df.insert(0, 'alpha', alpha) # firt column is corresponding alpha\n",
    "    df.to_csv(data_path, header=None, index=None)"
   ]
  }
 ],
 "metadata": {
  "kernelspec": {
   "display_name": "ou",
   "language": "python",
   "name": "ou"
  },
  "language_info": {
   "codemirror_mode": {
    "name": "ipython",
    "version": 3
   },
   "file_extension": ".py",
   "mimetype": "text/x-python",
   "name": "python",
   "nbconvert_exporter": "python",
   "pygments_lexer": "ipython3",
   "version": "3.6.8-final"
  }
 },
 "nbformat": 4,
 "nbformat_minor": 4
}