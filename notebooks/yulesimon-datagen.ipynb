{
 "cells": [
  {
   "cell_type": "code",
   "execution_count": 1,
   "metadata": {},
   "outputs": [],
   "source": [
    "import os\n",
    "import time\n",
    "import numpy as np\n",
    "from scipy.stats import yulesimon\n",
    "import matplotlib.pyplot as plt\n",
    "import pandas as pd"
   ]
  },
  {
   "cell_type": "code",
   "execution_count": 13,
   "metadata": {},
   "outputs": [
    {
     "name": "stdout",
     "output_type": "stream",
     "text": [
      "CPU times: user 3.68 s, sys: 11.7 ms, total: 3.69 s\n",
      "Wall time: 3.69 s\n"
     ]
    }
   ],
   "source": [
    "%%time\n",
    "\n",
    "# --------------------------------------------------------------------------------------\n",
    "# Generate trainig dataset for predicting the alpha parameter of yulesimon distribution.\n",
    "# The training dataset contains 'num_alpha' files, each with num_rows (samples) per file.\n",
    "# Each row contains random_variate_size samples drawn from the yulesimon distribution.\n",
    "# Each file correspons to a different value of alpha.\n",
    "# (rows of same file corresponds to the same alpha).\n",
    "# --------------------------------------------------------------------------------------\n",
    "\n",
    "if not os.path.exists('data'):\n",
    "    os.makedirs('data')\n",
    "\n",
    "# number of files generated (each with a different alpha)\n",
    "num_alphas = 100 # (between 2.01 and 3.00 inclusive)\n",
    "\n",
    "# number of raws (samples) in each file\n",
    "num_rows = 100\n",
    "\n",
    "# number of RV samples per row\n",
    "random_variate_size = 1000\n",
    "\n",
    "# fix loc at zero\n",
    "loc = 0\n",
    "\n",
    "for alpha in np.linspace(2.01, 3, num=num_alphas):\n",
    "    alpha = round(alpha, 2)\n",
    "\n",
    "    # init placeholders for samples and corresponding alphas\n",
    "    samples = np.empty((0, random_variate_size), int)\n",
    "    alphas = np.empty(random_variate_size, float)\n",
    "    \n",
    "    # generate samples (rows) for current alpha\n",
    "    for i in range(num_rows):\n",
    "        z = yulesimon.rvs(alpha, loc=loc, size=random_variate_size, random_state=None)\n",
    "        samples = np.append(samples, [z], axis=0)\n",
    "        alphas = np.append(alphas, alpha)\n",
    "\n",
    "    # write samples to a csv file\n",
    "    DATA_FILE_PREFIX = 'yulesimon'\n",
    "    data_path = 'data/{}_alpha={:.2f}_loc={}_size={}.csv'.format(\n",
    "        DATA_FILE_PREFIX, alpha, loc, random_variate_size)\n",
    "    df = pd.DataFrame(samples)\n",
    "    df.insert(0, 'alpha', alpha) # firt column is corresponding alpha\n",
    "    df.to_csv(data_path, header=None, index=None)"
   ]
  }
 ],
 "metadata": {
  "kernelspec": {
   "display_name": "ou",
   "language": "python",
   "name": "ou"
  },
  "language_info": {
   "codemirror_mode": {
    "name": "ipython",
    "version": 3
   },
   "file_extension": ".py",
   "mimetype": "text/x-python",
   "name": "python",
   "nbconvert_exporter": "python",
   "pygments_lexer": "ipython3",
   "version": "3.8.2"
  }
 },
 "nbformat": 4,
 "nbformat_minor": 4
}
