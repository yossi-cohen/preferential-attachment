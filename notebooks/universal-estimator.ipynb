{
 "cells": [
  {
   "cell_type": "markdown",
   "id": "4fbfe3f5",
   "metadata": {
    "tags": []
   },
   "source": [
    "# Universal estimator\n",
    "\n",
    "Let $f(x|d_1,...,d_n)$ be a function, that for any fixed values of the parameters $d_i$, reduces to a PDF of x; $f$ thus is a family of functions, e.g., *log normal*.\n",
    "\n",
    "$estimator(f, sample)$ is a function which learns the parameters $d_i$ of $f$ from a single input *sample* ($m$ observations drawn using $f$).\n",
    "\n",
    "## Method\n",
    "> 1. Generate synthetic *samples*.\n",
    "> 2. Learn a DNN model from the synthetic data.\n",
    "> 3. Predict the parameters $d_i$ on the input *sample*.\n",
    "\n",
    "## Parameter range adjustment\n",
    "The *estimator* is allowed to assume that the range of the parameter values is $(-\\frac{1}{2}, \\frac{1}{2})$.\n",
    "\n",
    "For that we use *Range Adjustment*:\n",
    "> Input:\n",
    "> 1. A funation $f(x|d_i)$ as defined above\n",
    "> 2. Bounds on the parameters $d_i$\n",
    "\n",
    "> Output:\n",
    "> - A function $g(x|t_i)$, which is the same as $f$, except that $t_i$ are in the range $(-\\frac{1}{2}, \\frac{1}{2})$, \n",
    "> and such that $t_i$ are “typically” around 0.\n",
    "\n",
    "> Let: $h(d)$ be a mapping function from $range(d)$ to the range $(-\\frac{1}{2}, \\frac{1}{2})$, where $h$ is continuous within $range(d)$.\n",
    ">\n",
    "> $h^{-1}(t)$ is therefore a mapping function from the range $(-\\frac{1}{2}, \\frac{1}{2})$ to $range(d)$.\n",
    ">\n",
    "> Let: $g(x|t_i) = f(x|h^{-1}(t_i))$ where $h^{-1}(t_i)$ is a inverse of the *mapping* $h(d)$ of the bounds on the parameters $d_i$.\n",
    "\n",
    "We use the *range adjustment* as follows:\n",
    "> 1. Generate synthetic *samples* using $f(x|h^{-1}(t_i))$ where $t_i$ are drawn from $(-\\frac{1}{2}, \\frac{1}{2})$.\n",
    "> 2. Learn a DNN model from the synthetic data.\n",
    "> 3. Predict the parameters $d_i$ on the input *sample*.\n"
   ]
  },
  {
   "cell_type": "markdown",
   "id": "e881b07b",
   "metadata": {},
   "source": [
    "### Range adjustment using $logit(x)$\n",
    "The standard *logistic* function is defined as: $𝜎(x) = 1 / (1 + e^{-x})$ for $x ∈ (-∞, ∞)$.\n",
    "\n",
    "<p style=\"text-align:center;\"><img src=\"images/logistic.png\" alt=\"logistic(x)\" title=\"logistic(x), x ∈ (−∞,∞)\" /></p>\n",
    "\n",
    "The *logit* is the inverse of the *logistic* function.\n",
    "\n",
    "The *logit* function is defined as: $logit(x) = 𝜎^{-1}(x) = ln( x / (1-x) )$ for $x ∈ (0,1)$.\n",
    "\n",
    "<p style=\"text-align:center;\"><img src=\"images/logit.png\" alt=\"logit\" title=\"logit(x), x ∈ (0,1)\" /></p>\n",
    "\n",
    "We can use the *logistic* function and its *logit* inverse as follows:\n",
    "> Let: $h(d) = logit(d)$ for $d ∈ (0,1)$\n",
    ">\n",
    "> Than $h^{-1}(t) = 𝜎(t)$ for $t ∈ (-∞, ∞)$\n",
    "\n",
    "> We define a function to return another function, i.e., an adjuster of a parameter from the range $(0, 1)$ \n",
    ">\n",
    "> to the original range $(low, high)$ that a function takes.\n"
   ]
  },
  {
   "cell_type": "code",
   "execution_count": 1,
   "id": "e8d84851",
   "metadata": {},
   "outputs": [],
   "source": [
    "import math\n",
    "# from scipy.special import expit, logit\n",
    "\n",
    "def expit(x):\n",
    "    # expit(x) = 1 / (1 + e^(-x))\n",
    "    # defined in (-INF, INF)\n",
    "    return 1 / (1 + math.exp(-x))\n",
    "\n",
    "def logit(p):\n",
    "    # logit(p) = inv(expit) = ln(p/(1-p))\n",
    "    # defined in (0, 1)\n",
    "    if 0 == p: return -math.inf\n",
    "    if 1 == p: return math.inf\n",
    "    return math.log(p/(1-p))\n",
    "\n",
    "def adjuster_logit(low, high):\n",
    "    # adjuster is defined in (-INF, INF)\n",
    "    # low: parameter lower bound\n",
    "    # high: parameter higher bound\n",
    "    # return: a function defined in (0,1) that maps it's parameter (x) to the original range (low,high).\n",
    "\n",
    "    LOW = 0 if -math.inf == low else expit(low)\n",
    "    HIGH = 1 if math.inf == high else expit(high)\n",
    "\n",
    "    def adjust(x):\n",
    "        # adjust is defined in (0, 1)\n",
    "        if x < 0: return -math.inf\n",
    "        if x > 1: return math.inf\n",
    "        return logit(LOW + x * (HIGH - LOW))\n",
    "    \n",
    "    return adjust\n"
   ]
  },
  {
   "cell_type": "markdown",
   "id": "33d885e1",
   "metadata": {},
   "source": [
    "### Range adjustment using $arctan(x)$\n",
    "> <img src=\"images/tan.png\" />\n",
    "> <img src=\"images/arctan.png\" />\n"
   ]
  },
  {
   "cell_type": "code",
   "execution_count": 2,
   "id": "c3be9ec6",
   "metadata": {},
   "outputs": [],
   "source": [
    "def adjuster_arctan(low, high):\n",
    "    # adjuster is defined in (-INF, INF)\n",
    "    # low: parameter lower bound\n",
    "    # high: parameter higher bound\n",
    "    # return: a function defined in (0,1) that maps it's parameter (x) to the original range (low,high).\n",
    "\n",
    "    LOW = -math.pi/2 if -math.inf == low else math.atan(low)\n",
    "    HIGH = math.pi/2 if math.inf == high else math.atan(high)\n",
    "\n",
    "    def adjust(x):\n",
    "        # adjust is defined in (0, 1)\n",
    "        if x < 0: return -math.inf\n",
    "        if x > 1: return math.inf\n",
    "        return math.tan(LOW + x * (HIGH - LOW))\n",
    "    \n",
    "    return adjust"
   ]
  },
  {
   "cell_type": "markdown",
   "id": "d57a897e-9654-432b-914d-2f4d7b541064",
   "metadata": {},
   "source": [
    "### Test adjusters"
   ]
  },
  {
   "cell_type": "code",
   "execution_count": 3,
   "id": "40c1d774",
   "metadata": {},
   "outputs": [
    {
     "name": "stdout",
     "output_type": "stream",
     "text": [
      "adjuster_logit(2,10)(0): -2.0\n",
      "adjuster_logit(2,10)(1): 10.00000000000097\n",
      "adjuster_arctan(2,10)(0): -1.9999999999999996\n",
      "adjuster_arctan(2,10)(1): 10.00000000000001\n"
     ]
    }
   ],
   "source": [
    "print(f\"adjuster_logit(2,10)(0): {adjuster_logit(low=-2, high=10)(0)}\")\n",
    "print(f\"adjuster_logit(2,10)(1): {adjuster_logit(low=-2, high=10)(1)}\")\n",
    "print(f\"adjuster_arctan(2,10)(0): {adjuster_arctan(low=-2, high=10)(0)}\")\n",
    "print(f\"adjuster_arctan(2,10)(1): {adjuster_arctan(low=-2, high=10)(1)}\")\n"
   ]
  },
  {
   "cell_type": "code",
   "execution_count": 4,
   "id": "9b2a0b75",
   "metadata": {},
   "outputs": [],
   "source": [
    "# adjust = adjuster_logit(low=0, high=10.0)\n",
    "# adjust( np.random.uniform(0.0, 1.0, size=1)[0])"
   ]
  },
  {
   "cell_type": "markdown",
   "id": "736504a8",
   "metadata": {},
   "source": [
    "# Universal estimator\n",
    "\n",
    "-  Apply 2D  range adjustment; for now, it will be independent parameters: should adjust to $(-\\frac{1}{2}, \\frac{1}{2})^2, (n=2)$.  \n",
    "   In this case: we want the range to be an n-dimensional unit cube; this makes it easier to understand subranges: e.g., 0.1-0.2.  \n",
    "   We also introduce some \"prior\" in a very convoluted way. A priori, the range is -∞ to +∞ and we know nothing about where the parameter is. After range adjustment, we shrink some regions by a large factor and others by a small factor. So, we favor the center of the range. We may even beat Cramer-Rao for this reason.\n",
    "\n",
    "-  Select 5 or so longtail distributions (we may need to change the families later). Do range adjustment, and it should be sensible in the sense that it is approximately centered.\n",
    "\n",
    "- Do range adjustment (orthogonal for now, i.e, independently for each original parameter).\n",
    "\n",
    "- Draw a mesh on the unit square, say with a resolution of 0.1, this gives 81 points for each mesh. Maybe 1/11 resolution? Maybe include the last and first row and column. \n",
    "\n",
    "- For each point in the mesh, run learning experiment producing:\n",
    "   - Several (say 10-100) learning experiments. without focusing for now.\n",
    "   - Compute the average error of the 10-100 experiments. MSE rules\n",
    "   - Compute the Cramer Rao bound (numerically if the analytical solution is not possible)\n",
    "   - Divide the MSE by Cramer Rao.\n",
    "  \n",
    "- Draw the 3D manifold on the mesh.\n",
    "\n",
    "### Expected results:\n",
    "\n",
    "1. Hopefully, we are at most 2 times worse than CR. \n",
    "2. Hopefully, the CR is never singular, i.e. not zero nor infinity.\n"
   ]
  },
  {
   "cell_type": "code",
   "execution_count": 5,
   "id": "fa550000",
   "metadata": {},
   "outputs": [],
   "source": [
    "import math\n",
    "import numpy as np\n",
    "\n",
    "def generate_data(N, M, sample, ranges, nbins=-1):\n",
    "    \"\"\"\n",
    "    ranges: [dX2] array of parameter ranges (e.g. for 2 parmeters: [[0, 10], [0, math.inf]])\n",
    "    \"\"\"\n",
    "    \n",
    "    # output (generate samples)\n",
    "    samples = np.zeros((N, M), dtype=float)\n",
    "    \n",
    "    # generate N parameter cubes in the range (-0.5, +0.5)\n",
    "    n_params = ranges.shape[0]\n",
    "    params = np.zeros((N, n_params), dtype=float)\n",
    "\n",
    "    param_adjusters = [adjuster_logit(low=r[0], high=r[1]) for r in ranges]\n",
    "        \n",
    "    for i in range(N):\n",
    "        for param_i in range(n_params):\n",
    "            adjuster = param_adjusters[param_i]\n",
    "            # ti is in (-0.5, 0.5)\n",
    "            ti = np.random.uniform(0.0, 1.0, size=1)[0]\n",
    "            # di is in (di_low, di_high)\n",
    "            params[i, param_i] = adjuster(ti)\n",
    "    \n",
    "    # repeat N times: draw a sample from distribution (M observations)\n",
    "    for i in range(N):\n",
    "        samples[i, :] = sample(params[i], size=M)\n",
    "    \n",
    "    # create a histogram from each sample\n",
    "    if nbins < 0:\n",
    "        nbins = int(np.max(samples))+1\n",
    "    \n",
    "    histogram_matrix = np.apply_along_axis(\n",
    "       lambda a: np.histogram(a, bins=nbins, range=(0, nbins), density=False)[0], 1, samples)\n",
    "\n",
    "    return samples, params, histogram_matrix"
   ]
  },
  {
   "cell_type": "code",
   "execution_count": 6,
   "id": "4d46743d",
   "metadata": {},
   "outputs": [
    {
     "name": "stdout",
     "output_type": "stream",
     "text": [
      "[[  0  25 188  37   5   1   0   0   0   0   0   0   0   0]\n",
      " [  0  27 183  36   8   0   2   0   0   0   0   0   0   0]\n",
      " [  0   0   0 256   0   0   0   0   0   0   0   0   0   0]\n",
      " [124  68  29  14   8   4   5   1   0   2   0   0   0   1]\n",
      " [  0   0 145  79  22   7   3   0   0   0   0   0   0   0]\n",
      " [  1 136  62  28  12   3   5   2   4   2   0   0   0   1]\n",
      " [  0 256   0   0   0   0   0   0   0   0   0   0   0   0]\n",
      " [  0  72 150  32   2   0   0   0   0   0   0   0   0   0]]\n"
     ]
    }
   ],
   "source": [
    "# TEST: generate_data\n",
    "from scipy import stats\n",
    "from scipy.stats import lognorm\n",
    "\n",
    "def lognormal_sample(params, size):\n",
    "    return lognorm.rvs(s=params[0], loc=params[1], size=size)\n",
    "\n",
    "f = lognormal_sample\n",
    "ranges = np.array(\n",
    "    [[0.0, 1.0], \n",
    "     [0.0, math.inf]]\n",
    ")\n",
    "\n",
    "samples, params, histogram_matrix = generate_data(N=8, M=256, sample=f, ranges=ranges)\n",
    "\n",
    "# print(samples)\n",
    "# print(params)\n",
    "print(histogram_matrix)\n"
   ]
  },
  {
   "cell_type": "markdown",
   "id": "b61e182a",
   "metadata": {},
   "source": [
    "###  Longtail distributions for testing"
   ]
  },
  {
   "cell_type": "code",
   "execution_count": 7,
   "id": "cdbad834",
   "metadata": {},
   "outputs": [],
   "source": [
    "from scipy import stats\n",
    "from scipy.stats import yulesimon\n",
    "from scipy.stats import powerlaw\n",
    "\n",
    "def yulesimon_sample(params, size):\n",
    "    return yulesimon.rvs(alpha=params[0], loc=params[1], size=size)\n",
    "\n",
    "def powerlaw_sample(params, size):\n",
    "    return powerlaw.rvs(a=params[0], loc=params[1], size=size)\n",
    "\n",
    "dist = {\n",
    "    'yulesimon': {\n",
    "        'sample': yulesimon_sample,\n",
    "        'ranges': np.array([[2.0, 3.0], [0.0, math.inf]])\n",
    "    },\n",
    "    'powerlaw': {\n",
    "        'sample': powerlaw_sample,\n",
    "        'ranges': np.array([[0.0, 10.0], [0.0, math.inf]])\n",
    "    }\n",
    "}"
   ]
  },
  {
   "cell_type": "markdown",
   "id": "c5033ad3",
   "metadata": {},
   "source": [
    "### Imports"
   ]
  },
  {
   "cell_type": "code",
   "execution_count": 8,
   "id": "9df3e8ca",
   "metadata": {},
   "outputs": [
    {
     "name": "stdout",
     "output_type": "stream",
     "text": [
      "Tensorflow version 2.6.0\n"
     ]
    }
   ],
   "source": [
    "%run dnn.ipynb\n",
    "from timeit import default_timer as timer\n",
    "from datetime import timedelta"
   ]
  },
  {
   "cell_type": "markdown",
   "id": "587080ee",
   "metadata": {},
   "source": [
    "### Experiments"
   ]
  },
  {
   "cell_type": "code",
   "execution_count": 9,
   "id": "dd601eca",
   "metadata": {},
   "outputs": [
    {
     "name": "stdout",
     "output_type": "stream",
     "text": [
      "training mesh point (0/81) trial (0/10) ... sqrt_mse: 0.3843 (88 sec.)\n",
      "training mesh point (0/81) trial (1/10) ... sqrt_mse: 0.2334 (128 sec.)\n",
      "training mesh point (0/81) trial (2/10) ... sqrt_mse: 0.2371 (86 sec.)\n",
      "training mesh point (0/81) trial (3/10) ... sqrt_mse: 0.1827 (239 sec.)\n",
      "training mesh point (0/81) trial (4/10) ... sqrt_mse: 0.3524 (351 sec.)\n",
      "training mesh point (0/81) trial (5/10) ... sqrt_mse: 0.1233 (100 sec.)\n",
      "training mesh point (0/81) trial (6/10) ... sqrt_mse: 0.1542 (83 sec.)\n",
      "training mesh point (0/81) trial (7/10) ... sqrt_mse: 0.2250 (106 sec.)\n",
      "training mesh point (0/81) trial (8/10) ... sqrt_mse: 0.2217 (229 sec.)\n",
      "training mesh point (0/81) trial (9/10) ... sqrt_mse: 0.2895 (234 sec.)\n",
      "done sample (0/81) - (avg_sqrt_mse: 0.2404)\n",
      "training mesh point (1/81) trial (0/10) ... sqrt_mse: 0.0834 (140 sec.)\n",
      "training mesh point (1/81) trial (1/10) ... sqrt_mse: 0.1585 (120 sec.)\n",
      "training mesh point (1/81) trial (2/10) ... sqrt_mse: 0.0971 (134 sec.)\n",
      "training mesh point (1/81) trial (3/10) ... sqrt_mse: 0.2680 (152 sec.)\n",
      "training mesh point (1/81) trial (4/10) ... sqrt_mse: 0.2579 (105 sec.)\n",
      "training mesh point (1/81) trial (5/10) ... sqrt_mse: 0.1956 (50 sec.)\n",
      "training mesh point (1/81) trial (6/10) ... sqrt_mse: 0.0835 (91 sec.)\n",
      "training mesh point (1/81) trial (7/10) ... sqrt_mse: 0.4396 (143 sec.)\n",
      "training mesh point (1/81) trial (8/10) ... sqrt_mse: 0.1110 (138 sec.)\n",
      "training mesh point (1/81) trial (9/10) ... sqrt_mse: 0.1000 (76 sec.)\n",
      "done sample (1/81) - (avg_sqrt_mse: 0.1794)\n",
      "training mesh point (2/81) trial (0/10) ... "
     ]
    },
    {
     "ename": "KeyboardInterrupt",
     "evalue": "",
     "output_type": "error",
     "traceback": [
      "\u001b[0;31m---------------------------------------------------------------------------\u001b[0m",
      "\u001b[0;31mKeyboardInterrupt\u001b[0m                         Traceback (most recent call last)",
      "\u001b[0;32m/tmp/ipykernel_1050300/670026288.py\u001b[0m in \u001b[0;36m<module>\u001b[0;34m\u001b[0m\n\u001b[1;32m     75\u001b[0m         \u001b[0mprint\u001b[0m\u001b[0;34m(\u001b[0m\u001b[0;34mf'done sample ({i}/{num_samples}) - (avg_sqrt_mse: {avg_sqrt_mse:.4f})'\u001b[0m\u001b[0;34m)\u001b[0m\u001b[0;34m\u001b[0m\u001b[0;34m\u001b[0m\u001b[0m\n\u001b[1;32m     76\u001b[0m \u001b[0;34m\u001b[0m\u001b[0m\n\u001b[0;32m---> 77\u001b[0;31m \u001b[0mexperiment\u001b[0m\u001b[0;34m(\u001b[0m\u001b[0mdist\u001b[0m\u001b[0;34m[\u001b[0m\u001b[0;34m'yulesimon'\u001b[0m\u001b[0;34m]\u001b[0m\u001b[0;34m)\u001b[0m\u001b[0;34m\u001b[0m\u001b[0;34m\u001b[0m\u001b[0m\n\u001b[0m",
      "\u001b[0;32m/tmp/ipykernel_1050300/670026288.py\u001b[0m in \u001b[0;36mexperiment\u001b[0;34m(dist)\u001b[0m\n\u001b[1;32m     55\u001b[0m             \u001b[0;31m# fit DNN model to data\u001b[0m\u001b[0;34m\u001b[0m\u001b[0;34m\u001b[0m\u001b[0;34m\u001b[0m\u001b[0m\n\u001b[1;32m     56\u001b[0m             \u001b[0mprint\u001b[0m\u001b[0;34m(\u001b[0m\u001b[0;34mf'training mesh point ({i}/{num_samples}) trial ({j}/{NUM_LEARNING_EXPERIMENTS}) ...'\u001b[0m\u001b[0;34m,\u001b[0m \u001b[0mend\u001b[0m\u001b[0;34m=\u001b[0m\u001b[0;34m' '\u001b[0m\u001b[0;34m)\u001b[0m\u001b[0;34m\u001b[0m\u001b[0;34m\u001b[0m\u001b[0m\n\u001b[0;32m---> 57\u001b[0;31m             \u001b[0mfit_dnn_model\u001b[0m\u001b[0;34m(\u001b[0m\u001b[0mX_train\u001b[0m\u001b[0;34m=\u001b[0m\u001b[0mH_train\u001b[0m\u001b[0;34m,\u001b[0m \u001b[0my_train\u001b[0m\u001b[0;34m=\u001b[0m\u001b[0mparams_train\u001b[0m\u001b[0;34m)\u001b[0m\u001b[0;34m\u001b[0m\u001b[0;34m\u001b[0m\u001b[0m\n\u001b[0m\u001b[1;32m     58\u001b[0m             \u001b[0mdnn_model\u001b[0m\u001b[0;34m,\u001b[0m \u001b[0mhistory\u001b[0m \u001b[0;34m=\u001b[0m \u001b[0mfit_dnn_model\u001b[0m\u001b[0;34m(\u001b[0m\u001b[0mX_train\u001b[0m\u001b[0;34m=\u001b[0m\u001b[0mH_train\u001b[0m\u001b[0;34m,\u001b[0m \u001b[0my_train\u001b[0m\u001b[0;34m=\u001b[0m\u001b[0mparams_train\u001b[0m\u001b[0;34m)\u001b[0m\u001b[0;34m\u001b[0m\u001b[0;34m\u001b[0m\u001b[0m\n\u001b[1;32m     59\u001b[0m \u001b[0;34m\u001b[0m\u001b[0m\n",
      "\u001b[0;32m/tmp/ipykernel_1050300/3874438731.py\u001b[0m in \u001b[0;36mfit_dnn_model\u001b[0;34m(X_train, y_train)\u001b[0m\n\u001b[1;32m     18\u001b[0m                             a_reg_lr=1e-5)\n\u001b[1;32m     19\u001b[0m     \u001b[0;31m# train model\u001b[0m\u001b[0;34m\u001b[0m\u001b[0;34m\u001b[0m\u001b[0;34m\u001b[0m\u001b[0m\n\u001b[0;32m---> 20\u001b[0;31m     \u001b[0mdnn_model\u001b[0m\u001b[0;34m,\u001b[0m \u001b[0mhistory\u001b[0m \u001b[0;34m=\u001b[0m \u001b[0mtrain_model\u001b[0m\u001b[0;34m(\u001b[0m\u001b[0mdnn_model\u001b[0m\u001b[0;34m,\u001b[0m \u001b[0mX_train\u001b[0m\u001b[0;34m,\u001b[0m \u001b[0my_train\u001b[0m\u001b[0;34m)\u001b[0m\u001b[0;34m\u001b[0m\u001b[0;34m\u001b[0m\u001b[0m\n\u001b[0m\u001b[1;32m     21\u001b[0m     \u001b[0;32mreturn\u001b[0m \u001b[0mdnn_model\u001b[0m\u001b[0;34m,\u001b[0m \u001b[0mhistory\u001b[0m\u001b[0;34m\u001b[0m\u001b[0;34m\u001b[0m\u001b[0m\n",
      "\u001b[0;32m/tmp/ipykernel_1050300/1898814307.py\u001b[0m in \u001b[0;36mtrain_model\u001b[0;34m(model, X_train, y_train, batch_size)\u001b[0m\n\u001b[1;32m     21\u001b[0m \u001b[0;34m\u001b[0m\u001b[0m\n\u001b[1;32m     22\u001b[0m     \u001b[0;31m# fit model\u001b[0m\u001b[0;34m\u001b[0m\u001b[0;34m\u001b[0m\u001b[0;34m\u001b[0m\u001b[0m\n\u001b[0;32m---> 23\u001b[0;31m     history = model.fit(X_train, \n\u001b[0m\u001b[1;32m     24\u001b[0m                         \u001b[0my_train\u001b[0m\u001b[0;34m,\u001b[0m\u001b[0;34m\u001b[0m\u001b[0;34m\u001b[0m\u001b[0m\n\u001b[1;32m     25\u001b[0m                         \u001b[0mvalidation_data\u001b[0m\u001b[0;34m=\u001b[0m\u001b[0;34m(\u001b[0m\u001b[0mX_val\u001b[0m\u001b[0;34m,\u001b[0m \u001b[0my_val\u001b[0m\u001b[0;34m)\u001b[0m\u001b[0;34m,\u001b[0m\u001b[0;34m\u001b[0m\u001b[0;34m\u001b[0m\u001b[0m\n",
      "\u001b[0;32m~/.virtualenvs/ou/lib/python3.8/site-packages/keras/engine/training.py\u001b[0m in \u001b[0;36mfit\u001b[0;34m(self, x, y, batch_size, epochs, verbose, callbacks, validation_split, validation_data, shuffle, class_weight, sample_weight, initial_epoch, steps_per_epoch, validation_steps, validation_batch_size, validation_freq, max_queue_size, workers, use_multiprocessing)\u001b[0m\n\u001b[1;32m   1213\u001b[0m                 \u001b[0mmodel\u001b[0m\u001b[0;34m=\u001b[0m\u001b[0mself\u001b[0m\u001b[0;34m,\u001b[0m\u001b[0;34m\u001b[0m\u001b[0;34m\u001b[0m\u001b[0m\n\u001b[1;32m   1214\u001b[0m                 steps_per_execution=self._steps_per_execution)\n\u001b[0;32m-> 1215\u001b[0;31m           val_logs = self.evaluate(\n\u001b[0m\u001b[1;32m   1216\u001b[0m               \u001b[0mx\u001b[0m\u001b[0;34m=\u001b[0m\u001b[0mval_x\u001b[0m\u001b[0;34m,\u001b[0m\u001b[0;34m\u001b[0m\u001b[0;34m\u001b[0m\u001b[0m\n\u001b[1;32m   1217\u001b[0m               \u001b[0my\u001b[0m\u001b[0;34m=\u001b[0m\u001b[0mval_y\u001b[0m\u001b[0;34m,\u001b[0m\u001b[0;34m\u001b[0m\u001b[0;34m\u001b[0m\u001b[0m\n",
      "\u001b[0;32m~/.virtualenvs/ou/lib/python3.8/site-packages/keras/engine/training.py\u001b[0m in \u001b[0;36mevaluate\u001b[0;34m(self, x, y, batch_size, verbose, sample_weight, steps, callbacks, max_queue_size, workers, use_multiprocessing, return_dict, **kwargs)\u001b[0m\n\u001b[1;32m   1499\u001b[0m             \u001b[0;32mwith\u001b[0m \u001b[0mtf\u001b[0m\u001b[0;34m.\u001b[0m\u001b[0mprofiler\u001b[0m\u001b[0;34m.\u001b[0m\u001b[0mexperimental\u001b[0m\u001b[0;34m.\u001b[0m\u001b[0mTrace\u001b[0m\u001b[0;34m(\u001b[0m\u001b[0;34m'test'\u001b[0m\u001b[0;34m,\u001b[0m \u001b[0mstep_num\u001b[0m\u001b[0;34m=\u001b[0m\u001b[0mstep\u001b[0m\u001b[0;34m,\u001b[0m \u001b[0m_r\u001b[0m\u001b[0;34m=\u001b[0m\u001b[0;36m1\u001b[0m\u001b[0;34m)\u001b[0m\u001b[0;34m:\u001b[0m\u001b[0;34m\u001b[0m\u001b[0;34m\u001b[0m\u001b[0m\n\u001b[1;32m   1500\u001b[0m               \u001b[0mcallbacks\u001b[0m\u001b[0;34m.\u001b[0m\u001b[0mon_test_batch_begin\u001b[0m\u001b[0;34m(\u001b[0m\u001b[0mstep\u001b[0m\u001b[0;34m)\u001b[0m\u001b[0;34m\u001b[0m\u001b[0;34m\u001b[0m\u001b[0m\n\u001b[0;32m-> 1501\u001b[0;31m               \u001b[0mtmp_logs\u001b[0m \u001b[0;34m=\u001b[0m \u001b[0mself\u001b[0m\u001b[0;34m.\u001b[0m\u001b[0mtest_function\u001b[0m\u001b[0;34m(\u001b[0m\u001b[0miterator\u001b[0m\u001b[0;34m)\u001b[0m\u001b[0;34m\u001b[0m\u001b[0;34m\u001b[0m\u001b[0m\n\u001b[0m\u001b[1;32m   1502\u001b[0m               \u001b[0;32mif\u001b[0m \u001b[0mdata_handler\u001b[0m\u001b[0;34m.\u001b[0m\u001b[0mshould_sync\u001b[0m\u001b[0;34m:\u001b[0m\u001b[0;34m\u001b[0m\u001b[0;34m\u001b[0m\u001b[0m\n\u001b[1;32m   1503\u001b[0m                 \u001b[0mcontext\u001b[0m\u001b[0;34m.\u001b[0m\u001b[0masync_wait\u001b[0m\u001b[0;34m(\u001b[0m\u001b[0;34m)\u001b[0m\u001b[0;34m\u001b[0m\u001b[0;34m\u001b[0m\u001b[0m\n",
      "\u001b[0;32m~/.virtualenvs/ou/lib/python3.8/site-packages/tensorflow/python/eager/def_function.py\u001b[0m in \u001b[0;36m__call__\u001b[0;34m(self, *args, **kwds)\u001b[0m\n\u001b[1;32m    883\u001b[0m \u001b[0;34m\u001b[0m\u001b[0m\n\u001b[1;32m    884\u001b[0m       \u001b[0;32mwith\u001b[0m \u001b[0mOptionalXlaContext\u001b[0m\u001b[0;34m(\u001b[0m\u001b[0mself\u001b[0m\u001b[0;34m.\u001b[0m\u001b[0m_jit_compile\u001b[0m\u001b[0;34m)\u001b[0m\u001b[0;34m:\u001b[0m\u001b[0;34m\u001b[0m\u001b[0;34m\u001b[0m\u001b[0m\n\u001b[0;32m--> 885\u001b[0;31m         \u001b[0mresult\u001b[0m \u001b[0;34m=\u001b[0m \u001b[0mself\u001b[0m\u001b[0;34m.\u001b[0m\u001b[0m_call\u001b[0m\u001b[0;34m(\u001b[0m\u001b[0;34m*\u001b[0m\u001b[0margs\u001b[0m\u001b[0;34m,\u001b[0m \u001b[0;34m**\u001b[0m\u001b[0mkwds\u001b[0m\u001b[0;34m)\u001b[0m\u001b[0;34m\u001b[0m\u001b[0;34m\u001b[0m\u001b[0m\n\u001b[0m\u001b[1;32m    886\u001b[0m \u001b[0;34m\u001b[0m\u001b[0m\n\u001b[1;32m    887\u001b[0m       \u001b[0mnew_tracing_count\u001b[0m \u001b[0;34m=\u001b[0m \u001b[0mself\u001b[0m\u001b[0;34m.\u001b[0m\u001b[0mexperimental_get_tracing_count\u001b[0m\u001b[0;34m(\u001b[0m\u001b[0;34m)\u001b[0m\u001b[0;34m\u001b[0m\u001b[0;34m\u001b[0m\u001b[0m\n",
      "\u001b[0;32m~/.virtualenvs/ou/lib/python3.8/site-packages/tensorflow/python/eager/def_function.py\u001b[0m in \u001b[0;36m_call\u001b[0;34m(self, *args, **kwds)\u001b[0m\n\u001b[1;32m    922\u001b[0m       \u001b[0;31m# In this case we have not created variables on the first call. So we can\u001b[0m\u001b[0;34m\u001b[0m\u001b[0;34m\u001b[0m\u001b[0;34m\u001b[0m\u001b[0m\n\u001b[1;32m    923\u001b[0m       \u001b[0;31m# run the first trace but we should fail if variables are created.\u001b[0m\u001b[0;34m\u001b[0m\u001b[0;34m\u001b[0m\u001b[0;34m\u001b[0m\u001b[0m\n\u001b[0;32m--> 924\u001b[0;31m       \u001b[0mresults\u001b[0m \u001b[0;34m=\u001b[0m \u001b[0mself\u001b[0m\u001b[0;34m.\u001b[0m\u001b[0m_stateful_fn\u001b[0m\u001b[0;34m(\u001b[0m\u001b[0;34m*\u001b[0m\u001b[0margs\u001b[0m\u001b[0;34m,\u001b[0m \u001b[0;34m**\u001b[0m\u001b[0mkwds\u001b[0m\u001b[0;34m)\u001b[0m\u001b[0;34m\u001b[0m\u001b[0;34m\u001b[0m\u001b[0m\n\u001b[0m\u001b[1;32m    925\u001b[0m       \u001b[0;32mif\u001b[0m \u001b[0mself\u001b[0m\u001b[0;34m.\u001b[0m\u001b[0m_created_variables\u001b[0m \u001b[0;32mand\u001b[0m \u001b[0;32mnot\u001b[0m \u001b[0mALLOW_DYNAMIC_VARIABLE_CREATION\u001b[0m\u001b[0;34m:\u001b[0m\u001b[0;34m\u001b[0m\u001b[0;34m\u001b[0m\u001b[0m\n\u001b[1;32m    926\u001b[0m         raise ValueError(\"Creating variables on a non-first call to a function\"\n",
      "\u001b[0;32m~/.virtualenvs/ou/lib/python3.8/site-packages/tensorflow/python/eager/function.py\u001b[0m in \u001b[0;36m__call__\u001b[0;34m(self, *args, **kwargs)\u001b[0m\n\u001b[1;32m   3037\u001b[0m       (graph_function,\n\u001b[1;32m   3038\u001b[0m        filtered_flat_args) = self._maybe_define_function(args, kwargs)\n\u001b[0;32m-> 3039\u001b[0;31m     return graph_function._call_flat(\n\u001b[0m\u001b[1;32m   3040\u001b[0m         filtered_flat_args, captured_inputs=graph_function.captured_inputs)  # pylint: disable=protected-access\n\u001b[1;32m   3041\u001b[0m \u001b[0;34m\u001b[0m\u001b[0m\n",
      "\u001b[0;32m~/.virtualenvs/ou/lib/python3.8/site-packages/tensorflow/python/eager/function.py\u001b[0m in \u001b[0;36m_call_flat\u001b[0;34m(self, args, captured_inputs, cancellation_manager)\u001b[0m\n\u001b[1;32m   1961\u001b[0m         and executing_eagerly):\n\u001b[1;32m   1962\u001b[0m       \u001b[0;31m# No tape is watching; skip to running the function.\u001b[0m\u001b[0;34m\u001b[0m\u001b[0;34m\u001b[0m\u001b[0;34m\u001b[0m\u001b[0m\n\u001b[0;32m-> 1963\u001b[0;31m       return self._build_call_outputs(self._inference_function.call(\n\u001b[0m\u001b[1;32m   1964\u001b[0m           ctx, args, cancellation_manager=cancellation_manager))\n\u001b[1;32m   1965\u001b[0m     forward_backward = self._select_forward_and_backward_functions(\n",
      "\u001b[0;32m~/.virtualenvs/ou/lib/python3.8/site-packages/tensorflow/python/eager/function.py\u001b[0m in \u001b[0;36mcall\u001b[0;34m(self, ctx, args, cancellation_manager)\u001b[0m\n\u001b[1;32m    589\u001b[0m       \u001b[0;32mwith\u001b[0m \u001b[0m_InterpolateFunctionError\u001b[0m\u001b[0;34m(\u001b[0m\u001b[0mself\u001b[0m\u001b[0;34m)\u001b[0m\u001b[0;34m:\u001b[0m\u001b[0;34m\u001b[0m\u001b[0;34m\u001b[0m\u001b[0m\n\u001b[1;32m    590\u001b[0m         \u001b[0;32mif\u001b[0m \u001b[0mcancellation_manager\u001b[0m \u001b[0;32mis\u001b[0m \u001b[0;32mNone\u001b[0m\u001b[0;34m:\u001b[0m\u001b[0;34m\u001b[0m\u001b[0;34m\u001b[0m\u001b[0m\n\u001b[0;32m--> 591\u001b[0;31m           outputs = execute.execute(\n\u001b[0m\u001b[1;32m    592\u001b[0m               \u001b[0mstr\u001b[0m\u001b[0;34m(\u001b[0m\u001b[0mself\u001b[0m\u001b[0;34m.\u001b[0m\u001b[0msignature\u001b[0m\u001b[0;34m.\u001b[0m\u001b[0mname\u001b[0m\u001b[0;34m)\u001b[0m\u001b[0;34m,\u001b[0m\u001b[0;34m\u001b[0m\u001b[0;34m\u001b[0m\u001b[0m\n\u001b[1;32m    593\u001b[0m               \u001b[0mnum_outputs\u001b[0m\u001b[0;34m=\u001b[0m\u001b[0mself\u001b[0m\u001b[0;34m.\u001b[0m\u001b[0m_num_outputs\u001b[0m\u001b[0;34m,\u001b[0m\u001b[0;34m\u001b[0m\u001b[0;34m\u001b[0m\u001b[0m\n",
      "\u001b[0;32m~/.virtualenvs/ou/lib/python3.8/site-packages/tensorflow/python/eager/execute.py\u001b[0m in \u001b[0;36mquick_execute\u001b[0;34m(op_name, num_outputs, inputs, attrs, ctx, name)\u001b[0m\n\u001b[1;32m     57\u001b[0m   \u001b[0;32mtry\u001b[0m\u001b[0;34m:\u001b[0m\u001b[0;34m\u001b[0m\u001b[0;34m\u001b[0m\u001b[0m\n\u001b[1;32m     58\u001b[0m     \u001b[0mctx\u001b[0m\u001b[0;34m.\u001b[0m\u001b[0mensure_initialized\u001b[0m\u001b[0;34m(\u001b[0m\u001b[0;34m)\u001b[0m\u001b[0;34m\u001b[0m\u001b[0;34m\u001b[0m\u001b[0m\n\u001b[0;32m---> 59\u001b[0;31m     tensors = pywrap_tfe.TFE_Py_Execute(ctx._handle, device_name, op_name,\n\u001b[0m\u001b[1;32m     60\u001b[0m                                         inputs, attrs, num_outputs)\n\u001b[1;32m     61\u001b[0m   \u001b[0;32mexcept\u001b[0m \u001b[0mcore\u001b[0m\u001b[0;34m.\u001b[0m\u001b[0m_NotOkStatusException\u001b[0m \u001b[0;32mas\u001b[0m \u001b[0me\u001b[0m\u001b[0;34m:\u001b[0m\u001b[0;34m\u001b[0m\u001b[0;34m\u001b[0m\u001b[0m\n",
      "\u001b[0;31mKeyboardInterrupt\u001b[0m: "
     ]
    }
   ],
   "source": [
    "# import dnn library\n",
    "   \n",
    "def experiment(dist):\n",
    "    \n",
    "    N = 1000\n",
    "    M = 256\n",
    "    f = dist['sample']\n",
    "    ranges = dist['ranges']\n",
    "    NUM_LEARNING_EXPERIMENTS = 10\n",
    "\n",
    "    # create a mesh on the unit square, with a resolution of 0.1 (0.1,0.2,...,0.9)\n",
    "    # The mesh is a cube of size 9^n_params (e.g., 9^2 for 2 params)\n",
    "    n_params = ranges.shape[0]\n",
    "    resolusion = np.arange(start=0.1, stop=1.0, step=0.1)\n",
    "    resolusion = np.around(resolusion, decimals=1)\n",
    "    n = len(resolusion)\n",
    "    mesh = np.zeros(shape=[n]*n_params, dtype=float)\n",
    "\n",
    "    # create range adjusters for each parameter range\n",
    "    param_adjusters = [adjuster_logit(low=r[0], high=r[1]) for r in ranges]\n",
    "\n",
    "    # - for each cell in the mesh create a sample using the corresponfing cell params.\n",
    "    #   - adjust parameters in each cell using the appropriate adjuster for each parameter.\n",
    "    mesh_samples = []\n",
    "    mesh_params = []\n",
    "    for idx in np.ndindex(mesh.shape):\n",
    "        ti = np.array(idx)/len(resolusion) + resolusion[0]\n",
    "        di = np.zeros_like(ti)\n",
    "        for i in range(n_params):\n",
    "            di[i] = param_adjusters[i](ti[i])\n",
    "        sample = f(di, size=M)\n",
    "        mesh_samples.append(sample)\n",
    "        mesh_params.append(di)\n",
    "    \n",
    "    # For each point in the mesh:\n",
    "    # - Run learning experiment producing several (say 10-100) learning experiments.\n",
    "    # - Compute the average error of the 10-100 experiments. MSE rules\n",
    "    # - Compute the Cramer Rao bound (numerically if the analytical solution is not possible)\n",
    "    # - Divide the MSE by Cramer Rao.\n",
    "    \n",
    "    num_samples = len(mesh_samples)\n",
    "    \n",
    "    mesh_errors = np.zeros(shape=(num_samples,), dtype=float)\n",
    "    for i, sample in enumerate(mesh_samples):\n",
    "        \n",
    "        avg_sqrt_mse = 0\n",
    "        \n",
    "        for j in range(NUM_LEARNING_EXPERIMENTS):\n",
    "            \n",
    "            start = timer()\n",
    "            \n",
    "            # generate training data\n",
    "            samples_train, params_train, H_train = generate_data(N=N, M=M, sample=f, ranges=ranges)\n",
    "            \n",
    "            # fit DNN model to data\n",
    "            print(f'training mesh point ({i}/{num_samples}) trial ({j}/{NUM_LEARNING_EXPERIMENTS}) ...', end=' ')\n",
    "            fit_dnn_model(X_train=H_train, y_train=params_train)\n",
    "            dnn_model, history = fit_dnn_model(X_train=H_train, y_train=params_train)\n",
    "            \n",
    "            # create a histogram from sample generated by mesh point params\n",
    "            nbins = H_train.shape[1]\n",
    "            H_test = np.histogram(sample, bins=nbins, range=(0, nbins), density=False)[0]\n",
    "            H_test = H_test.reshape((1,-1))\n",
    "            \n",
    "            # predict parameters for mesh point\n",
    "            params_test = mesh_params[i].reshape((1,-1))\n",
    "            y_pred, sqrt_mse = predict(dnn_model, X_test=H_test, y_test=params_test)\n",
    "            \n",
    "            # average error\n",
    "            avg_sqrt_mse += sqrt_mse\n",
    "            print(f'sqrt_mse: {sqrt_mse:.4f} ({int(timer()-start)} sec.)')\n",
    "        \n",
    "        avg_sqrt_mse /= NUM_LEARNING_EXPERIMENTS\n",
    "        mesh_errors[i] = avg_sqrt_mse\n",
    "        print(f'done sample ({i}/{num_samples}) - (avg_sqrt_mse: {avg_sqrt_mse:.4f})')\n",
    "\n",
    "experiment(dist['yulesimon'])\n"
   ]
  }
 ],
 "metadata": {
  "kernelspec": {
   "display_name": "ou",
   "language": "python",
   "name": "ou"
  },
  "language_info": {
   "codemirror_mode": {
    "name": "ipython",
    "version": 3
   },
   "file_extension": ".py",
   "mimetype": "text/x-python",
   "name": "python",
   "nbconvert_exporter": "python",
   "pygments_lexer": "ipython3",
   "version": "3.8.10"
  }
 },
 "nbformat": 4,
 "nbformat_minor": 5
}
