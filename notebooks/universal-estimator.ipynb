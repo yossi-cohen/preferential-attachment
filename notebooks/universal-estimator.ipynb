{
 "cells": [
  {
   "cell_type": "markdown",
   "id": "4fbfe3f5",
   "metadata": {
    "tags": []
   },
   "source": [
    "# Universal estimator\n",
    "\n",
    "Let $f(x|d_1,...,d_n)$ be a function, that for any fixed values of the parameters $d_i$, reduces to a PDF of x; $f$ thus is a family of functions, e.g., *log normal*.\n",
    "\n",
    "$estimator(f, sample)$ is a function which learns the parameters $d_i$ of $f$ from a single input *sample* ($m$ observations drawn using $f$).\n",
    "\n",
    "## Method\n",
    "> 1. Generate synthetic *samples*.\n",
    "> 2. Learn a DNN model from the synthetic data.\n",
    "> 3. Predict the parameters $d_i$ on the input *sample*.\n",
    "\n",
    "## Parameter range adjustment\n",
    "The *estimator* is allowed to assume that the range of the parameter values is $(-\\frac{1}{2}, \\frac{1}{2})$.\n",
    "\n",
    "For that we use *Range Adjustment*:\n",
    "> Input:\n",
    "> 1. A funation $f(x|d_i)$ as defined above\n",
    "> 2. Bounds on the parameters $d_i$\n",
    "\n",
    "> Output:\n",
    "> - A function $g(x|t_i)$, which is the same as $f$, except that $t_i$ are in the range $(-\\frac{1}{2}, \\frac{1}{2})$, \n",
    "> and such that $t_i$ are “typically” around 0.\n",
    "\n",
    "> Let: $h(d)$ be a mapping function from $range(d)$ to the range $(-\\frac{1}{2}, \\frac{1}{2})$, where $h$ is continuous within $range(d)$.\n",
    ">\n",
    "> $h^{-1}(t)$ is therefore a mapping function from the range $(-\\frac{1}{2}, \\frac{1}{2})$ to $range(d)$.\n",
    ">\n",
    "> Let: $g(x|t_i) = f(x|h^{-1}(t_i))$ where $h^{-1}(t_i)$ is a inverse of the *mapping* $h(d)$ of the bounds on the parameters $d_i$.\n",
    "\n",
    "We use the *range adjustment* as follows:\n",
    "> 1. Generate synthetic *samples* using $f(x|h^{-1}(t_i))$ where $t_i$ are drawn from $(-\\frac{1}{2}, \\frac{1}{2})$.\n",
    "> 2. Learn a DNN model from the synthetic data.\n",
    "> 3. Predict the parameters $d_i$ on the input *sample*.\n"
   ]
  },
  {
   "cell_type": "markdown",
   "id": "e881b07b",
   "metadata": {},
   "source": [
    "### Range adjustment using $logit(x)$\n",
    "The standard *logistic* function is defined as: $𝜎(x) = 1 / (1 + e^{-x})$ for $x ∈ (-∞, ∞)$.\n",
    "\n",
    "<p style=\"text-align:center;\"><img src=\"images/logistic.png\" alt=\"logistic(x)\" title=\"logistic(x), x ∈ (−∞,∞)\" /></p>\n",
    "\n",
    "The *logit* is the inverse of the *logistic* function.\n",
    "\n",
    "The *logit* function is defined as: $logit(x) = 𝜎^{-1}(x) = ln( x / (1-x) )$ for $x ∈ (0,1)$.\n",
    "\n",
    "<p style=\"text-align:center;\"><img src=\"images/logit.png\" alt=\"logit\" title=\"logit(x), x ∈ (0,1)\" /></p>\n",
    "\n",
    "We can use the *logistic* function and its *logit* inverse as follows:\n",
    "> Let: $h(d) = logit(d)$ for $d ∈ (0,1)$\n",
    ">\n",
    "> Than $h^{-1}(t) = 𝜎(t)$ for $t ∈ (-∞, ∞)$\n",
    "\n",
    "> We define a function to return another function, i.e., an adjuster of a parameter from the range $(0, 1)$ \n",
    ">\n",
    "> to the original range $(low, high)$ that a function takes.\n"
   ]
  },
  {
   "cell_type": "code",
   "execution_count": 1,
   "id": "e8d84851",
   "metadata": {},
   "outputs": [],
   "source": [
    "import math\n",
    "# from scipy.special import expit, logit\n",
    "\n",
    "def expit(x):\n",
    "    # expit(x) = 1 / (1 + e^(-x))\n",
    "    # defined in (-INF, INF)\n",
    "    return 1 / (1 + math.exp(-x))\n",
    "\n",
    "def logit(p):\n",
    "    # logit(p) = inv(expit) = ln(p/(1-p))\n",
    "    # defined in (0, 1)\n",
    "    if 0 == p: return -math.inf\n",
    "    if 1 == p: return math.inf\n",
    "    return math.log(p/(1-p))\n",
    "\n",
    "def adjuster_logit(low, high):\n",
    "    # adjuster is defined in (-INF, INF)\n",
    "    # low: parameter lower bound\n",
    "    # high: parameter higher bound\n",
    "    # return: a function defined in (0,1) that maps it's parameter (x) to the original range (low,high).\n",
    "\n",
    "    LOW = 0 if -math.inf == low else expit(low)\n",
    "    HIGH = 1 if math.inf == high else expit(high)\n",
    "\n",
    "    def adjust(x):\n",
    "        # adjust is defined in (0, 1)\n",
    "        if x < 0: return -math.inf\n",
    "        if x > 1: return math.inf\n",
    "        return logit(LOW + x * (HIGH - LOW))\n",
    "    \n",
    "    return adjust\n"
   ]
  },
  {
   "cell_type": "markdown",
   "id": "33d885e1",
   "metadata": {},
   "source": [
    "### Range adjustment using $arctan(x)$\n",
    "> <img src=\"images/tan.png\" />\n",
    "> <img src=\"images/arctan.png\" />\n"
   ]
  },
  {
   "cell_type": "code",
   "execution_count": 2,
   "id": "c3be9ec6",
   "metadata": {},
   "outputs": [],
   "source": [
    "def adjuster_arctan(low, high):\n",
    "    # adjuster is defined in (-INF, INF)\n",
    "    # low: parameter lower bound\n",
    "    # high: parameter higher bound\n",
    "    # return: a function defined in (0,1) that maps it's parameter (x) to the original range (low,high).\n",
    "\n",
    "    LOW = -math.pi/2 if -math.inf == low else math.atan(low)\n",
    "    HIGH = math.pi/2 if math.inf == high else math.atan(high)\n",
    "\n",
    "    def adjust(x):\n",
    "        # adjust is defined in (0, 1)\n",
    "        if x < 0: return -math.inf\n",
    "        if x > 1: return math.inf\n",
    "        return math.tan(LOW + x * (HIGH - LOW))\n",
    "    \n",
    "    return adjust"
   ]
  },
  {
   "cell_type": "markdown",
   "id": "d57a897e-9654-432b-914d-2f4d7b541064",
   "metadata": {},
   "source": [
    "### Test adjusters"
   ]
  },
  {
   "cell_type": "code",
   "execution_count": 3,
   "id": "40c1d774",
   "metadata": {},
   "outputs": [
    {
     "name": "stdout",
     "output_type": "stream",
     "text": [
      "adjuster_logit(2,10)(0): -2.0\n",
      "adjuster_logit(2,10)(1): 10.00000000000097\n",
      "adjuster_arctan(2,10)(0): -1.9999999999999996\n",
      "adjuster_arctan(2,10)(1): 10.00000000000001\n"
     ]
    }
   ],
   "source": [
    "print(f\"adjuster_logit(2,10)(0): {adjuster_logit(low=-2, high=10)(0)}\")\n",
    "print(f\"adjuster_logit(2,10)(1): {adjuster_logit(low=-2, high=10)(1)}\")\n",
    "print(f\"adjuster_arctan(2,10)(0): {adjuster_arctan(low=-2, high=10)(0)}\")\n",
    "print(f\"adjuster_arctan(2,10)(1): {adjuster_arctan(low=-2, high=10)(1)}\")\n"
   ]
  },
  {
   "cell_type": "code",
   "execution_count": 4,
   "id": "9b2a0b75",
   "metadata": {},
   "outputs": [],
   "source": [
    "# adjust = adjuster_logit(low=0, high=10.0)\n",
    "# adjust( np.random.uniform(0.0, 1.0, size=1)[0])"
   ]
  },
  {
   "cell_type": "markdown",
   "id": "736504a8",
   "metadata": {},
   "source": [
    "# Universal estimator\n",
    "\n",
    "-  Apply 2D  range adjustment; for now, it will be independent parameters: should adjust to $(-\\frac{1}{2}, \\frac{1}{2})^2, (n=2)$.  \n",
    "   In this case: we want the range to be an n-dimensional unit cube; this makes it easier to understand subranges: e.g., 0.1-0.2.  \n",
    "   We also introduce some \"prior\" in a very convoluted way. A priori, the range is -∞ to +∞ and we know nothing about where the parameter is. After range adjustment, we shrink some regions by a large factor and others by a small factor. So, we favor the center of the range. We may even beat Cramer-Rao for this reason.\n",
    "\n",
    "-  Select 5 or so longtail distributions (we may need to change the families later). Do range adjustment, and it should be sensible in the sense that it is approximately centered.\n",
    "\n",
    "- Do range adjustment (orthogonal for now, i.e, independently for each original parameter).\n",
    "\n",
    "- Draw a mesh on the unit square, say with a resolution of 0.1, this gives 81 points for each mesh. Maybe 1/11 resolution? Maybe include the last and first row and column. \n",
    "\n",
    "- For each point in the mesh, run learning experiment producing:\n",
    "   - Several (say 10-100) learning experiments. without focusing for now.\n",
    "   - Compute the average error of the 10-100 experiments. MSE rules\n",
    "   - Compute the Cramer Rao bound (numerically if the analytical solution is not possible)\n",
    "   - Divide the MSE by Cramer Rao.\n",
    "  \n",
    "- Draw the 3D manifold on the mesh.\n",
    "\n",
    "### Expected results:\n",
    "\n",
    "1. Hopefully, we are at most 2 times worse than CR. \n",
    "2. Hopefully, the CR is never singular, i.e. not zero nor infinity.\n"
   ]
  },
  {
   "cell_type": "code",
   "execution_count": 5,
   "id": "fa550000",
   "metadata": {},
   "outputs": [],
   "source": [
    "import math\n",
    "import numpy as np\n",
    "\n",
    "def generate_data(N, M, sample, ranges, nbins=-1):\n",
    "    \"\"\"\n",
    "    ranges: [dX2] array of parameter ranges (e.g. for 2 parmeters: [[0, 10], [0, math.inf]])\n",
    "    \"\"\"\n",
    "    \n",
    "    # output (generate samples)\n",
    "    samples = np.zeros((N, M), dtype=float)\n",
    "    \n",
    "    # generate N parameter cubes in the range (-0.5, +0.5)\n",
    "    n_params = ranges.shape[0]\n",
    "    params = np.zeros((N, n_params), dtype=float)\n",
    "\n",
    "    param_adjusters = [adjuster_logit(low=r[0], high=r[1]) for r in ranges]\n",
    "        \n",
    "    for i in range(N):\n",
    "        for param_i in range(n_params):\n",
    "            adjuster = param_adjusters[param_i]\n",
    "            # ti is in (-0.5, 0.5)\n",
    "            ti = np.random.uniform(0.0, 1.0, size=1)[0]\n",
    "            # di is in (di_low, di_high)\n",
    "            params[i, param_i] = adjuster(ti)\n",
    "    \n",
    "    # repeat N times: draw a sample from distribution (M observations)\n",
    "    for i in range(N):\n",
    "        samples[i, :] = sample(params[i], size=M)\n",
    "    \n",
    "    # create a histogram from each sample\n",
    "    if nbins < 0:\n",
    "        nbins = int(np.max(samples))+1\n",
    "    \n",
    "    histogram_matrix = np.apply_along_axis(\n",
    "       lambda a: np.histogram(a, bins=nbins, range=(0, nbins), density=False)[0], 1, samples)\n",
    "\n",
    "    return samples, params, histogram_matrix"
   ]
  },
  {
   "cell_type": "code",
   "execution_count": 6,
   "id": "4d46743d",
   "metadata": {},
   "outputs": [
    {
     "name": "stdout",
     "output_type": "stream",
     "text": [
      "[[ 49 116  39  28   8   2   5   4   1   0   0   1   1   0   0   0   0   2]\n",
      " [  0 256   0   0   0   0   0   0   0   0   0   0   0   0   0   0   0   0]\n",
      " [  0 190  66   0   0   0   0   0   0   0   0   0   0   0   0   0   0   0]\n",
      " [  0 129  75  22  16   7   1   2   2   0   1   1   0   0   0   0   0   0]\n",
      " [  7 147  51  26  10   4   3   1   0   3   1   1   0   1   0   1   0   0]\n",
      " [  2 200  47   7   0   0   0   0   0   0   0   0   0   0   0   0   0   0]\n",
      " [  0 137 119   0   0   0   0   0   0   0   0   0   0   0   0   0   0   0]\n",
      " [ 71 152  29   4   0   0   0   0   0   0   0   0   0   0   0   0   0   0]]\n"
     ]
    }
   ],
   "source": [
    "# TEST: generate_data\n",
    "from scipy import stats\n",
    "from scipy.stats import lognorm\n",
    "\n",
    "def lognormal_sample(params, size):\n",
    "    return lognorm.rvs(s=params[0], loc=params[1], size=size)\n",
    "\n",
    "f = lognormal_sample\n",
    "ranges = np.array(\n",
    "    [[0.0, 1.0], \n",
    "     [0.0, math.inf]]\n",
    ")\n",
    "\n",
    "samples, params, histogram_matrix = generate_data(N=8, M=256, sample=f, ranges=ranges)\n",
    "\n",
    "# print(samples)\n",
    "# print(params)\n",
    "print(histogram_matrix)\n"
   ]
  },
  {
   "cell_type": "markdown",
   "id": "b61e182a",
   "metadata": {},
   "source": [
    "###  Longtail distributions for testing"
   ]
  },
  {
   "cell_type": "code",
   "execution_count": 7,
   "id": "cdbad834",
   "metadata": {},
   "outputs": [],
   "source": [
    "from scipy import stats\n",
    "from scipy.stats import yulesimon\n",
    "from scipy.stats import powerlaw\n",
    "\n",
    "def yulesimon_sample(params, size):\n",
    "    return yulesimon.rvs(alpha=params[0], loc=params[1], size=size)\n",
    "\n",
    "def powerlaw_sample(params, size):\n",
    "    return powerlaw.rvs(a=params[0], loc=params[1], size=size)\n",
    "\n",
    "dist = {\n",
    "    'yulesimon': {\n",
    "        'sample': yulesimon_sample,\n",
    "        'ranges': np.array([[2.0, 3.0], [0.0, math.inf]])\n",
    "    },\n",
    "    'powerlaw': {\n",
    "        'sample': powerlaw_sample,\n",
    "        'ranges': np.array([[0.0, 10.0], [0.0, math.inf]])\n",
    "    }\n",
    "}"
   ]
  },
  {
   "cell_type": "markdown",
   "id": "587080ee",
   "metadata": {},
   "source": [
    "### Experiments"
   ]
  },
  {
   "cell_type": "code",
   "execution_count": 10,
   "id": "dd601eca",
   "metadata": {},
   "outputs": [
    {
     "name": "stdout",
     "output_type": "stream",
     "text": [
      "training mesh point (0/81) (0/10) ... "
     ]
    },
    {
     "ename": "ValueError",
     "evalue": "in user code:\n\n    /home/yossico/.virtualenvs/ou/lib/python3.8/site-packages/tensorflow/python/keras/engine/training.py:1564 predict_function  *\n        return step_function(self, iterator)\n    /home/yossico/.virtualenvs/ou/lib/python3.8/site-packages/tensorflow/python/keras/engine/training.py:1554 step_function  **\n        outputs = model.distribute_strategy.run(run_step, args=(data,))\n    /home/yossico/.virtualenvs/ou/lib/python3.8/site-packages/tensorflow/python/distribute/distribute_lib.py:1285 run\n        return self._extended.call_for_each_replica(fn, args=args, kwargs=kwargs)\n    /home/yossico/.virtualenvs/ou/lib/python3.8/site-packages/tensorflow/python/distribute/distribute_lib.py:2833 call_for_each_replica\n        return self._call_for_each_replica(fn, args, kwargs)\n    /home/yossico/.virtualenvs/ou/lib/python3.8/site-packages/tensorflow/python/distribute/distribute_lib.py:3608 _call_for_each_replica\n        return fn(*args, **kwargs)\n    /home/yossico/.virtualenvs/ou/lib/python3.8/site-packages/tensorflow/python/keras/engine/training.py:1547 run_step  **\n        outputs = model.predict_step(data)\n    /home/yossico/.virtualenvs/ou/lib/python3.8/site-packages/tensorflow/python/keras/engine/training.py:1520 predict_step\n        return self(x, training=False)\n    /home/yossico/.virtualenvs/ou/lib/python3.8/site-packages/tensorflow/python/keras/engine/base_layer.py:1013 __call__\n        input_spec.assert_input_compatibility(self.input_spec, inputs, self.name)\n    /home/yossico/.virtualenvs/ou/lib/python3.8/site-packages/tensorflow/python/keras/engine/input_spec.py:251 assert_input_compatibility\n        raise ValueError(\n\n    ValueError: Input 0 of layer sequential_1 is incompatible with the layer: expected axis -1 of input shape to have value 81 but received input with shape (None, 1)\n",
     "output_type": "error",
     "traceback": [
      "\u001b[0;31m---------------------------------------------------------------------------\u001b[0m",
      "\u001b[0;31mValueError\u001b[0m                                Traceback (most recent call last)",
      "\u001b[0;32m/tmp/ipykernel_154906/1820757449.py\u001b[0m in \u001b[0;36m<module>\u001b[0;34m\u001b[0m\n\u001b[1;32m     72\u001b[0m         \u001b[0mprint\u001b[0m\u001b[0;34m(\u001b[0m\u001b[0;34mf'done sample ({i}/{num_samples}) - (avg_sqrt_mse: {avg_sqrt_mse})'\u001b[0m\u001b[0;34m)\u001b[0m\u001b[0;34m\u001b[0m\u001b[0;34m\u001b[0m\u001b[0m\n\u001b[1;32m     73\u001b[0m \u001b[0;34m\u001b[0m\u001b[0m\n\u001b[0;32m---> 74\u001b[0;31m \u001b[0mexperiment\u001b[0m\u001b[0;34m(\u001b[0m\u001b[0mdist\u001b[0m\u001b[0;34m[\u001b[0m\u001b[0;34m'yulesimon'\u001b[0m\u001b[0;34m]\u001b[0m\u001b[0;34m)\u001b[0m\u001b[0;34m\u001b[0m\u001b[0;34m\u001b[0m\u001b[0m\n\u001b[0m",
      "\u001b[0;32m/tmp/ipykernel_154906/1820757449.py\u001b[0m in \u001b[0;36mexperiment\u001b[0;34m(dist)\u001b[0m\n\u001b[1;32m     62\u001b[0m             \u001b[0;31m# predict parameters for mesh point\u001b[0m\u001b[0;34m\u001b[0m\u001b[0;34m\u001b[0m\u001b[0;34m\u001b[0m\u001b[0m\n\u001b[1;32m     63\u001b[0m             \u001b[0mparams_test\u001b[0m \u001b[0;34m=\u001b[0m \u001b[0mmesh_params\u001b[0m\u001b[0;34m[\u001b[0m\u001b[0mi\u001b[0m\u001b[0;34m]\u001b[0m\u001b[0;34m\u001b[0m\u001b[0;34m\u001b[0m\u001b[0m\n\u001b[0;32m---> 64\u001b[0;31m             \u001b[0my_pred\u001b[0m\u001b[0;34m,\u001b[0m \u001b[0msqrt_mse\u001b[0m \u001b[0;34m=\u001b[0m \u001b[0mpredict\u001b[0m\u001b[0;34m(\u001b[0m\u001b[0mdnn_model\u001b[0m\u001b[0;34m,\u001b[0m \u001b[0mX_test\u001b[0m\u001b[0;34m=\u001b[0m\u001b[0mH_test\u001b[0m\u001b[0;34m,\u001b[0m \u001b[0my_test\u001b[0m\u001b[0;34m=\u001b[0m\u001b[0mparams_test\u001b[0m\u001b[0;34m)\u001b[0m\u001b[0;34m\u001b[0m\u001b[0;34m\u001b[0m\u001b[0m\n\u001b[0m\u001b[1;32m     65\u001b[0m \u001b[0;34m\u001b[0m\u001b[0m\n\u001b[1;32m     66\u001b[0m             \u001b[0;31m# average error\u001b[0m\u001b[0;34m\u001b[0m\u001b[0;34m\u001b[0m\u001b[0;34m\u001b[0m\u001b[0m\n",
      "\u001b[0;32m/tmp/ipykernel_154906/3877014121.py\u001b[0m in \u001b[0;36mpredict\u001b[0;34m(dnn_model, X_test, y_test)\u001b[0m\n\u001b[1;32m      2\u001b[0m \u001b[0;34m\u001b[0m\u001b[0m\n\u001b[1;32m      3\u001b[0m     \u001b[0;31m# predict\u001b[0m\u001b[0;34m\u001b[0m\u001b[0;34m\u001b[0m\u001b[0;34m\u001b[0m\u001b[0m\n\u001b[0;32m----> 4\u001b[0;31m     \u001b[0my_pred\u001b[0m \u001b[0;34m=\u001b[0m \u001b[0mdnn_model\u001b[0m\u001b[0;34m.\u001b[0m\u001b[0mpredict\u001b[0m\u001b[0;34m(\u001b[0m\u001b[0mX_test\u001b[0m\u001b[0;34m)\u001b[0m\u001b[0;34m.\u001b[0m\u001b[0mflatten\u001b[0m\u001b[0;34m(\u001b[0m\u001b[0;34m)\u001b[0m\u001b[0;34m\u001b[0m\u001b[0;34m\u001b[0m\u001b[0m\n\u001b[0m\u001b[1;32m      5\u001b[0m \u001b[0;34m\u001b[0m\u001b[0m\n\u001b[1;32m      6\u001b[0m     \u001b[0;31m# mse\u001b[0m\u001b[0;34m\u001b[0m\u001b[0;34m\u001b[0m\u001b[0;34m\u001b[0m\u001b[0m\n",
      "\u001b[0;32m~/.virtualenvs/ou/lib/python3.8/site-packages/tensorflow/python/keras/engine/training.py\u001b[0m in \u001b[0;36mpredict\u001b[0;34m(self, x, batch_size, verbose, steps, callbacks, max_queue_size, workers, use_multiprocessing)\u001b[0m\n\u001b[1;32m   1720\u001b[0m           \u001b[0;32mfor\u001b[0m \u001b[0mstep\u001b[0m \u001b[0;32min\u001b[0m \u001b[0mdata_handler\u001b[0m\u001b[0;34m.\u001b[0m\u001b[0msteps\u001b[0m\u001b[0;34m(\u001b[0m\u001b[0;34m)\u001b[0m\u001b[0;34m:\u001b[0m\u001b[0;34m\u001b[0m\u001b[0;34m\u001b[0m\u001b[0m\n\u001b[1;32m   1721\u001b[0m             \u001b[0mcallbacks\u001b[0m\u001b[0;34m.\u001b[0m\u001b[0mon_predict_batch_begin\u001b[0m\u001b[0;34m(\u001b[0m\u001b[0mstep\u001b[0m\u001b[0;34m)\u001b[0m\u001b[0;34m\u001b[0m\u001b[0;34m\u001b[0m\u001b[0m\n\u001b[0;32m-> 1722\u001b[0;31m             \u001b[0mtmp_batch_outputs\u001b[0m \u001b[0;34m=\u001b[0m \u001b[0mself\u001b[0m\u001b[0;34m.\u001b[0m\u001b[0mpredict_function\u001b[0m\u001b[0;34m(\u001b[0m\u001b[0miterator\u001b[0m\u001b[0;34m)\u001b[0m\u001b[0;34m\u001b[0m\u001b[0;34m\u001b[0m\u001b[0m\n\u001b[0m\u001b[1;32m   1723\u001b[0m             \u001b[0;32mif\u001b[0m \u001b[0mdata_handler\u001b[0m\u001b[0;34m.\u001b[0m\u001b[0mshould_sync\u001b[0m\u001b[0;34m:\u001b[0m\u001b[0;34m\u001b[0m\u001b[0;34m\u001b[0m\u001b[0m\n\u001b[1;32m   1724\u001b[0m               \u001b[0mcontext\u001b[0m\u001b[0;34m.\u001b[0m\u001b[0masync_wait\u001b[0m\u001b[0;34m(\u001b[0m\u001b[0;34m)\u001b[0m\u001b[0;34m\u001b[0m\u001b[0;34m\u001b[0m\u001b[0m\n",
      "\u001b[0;32m~/.virtualenvs/ou/lib/python3.8/site-packages/tensorflow/python/eager/def_function.py\u001b[0m in \u001b[0;36m__call__\u001b[0;34m(self, *args, **kwds)\u001b[0m\n\u001b[1;32m    887\u001b[0m \u001b[0;34m\u001b[0m\u001b[0m\n\u001b[1;32m    888\u001b[0m       \u001b[0;32mwith\u001b[0m \u001b[0mOptionalXlaContext\u001b[0m\u001b[0;34m(\u001b[0m\u001b[0mself\u001b[0m\u001b[0;34m.\u001b[0m\u001b[0m_jit_compile\u001b[0m\u001b[0;34m)\u001b[0m\u001b[0;34m:\u001b[0m\u001b[0;34m\u001b[0m\u001b[0;34m\u001b[0m\u001b[0m\n\u001b[0;32m--> 889\u001b[0;31m         \u001b[0mresult\u001b[0m \u001b[0;34m=\u001b[0m \u001b[0mself\u001b[0m\u001b[0;34m.\u001b[0m\u001b[0m_call\u001b[0m\u001b[0;34m(\u001b[0m\u001b[0;34m*\u001b[0m\u001b[0margs\u001b[0m\u001b[0;34m,\u001b[0m \u001b[0;34m**\u001b[0m\u001b[0mkwds\u001b[0m\u001b[0;34m)\u001b[0m\u001b[0;34m\u001b[0m\u001b[0;34m\u001b[0m\u001b[0m\n\u001b[0m\u001b[1;32m    890\u001b[0m \u001b[0;34m\u001b[0m\u001b[0m\n\u001b[1;32m    891\u001b[0m       \u001b[0mnew_tracing_count\u001b[0m \u001b[0;34m=\u001b[0m \u001b[0mself\u001b[0m\u001b[0;34m.\u001b[0m\u001b[0mexperimental_get_tracing_count\u001b[0m\u001b[0;34m(\u001b[0m\u001b[0;34m)\u001b[0m\u001b[0;34m\u001b[0m\u001b[0;34m\u001b[0m\u001b[0m\n",
      "\u001b[0;32m~/.virtualenvs/ou/lib/python3.8/site-packages/tensorflow/python/eager/def_function.py\u001b[0m in \u001b[0;36m_call\u001b[0;34m(self, *args, **kwds)\u001b[0m\n\u001b[1;32m    931\u001b[0m       \u001b[0;31m# This is the first call of __call__, so we have to initialize.\u001b[0m\u001b[0;34m\u001b[0m\u001b[0;34m\u001b[0m\u001b[0;34m\u001b[0m\u001b[0m\n\u001b[1;32m    932\u001b[0m       \u001b[0minitializers\u001b[0m \u001b[0;34m=\u001b[0m \u001b[0;34m[\u001b[0m\u001b[0;34m]\u001b[0m\u001b[0;34m\u001b[0m\u001b[0;34m\u001b[0m\u001b[0m\n\u001b[0;32m--> 933\u001b[0;31m       \u001b[0mself\u001b[0m\u001b[0;34m.\u001b[0m\u001b[0m_initialize\u001b[0m\u001b[0;34m(\u001b[0m\u001b[0margs\u001b[0m\u001b[0;34m,\u001b[0m \u001b[0mkwds\u001b[0m\u001b[0;34m,\u001b[0m \u001b[0madd_initializers_to\u001b[0m\u001b[0;34m=\u001b[0m\u001b[0minitializers\u001b[0m\u001b[0;34m)\u001b[0m\u001b[0;34m\u001b[0m\u001b[0;34m\u001b[0m\u001b[0m\n\u001b[0m\u001b[1;32m    934\u001b[0m     \u001b[0;32mfinally\u001b[0m\u001b[0;34m:\u001b[0m\u001b[0;34m\u001b[0m\u001b[0;34m\u001b[0m\u001b[0m\n\u001b[1;32m    935\u001b[0m       \u001b[0;31m# At this point we know that the initialization is complete (or less\u001b[0m\u001b[0;34m\u001b[0m\u001b[0;34m\u001b[0m\u001b[0;34m\u001b[0m\u001b[0m\n",
      "\u001b[0;32m~/.virtualenvs/ou/lib/python3.8/site-packages/tensorflow/python/eager/def_function.py\u001b[0m in \u001b[0;36m_initialize\u001b[0;34m(self, args, kwds, add_initializers_to)\u001b[0m\n\u001b[1;32m    761\u001b[0m     \u001b[0mself\u001b[0m\u001b[0;34m.\u001b[0m\u001b[0m_graph_deleter\u001b[0m \u001b[0;34m=\u001b[0m \u001b[0mFunctionDeleter\u001b[0m\u001b[0;34m(\u001b[0m\u001b[0mself\u001b[0m\u001b[0;34m.\u001b[0m\u001b[0m_lifted_initializer_graph\u001b[0m\u001b[0;34m)\u001b[0m\u001b[0;34m\u001b[0m\u001b[0;34m\u001b[0m\u001b[0m\n\u001b[1;32m    762\u001b[0m     self._concrete_stateful_fn = (\n\u001b[0;32m--> 763\u001b[0;31m         self._stateful_fn._get_concrete_function_internal_garbage_collected(  # pylint: disable=protected-access\n\u001b[0m\u001b[1;32m    764\u001b[0m             *args, **kwds))\n\u001b[1;32m    765\u001b[0m \u001b[0;34m\u001b[0m\u001b[0m\n",
      "\u001b[0;32m~/.virtualenvs/ou/lib/python3.8/site-packages/tensorflow/python/eager/function.py\u001b[0m in \u001b[0;36m_get_concrete_function_internal_garbage_collected\u001b[0;34m(self, *args, **kwargs)\u001b[0m\n\u001b[1;32m   3048\u001b[0m       \u001b[0margs\u001b[0m\u001b[0;34m,\u001b[0m \u001b[0mkwargs\u001b[0m \u001b[0;34m=\u001b[0m \u001b[0;32mNone\u001b[0m\u001b[0;34m,\u001b[0m \u001b[0;32mNone\u001b[0m\u001b[0;34m\u001b[0m\u001b[0;34m\u001b[0m\u001b[0m\n\u001b[1;32m   3049\u001b[0m     \u001b[0;32mwith\u001b[0m \u001b[0mself\u001b[0m\u001b[0;34m.\u001b[0m\u001b[0m_lock\u001b[0m\u001b[0;34m:\u001b[0m\u001b[0;34m\u001b[0m\u001b[0;34m\u001b[0m\u001b[0m\n\u001b[0;32m-> 3050\u001b[0;31m       \u001b[0mgraph_function\u001b[0m\u001b[0;34m,\u001b[0m \u001b[0m_\u001b[0m \u001b[0;34m=\u001b[0m \u001b[0mself\u001b[0m\u001b[0;34m.\u001b[0m\u001b[0m_maybe_define_function\u001b[0m\u001b[0;34m(\u001b[0m\u001b[0margs\u001b[0m\u001b[0;34m,\u001b[0m \u001b[0mkwargs\u001b[0m\u001b[0;34m)\u001b[0m\u001b[0;34m\u001b[0m\u001b[0;34m\u001b[0m\u001b[0m\n\u001b[0m\u001b[1;32m   3051\u001b[0m     \u001b[0;32mreturn\u001b[0m \u001b[0mgraph_function\u001b[0m\u001b[0;34m\u001b[0m\u001b[0;34m\u001b[0m\u001b[0m\n\u001b[1;32m   3052\u001b[0m \u001b[0;34m\u001b[0m\u001b[0m\n",
      "\u001b[0;32m~/.virtualenvs/ou/lib/python3.8/site-packages/tensorflow/python/eager/function.py\u001b[0m in \u001b[0;36m_maybe_define_function\u001b[0;34m(self, args, kwargs)\u001b[0m\n\u001b[1;32m   3442\u001b[0m \u001b[0;34m\u001b[0m\u001b[0m\n\u001b[1;32m   3443\u001b[0m           \u001b[0mself\u001b[0m\u001b[0;34m.\u001b[0m\u001b[0m_function_cache\u001b[0m\u001b[0;34m.\u001b[0m\u001b[0mmissed\u001b[0m\u001b[0;34m.\u001b[0m\u001b[0madd\u001b[0m\u001b[0;34m(\u001b[0m\u001b[0mcall_context_key\u001b[0m\u001b[0;34m)\u001b[0m\u001b[0;34m\u001b[0m\u001b[0;34m\u001b[0m\u001b[0m\n\u001b[0;32m-> 3444\u001b[0;31m           \u001b[0mgraph_function\u001b[0m \u001b[0;34m=\u001b[0m \u001b[0mself\u001b[0m\u001b[0;34m.\u001b[0m\u001b[0m_create_graph_function\u001b[0m\u001b[0;34m(\u001b[0m\u001b[0margs\u001b[0m\u001b[0;34m,\u001b[0m \u001b[0mkwargs\u001b[0m\u001b[0;34m)\u001b[0m\u001b[0;34m\u001b[0m\u001b[0;34m\u001b[0m\u001b[0m\n\u001b[0m\u001b[1;32m   3445\u001b[0m           \u001b[0mself\u001b[0m\u001b[0;34m.\u001b[0m\u001b[0m_function_cache\u001b[0m\u001b[0;34m.\u001b[0m\u001b[0mprimary\u001b[0m\u001b[0;34m[\u001b[0m\u001b[0mcache_key\u001b[0m\u001b[0;34m]\u001b[0m \u001b[0;34m=\u001b[0m \u001b[0mgraph_function\u001b[0m\u001b[0;34m\u001b[0m\u001b[0;34m\u001b[0m\u001b[0m\n\u001b[1;32m   3446\u001b[0m \u001b[0;34m\u001b[0m\u001b[0m\n",
      "\u001b[0;32m~/.virtualenvs/ou/lib/python3.8/site-packages/tensorflow/python/eager/function.py\u001b[0m in \u001b[0;36m_create_graph_function\u001b[0;34m(self, args, kwargs, override_flat_arg_shapes)\u001b[0m\n\u001b[1;32m   3277\u001b[0m     \u001b[0marg_names\u001b[0m \u001b[0;34m=\u001b[0m \u001b[0mbase_arg_names\u001b[0m \u001b[0;34m+\u001b[0m \u001b[0mmissing_arg_names\u001b[0m\u001b[0;34m\u001b[0m\u001b[0;34m\u001b[0m\u001b[0m\n\u001b[1;32m   3278\u001b[0m     graph_function = ConcreteFunction(\n\u001b[0;32m-> 3279\u001b[0;31m         func_graph_module.func_graph_from_py_func(\n\u001b[0m\u001b[1;32m   3280\u001b[0m             \u001b[0mself\u001b[0m\u001b[0;34m.\u001b[0m\u001b[0m_name\u001b[0m\u001b[0;34m,\u001b[0m\u001b[0;34m\u001b[0m\u001b[0;34m\u001b[0m\u001b[0m\n\u001b[1;32m   3281\u001b[0m             \u001b[0mself\u001b[0m\u001b[0;34m.\u001b[0m\u001b[0m_python_function\u001b[0m\u001b[0;34m,\u001b[0m\u001b[0;34m\u001b[0m\u001b[0;34m\u001b[0m\u001b[0m\n",
      "\u001b[0;32m~/.virtualenvs/ou/lib/python3.8/site-packages/tensorflow/python/framework/func_graph.py\u001b[0m in \u001b[0;36mfunc_graph_from_py_func\u001b[0;34m(name, python_func, args, kwargs, signature, func_graph, autograph, autograph_options, add_control_dependencies, arg_names, op_return_value, collections, capture_by_value, override_flat_arg_shapes)\u001b[0m\n\u001b[1;32m    997\u001b[0m         \u001b[0m_\u001b[0m\u001b[0;34m,\u001b[0m \u001b[0moriginal_func\u001b[0m \u001b[0;34m=\u001b[0m \u001b[0mtf_decorator\u001b[0m\u001b[0;34m.\u001b[0m\u001b[0munwrap\u001b[0m\u001b[0;34m(\u001b[0m\u001b[0mpython_func\u001b[0m\u001b[0;34m)\u001b[0m\u001b[0;34m\u001b[0m\u001b[0;34m\u001b[0m\u001b[0m\n\u001b[1;32m    998\u001b[0m \u001b[0;34m\u001b[0m\u001b[0m\n\u001b[0;32m--> 999\u001b[0;31m       \u001b[0mfunc_outputs\u001b[0m \u001b[0;34m=\u001b[0m \u001b[0mpython_func\u001b[0m\u001b[0;34m(\u001b[0m\u001b[0;34m*\u001b[0m\u001b[0mfunc_args\u001b[0m\u001b[0;34m,\u001b[0m \u001b[0;34m**\u001b[0m\u001b[0mfunc_kwargs\u001b[0m\u001b[0;34m)\u001b[0m\u001b[0;34m\u001b[0m\u001b[0;34m\u001b[0m\u001b[0m\n\u001b[0m\u001b[1;32m   1000\u001b[0m \u001b[0;34m\u001b[0m\u001b[0m\n\u001b[1;32m   1001\u001b[0m       \u001b[0;31m# invariant: `func_outputs` contains only Tensors, CompositeTensors,\u001b[0m\u001b[0;34m\u001b[0m\u001b[0;34m\u001b[0m\u001b[0;34m\u001b[0m\u001b[0m\n",
      "\u001b[0;32m~/.virtualenvs/ou/lib/python3.8/site-packages/tensorflow/python/eager/def_function.py\u001b[0m in \u001b[0;36mwrapped_fn\u001b[0;34m(*args, **kwds)\u001b[0m\n\u001b[1;32m    670\u001b[0m         \u001b[0;31m# the function a weak reference to itself to avoid a reference cycle.\u001b[0m\u001b[0;34m\u001b[0m\u001b[0;34m\u001b[0m\u001b[0;34m\u001b[0m\u001b[0m\n\u001b[1;32m    671\u001b[0m         \u001b[0;32mwith\u001b[0m \u001b[0mOptionalXlaContext\u001b[0m\u001b[0;34m(\u001b[0m\u001b[0mcompile_with_xla\u001b[0m\u001b[0;34m)\u001b[0m\u001b[0;34m:\u001b[0m\u001b[0;34m\u001b[0m\u001b[0;34m\u001b[0m\u001b[0m\n\u001b[0;32m--> 672\u001b[0;31m           \u001b[0mout\u001b[0m \u001b[0;34m=\u001b[0m \u001b[0mweak_wrapped_fn\u001b[0m\u001b[0;34m(\u001b[0m\u001b[0;34m)\u001b[0m\u001b[0;34m.\u001b[0m\u001b[0m__wrapped__\u001b[0m\u001b[0;34m(\u001b[0m\u001b[0;34m*\u001b[0m\u001b[0margs\u001b[0m\u001b[0;34m,\u001b[0m \u001b[0;34m**\u001b[0m\u001b[0mkwds\u001b[0m\u001b[0;34m)\u001b[0m\u001b[0;34m\u001b[0m\u001b[0;34m\u001b[0m\u001b[0m\n\u001b[0m\u001b[1;32m    673\u001b[0m         \u001b[0;32mreturn\u001b[0m \u001b[0mout\u001b[0m\u001b[0;34m\u001b[0m\u001b[0;34m\u001b[0m\u001b[0m\n\u001b[1;32m    674\u001b[0m \u001b[0;34m\u001b[0m\u001b[0m\n",
      "\u001b[0;32m~/.virtualenvs/ou/lib/python3.8/site-packages/tensorflow/python/framework/func_graph.py\u001b[0m in \u001b[0;36mwrapper\u001b[0;34m(*args, **kwargs)\u001b[0m\n\u001b[1;32m    984\u001b[0m           \u001b[0;32mexcept\u001b[0m \u001b[0mException\u001b[0m \u001b[0;32mas\u001b[0m \u001b[0me\u001b[0m\u001b[0;34m:\u001b[0m  \u001b[0;31m# pylint:disable=broad-except\u001b[0m\u001b[0;34m\u001b[0m\u001b[0;34m\u001b[0m\u001b[0m\n\u001b[1;32m    985\u001b[0m             \u001b[0;32mif\u001b[0m \u001b[0mhasattr\u001b[0m\u001b[0;34m(\u001b[0m\u001b[0me\u001b[0m\u001b[0;34m,\u001b[0m \u001b[0;34m\"ag_error_metadata\"\u001b[0m\u001b[0;34m)\u001b[0m\u001b[0;34m:\u001b[0m\u001b[0;34m\u001b[0m\u001b[0;34m\u001b[0m\u001b[0m\n\u001b[0;32m--> 986\u001b[0;31m               \u001b[0;32mraise\u001b[0m \u001b[0me\u001b[0m\u001b[0;34m.\u001b[0m\u001b[0mag_error_metadata\u001b[0m\u001b[0;34m.\u001b[0m\u001b[0mto_exception\u001b[0m\u001b[0;34m(\u001b[0m\u001b[0me\u001b[0m\u001b[0;34m)\u001b[0m\u001b[0;34m\u001b[0m\u001b[0;34m\u001b[0m\u001b[0m\n\u001b[0m\u001b[1;32m    987\u001b[0m             \u001b[0;32melse\u001b[0m\u001b[0;34m:\u001b[0m\u001b[0;34m\u001b[0m\u001b[0;34m\u001b[0m\u001b[0m\n\u001b[1;32m    988\u001b[0m               \u001b[0;32mraise\u001b[0m\u001b[0;34m\u001b[0m\u001b[0;34m\u001b[0m\u001b[0m\n",
      "\u001b[0;31mValueError\u001b[0m: in user code:\n\n    /home/yossico/.virtualenvs/ou/lib/python3.8/site-packages/tensorflow/python/keras/engine/training.py:1564 predict_function  *\n        return step_function(self, iterator)\n    /home/yossico/.virtualenvs/ou/lib/python3.8/site-packages/tensorflow/python/keras/engine/training.py:1554 step_function  **\n        outputs = model.distribute_strategy.run(run_step, args=(data,))\n    /home/yossico/.virtualenvs/ou/lib/python3.8/site-packages/tensorflow/python/distribute/distribute_lib.py:1285 run\n        return self._extended.call_for_each_replica(fn, args=args, kwargs=kwargs)\n    /home/yossico/.virtualenvs/ou/lib/python3.8/site-packages/tensorflow/python/distribute/distribute_lib.py:2833 call_for_each_replica\n        return self._call_for_each_replica(fn, args, kwargs)\n    /home/yossico/.virtualenvs/ou/lib/python3.8/site-packages/tensorflow/python/distribute/distribute_lib.py:3608 _call_for_each_replica\n        return fn(*args, **kwargs)\n    /home/yossico/.virtualenvs/ou/lib/python3.8/site-packages/tensorflow/python/keras/engine/training.py:1547 run_step  **\n        outputs = model.predict_step(data)\n    /home/yossico/.virtualenvs/ou/lib/python3.8/site-packages/tensorflow/python/keras/engine/training.py:1520 predict_step\n        return self(x, training=False)\n    /home/yossico/.virtualenvs/ou/lib/python3.8/site-packages/tensorflow/python/keras/engine/base_layer.py:1013 __call__\n        input_spec.assert_input_compatibility(self.input_spec, inputs, self.name)\n    /home/yossico/.virtualenvs/ou/lib/python3.8/site-packages/tensorflow/python/keras/engine/input_spec.py:251 assert_input_compatibility\n        raise ValueError(\n\n    ValueError: Input 0 of layer sequential_1 is incompatible with the layer: expected axis -1 of input shape to have value 81 but received input with shape (None, 1)\n"
     ]
    }
   ],
   "source": [
    "# import dnn library\n",
    "%run dnn.ipynb\n",
    "    \n",
    "def experiment(dist):\n",
    "    \n",
    "    N = 8\n",
    "    M = 256\n",
    "    f = dist['sample']\n",
    "    ranges = dist['ranges']\n",
    "\n",
    "    # create a mesh on the unit square, with a resolution of 0.1 (0.1,0.2,...,0.9)\n",
    "    # The mesh is a cube of size 9^n_params (e.g., 9^2 for 2 params)\n",
    "    n_params = ranges.shape[0]\n",
    "    resolusion = np.arange(start=0.1, stop=1.0, step=0.1)\n",
    "    resolusion = np.around(resolusion, decimals=1)\n",
    "    n = len(resolusion)\n",
    "    mesh = np.zeros(shape=[n]*n_params, dtype=float)\n",
    "\n",
    "    # create range adjusters for each parameter range\n",
    "    param_adjusters = [adjuster_logit(low=r[0], high=r[1]) for r in ranges]\n",
    "\n",
    "    # - for each cell in the mesh create a sample using the corresponfing cell params.\n",
    "    #   - adjust parameters in each cell using the appropriate adjuster for each parameter.\n",
    "    mesh_samples = []\n",
    "    mesh_params = []\n",
    "    for idx in np.ndindex(mesh.shape):\n",
    "        ti = np.array(idx)/len(resolusion) + resolusion[0]\n",
    "        di = np.zeros_like(ti)\n",
    "        for i in range(n_params):\n",
    "            di[i] = param_adjusters[i](ti[i])\n",
    "        sample = f(di, size=M)\n",
    "        mesh_samples.append(sample)\n",
    "        mesh_params.append(di)\n",
    "    \n",
    "    # For each point in the mesh:\n",
    "    # - Run learning experiment producing several (say 10-100) learning experiments.\n",
    "    # - Compute the average error of the 10-100 experiments. MSE rules\n",
    "    # - Compute the Cramer Rao bound (numerically if the analytical solution is not possible)\n",
    "    # - Divide the MSE by Cramer Rao.\n",
    "    \n",
    "    num_samples = len(mesh_samples)\n",
    "    NUM_LEARNING_EXPERIMENTS = 10\n",
    "    \n",
    "    mesh_errors = np.zeros(shape=(num_samples,), dtype=float)\n",
    "    for i, sample in enumerate(mesh_samples):\n",
    "        \n",
    "        avg_sqrt_mse = 0\n",
    "        \n",
    "        for j in range(NUM_LEARNING_EXPERIMENTS):\n",
    "            # generate training data\n",
    "            samples_train, params_train, H_train = generate_data(N=N, M=M, sample=f, ranges=ranges)\n",
    "\n",
    "            # fit DNN model to data\n",
    "            print(f'training mesh point ({i}/{num_samples}) trial ({j}/{NUM_LEARNING_EXPERIMENTS}) ...', end=' ')\n",
    "            fit_dnn_model(X_train=H_train, y_train=params_train)\n",
    "            dnn_model, history = fit_dnn_model(X_train=H_train, y_train=params_train)\n",
    "            \n",
    "            # create a histogram from sample generated by mesh point params\n",
    "            nbins = int(np.max(sample))+1\n",
    "            H_test = np.histogram(sample, bins=nbins, range=(0, nbins), density=False)[0]\n",
    "            \n",
    "            # predict parameters for mesh point\n",
    "            params_test = mesh_params[i]\n",
    "            y_pred, sqrt_mse = predict(dnn_model, X_test=H_test, y_test=params_test)\n",
    "            \n",
    "            # average error\n",
    "            avg_sqrt_mse += sqrt_mse\n",
    "            print(f'done. (sqrt_mse: {sqrt_mse})')\n",
    "        \n",
    "        avg_sqrt_mse /= NUM_LEARNING_EXPERIMENTS\n",
    "        mesh_errors[i] = avg_sqrt_mse\n",
    "        print(f'done sample ({i}/{num_samples}) - (avg_sqrt_mse: {avg_sqrt_mse})')\n",
    "\n",
    "experiment(dist['yulesimon'])\n"
   ]
  }
 ],
 "metadata": {
  "kernelspec": {
   "display_name": "ou",
   "language": "python",
   "name": "ou"
  },
  "language_info": {
   "codemirror_mode": {
    "name": "ipython",
    "version": 3
   },
   "file_extension": ".py",
   "mimetype": "text/x-python",
   "name": "python",
   "nbconvert_exporter": "python",
   "pygments_lexer": "ipython3",
   "version": "3.8.10"
  }
 },
 "nbformat": 4,
 "nbformat_minor": 5
}
