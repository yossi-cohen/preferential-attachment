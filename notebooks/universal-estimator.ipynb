{
 "cells": [
  {
   "cell_type": "code",
   "execution_count": 1,
   "id": "aa920e46",
   "metadata": {},
   "outputs": [],
   "source": [
    "# import library\n",
    "%run lib.ipynb"
   ]
  },
  {
   "attachments": {
    "image.png": {
     "image/png": "[encoded data removed]"
    }
   },
   "cell_type": "markdown",
   "id": "356d1c80",
   "metadata": {},
   "source": [
    "# Universal estimator\n",
    "Let $f(d)$ be a one dimensional function, that returns a PMF sample drawn from a univariate distribution (e.g., log-normal).\n",
    "\n",
    "A function *universal_estimator(f, sample)* learns the parameter $d$ of $f$ from the sample.\n",
    "\n",
    "## Parameter adjustment\n",
    "The *universal estimator engine*, is allowed to assume that the parameter value is in the range [0,1].\n",
    "\n",
    "Internaly we use an auxiliary function to map a parameter from the range [0, 1] to the full range that the function $f(d)$ takes.\n",
    "\n",
    "For that, we rely on the tangent function, which in the range $[-\\frac{\\pi}{2}, \\frac{\\pi}{2}]$ gives values in the range: $[-\\infty, \\infty]$.\n",
    "\n",
    "![image.png](attachment:image.png)\n",
    "\n",
    "The following *adjuster* function returns an inner function which maps a parameter $x \\in$ [0,1] to the range [min, max].\n"
   ]
  },
  {
   "cell_type": "code",
   "execution_count": 2,
   "id": "8c24c29e",
   "metadata": {},
   "outputs": [],
   "source": [
    "def adjuster(min_param, max_param):\n",
    "    def adjust(x):\n",
    "        LOW = -math.pi/2 if min_param == -math.inf else math.atan(min_param)\n",
    "        HIGH = math.pi/2 if max_param == math.inf else math.atan(max_param)\n",
    "        if x < 0: x = 0 # undefined if x < 0\n",
    "        if x > 1: x = 1 # undefined if x > 1\n",
    "        return math.tan(LOW + x * (HIGH - LOW))\n",
    "    return adjust"
   ]
  },
  {
   "cell_type": "markdown",
   "id": "f8e883c1",
   "metadata": {},
   "source": [
    "## log-normal auxilary"
   ]
  },
  {
   "cell_type": "code",
   "execution_count": 13,
   "id": "9fa623b3",
   "metadata": {},
   "outputs": [
    {
     "name": "stdout",
     "output_type": "stream",
     "text": [
      "adjust(-1.0): 0.0000\n",
      "adjust(0.0): 0.0000\n",
      "adjust(0.2): 0.3249\n",
      "adjust(0.5): 1.0000\n",
      "adjust(0.92): 7.9158\n",
      "adjust(1.0): 1.633123935319537e+16\n",
      "adjust(2.0): 1.633123935319537e+16\n"
     ]
    }
   ],
   "source": [
    "from scipy import stats\n",
    "from scipy.stats import lognorm\n",
    "\n",
    "# sample from lognormal\n",
    "def sample_lognormal(config, size):\n",
    "    return lognorm.rvs(s=config, size=size, random_state=RANDOM_STATE)\n",
    "\n",
    "# return a (uniform) random parameter within the range [low, high]\n",
    "def next_config(low, high):\n",
    "    return np.random.uniform(low, high, size=1)[0]\n",
    "\n",
    "# test\n",
    "adjust = adjuster(min_param=0, max_param=math.inf)\n",
    "# sample_lognormal(adjust(0.2), size=256)\n",
    "print(f'adjust(-1.0): {adjust(-1.0):.4f}')\n",
    "print(f'adjust(0.0): {adjust(0.0):.4f}')\n",
    "print(f'adjust(0.2): {adjust(0.2):.4f}')\n",
    "print(f'adjust(0.5): {adjust(0.5):.4f}')\n",
    "print(f'adjust(0.92): {adjust(0.92):.4f}')\n",
    "print(f'adjust(1.0): {adjust(1.0)}')\n",
    "print(f'adjust(2.0): {adjust(2.0)}')\n"
   ]
  }
 ],
 "metadata": {
  "kernelspec": {
   "display_name": "ou",
   "language": "python",
   "name": "ou"
  },
  "language_info": {
   "codemirror_mode": {
    "name": "ipython",
    "version": 3
   },
   "file_extension": ".py",
   "mimetype": "text/x-python",
   "name": "python",
   "nbconvert_exporter": "python",
   "pygments_lexer": "ipython3",
   "version": "3.9.4"
  }
 },
 "nbformat": 4,
 "nbformat_minor": 5
}
