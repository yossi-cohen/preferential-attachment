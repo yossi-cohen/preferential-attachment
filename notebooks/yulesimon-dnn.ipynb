{
 "cells": [
  {
   "cell_type": "code",
   "execution_count": 1,
   "metadata": {},
   "outputs": [],
   "source": [
    "# !pip install numpy\n",
    "# !pip install scipy\n",
    "# !pip install pandas\n",
    "# !pip install matplotlib\n",
    "# !pip install sklearn\n",
    "# !pip install keras\n",
    "# !pip install tensorflow"
   ]
  },
  {
   "cell_type": "markdown",
   "metadata": {},
   "source": [
    "## Imports"
   ]
  },
  {
   "cell_type": "code",
   "execution_count": 2,
   "metadata": {},
   "outputs": [],
   "source": [
    "import os\n",
    "import time\n",
    "import datetime\n",
    "import pickle\n",
    "import random\n",
    "from datetime import datetime\n",
    "\n",
    "import numpy as np\n",
    "import pandas as pd\n",
    "\n",
    "import matplotlib.pyplot as plt\n",
    "%matplotlib inline\n",
    "\n",
    "from sklearn.utils import shuffle\n",
    "from sklearn.model_selection import train_test_split\n",
    "\n",
    "import tensorflow as tf\n",
    "\n",
    "import keras\n",
    "from keras.callbacks import EarlyStopping, ReduceLROnPlateau, ModelCheckpoint\n",
    "from keras import backend as K\n",
    "from keras import Sequential\n",
    "from keras.layers import Dense, Activation, Dropout, BatchNormalization\n",
    "from keras.optimizers import Adam\n",
    "from keras.regularizers import l1, l2\n",
    "from keras.metrics import mean_squared_error\n"
   ]
  },
  {
   "cell_type": "markdown",
   "metadata": {},
   "source": [
    "## Fix random seed for reproducability"
   ]
  },
  {
   "cell_type": "code",
   "execution_count": 3,
   "metadata": {},
   "outputs": [],
   "source": [
    "def fix_random(seed):\n",
    "    os.environ['PYTONHASHSEED'] = '0'\n",
    "    np.random.seed(seed)\n",
    "    random.seed(seed)\n",
    "    tf.random.set_seed(seed)\n",
    "\n",
    "fix_random(seed=0)\n",
    "RANDOM_STATE = 1"
   ]
  },
  {
   "cell_type": "markdown",
   "metadata": {},
   "source": [
    "## Read and preprocess data\n",
    "- read csv files into a single dataframe\n",
    "- shuffle samples\n",
    "- normalize data\n",
    "- train/test split\n"
   ]
  },
  {
   "cell_type": "code",
   "execution_count": 4,
   "metadata": {
    "tags": []
   },
   "outputs": [
    {
     "output_type": "stream",
     "name": "stdout",
     "text": "X.shape: (10, 525)\ny.shape: (10,)\n\nX_train.shape: (6, 525)\nX_val.shape: (2, 525)\nX_test.shape: (2, 525)\n"
    }
   ],
   "source": [
    "def read_csvs(csv_files, verbose=True):\n",
    "    '''Read a list of csv files into a single DataFrame'''\n",
    "    df = pd.DataFrame()\n",
    "    for csv in csv_files:\n",
    "        if verbose:\n",
    "            print('loading:', csv)\n",
    "        df = df.append(pd.read_csv(csv, header=None, index_col=False))\n",
    "    return df\n",
    "\n",
    "# read csv files\n",
    "data = 'data'\n",
    "csv_files = [os.path.join(data, f) for f in os.listdir(data)]\n",
    "df = read_csvs(csv_files, verbose=False)\n",
    "\n",
    "# suffle and separate X from y\n",
    "df = shuffle(df, random_state=RANDOM_STATE)\n",
    "y = df.iloc[:,0]\n",
    "X = df.iloc[:,1:]\n",
    "\n",
    "# convert x to log-scale\n",
    "nbins = np.max(X.values)\n",
    "X = np.apply_along_axis(lambda a: np.histogram(a, bins=nbins, density=False)[0], 1, X)\n",
    "print('X.shape:', X.shape)\n",
    "print('y.shape:', y.shape)\n",
    "\n",
    "# split train/validation/test\n",
    "print()\n",
    "X_train, X_test, y_train, y_test = train_test_split(X, y, test_size=0.2, random_state=RANDOM_STATE)\n",
    "X_train, X_val, y_train, y_val = train_test_split(X_train, y_train, test_size=0.25, random_state=RANDOM_STATE)\n",
    "print('X_train.shape: {}'.format(X_train.shape))\n",
    "print('X_val.shape: {}'.format(X_val.shape))\n",
    "print('X_test.shape: {}'.format(X_test.shape))\n"
   ]
  },
  {
   "cell_type": "markdown",
   "metadata": {},
   "source": [
    "## Preprocess data"
   ]
  },
  {
   "cell_type": "markdown",
   "metadata": {},
   "source": [
    "## Plot first histogram (first raw of X_train) in log-log scale"
   ]
  },
  {
   "cell_type": "code",
   "execution_count": 5,
   "metadata": {
    "tags": []
   },
   "outputs": [
    {
     "output_type": "display_data",
     "data": {
      "text/plain": "<Figure size 360x360 with 1 Axes>",
      "image/svg+xml": "<?xml version=\"1.0\" encoding=\"utf-8\" standalone=\"no\"?>\n<!DOCTYPE svg PUBLIC \"-//W3C//DTD SVG 1.1//EN\"\n  \"http://www.w3.org/Graphics/SVG/1.1/DTD/svg11.dtd\">\n<!-- Created with matplotlib (https://matplotlib.org/) -->\n<svg height=\"331.674375pt\" version=\"1.1\" viewBox=\"0 0 337.578125 331.674375\" width=\"337.578125pt\" xmlns=\"http://www.w3.org/2000/svg\" xmlns:xlink=\"http://www.w3.org/1999/xlink\">\n <metadata>\n  <rdf:RDF xmlns:cc=\"http://creativecommons.org/ns#\" xmlns:dc=\"http://purl.org/dc/elements/1.1/\" xmlns:rdf=\"http://www.w3.org/1999/02/22-rdf-syntax-ns#\">\n   <cc:Work>\n    <dc:type rdf:resource=\"http://purl.org/dc/dcmitype/StillImage\"/>\n    <dc:date>2020-08-30T13:46:17.891893</dc:date>\n    <dc:format>image/svg+xml</dc:format>\n    <dc:creator>\n     <cc:Agent>\n      <dc:title>Matplotlib v3.3.1, https://matplotlib.org/</dc:title>\n     </cc:Agent>\n    </dc:creator>\n   </cc:Work>\n  </rdf:RDF>\n </metadata>\n <defs>\n  <style type=\"text/css\">*{stroke-linecap:butt;stroke-linejoin:round;}</style>\n </defs>\n <g id=\"figure_1\">\n  <g id=\"patch_1\">\n   <path d=\"M 0 331.674375 \nL 337.578125 331.674375 \nL 337.578125 0 \nL 0 0 \nz\n\" style=\"fill:none;\"/>\n  </g>\n  <g id=\"axes_1\">\n   <g id=\"patch_2\">\n    <path d=\"M 51.378125 294.118125 \nL 330.378125 294.118125 \nL 330.378125 22.318125 \nL 51.378125 22.318125 \nz\n\" style=\"fill:#ffffff;\"/>\n   </g>\n   <g id=\"matplotlib.axis_1\">\n    <g id=\"xtick_1\">\n     <g id=\"line2d_1\">\n      <defs>\n       <path d=\"M 0 0 \nL 0 3.5 \n\" id=\"m86e9e7aa82\" style=\"stroke:#000000;stroke-width:0.8;\"/>\n      </defs>\n      <g>\n       <use style=\"stroke:#000000;stroke-width:0.8;\" x=\"64.059943\" xlink:href=\"#m86e9e7aa82\" y=\"294.118125\"/>\n      </g>\n     </g>\n     <g id=\"text_1\">\n      <!-- $\\mathdefault{10^{0}}$ -->\n      <g transform=\"translate(55.259943 308.716563)scale(0.1 -0.1)\">\n       <defs>\n        <path d=\"M 12.40625 8.296875 \nL 28.515625 8.296875 \nL 28.515625 63.921875 \nL 10.984375 60.40625 \nL 10.984375 69.390625 \nL 28.421875 72.90625 \nL 38.28125 72.90625 \nL 38.28125 8.296875 \nL 54.390625 8.296875 \nL 54.390625 0 \nL 12.40625 0 \nz\n\" id=\"DejaVuSans-49\"/>\n        <path d=\"M 31.78125 66.40625 \nQ 24.171875 66.40625 20.328125 58.90625 \nQ 16.5 51.421875 16.5 36.375 \nQ 16.5 21.390625 20.328125 13.890625 \nQ 24.171875 6.390625 31.78125 6.390625 \nQ 39.453125 6.390625 43.28125 13.890625 \nQ 47.125 21.390625 47.125 36.375 \nQ 47.125 51.421875 43.28125 58.90625 \nQ 39.453125 66.40625 31.78125 66.40625 \nz\nM 31.78125 74.21875 \nQ 44.046875 74.21875 50.515625 64.515625 \nQ 56.984375 54.828125 56.984375 36.375 \nQ 56.984375 17.96875 50.515625 8.265625 \nQ 44.046875 -1.421875 31.78125 -1.421875 \nQ 19.53125 -1.421875 13.0625 8.265625 \nQ 6.59375 17.96875 6.59375 36.375 \nQ 6.59375 54.828125 13.0625 64.515625 \nQ 19.53125 74.21875 31.78125 74.21875 \nz\n\" id=\"DejaVuSans-48\"/>\n       </defs>\n       <use transform=\"translate(0 0.765625)\" xlink:href=\"#DejaVuSans-49\"/>\n       <use transform=\"translate(63.623047 0.765625)\" xlink:href=\"#DejaVuSans-48\"/>\n       <use transform=\"translate(128.203125 39.046875)scale(0.7)\" xlink:href=\"#DejaVuSans-48\"/>\n      </g>\n     </g>\n    </g>\n    <g id=\"xtick_2\">\n     <g id=\"line2d_2\">\n      <g>\n       <use style=\"stroke:#000000;stroke-width:0.8;\" x=\"157.331537\" xlink:href=\"#m86e9e7aa82\" y=\"294.118125\"/>\n      </g>\n     </g>\n     <g id=\"text_2\">\n      <!-- $\\mathdefault{10^{1}}$ -->\n      <g transform=\"translate(148.531537 308.716563)scale(0.1 -0.1)\">\n       <use transform=\"translate(0 0.684375)\" xlink:href=\"#DejaVuSans-49\"/>\n       <use transform=\"translate(63.623047 0.684375)\" xlink:href=\"#DejaVuSans-48\"/>\n       <use transform=\"translate(128.203125 38.965625)scale(0.7)\" xlink:href=\"#DejaVuSans-49\"/>\n      </g>\n     </g>\n    </g>\n    <g id=\"xtick_3\">\n     <g id=\"line2d_3\">\n      <g>\n       <use style=\"stroke:#000000;stroke-width:0.8;\" x=\"250.603131\" xlink:href=\"#m86e9e7aa82\" y=\"294.118125\"/>\n      </g>\n     </g>\n     <g id=\"text_3\">\n      <!-- $\\mathdefault{10^{2}}$ -->\n      <g transform=\"translate(241.803131 308.716563)scale(0.1 -0.1)\">\n       <defs>\n        <path d=\"M 19.1875 8.296875 \nL 53.609375 8.296875 \nL 53.609375 0 \nL 7.328125 0 \nL 7.328125 8.296875 \nQ 12.9375 14.109375 22.625 23.890625 \nQ 32.328125 33.6875 34.8125 36.53125 \nQ 39.546875 41.84375 41.421875 45.53125 \nQ 43.3125 49.21875 43.3125 52.78125 \nQ 43.3125 58.59375 39.234375 62.25 \nQ 35.15625 65.921875 28.609375 65.921875 \nQ 23.96875 65.921875 18.8125 64.3125 \nQ 13.671875 62.703125 7.8125 59.421875 \nL 7.8125 69.390625 \nQ 13.765625 71.78125 18.9375 73 \nQ 24.125 74.21875 28.421875 74.21875 \nQ 39.75 74.21875 46.484375 68.546875 \nQ 53.21875 62.890625 53.21875 53.421875 \nQ 53.21875 48.921875 51.53125 44.890625 \nQ 49.859375 40.875 45.40625 35.40625 \nQ 44.1875 33.984375 37.640625 27.21875 \nQ 31.109375 20.453125 19.1875 8.296875 \nz\n\" id=\"DejaVuSans-50\"/>\n       </defs>\n       <use transform=\"translate(0 0.765625)\" xlink:href=\"#DejaVuSans-49\"/>\n       <use transform=\"translate(63.623047 0.765625)\" xlink:href=\"#DejaVuSans-48\"/>\n       <use transform=\"translate(128.203125 39.046875)scale(0.7)\" xlink:href=\"#DejaVuSans-50\"/>\n      </g>\n     </g>\n    </g>\n    <g id=\"xtick_4\">\n     <g id=\"line2d_4\">\n      <defs>\n       <path d=\"M 0 0 \nL 0 2 \n\" id=\"m5e303c019f\" style=\"stroke:#000000;stroke-width:0.6;\"/>\n      </defs>\n      <g>\n       <use style=\"stroke:#000000;stroke-width:0.6;\" x=\"55.020992\" xlink:href=\"#m5e303c019f\" y=\"294.118125\"/>\n      </g>\n     </g>\n    </g>\n    <g id=\"xtick_5\">\n     <g id=\"line2d_5\">\n      <g>\n       <use style=\"stroke:#000000;stroke-width:0.6;\" x=\"59.792069\" xlink:href=\"#m5e303c019f\" y=\"294.118125\"/>\n      </g>\n     </g>\n    </g>\n    <g id=\"xtick_6\">\n     <g id=\"line2d_6\">\n      <g>\n       <use style=\"stroke:#000000;stroke-width:0.6;\" x=\"92.137491\" xlink:href=\"#m5e303c019f\" y=\"294.118125\"/>\n      </g>\n     </g>\n    </g>\n    <g id=\"xtick_7\">\n     <g id=\"line2d_7\">\n      <g>\n       <use style=\"stroke:#000000;stroke-width:0.6;\" x=\"108.561803\" xlink:href=\"#m5e303c019f\" y=\"294.118125\"/>\n      </g>\n     </g>\n    </g>\n    <g id=\"xtick_8\">\n     <g id=\"line2d_8\">\n      <g>\n       <use style=\"stroke:#000000;stroke-width:0.6;\" x=\"120.215038\" xlink:href=\"#m5e303c019f\" y=\"294.118125\"/>\n      </g>\n     </g>\n    </g>\n    <g id=\"xtick_9\">\n     <g id=\"line2d_9\">\n      <g>\n       <use style=\"stroke:#000000;stroke-width:0.6;\" x=\"129.25399\" xlink:href=\"#m5e303c019f\" y=\"294.118125\"/>\n      </g>\n     </g>\n    </g>\n    <g id=\"xtick_10\">\n     <g id=\"line2d_10\">\n      <g>\n       <use style=\"stroke:#000000;stroke-width:0.6;\" x=\"136.639351\" xlink:href=\"#m5e303c019f\" y=\"294.118125\"/>\n      </g>\n     </g>\n    </g>\n    <g id=\"xtick_11\">\n     <g id=\"line2d_11\">\n      <g>\n       <use style=\"stroke:#000000;stroke-width:0.6;\" x=\"142.883584\" xlink:href=\"#m5e303c019f\" y=\"294.118125\"/>\n      </g>\n     </g>\n    </g>\n    <g id=\"xtick_12\">\n     <g id=\"line2d_12\">\n      <g>\n       <use style=\"stroke:#000000;stroke-width:0.6;\" x=\"148.292586\" xlink:href=\"#m5e303c019f\" y=\"294.118125\"/>\n      </g>\n     </g>\n    </g>\n    <g id=\"xtick_13\">\n     <g id=\"line2d_13\">\n      <g>\n       <use style=\"stroke:#000000;stroke-width:0.6;\" x=\"153.063663\" xlink:href=\"#m5e303c019f\" y=\"294.118125\"/>\n      </g>\n     </g>\n    </g>\n    <g id=\"xtick_14\">\n     <g id=\"line2d_14\">\n      <g>\n       <use style=\"stroke:#000000;stroke-width:0.6;\" x=\"185.409085\" xlink:href=\"#m5e303c019f\" y=\"294.118125\"/>\n      </g>\n     </g>\n    </g>\n    <g id=\"xtick_15\">\n     <g id=\"line2d_15\">\n      <g>\n       <use style=\"stroke:#000000;stroke-width:0.6;\" x=\"201.833397\" xlink:href=\"#m5e303c019f\" y=\"294.118125\"/>\n      </g>\n     </g>\n    </g>\n    <g id=\"xtick_16\">\n     <g id=\"line2d_16\">\n      <g>\n       <use style=\"stroke:#000000;stroke-width:0.6;\" x=\"213.486632\" xlink:href=\"#m5e303c019f\" y=\"294.118125\"/>\n      </g>\n     </g>\n    </g>\n    <g id=\"xtick_17\">\n     <g id=\"line2d_17\">\n      <g>\n       <use style=\"stroke:#000000;stroke-width:0.6;\" x=\"222.525584\" xlink:href=\"#m5e303c019f\" y=\"294.118125\"/>\n      </g>\n     </g>\n    </g>\n    <g id=\"xtick_18\">\n     <g id=\"line2d_18\">\n      <g>\n       <use style=\"stroke:#000000;stroke-width:0.6;\" x=\"229.910945\" xlink:href=\"#m5e303c019f\" y=\"294.118125\"/>\n      </g>\n     </g>\n    </g>\n    <g id=\"xtick_19\">\n     <g id=\"line2d_19\">\n      <g>\n       <use style=\"stroke:#000000;stroke-width:0.6;\" x=\"236.155178\" xlink:href=\"#m5e303c019f\" y=\"294.118125\"/>\n      </g>\n     </g>\n    </g>\n    <g id=\"xtick_20\">\n     <g id=\"line2d_20\">\n      <g>\n       <use style=\"stroke:#000000;stroke-width:0.6;\" x=\"241.56418\" xlink:href=\"#m5e303c019f\" y=\"294.118125\"/>\n      </g>\n     </g>\n    </g>\n    <g id=\"xtick_21\">\n     <g id=\"line2d_21\">\n      <g>\n       <use style=\"stroke:#000000;stroke-width:0.6;\" x=\"246.335257\" xlink:href=\"#m5e303c019f\" y=\"294.118125\"/>\n      </g>\n     </g>\n    </g>\n    <g id=\"xtick_22\">\n     <g id=\"line2d_22\">\n      <g>\n       <use style=\"stroke:#000000;stroke-width:0.6;\" x=\"278.680679\" xlink:href=\"#m5e303c019f\" y=\"294.118125\"/>\n      </g>\n     </g>\n    </g>\n    <g id=\"xtick_23\">\n     <g id=\"line2d_23\">\n      <g>\n       <use style=\"stroke:#000000;stroke-width:0.6;\" x=\"295.104991\" xlink:href=\"#m5e303c019f\" y=\"294.118125\"/>\n      </g>\n     </g>\n    </g>\n    <g id=\"xtick_24\">\n     <g id=\"line2d_24\">\n      <g>\n       <use style=\"stroke:#000000;stroke-width:0.6;\" x=\"306.758226\" xlink:href=\"#m5e303c019f\" y=\"294.118125\"/>\n      </g>\n     </g>\n    </g>\n    <g id=\"xtick_25\">\n     <g id=\"line2d_25\">\n      <g>\n       <use style=\"stroke:#000000;stroke-width:0.6;\" x=\"315.797178\" xlink:href=\"#m5e303c019f\" y=\"294.118125\"/>\n      </g>\n     </g>\n    </g>\n    <g id=\"xtick_26\">\n     <g id=\"line2d_26\">\n      <g>\n       <use style=\"stroke:#000000;stroke-width:0.6;\" x=\"323.182539\" xlink:href=\"#m5e303c019f\" y=\"294.118125\"/>\n      </g>\n     </g>\n    </g>\n    <g id=\"xtick_27\">\n     <g id=\"line2d_27\">\n      <g>\n       <use style=\"stroke:#000000;stroke-width:0.6;\" x=\"329.426772\" xlink:href=\"#m5e303c019f\" y=\"294.118125\"/>\n      </g>\n     </g>\n    </g>\n    <g id=\"text_4\">\n     <!-- log(x) -->\n     <g transform=\"translate(176.394531 322.394687)scale(0.1 -0.1)\">\n      <defs>\n       <path d=\"M 9.421875 75.984375 \nL 18.40625 75.984375 \nL 18.40625 0 \nL 9.421875 0 \nz\n\" id=\"DejaVuSans-108\"/>\n       <path d=\"M 30.609375 48.390625 \nQ 23.390625 48.390625 19.1875 42.75 \nQ 14.984375 37.109375 14.984375 27.296875 \nQ 14.984375 17.484375 19.15625 11.84375 \nQ 23.34375 6.203125 30.609375 6.203125 \nQ 37.796875 6.203125 41.984375 11.859375 \nQ 46.1875 17.53125 46.1875 27.296875 \nQ 46.1875 37.015625 41.984375 42.703125 \nQ 37.796875 48.390625 30.609375 48.390625 \nz\nM 30.609375 56 \nQ 42.328125 56 49.015625 48.375 \nQ 55.71875 40.765625 55.71875 27.296875 \nQ 55.71875 13.875 49.015625 6.21875 \nQ 42.328125 -1.421875 30.609375 -1.421875 \nQ 18.84375 -1.421875 12.171875 6.21875 \nQ 5.515625 13.875 5.515625 27.296875 \nQ 5.515625 40.765625 12.171875 48.375 \nQ 18.84375 56 30.609375 56 \nz\n\" id=\"DejaVuSans-111\"/>\n       <path d=\"M 45.40625 27.984375 \nQ 45.40625 37.75 41.375 43.109375 \nQ 37.359375 48.484375 30.078125 48.484375 \nQ 22.859375 48.484375 18.828125 43.109375 \nQ 14.796875 37.75 14.796875 27.984375 \nQ 14.796875 18.265625 18.828125 12.890625 \nQ 22.859375 7.515625 30.078125 7.515625 \nQ 37.359375 7.515625 41.375 12.890625 \nQ 45.40625 18.265625 45.40625 27.984375 \nz\nM 54.390625 6.78125 \nQ 54.390625 -7.171875 48.1875 -13.984375 \nQ 42 -20.796875 29.203125 -20.796875 \nQ 24.46875 -20.796875 20.265625 -20.09375 \nQ 16.0625 -19.390625 12.109375 -17.921875 \nL 12.109375 -9.1875 \nQ 16.0625 -11.328125 19.921875 -12.34375 \nQ 23.78125 -13.375 27.78125 -13.375 \nQ 36.625 -13.375 41.015625 -8.765625 \nQ 45.40625 -4.15625 45.40625 5.171875 \nL 45.40625 9.625 \nQ 42.625 4.78125 38.28125 2.390625 \nQ 33.9375 0 27.875 0 \nQ 17.828125 0 11.671875 7.65625 \nQ 5.515625 15.328125 5.515625 27.984375 \nQ 5.515625 40.671875 11.671875 48.328125 \nQ 17.828125 56 27.875 56 \nQ 33.9375 56 38.28125 53.609375 \nQ 42.625 51.21875 45.40625 46.390625 \nL 45.40625 54.6875 \nL 54.390625 54.6875 \nz\n\" id=\"DejaVuSans-103\"/>\n       <path d=\"M 31 75.875 \nQ 24.46875 64.65625 21.28125 53.65625 \nQ 18.109375 42.671875 18.109375 31.390625 \nQ 18.109375 20.125 21.3125 9.0625 \nQ 24.515625 -2 31 -13.1875 \nL 23.1875 -13.1875 \nQ 15.875 -1.703125 12.234375 9.375 \nQ 8.59375 20.453125 8.59375 31.390625 \nQ 8.59375 42.28125 12.203125 53.3125 \nQ 15.828125 64.359375 23.1875 75.875 \nz\n\" id=\"DejaVuSans-40\"/>\n       <path d=\"M 54.890625 54.6875 \nL 35.109375 28.078125 \nL 55.90625 0 \nL 45.3125 0 \nL 29.390625 21.484375 \nL 13.484375 0 \nL 2.875 0 \nL 24.125 28.609375 \nL 4.6875 54.6875 \nL 15.28125 54.6875 \nL 29.78125 35.203125 \nL 44.28125 54.6875 \nz\n\" id=\"DejaVuSans-120\"/>\n       <path d=\"M 8.015625 75.875 \nL 15.828125 75.875 \nQ 23.140625 64.359375 26.78125 53.3125 \nQ 30.421875 42.28125 30.421875 31.390625 \nQ 30.421875 20.453125 26.78125 9.375 \nQ 23.140625 -1.703125 15.828125 -13.1875 \nL 8.015625 -13.1875 \nQ 14.5 -2 17.703125 9.0625 \nQ 20.90625 20.125 20.90625 31.390625 \nQ 20.90625 42.671875 17.703125 53.65625 \nQ 14.5 64.65625 8.015625 75.875 \nz\n\" id=\"DejaVuSans-41\"/>\n      </defs>\n      <use xlink:href=\"#DejaVuSans-108\"/>\n      <use x=\"27.783203\" xlink:href=\"#DejaVuSans-111\"/>\n      <use x=\"88.964844\" xlink:href=\"#DejaVuSans-103\"/>\n      <use x=\"152.441406\" xlink:href=\"#DejaVuSans-40\"/>\n      <use x=\"191.455078\" xlink:href=\"#DejaVuSans-120\"/>\n      <use x=\"250.634766\" xlink:href=\"#DejaVuSans-41\"/>\n     </g>\n    </g>\n   </g>\n   <g id=\"matplotlib.axis_2\">\n    <g id=\"ytick_1\">\n     <g id=\"line2d_28\">\n      <defs>\n       <path d=\"M 0 0 \nL -3.5 0 \n\" id=\"m31bdab95e2\" style=\"stroke:#000000;stroke-width:0.8;\"/>\n      </defs>\n      <g>\n       <use style=\"stroke:#000000;stroke-width:0.8;\" x=\"51.378125\" xlink:href=\"#m31bdab95e2\" y=\"235.194025\"/>\n      </g>\n     </g>\n     <g id=\"text_5\">\n      <!-- $\\mathdefault{10^{-2}}$ -->\n      <g transform=\"translate(20.878125 238.993244)scale(0.1 -0.1)\">\n       <defs>\n        <path d=\"M 10.59375 35.5 \nL 73.1875 35.5 \nL 73.1875 27.203125 \nL 10.59375 27.203125 \nz\n\" id=\"DejaVuSans-8722\"/>\n       </defs>\n       <use transform=\"translate(0 0.765625)\" xlink:href=\"#DejaVuSans-49\"/>\n       <use transform=\"translate(63.623047 0.765625)\" xlink:href=\"#DejaVuSans-48\"/>\n       <use transform=\"translate(128.203125 39.046875)scale(0.7)\" xlink:href=\"#DejaVuSans-8722\"/>\n       <use transform=\"translate(186.855469 39.046875)scale(0.7)\" xlink:href=\"#DejaVuSans-50\"/>\n      </g>\n     </g>\n    </g>\n    <g id=\"ytick_2\">\n     <g id=\"line2d_29\">\n      <g>\n       <use style=\"stroke:#000000;stroke-width:0.8;\" x=\"51.378125\" xlink:href=\"#m31bdab95e2\" y=\"170.528396\"/>\n      </g>\n     </g>\n     <g id=\"text_6\">\n      <!-- $\\mathdefault{10^{-1}}$ -->\n      <g transform=\"translate(20.878125 174.327615)scale(0.1 -0.1)\">\n       <use transform=\"translate(0 0.684375)\" xlink:href=\"#DejaVuSans-49\"/>\n       <use transform=\"translate(63.623047 0.684375)\" xlink:href=\"#DejaVuSans-48\"/>\n       <use transform=\"translate(128.203125 38.965625)scale(0.7)\" xlink:href=\"#DejaVuSans-8722\"/>\n       <use transform=\"translate(186.855469 38.965625)scale(0.7)\" xlink:href=\"#DejaVuSans-49\"/>\n      </g>\n     </g>\n    </g>\n    <g id=\"ytick_3\">\n     <g id=\"line2d_30\">\n      <g>\n       <use style=\"stroke:#000000;stroke-width:0.8;\" x=\"51.378125\" xlink:href=\"#m31bdab95e2\" y=\"105.862767\"/>\n      </g>\n     </g>\n     <g id=\"text_7\">\n      <!-- $\\mathdefault{10^{0}}$ -->\n      <g transform=\"translate(26.778125 109.661986)scale(0.1 -0.1)\">\n       <use transform=\"translate(0 0.765625)\" xlink:href=\"#DejaVuSans-49\"/>\n       <use transform=\"translate(63.623047 0.765625)\" xlink:href=\"#DejaVuSans-48\"/>\n       <use transform=\"translate(128.203125 39.046875)scale(0.7)\" xlink:href=\"#DejaVuSans-48\"/>\n      </g>\n     </g>\n    </g>\n    <g id=\"ytick_4\">\n     <g id=\"line2d_31\">\n      <g>\n       <use style=\"stroke:#000000;stroke-width:0.8;\" x=\"51.378125\" xlink:href=\"#m31bdab95e2\" y=\"41.197138\"/>\n      </g>\n     </g>\n     <g id=\"text_8\">\n      <!-- $\\mathdefault{10^{1}}$ -->\n      <g transform=\"translate(26.778125 44.996357)scale(0.1 -0.1)\">\n       <use transform=\"translate(0 0.684375)\" xlink:href=\"#DejaVuSans-49\"/>\n       <use transform=\"translate(63.623047 0.684375)\" xlink:href=\"#DejaVuSans-48\"/>\n       <use transform=\"translate(128.203125 38.965625)scale(0.7)\" xlink:href=\"#DejaVuSans-49\"/>\n      </g>\n     </g>\n    </g>\n    <g id=\"ytick_5\">\n     <g id=\"line2d_32\">\n      <defs>\n       <path d=\"M 0 0 \nL -2 0 \n\" id=\"m49026e4776\" style=\"stroke:#000000;stroke-width:0.6;\"/>\n      </defs>\n      <g>\n       <use style=\"stroke:#000000;stroke-width:0.6;\" x=\"51.378125\" xlink:href=\"#m49026e4776\" y=\"280.39336\"/>\n      </g>\n     </g>\n    </g>\n    <g id=\"ytick_6\">\n     <g id=\"line2d_33\">\n      <g>\n       <use style=\"stroke:#000000;stroke-width:0.6;\" x=\"51.378125\" xlink:href=\"#m49026e4776\" y=\"269.006308\"/>\n      </g>\n     </g>\n    </g>\n    <g id=\"ytick_7\">\n     <g id=\"line2d_34\">\n      <g>\n       <use style=\"stroke:#000000;stroke-width:0.6;\" x=\"51.378125\" xlink:href=\"#m49026e4776\" y=\"260.927066\"/>\n      </g>\n     </g>\n    </g>\n    <g id=\"ytick_8\">\n     <g id=\"line2d_35\">\n      <g>\n       <use style=\"stroke:#000000;stroke-width:0.6;\" x=\"51.378125\" xlink:href=\"#m49026e4776\" y=\"254.660319\"/>\n      </g>\n     </g>\n    </g>\n    <g id=\"ytick_9\">\n     <g id=\"line2d_36\">\n      <g>\n       <use style=\"stroke:#000000;stroke-width:0.6;\" x=\"51.378125\" xlink:href=\"#m49026e4776\" y=\"249.540014\"/>\n      </g>\n     </g>\n    </g>\n    <g id=\"ytick_10\">\n     <g id=\"line2d_37\">\n      <g>\n       <use style=\"stroke:#000000;stroke-width:0.6;\" x=\"51.378125\" xlink:href=\"#m49026e4776\" y=\"245.210858\"/>\n      </g>\n     </g>\n    </g>\n    <g id=\"ytick_11\">\n     <g id=\"line2d_38\">\n      <g>\n       <use style=\"stroke:#000000;stroke-width:0.6;\" x=\"51.378125\" xlink:href=\"#m49026e4776\" y=\"241.460772\"/>\n      </g>\n     </g>\n    </g>\n    <g id=\"ytick_12\">\n     <g id=\"line2d_39\">\n      <g>\n       <use style=\"stroke:#000000;stroke-width:0.6;\" x=\"51.378125\" xlink:href=\"#m49026e4776\" y=\"238.152962\"/>\n      </g>\n     </g>\n    </g>\n    <g id=\"ytick_13\">\n     <g id=\"line2d_40\">\n      <g>\n       <use style=\"stroke:#000000;stroke-width:0.6;\" x=\"51.378125\" xlink:href=\"#m49026e4776\" y=\"215.727731\"/>\n      </g>\n     </g>\n    </g>\n    <g id=\"ytick_14\">\n     <g id=\"line2d_41\">\n      <g>\n       <use style=\"stroke:#000000;stroke-width:0.6;\" x=\"51.378125\" xlink:href=\"#m49026e4776\" y=\"204.340679\"/>\n      </g>\n     </g>\n    </g>\n    <g id=\"ytick_15\">\n     <g id=\"line2d_42\">\n      <g>\n       <use style=\"stroke:#000000;stroke-width:0.6;\" x=\"51.378125\" xlink:href=\"#m49026e4776\" y=\"196.261437\"/>\n      </g>\n     </g>\n    </g>\n    <g id=\"ytick_16\">\n     <g id=\"line2d_43\">\n      <g>\n       <use style=\"stroke:#000000;stroke-width:0.6;\" x=\"51.378125\" xlink:href=\"#m49026e4776\" y=\"189.99469\"/>\n      </g>\n     </g>\n    </g>\n    <g id=\"ytick_17\">\n     <g id=\"line2d_44\">\n      <g>\n       <use style=\"stroke:#000000;stroke-width:0.6;\" x=\"51.378125\" xlink:href=\"#m49026e4776\" y=\"184.874385\"/>\n      </g>\n     </g>\n    </g>\n    <g id=\"ytick_18\">\n     <g id=\"line2d_45\">\n      <g>\n       <use style=\"stroke:#000000;stroke-width:0.6;\" x=\"51.378125\" xlink:href=\"#m49026e4776\" y=\"180.545229\"/>\n      </g>\n     </g>\n    </g>\n    <g id=\"ytick_19\">\n     <g id=\"line2d_46\">\n      <g>\n       <use style=\"stroke:#000000;stroke-width:0.6;\" x=\"51.378125\" xlink:href=\"#m49026e4776\" y=\"176.795143\"/>\n      </g>\n     </g>\n    </g>\n    <g id=\"ytick_20\">\n     <g id=\"line2d_47\">\n      <g>\n       <use style=\"stroke:#000000;stroke-width:0.6;\" x=\"51.378125\" xlink:href=\"#m49026e4776\" y=\"173.487333\"/>\n      </g>\n     </g>\n    </g>\n    <g id=\"ytick_21\">\n     <g id=\"line2d_48\">\n      <g>\n       <use style=\"stroke:#000000;stroke-width:0.6;\" x=\"51.378125\" xlink:href=\"#m49026e4776\" y=\"151.062102\"/>\n      </g>\n     </g>\n    </g>\n    <g id=\"ytick_22\">\n     <g id=\"line2d_49\">\n      <g>\n       <use style=\"stroke:#000000;stroke-width:0.6;\" x=\"51.378125\" xlink:href=\"#m49026e4776\" y=\"139.67505\"/>\n      </g>\n     </g>\n    </g>\n    <g id=\"ytick_23\">\n     <g id=\"line2d_50\">\n      <g>\n       <use style=\"stroke:#000000;stroke-width:0.6;\" x=\"51.378125\" xlink:href=\"#m49026e4776\" y=\"131.595808\"/>\n      </g>\n     </g>\n    </g>\n    <g id=\"ytick_24\">\n     <g id=\"line2d_51\">\n      <g>\n       <use style=\"stroke:#000000;stroke-width:0.6;\" x=\"51.378125\" xlink:href=\"#m49026e4776\" y=\"125.329061\"/>\n      </g>\n     </g>\n    </g>\n    <g id=\"ytick_25\">\n     <g id=\"line2d_52\">\n      <g>\n       <use style=\"stroke:#000000;stroke-width:0.6;\" x=\"51.378125\" xlink:href=\"#m49026e4776\" y=\"120.208756\"/>\n      </g>\n     </g>\n    </g>\n    <g id=\"ytick_26\">\n     <g id=\"line2d_53\">\n      <g>\n       <use style=\"stroke:#000000;stroke-width:0.6;\" x=\"51.378125\" xlink:href=\"#m49026e4776\" y=\"115.8796\"/>\n      </g>\n     </g>\n    </g>\n    <g id=\"ytick_27\">\n     <g id=\"line2d_54\">\n      <g>\n       <use style=\"stroke:#000000;stroke-width:0.6;\" x=\"51.378125\" xlink:href=\"#m49026e4776\" y=\"112.129514\"/>\n      </g>\n     </g>\n    </g>\n    <g id=\"ytick_28\">\n     <g id=\"line2d_55\">\n      <g>\n       <use style=\"stroke:#000000;stroke-width:0.6;\" x=\"51.378125\" xlink:href=\"#m49026e4776\" y=\"108.821704\"/>\n      </g>\n     </g>\n    </g>\n    <g id=\"ytick_29\">\n     <g id=\"line2d_56\">\n      <g>\n       <use style=\"stroke:#000000;stroke-width:0.6;\" x=\"51.378125\" xlink:href=\"#m49026e4776\" y=\"86.396473\"/>\n      </g>\n     </g>\n    </g>\n    <g id=\"ytick_30\">\n     <g id=\"line2d_57\">\n      <g>\n       <use style=\"stroke:#000000;stroke-width:0.6;\" x=\"51.378125\" xlink:href=\"#m49026e4776\" y=\"75.009421\"/>\n      </g>\n     </g>\n    </g>\n    <g id=\"ytick_31\">\n     <g id=\"line2d_58\">\n      <g>\n       <use style=\"stroke:#000000;stroke-width:0.6;\" x=\"51.378125\" xlink:href=\"#m49026e4776\" y=\"66.930179\"/>\n      </g>\n     </g>\n    </g>\n    <g id=\"ytick_32\">\n     <g id=\"line2d_59\">\n      <g>\n       <use style=\"stroke:#000000;stroke-width:0.6;\" x=\"51.378125\" xlink:href=\"#m49026e4776\" y=\"60.663432\"/>\n      </g>\n     </g>\n    </g>\n    <g id=\"ytick_33\">\n     <g id=\"line2d_60\">\n      <g>\n       <use style=\"stroke:#000000;stroke-width:0.6;\" x=\"51.378125\" xlink:href=\"#m49026e4776\" y=\"55.543127\"/>\n      </g>\n     </g>\n    </g>\n    <g id=\"ytick_34\">\n     <g id=\"line2d_61\">\n      <g>\n       <use style=\"stroke:#000000;stroke-width:0.6;\" x=\"51.378125\" xlink:href=\"#m49026e4776\" y=\"51.213971\"/>\n      </g>\n     </g>\n    </g>\n    <g id=\"ytick_35\">\n     <g id=\"line2d_62\">\n      <g>\n       <use style=\"stroke:#000000;stroke-width:0.6;\" x=\"51.378125\" xlink:href=\"#m49026e4776\" y=\"47.463885\"/>\n      </g>\n     </g>\n    </g>\n    <g id=\"ytick_36\">\n     <g id=\"line2d_63\">\n      <g>\n       <use style=\"stroke:#000000;stroke-width:0.6;\" x=\"51.378125\" xlink:href=\"#m49026e4776\" y=\"44.156075\"/>\n      </g>\n     </g>\n    </g>\n    <g id=\"text_9\">\n     <!-- log(y) -->\n     <g transform=\"translate(14.798438 172.701719)rotate(-90)scale(0.1 -0.1)\">\n      <defs>\n       <path d=\"M 32.171875 -5.078125 \nQ 28.375 -14.84375 24.75 -17.8125 \nQ 21.140625 -20.796875 15.09375 -20.796875 \nL 7.90625 -20.796875 \nL 7.90625 -13.28125 \nL 13.1875 -13.28125 \nQ 16.890625 -13.28125 18.9375 -11.515625 \nQ 21 -9.765625 23.484375 -3.21875 \nL 25.09375 0.875 \nL 2.984375 54.6875 \nL 12.5 54.6875 \nL 29.59375 11.921875 \nL 46.6875 54.6875 \nL 56.203125 54.6875 \nz\n\" id=\"DejaVuSans-121\"/>\n      </defs>\n      <use xlink:href=\"#DejaVuSans-108\"/>\n      <use x=\"27.783203\" xlink:href=\"#DejaVuSans-111\"/>\n      <use x=\"88.964844\" xlink:href=\"#DejaVuSans-103\"/>\n      <use x=\"152.441406\" xlink:href=\"#DejaVuSans-40\"/>\n      <use x=\"191.455078\" xlink:href=\"#DejaVuSans-121\"/>\n      <use x=\"250.634766\" xlink:href=\"#DejaVuSans-41\"/>\n     </g>\n    </g>\n   </g>\n   <g id=\"line2d_64\">\n    <defs>\n     <path d=\"M 0 1.5 \nC 0.397805 1.5 0.77937 1.341951 1.06066 1.06066 \nC 1.341951 0.77937 1.5 0.397805 1.5 0 \nC 1.5 -0.397805 1.341951 -0.77937 1.06066 -1.06066 \nC 0.77937 -1.341951 0.397805 -1.5 0 -1.5 \nC -0.397805 -1.5 -0.77937 -1.341951 -1.06066 -1.06066 \nC -1.341951 -0.77937 -1.5 -0.397805 -1.5 0 \nC -1.5 0.397805 -1.341951 0.77937 -1.06066 1.06066 \nC -0.77937 1.341951 -0.397805 1.5 0 1.5 \nz\n\" id=\"mef7b123ccf\" style=\"stroke:#0000ff;\"/>\n    </defs>\n    <g clip-path=\"url(#p7c8f94df55)\">\n     <use style=\"fill:#0000ff;stroke:#0000ff;\" x=\"125.927755\" xlink:href=\"#mef7b123ccf\" y=\"23881.555\"/>\n     <use style=\"fill:#0000ff;stroke:#0000ff;\" x=\"129.25399\" xlink:href=\"#mef7b123ccf\" y=\"73.34778\"/>\n     <use style=\"fill:#0000ff;stroke:#0000ff;\" x=\"131.971721\" xlink:href=\"#mef7b123ccf\" y=\"23881.555\"/>\n     <use style=\"fill:#0000ff;stroke:#0000ff;\" x=\"155.762012\" xlink:href=\"#mef7b123ccf\" y=\"23881.555\"/>\n     <use style=\"fill:#0000ff;stroke:#0000ff;\" x=\"157.331537\" xlink:href=\"#mef7b123ccf\" y=\"97.464386\"/>\n     <use style=\"fill:#0000ff;stroke:#0000ff;\" x=\"158.751345\" xlink:href=\"#mef7b123ccf\" y=\"23881.555\"/>\n     <use style=\"fill:#0000ff;stroke:#0000ff;\" x=\"175.409285\" xlink:href=\"#mef7b123ccf\" y=\"23881.555\"/>\n     <use style=\"fill:#0000ff;stroke:#0000ff;\" x=\"176.370133\" xlink:href=\"#mef7b123ccf\" y=\"119.50442\"/>\n     <use style=\"fill:#0000ff;stroke:#0000ff;\" x=\"177.272711\" xlink:href=\"#mef7b123ccf\" y=\"23881.555\"/>\n     <use style=\"fill:#0000ff;stroke:#0000ff;\" x=\"186.659354\" xlink:href=\"#mef7b123ccf\" y=\"23881.555\"/>\n     <use style=\"fill:#0000ff;stroke:#0000ff;\" x=\"187.385444\" xlink:href=\"#mef7b123ccf\" y=\"134.853513\"/>\n     <use style=\"fill:#0000ff;stroke:#0000ff;\" x=\"188.07775\" xlink:href=\"#mef7b123ccf\" y=\"23881.555\"/>\n     <use style=\"fill:#0000ff;stroke:#0000ff;\" x=\"195.453353\" xlink:href=\"#mef7b123ccf\" y=\"23881.555\"/>\n     <use style=\"fill:#0000ff;stroke:#0000ff;\" x=\"196.036763\" xlink:href=\"#mef7b123ccf\" y=\"152.152877\"/>\n     <use style=\"fill:#0000ff;stroke:#0000ff;\" x=\"196.598151\" xlink:href=\"#mef7b123ccf\" y=\"23881.555\"/>\n     <use style=\"fill:#0000ff;stroke:#0000ff;\" x=\"203.975451\" xlink:href=\"#mef7b123ccf\" y=\"23881.555\"/>\n     <use style=\"fill:#0000ff;stroke:#0000ff;\" x=\"204.447681\" xlink:href=\"#mef7b123ccf\" y=\"154.774005\"/>\n     <use style=\"fill:#0000ff;stroke:#0000ff;\" x=\"204.905378\" xlink:href=\"#mef7b123ccf\" y=\"23881.555\"/>\n     <use style=\"fill:#0000ff;stroke:#0000ff;\" x=\"209.921254\" xlink:href=\"#mef7b123ccf\" y=\"23881.555\"/>\n     <use style=\"fill:#0000ff;stroke:#0000ff;\" x=\"210.328618\" xlink:href=\"#mef7b123ccf\" y=\"170.262196\"/>\n     <use style=\"fill:#0000ff;stroke:#0000ff;\" x=\"210.725117\" xlink:href=\"#mef7b123ccf\" y=\"23881.555\"/>\n     <use style=\"fill:#0000ff;stroke:#0000ff;\" x=\"215.104757\" xlink:href=\"#mef7b123ccf\" y=\"23881.555\"/>\n     <use style=\"fill:#0000ff;stroke:#0000ff;\" x=\"215.462992\" xlink:href=\"#mef7b123ccf\" y=\"174.857553\"/>\n     <use style=\"fill:#0000ff;stroke:#0000ff;\" x=\"215.812797\" xlink:href=\"#mef7b123ccf\" y=\"23881.555\"/>\n     <use style=\"fill:#0000ff;stroke:#0000ff;\" x=\"220.559141\" xlink:href=\"#mef7b123ccf\" y=\"23881.555\"/>\n     <use style=\"fill:#0000ff;stroke:#0000ff;\" x=\"220.871993\" xlink:href=\"#mef7b123ccf\" y=\"190.263438\"/>\n     <use style=\"fill:#0000ff;stroke:#0000ff;\" x=\"221.178394\" xlink:href=\"#mef7b123ccf\" y=\"23881.555\"/>\n     <use style=\"fill:#0000ff;stroke:#0000ff;\" x=\"224.602797\" xlink:href=\"#mef7b123ccf\" y=\"23881.555\"/>\n     <use style=\"fill:#0000ff;stroke:#0000ff;\" x=\"224.885902\" xlink:href=\"#mef7b123ccf\" y=\"183.567921\"/>\n     <use style=\"fill:#0000ff;stroke:#0000ff;\" x=\"225.163715\" xlink:href=\"#mef7b123ccf\" y=\"23881.555\"/>\n     <use style=\"fill:#0000ff;stroke:#0000ff;\" x=\"228.279267\" xlink:href=\"#mef7b123ccf\" y=\"23881.555\"/>\n     <use style=\"fill:#0000ff;stroke:#0000ff;\" x=\"228.537683\" xlink:href=\"#mef7b123ccf\" y=\"193.706593\"/>\n     <use style=\"fill:#0000ff;stroke:#0000ff;\" x=\"228.791681\" xlink:href=\"#mef7b123ccf\" y=\"23881.555\"/>\n     <use style=\"fill:#0000ff;stroke:#0000ff;\" x=\"232.291284\" xlink:href=\"#mef7b123ccf\" y=\"23881.555\"/>\n     <use style=\"fill:#0000ff;stroke:#0000ff;\" x=\"232.525228\" xlink:href=\"#mef7b123ccf\" y=\"202.195826\"/>\n     <use style=\"fill:#0000ff;stroke:#0000ff;\" x=\"232.755546\" xlink:href=\"#mef7b123ccf\" y=\"23881.555\"/>\n     <use style=\"fill:#0000ff;stroke:#0000ff;\" x=\"235.355518\" xlink:href=\"#mef7b123ccf\" y=\"23881.555\"/>\n     <use style=\"fill:#0000ff;stroke:#0000ff;\" x=\"235.572329\" xlink:href=\"#mef7b123ccf\" y=\"211.977645\"/>\n     <use style=\"fill:#0000ff;stroke:#0000ff;\" x=\"235.78602\" xlink:href=\"#mef7b123ccf\" y=\"23881.555\"/>\n     <use style=\"fill:#0000ff;stroke:#0000ff;\" x=\"238.750547\" xlink:href=\"#mef7b123ccf\" y=\"23881.555\"/>\n     <use style=\"fill:#0000ff;stroke:#0000ff;\" x=\"238.949896\" xlink:href=\"#mef7b123ccf\" y=\"211.977645\"/>\n     <use style=\"fill:#0000ff;stroke:#0000ff;\" x=\"239.146605\" xlink:href=\"#mef7b123ccf\" y=\"23881.555\"/>\n     <use style=\"fill:#0000ff;stroke:#0000ff;\" x=\"241.377466\" xlink:href=\"#mef7b123ccf\" y=\"23881.555\"/>\n     <use style=\"fill:#0000ff;stroke:#0000ff;\" x=\"241.56418\" xlink:href=\"#mef7b123ccf\" y=\"231.44394\"/>\n     <use style=\"fill:#0000ff;stroke:#0000ff;\" x=\"241.748574\" xlink:href=\"#mef7b123ccf\" y=\"23881.555\"/>\n     <use style=\"fill:#0000ff;stroke:#0000ff;\" x=\"243.844203\" xlink:href=\"#mef7b123ccf\" y=\"23881.555\"/>\n     <use style=\"fill:#0000ff;stroke:#0000ff;\" x=\"244.019922\" xlink:href=\"#mef7b123ccf\" y=\"220.056887\"/>\n     <use style=\"fill:#0000ff;stroke:#0000ff;\" x=\"244.193585\" xlink:href=\"#mef7b123ccf\" y=\"23881.555\"/>\n     <use style=\"fill:#0000ff;stroke:#0000ff;\" x=\"246.618888\" xlink:href=\"#mef7b123ccf\" y=\"23881.555\"/>\n     <use style=\"fill:#0000ff;stroke:#0000ff;\" x=\"246.782856\" xlink:href=\"#mef7b123ccf\" y=\"242.830992\"/>\n     <use style=\"fill:#0000ff;stroke:#0000ff;\" x=\"246.945033\" xlink:href=\"#mef7b123ccf\" y=\"23881.555\"/>\n     <use style=\"fill:#0000ff;stroke:#0000ff;\" x=\"248.794062\" xlink:href=\"#mef7b123ccf\" y=\"23881.555\"/>\n     <use style=\"fill:#0000ff;stroke:#0000ff;\" x=\"248.949541\" xlink:href=\"#mef7b123ccf\" y=\"220.056887\"/>\n     <use style=\"fill:#0000ff;stroke:#0000ff;\" x=\"249.103408\" xlink:href=\"#mef7b123ccf\" y=\"23881.555\"/>\n     <use style=\"fill:#0000ff;stroke:#0000ff;\" x=\"250.858494\" xlink:href=\"#mef7b123ccf\" y=\"23881.555\"/>\n     <use style=\"fill:#0000ff;stroke:#0000ff;\" x=\"251.006193\" xlink:href=\"#mef7b123ccf\" y=\"231.44394\"/>\n     <use style=\"fill:#0000ff;stroke:#0000ff;\" x=\"251.152436\" xlink:href=\"#mef7b123ccf\" y=\"23881.555\"/>\n     <use style=\"fill:#0000ff;stroke:#0000ff;\" x=\"253.204468\" xlink:href=\"#mef7b123ccf\" y=\"23881.555\"/>\n     <use style=\"fill:#0000ff;stroke:#0000ff;\" x=\"253.343803\" xlink:href=\"#mef7b123ccf\" y=\"242.830992\"/>\n     <use style=\"fill:#0000ff;stroke:#0000ff;\" x=\"253.481841\" xlink:href=\"#mef7b123ccf\" y=\"23881.555\"/>\n     <use style=\"fill:#0000ff;stroke:#0000ff;\" x=\"255.060758\" xlink:href=\"#mef7b123ccf\" y=\"23881.555\"/>\n     <use style=\"fill:#0000ff;stroke:#0000ff;\" x=\"255.193775\" xlink:href=\"#mef7b123ccf\" y=\"262.297286\"/>\n     <use style=\"fill:#0000ff;stroke:#0000ff;\" x=\"255.325609\" xlink:href=\"#mef7b123ccf\" y=\"23881.555\"/>\n     <use style=\"fill:#0000ff;stroke:#0000ff;\" x=\"256.835588\" xlink:href=\"#mef7b123ccf\" y=\"23881.555\"/>\n     <use style=\"fill:#0000ff;stroke:#0000ff;\" x=\"256.962935\" xlink:href=\"#mef7b123ccf\" y=\"250.910234\"/>\n     <use style=\"fill:#0000ff;stroke:#0000ff;\" x=\"257.089198\" xlink:href=\"#mef7b123ccf\" y=\"23881.555\"/>\n     <use style=\"fill:#0000ff;stroke:#0000ff;\" x=\"258.867568\" xlink:href=\"#mef7b123ccf\" y=\"23881.555\"/>\n     <use style=\"fill:#0000ff;stroke:#0000ff;\" x=\"258.988724\" xlink:href=\"#mef7b123ccf\" y=\"236.564245\"/>\n     <use style=\"fill:#0000ff;stroke:#0000ff;\" x=\"259.108899\" xlink:href=\"#mef7b123ccf\" y=\"23881.555\"/>\n     <use style=\"fill:#0000ff;stroke:#0000ff;\" x=\"260.486452\" xlink:href=\"#mef7b123ccf\" y=\"23881.555\"/>\n     <use style=\"fill:#0000ff;stroke:#0000ff;\" x=\"260.602776\" xlink:href=\"#mef7b123ccf\" y=\"262.297286\"/>\n     <use style=\"fill:#0000ff;stroke:#0000ff;\" x=\"260.718195\" xlink:href=\"#mef7b123ccf\" y=\"23881.555\"/>\n     <use style=\"fill:#0000ff;stroke:#0000ff;\" x=\"262.043095\" xlink:href=\"#mef7b123ccf\" y=\"23881.555\"/>\n     <use style=\"fill:#0000ff;stroke:#0000ff;\" x=\"262.154971\" xlink:href=\"#mef7b123ccf\" y=\"281.76358\"/>\n     <use style=\"fill:#0000ff;stroke:#0000ff;\" x=\"262.266009\" xlink:href=\"#mef7b123ccf\" y=\"23881.555\"/>\n     <use style=\"fill:#0000ff;stroke:#0000ff;\" x=\"263.835231\" xlink:href=\"#mef7b123ccf\" y=\"23881.555\"/>\n     <use style=\"fill:#0000ff;stroke:#0000ff;\" x=\"263.942349\" xlink:href=\"#mef7b123ccf\" y=\"250.910234\"/>\n     <use style=\"fill:#0000ff;stroke:#0000ff;\" x=\"264.0487\" xlink:href=\"#mef7b123ccf\" y=\"23881.555\"/>\n     <use style=\"fill:#0000ff;stroke:#0000ff;\" x=\"269.548741\" xlink:href=\"#mef7b123ccf\" y=\"23881.555\"/>\n     <use style=\"fill:#0000ff;stroke:#0000ff;\" x=\"269.641727\" xlink:href=\"#mef7b123ccf\" y=\"262.297286\"/>\n     <use style=\"fill:#0000ff;stroke:#0000ff;\" x=\"269.734134\" xlink:href=\"#mef7b123ccf\" y=\"23881.555\"/>\n     <use style=\"fill:#0000ff;stroke:#0000ff;\" x=\"271.043395\" xlink:href=\"#mef7b123ccf\" y=\"23881.555\"/>\n     <use style=\"fill:#0000ff;stroke:#0000ff;\" x=\"271.132963\" xlink:href=\"#mef7b123ccf\" y=\"281.76358\"/>\n     <use style=\"fill:#0000ff;stroke:#0000ff;\" x=\"271.221994\" xlink:href=\"#mef7b123ccf\" y=\"23881.555\"/>\n     <use style=\"fill:#0000ff;stroke:#0000ff;\" x=\"273.417954\" xlink:href=\"#mef7b123ccf\" y=\"23881.555\"/>\n     <use style=\"fill:#0000ff;stroke:#0000ff;\" x=\"273.502489\" xlink:href=\"#mef7b123ccf\" y=\"250.910234\"/>\n     <use style=\"fill:#0000ff;stroke:#0000ff;\" x=\"273.586545\" xlink:href=\"#mef7b123ccf\" y=\"23881.555\"/>\n     <use style=\"fill:#0000ff;stroke:#0000ff;\" x=\"274.778646\" xlink:href=\"#mef7b123ccf\" y=\"23881.555\"/>\n     <use style=\"fill:#0000ff;stroke:#0000ff;\" x=\"274.860404\" xlink:href=\"#mef7b123ccf\" y=\"242.830992\"/>\n     <use style=\"fill:#0000ff;stroke:#0000ff;\" x=\"274.941714\" xlink:href=\"#mef7b123ccf\" y=\"23881.555\"/>\n     <use style=\"fill:#0000ff;stroke:#0000ff;\" x=\"276.949681\" xlink:href=\"#mef7b123ccf\" y=\"23881.555\"/>\n     <use style=\"fill:#0000ff;stroke:#0000ff;\" x=\"277.027088\" xlink:href=\"#mef7b123ccf\" y=\"281.76358\"/>\n     <use style=\"fill:#0000ff;stroke:#0000ff;\" x=\"277.104094\" xlink:href=\"#mef7b123ccf\" y=\"23881.555\"/>\n     <use style=\"fill:#0000ff;stroke:#0000ff;\" x=\"279.210574\" xlink:href=\"#mef7b123ccf\" y=\"23881.555\"/>\n     <use style=\"fill:#0000ff;stroke:#0000ff;\" x=\"279.283777\" xlink:href=\"#mef7b123ccf\" y=\"281.76358\"/>\n     <use style=\"fill:#0000ff;stroke:#0000ff;\" x=\"279.35662\" xlink:href=\"#mef7b123ccf\" y=\"23881.555\"/>\n     <use style=\"fill:#0000ff;stroke:#0000ff;\" x=\"280.197967\" xlink:href=\"#mef7b123ccf\" y=\"23881.555\"/>\n     <use style=\"fill:#0000ff;stroke:#0000ff;\" x=\"280.269405\" xlink:href=\"#mef7b123ccf\" y=\"281.76358\"/>\n     <use style=\"fill:#0000ff;stroke:#0000ff;\" x=\"280.340501\" xlink:href=\"#mef7b123ccf\" y=\"23881.555\"/>\n     <use style=\"fill:#0000ff;stroke:#0000ff;\" x=\"282.289054\" xlink:href=\"#mef7b123ccf\" y=\"23881.555\"/>\n     <use style=\"fill:#0000ff;stroke:#0000ff;\" x=\"282.356896\" xlink:href=\"#mef7b123ccf\" y=\"281.76358\"/>\n     <use style=\"fill:#0000ff;stroke:#0000ff;\" x=\"282.42443\" xlink:href=\"#mef7b123ccf\" y=\"23881.555\"/>\n     <use style=\"fill:#0000ff;stroke:#0000ff;\" x=\"286.172833\" xlink:href=\"#mef7b123ccf\" y=\"23881.555\"/>\n     <use style=\"fill:#0000ff;stroke:#0000ff;\" x=\"286.23447\" xlink:href=\"#mef7b123ccf\" y=\"281.76358\"/>\n     <use style=\"fill:#0000ff;stroke:#0000ff;\" x=\"286.295851\" xlink:href=\"#mef7b123ccf\" y=\"23881.555\"/>\n     <use style=\"fill:#0000ff;stroke:#0000ff;\" x=\"289.562073\" xlink:href=\"#mef7b123ccf\" y=\"23881.555\"/>\n     <use style=\"fill:#0000ff;stroke:#0000ff;\" x=\"289.618759\" xlink:href=\"#mef7b123ccf\" y=\"281.76358\"/>\n     <use style=\"fill:#0000ff;stroke:#0000ff;\" x=\"289.67523\" xlink:href=\"#mef7b123ccf\" y=\"23881.555\"/>\n     <use style=\"fill:#0000ff;stroke:#0000ff;\" x=\"295.055497\" xlink:href=\"#mef7b123ccf\" y=\"23881.555\"/>\n     <use style=\"fill:#0000ff;stroke:#0000ff;\" x=\"295.104991\" xlink:href=\"#mef7b123ccf\" y=\"281.76358\"/>\n     <use style=\"fill:#0000ff;stroke:#0000ff;\" x=\"295.154321\" xlink:href=\"#mef7b123ccf\" y=\"23881.555\"/>\n     <use style=\"fill:#0000ff;stroke:#0000ff;\" x=\"302.223198\" xlink:href=\"#mef7b123ccf\" y=\"23881.555\"/>\n     <use style=\"fill:#0000ff;stroke:#0000ff;\" x=\"302.264684\" xlink:href=\"#mef7b123ccf\" y=\"262.297286\"/>\n     <use style=\"fill:#0000ff;stroke:#0000ff;\" x=\"302.306054\" xlink:href=\"#mef7b123ccf\" y=\"23881.555\"/>\n     <use style=\"fill:#0000ff;stroke:#0000ff;\" x=\"317.667991\" xlink:href=\"#mef7b123ccf\" y=\"23881.555\"/>\n     <use style=\"fill:#0000ff;stroke:#0000ff;\" x=\"317.696307\" xlink:href=\"#mef7b123ccf\" y=\"281.76358\"/>\n    </g>\n   </g>\n   <g id=\"patch_3\">\n    <path d=\"M 51.378125 294.118125 \nL 51.378125 22.318125 \n\" style=\"fill:none;stroke:#000000;stroke-linecap:square;stroke-linejoin:miter;stroke-width:0.8;\"/>\n   </g>\n   <g id=\"patch_4\">\n    <path d=\"M 330.378125 294.118125 \nL 330.378125 22.318125 \n\" style=\"fill:none;stroke:#000000;stroke-linecap:square;stroke-linejoin:miter;stroke-width:0.8;\"/>\n   </g>\n   <g id=\"patch_5\">\n    <path d=\"M 51.378125 294.118125 \nL 330.378125 294.118125 \n\" style=\"fill:none;stroke:#000000;stroke-linecap:square;stroke-linejoin:miter;stroke-width:0.8;\"/>\n   </g>\n   <g id=\"patch_6\">\n    <path d=\"M 51.378125 22.318125 \nL 330.378125 22.318125 \n\" style=\"fill:none;stroke:#000000;stroke-linecap:square;stroke-linejoin:miter;stroke-width:0.8;\"/>\n   </g>\n   <g id=\"text_10\">\n    <!-- log-log scale -->\n    <g transform=\"translate(153.051875 16.318125)scale(0.12 -0.12)\">\n     <defs>\n      <path d=\"M 4.890625 31.390625 \nL 31.203125 31.390625 \nL 31.203125 23.390625 \nL 4.890625 23.390625 \nz\n\" id=\"DejaVuSans-45\"/>\n      <path id=\"DejaVuSans-32\"/>\n      <path d=\"M 44.28125 53.078125 \nL 44.28125 44.578125 \nQ 40.484375 46.53125 36.375 47.5 \nQ 32.28125 48.484375 27.875 48.484375 \nQ 21.1875 48.484375 17.84375 46.4375 \nQ 14.5 44.390625 14.5 40.28125 \nQ 14.5 37.15625 16.890625 35.375 \nQ 19.28125 33.59375 26.515625 31.984375 \nL 29.59375 31.296875 \nQ 39.15625 29.25 43.1875 25.515625 \nQ 47.21875 21.78125 47.21875 15.09375 \nQ 47.21875 7.46875 41.1875 3.015625 \nQ 35.15625 -1.421875 24.609375 -1.421875 \nQ 20.21875 -1.421875 15.453125 -0.5625 \nQ 10.6875 0.296875 5.421875 2 \nL 5.421875 11.28125 \nQ 10.40625 8.6875 15.234375 7.390625 \nQ 20.0625 6.109375 24.8125 6.109375 \nQ 31.15625 6.109375 34.5625 8.28125 \nQ 37.984375 10.453125 37.984375 14.40625 \nQ 37.984375 18.0625 35.515625 20.015625 \nQ 33.0625 21.96875 24.703125 23.78125 \nL 21.578125 24.515625 \nQ 13.234375 26.265625 9.515625 29.90625 \nQ 5.8125 33.546875 5.8125 39.890625 \nQ 5.8125 47.609375 11.28125 51.796875 \nQ 16.75 56 26.8125 56 \nQ 31.78125 56 36.171875 55.265625 \nQ 40.578125 54.546875 44.28125 53.078125 \nz\n\" id=\"DejaVuSans-115\"/>\n      <path d=\"M 48.78125 52.59375 \nL 48.78125 44.1875 \nQ 44.96875 46.296875 41.140625 47.34375 \nQ 37.3125 48.390625 33.40625 48.390625 \nQ 24.65625 48.390625 19.8125 42.84375 \nQ 14.984375 37.3125 14.984375 27.296875 \nQ 14.984375 17.28125 19.8125 11.734375 \nQ 24.65625 6.203125 33.40625 6.203125 \nQ 37.3125 6.203125 41.140625 7.25 \nQ 44.96875 8.296875 48.78125 10.40625 \nL 48.78125 2.09375 \nQ 45.015625 0.34375 40.984375 -0.53125 \nQ 36.96875 -1.421875 32.421875 -1.421875 \nQ 20.0625 -1.421875 12.78125 6.34375 \nQ 5.515625 14.109375 5.515625 27.296875 \nQ 5.515625 40.671875 12.859375 48.328125 \nQ 20.21875 56 33.015625 56 \nQ 37.15625 56 41.109375 55.140625 \nQ 45.0625 54.296875 48.78125 52.59375 \nz\n\" id=\"DejaVuSans-99\"/>\n      <path d=\"M 34.28125 27.484375 \nQ 23.390625 27.484375 19.1875 25 \nQ 14.984375 22.515625 14.984375 16.5 \nQ 14.984375 11.71875 18.140625 8.90625 \nQ 21.296875 6.109375 26.703125 6.109375 \nQ 34.1875 6.109375 38.703125 11.40625 \nQ 43.21875 16.703125 43.21875 25.484375 \nL 43.21875 27.484375 \nz\nM 52.203125 31.203125 \nL 52.203125 0 \nL 43.21875 0 \nL 43.21875 8.296875 \nQ 40.140625 3.328125 35.546875 0.953125 \nQ 30.953125 -1.421875 24.3125 -1.421875 \nQ 15.921875 -1.421875 10.953125 3.296875 \nQ 6 8.015625 6 15.921875 \nQ 6 25.140625 12.171875 29.828125 \nQ 18.359375 34.515625 30.609375 34.515625 \nL 43.21875 34.515625 \nL 43.21875 35.40625 \nQ 43.21875 41.609375 39.140625 45 \nQ 35.0625 48.390625 27.6875 48.390625 \nQ 23 48.390625 18.546875 47.265625 \nQ 14.109375 46.140625 10.015625 43.890625 \nL 10.015625 52.203125 \nQ 14.9375 54.109375 19.578125 55.046875 \nQ 24.21875 56 28.609375 56 \nQ 40.484375 56 46.34375 49.84375 \nQ 52.203125 43.703125 52.203125 31.203125 \nz\n\" id=\"DejaVuSans-97\"/>\n      <path d=\"M 56.203125 29.59375 \nL 56.203125 25.203125 \nL 14.890625 25.203125 \nQ 15.484375 15.921875 20.484375 11.0625 \nQ 25.484375 6.203125 34.421875 6.203125 \nQ 39.59375 6.203125 44.453125 7.46875 \nQ 49.3125 8.734375 54.109375 11.28125 \nL 54.109375 2.78125 \nQ 49.265625 0.734375 44.1875 -0.34375 \nQ 39.109375 -1.421875 33.890625 -1.421875 \nQ 20.796875 -1.421875 13.15625 6.1875 \nQ 5.515625 13.8125 5.515625 26.8125 \nQ 5.515625 40.234375 12.765625 48.109375 \nQ 20.015625 56 32.328125 56 \nQ 43.359375 56 49.78125 48.890625 \nQ 56.203125 41.796875 56.203125 29.59375 \nz\nM 47.21875 32.234375 \nQ 47.125 39.59375 43.09375 43.984375 \nQ 39.0625 48.390625 32.421875 48.390625 \nQ 24.90625 48.390625 20.390625 44.140625 \nQ 15.875 39.890625 15.1875 32.171875 \nz\n\" id=\"DejaVuSans-101\"/>\n     </defs>\n     <use xlink:href=\"#DejaVuSans-108\"/>\n     <use x=\"27.783203\" xlink:href=\"#DejaVuSans-111\"/>\n     <use x=\"88.964844\" xlink:href=\"#DejaVuSans-103\"/>\n     <use x=\"152.441406\" xlink:href=\"#DejaVuSans-45\"/>\n     <use x=\"188.525391\" xlink:href=\"#DejaVuSans-108\"/>\n     <use x=\"216.308594\" xlink:href=\"#DejaVuSans-111\"/>\n     <use x=\"277.490234\" xlink:href=\"#DejaVuSans-103\"/>\n     <use x=\"340.966797\" xlink:href=\"#DejaVuSans-32\"/>\n     <use x=\"372.753906\" xlink:href=\"#DejaVuSans-115\"/>\n     <use x=\"424.853516\" xlink:href=\"#DejaVuSans-99\"/>\n     <use x=\"479.833984\" xlink:href=\"#DejaVuSans-97\"/>\n     <use x=\"541.113281\" xlink:href=\"#DejaVuSans-108\"/>\n     <use x=\"568.896484\" xlink:href=\"#DejaVuSans-101\"/>\n    </g>\n   </g>\n  </g>\n </g>\n <defs>\n  <clipPath id=\"p7c8f94df55\">\n   <rect height=\"271.8\" width=\"279\" x=\"51.378125\" y=\"22.318125\"/>\n  </clipPath>\n </defs>\n</svg>\n",
      "image/png": "[encoded data removed]"
     },
     "metadata": {
      "needs_background": "light"
     }
    }
   ],
   "source": [
    "def plot(x):\n",
    "    plt.figure(figsize=(5, 5))\n",
    "    plt.gca().set(title='log-log scale', xlabel='log(x)', ylabel='log(y)')\n",
    "    plt.loglog(x/nbins, '.', c='#0000FF')\n",
    "\n",
    "plot(X_train[0])"
   ]
  },
  {
   "cell_type": "markdown",
   "metadata": {},
   "source": [
    "## Create Model"
   ]
  },
  {
   "cell_type": "code",
   "execution_count": 6,
   "metadata": {},
   "outputs": [],
   "source": [
    "def create_model(n_features, \n",
    "                 layers, \n",
    "                 activation='relu', \n",
    "                 init='he_uniform', \n",
    "                 batch_normalization=False, \n",
    "                 dropout=0, \n",
    "                 optimizer='adam', \n",
    "                 optimizer_lr=0.01, \n",
    "                 k_reg=False, \n",
    "                 k_reg_lr=0.001, \n",
    "                 a_reg=False, \n",
    "                 a_reg_lr=0.001):\n",
    "\n",
    "    model = Sequential()\n",
    "    \n",
    "    # ============\n",
    "    # input-layer\n",
    "    # ============\n",
    "    model.add(Dense(units=layers[0]\n",
    "                      , input_dim=n_features\n",
    "                      , kernel_initializer=init\n",
    "                      , activation=activation\n",
    "                      # , kernel_regularizer=l2(k_reg_lr) if k_reg else None\n",
    "                      # , activity_regularizer=l2(a_reg_lr) if a_reg else None)\n",
    "                    ))\n",
    "    \n",
    "    \n",
    "    if batch_normalization:\n",
    "        model.add(BatchNormalization())\n",
    "\n",
    "    if dropout > 0:\n",
    "        model.add(Dropout(dropout))\n",
    "\n",
    "    # ==============\n",
    "    # hidden-layers\n",
    "    # ==============\n",
    "    for units in layers[1:]:\n",
    "        model.add(Dense(units=units\n",
    "                        , kernel_initializer=init\n",
    "                        , kernel_regularizer=l2(k_reg_lr) if k_reg else None\n",
    "                        , activity_regularizer=l2(a_reg_lr) if a_reg else None\n",
    "                        ))\n",
    "\n",
    "    if batch_normalization:\n",
    "        model.add(BatchNormalization())\n",
    "\n",
    "    model.add(Activation(activation))\n",
    "    \n",
    "    if dropout > 0:\n",
    "        model.add(Dropout(dropout))\n",
    "\n",
    "    # =============\n",
    "    # output-layer\n",
    "    # =============\n",
    "    model.add(Dense(units=1\n",
    "                    , activation='linear'\n",
    "                    , kernel_initializer=init\n",
    "                  # , kernel_regularizer=l2(k_reg_lr) if k_reg else None\n",
    "                  # , activity_regularizer=l2(a_reg_lr) if a_reg else None)\n",
    "                    ))\n",
    "    \n",
    "    model.compile(loss='mse', metrics=['acc'], optimizer='adam')\n",
    "\n",
    "    return model\n"
   ]
  },
  {
   "cell_type": "markdown",
   "metadata": {},
   "source": [
    "## Evaluate Model"
   ]
  },
  {
   "cell_type": "code",
   "execution_count": 7,
   "metadata": {},
   "outputs": [],
   "source": [
    "def evaluate(model, X, y):\n",
    "    y_pred = model.predict(X)\n",
    "    return y_pred"
   ]
  },
  {
   "cell_type": "markdown",
   "metadata": {},
   "source": [
    "## Training"
   ]
  },
  {
   "cell_type": "code",
   "execution_count": 12,
   "metadata": {
    "tags": []
   },
   "outputs": [],
   "source": [
    "BATCH_SIZE = 1024\n",
    "MODEL_PREFIX = 'yulesimon'\n",
    "\n",
    "def run(X_train, y_train):\n",
    "    model = create_model(X_train.shape[1], \n",
    "                         layers=[64, 64, 64], \n",
    "                         activation='relu', \n",
    "                         init='he_uniform', \n",
    "                         batch_normalization=False, \n",
    "                         dropout=0.15, \n",
    "                         optimizer='adam', \n",
    "                         optimizer_lr=0.0001, \n",
    "                         k_reg=False, \n",
    "                         k_reg_lr=1e-5, \n",
    "                         a_reg=False, \n",
    "                         a_reg_lr=1e-6)\n",
    "    \n",
    "    # split train/validation\n",
    "    X_train, X_val, y_train, y_val = train_test_split(X_train, y_train, test_size=0.1)\n",
    "    \n",
    "    # early-stopping\n",
    "    es_patience = 100\n",
    "    es = EarlyStopping(monitor='val_loss', \n",
    "                        patience=es_patience, \n",
    "                        mode='min', \n",
    "                        restore_best_weights=True, \n",
    "                        verbose=1)\n",
    "    \n",
    "    # model checkpoint\n",
    "    if not os.path.exists('models'):\n",
    "        os.makedirs('models')\n",
    "    date_str = datetime.now().strftime('%d-%m-%Y_%H-%M-%S')\n",
    "    model_path = 'models/{}_{}.h5'.format(MODEL_PREFIX, date_str)\n",
    "    print('model path:', model_path)\n",
    "    \n",
    "    cp = ModelCheckpoint(filepath=model_path, monitor='val_loss', mode='min', save_best_only=True, verbose=1)\n",
    "    \n",
    "    # reduce learning-rate on plateau\n",
    "    reduce_lr = ReduceLROnPlateau(monitor='val_loss', factor=0.9, patience=min(30, int(es_patience/2)))\n",
    "    \n",
    "    # fit model\n",
    "    history = model.fit(X_train, \n",
    "                        y_train, \n",
    "                        validation_data=(X_val, y_val), \n",
    "                        epochs=10000, \n",
    "                        batch_size=BATCH_SIZE, \n",
    "                        shuffle=False, callbacks=[es, reduce_lr, cp], \n",
    "                        verbose=1)\n",
    "    \n",
    "    history_unique_name = 'models/{}_{}.history'.format(MODEL_PREFIX, date_str)\n",
    "    with open(history_unique_name, 'wb') as f:\n",
    "        pickle.dump(history, f)\n",
    "    \n",
    "    # load best weights from last checkpoint\n",
    "    model = keras.models.load_model(model_path)\n",
    "        \n",
    "    return model, history"
   ]
  },
  {
   "cell_type": "markdown",
   "metadata": {},
   "source": [
    "## Plot learning curves"
   ]
  },
  {
   "cell_type": "code",
   "execution_count": 9,
   "metadata": {},
   "outputs": [],
   "source": [
    "def plot_learning_curves(history, train_key='loss', val_key='val_loss'):\n",
    "    plt.plot(history[train_key])\n",
    "    plt.plot(history[val_key])\n",
    "    plt.title('learning curves')\n",
    "    plt.ylabel('loss')\n",
    "    plt.xlabel('epoch')\n",
    "    plt.legend(['train', 'validation'], loc='upper left')\n",
    "    plt.show()"
   ]
  },
  {
   "cell_type": "markdown",
   "metadata": {},
   "source": [
    "## Run"
   ]
  },
  {
   "cell_type": "code",
   "execution_count": 13,
   "metadata": {
    "tags": [
     "outputPrepend"
    ]
   },
   "outputs": [
    {
     "output_type": "stream",
     "name": "stdout",
     "text": "ove from 1.83690\n1/1 [==============================] - 0s 17ms/step - loss: 63414.4180 - acc: 0.0000e+00 - val_loss: 9498.6318 - val_acc: 0.0000e+00\nEpoch 66/10000\n1/1 [==============================] - ETA: 0s - loss: 87079.2734 - acc: 0.0000e+00\nEpoch 00066: val_loss did not improve from 1.83690\n1/1 [==============================] - 0s 19ms/step - loss: 87079.2734 - acc: 0.0000e+00 - val_loss: 10508.1396 - val_acc: 0.0000e+00\nEpoch 67/10000\n1/1 [==============================] - ETA: 0s - loss: 67629.3750 - acc: 0.0000e+00\nEpoch 00067: val_loss did not improve from 1.83690\n1/1 [==============================] - 0s 18ms/step - loss: 67629.3750 - acc: 0.0000e+00 - val_loss: 9755.8623 - val_acc: 0.0000e+00\nEpoch 68/10000\n1/1 [==============================] - ETA: 0s - loss: 77083.5000 - acc: 0.0000e+00\nEpoch 00068: val_loss did not improve from 1.83690\n1/1 [==============================] - 0s 20ms/step - loss: 77083.5000 - acc: 0.0000e+00 - val_loss: 8196.8311 - val_acc: 0.0000e+00\nEpoch 69/10000\n1/1 [==============================] - ETA: 0s - loss: 61063.2734 - acc: 0.0000e+00\nEpoch 00069: val_loss did not improve from 1.83690\n1/1 [==============================] - 0s 23ms/step - loss: 61063.2734 - acc: 0.0000e+00 - val_loss: 5631.9004 - val_acc: 0.0000e+00\nEpoch 70/10000\n1/1 [==============================] - ETA: 0s - loss: 51496.8789 - acc: 0.0000e+00\nEpoch 00070: val_loss did not improve from 1.83690\n1/1 [==============================] - 0s 20ms/step - loss: 51496.8789 - acc: 0.0000e+00 - val_loss: 3337.3518 - val_acc: 0.0000e+00\nEpoch 71/10000\n1/1 [==============================] - ETA: 0s - loss: 54465.0078 - acc: 0.0000e+00\nEpoch 00071: val_loss did not improve from 1.83690\n1/1 [==============================] - 0s 20ms/step - loss: 54465.0078 - acc: 0.0000e+00 - val_loss: 2349.1047 - val_acc: 0.0000e+00\nEpoch 72/10000\n1/1 [==============================] - ETA: 0s - loss: 19725.5742 - acc: 0.0000e+00\nEpoch 00072: val_loss did not improve from 1.83690\n1/1 [==============================] - 0s 20ms/step - loss: 19725.5742 - acc: 0.0000e+00 - val_loss: 1485.7272 - val_acc: 0.0000e+00\nEpoch 73/10000\n1/1 [==============================] - ETA: 0s - loss: 68126.3125 - acc: 0.0000e+00\nEpoch 00073: val_loss did not improve from 1.83690\n1/1 [==============================] - 0s 17ms/step - loss: 68126.3125 - acc: 0.0000e+00 - val_loss: 1312.2964 - val_acc: 0.0000e+00\nEpoch 74/10000\n1/1 [==============================] - ETA: 0s - loss: 13231.8018 - acc: 0.0000e+00\nEpoch 00074: val_loss did not improve from 1.83690\n1/1 [==============================] - 0s 38ms/step - loss: 13231.8018 - acc: 0.0000e+00 - val_loss: 992.7282 - val_acc: 0.0000e+00\nEpoch 75/10000\n1/1 [==============================] - ETA: 0s - loss: 14266.4580 - acc: 0.0000e+00\nEpoch 00075: val_loss did not improve from 1.83690\n1/1 [==============================] - 0s 23ms/step - loss: 14266.4580 - acc: 0.0000e+00 - val_loss: 821.1464 - val_acc: 0.0000e+00\nEpoch 76/10000\n1/1 [==============================] - ETA: 0s - loss: 14085.4014 - acc: 0.0000e+00\nEpoch 00076: val_loss did not improve from 1.83690\n1/1 [==============================] - 0s 24ms/step - loss: 14085.4014 - acc: 0.0000e+00 - val_loss: 719.7236 - val_acc: 0.0000e+00\nEpoch 77/10000\n1/1 [==============================] - ETA: 0s - loss: 20290.3184 - acc: 0.0000e+00\nEpoch 00077: val_loss did not improve from 1.83690\n1/1 [==============================] - 0s 23ms/step - loss: 20290.3184 - acc: 0.0000e+00 - val_loss: 619.1545 - val_acc: 0.0000e+00\nEpoch 78/10000\n1/1 [==============================] - ETA: 0s - loss: 50827.9883 - acc: 0.0000e+00\nEpoch 00078: val_loss did not improve from 1.83690\n1/1 [==============================] - 0s 23ms/step - loss: 50827.9883 - acc: 0.0000e+00 - val_loss: 495.7340 - val_acc: 0.0000e+00\nEpoch 79/10000\n1/1 [==============================] - ETA: 0s - loss: 27656.5879 - acc: 0.0000e+00\nEpoch 00079: val_loss did not improve from 1.83690\n1/1 [==============================] - 0s 22ms/step - loss: 27656.5879 - acc: 0.0000e+00 - val_loss: 218.5811 - val_acc: 0.0000e+00\nEpoch 80/10000\n1/1 [==============================] - ETA: 0s - loss: 20442.4902 - acc: 0.0000e+00\nEpoch 00080: val_loss did not improve from 1.83690\n1/1 [==============================] - 0s 22ms/step - loss: 20442.4902 - acc: 0.0000e+00 - val_loss: 83.4057 - val_acc: 0.0000e+00\nEpoch 81/10000\n1/1 [==============================] - ETA: 0s - loss: 30421.7695 - acc: 0.0000e+00\nEpoch 00081: val_loss did not improve from 1.83690\n1/1 [==============================] - 0s 19ms/step - loss: 30421.7695 - acc: 0.0000e+00 - val_loss: 4.4266 - val_acc: 0.0000e+00\nEpoch 82/10000\n1/1 [==============================] - ETA: 0s - loss: 12586.6934 - acc: 0.0000e+00\nEpoch 00082: val_loss did not improve from 1.83690\n1/1 [==============================] - 0s 16ms/step - loss: 12586.6934 - acc: 0.0000e+00 - val_loss: 19.7279 - val_acc: 0.0000e+00\nEpoch 83/10000\n1/1 [==============================] - ETA: 0s - loss: 25934.3730 - acc: 0.0000e+00\nEpoch 00083: val_loss did not improve from 1.83690\n1/1 [==============================] - 0s 17ms/step - loss: 25934.3730 - acc: 0.0000e+00 - val_loss: 68.8064 - val_acc: 0.0000e+00\nEpoch 84/10000\n1/1 [==============================] - ETA: 0s - loss: 15208.7910 - acc: 0.0000e+00\nEpoch 00084: val_loss did not improve from 1.83690\n1/1 [==============================] - 0s 21ms/step - loss: 15208.7910 - acc: 0.0000e+00 - val_loss: 139.2686 - val_acc: 0.0000e+00\nEpoch 85/10000\n1/1 [==============================] - ETA: 0s - loss: 1937.4514 - acc: 0.0000e+00\nEpoch 00085: val_loss did not improve from 1.83690\n1/1 [==============================] - 0s 16ms/step - loss: 1937.4514 - acc: 0.0000e+00 - val_loss: 249.1134 - val_acc: 0.0000e+00\nEpoch 86/10000\n1/1 [==============================] - ETA: 0s - loss: 23820.8555 - acc: 0.0000e+00\nEpoch 00086: val_loss did not improve from 1.83690\n1/1 [==============================] - 0s 16ms/step - loss: 23820.8555 - acc: 0.0000e+00 - val_loss: 213.6566 - val_acc: 0.0000e+00\nEpoch 87/10000\n1/1 [==============================] - ETA: 0s - loss: 21455.9590 - acc: 0.0000e+00\nEpoch 00087: val_loss did not improve from 1.83690\n1/1 [==============================] - 0s 18ms/step - loss: 21455.9590 - acc: 0.0000e+00 - val_loss: 118.3342 - val_acc: 0.0000e+00\nEpoch 88/10000\n1/1 [==============================] - ETA: 0s - loss: 19178.2090 - acc: 0.0000e+00\nEpoch 00088: val_loss did not improve from 1.83690\n1/1 [==============================] - 0s 17ms/step - loss: 19178.2090 - acc: 0.0000e+00 - val_loss: 17.5775 - val_acc: 0.0000e+00\nEpoch 89/10000\n1/1 [==============================] - ETA: 0s - loss: 28459.6816 - acc: 0.0000e+00\nEpoch 00089: val_loss did not improve from 1.83690\n1/1 [==============================] - 0s 16ms/step - loss: 28459.6816 - acc: 0.0000e+00 - val_loss: 11.4925 - val_acc: 0.0000e+00\nEpoch 90/10000\n1/1 [==============================] - ETA: 0s - loss: 8242.5273 - acc: 0.0000e+00\nEpoch 00090: val_loss did not improve from 1.83690\n1/1 [==============================] - 0s 18ms/step - loss: 8242.5273 - acc: 0.0000e+00 - val_loss: 50.5566 - val_acc: 0.0000e+00\nEpoch 91/10000\n1/1 [==============================] - ETA: 0s - loss: 24046.8262 - acc: 0.0000e+00\nEpoch 00091: val_loss did not improve from 1.83690\n1/1 [==============================] - 0s 18ms/step - loss: 24046.8262 - acc: 0.0000e+00 - val_loss: 106.5993 - val_acc: 0.0000e+00\nEpoch 92/10000\n1/1 [==============================] - ETA: 0s - loss: 22782.4004 - acc: 0.0000e+00\nEpoch 00092: val_loss did not improve from 1.83690\n1/1 [==============================] - 0s 16ms/step - loss: 22782.4004 - acc: 0.0000e+00 - val_loss: 375.3097 - val_acc: 0.0000e+00\nEpoch 93/10000\n1/1 [==============================] - ETA: 0s - loss: 21190.9648 - acc: 0.0000e+00\nEpoch 00093: val_loss did not improve from 1.83690\n1/1 [==============================] - 0s 16ms/step - loss: 21190.9648 - acc: 0.0000e+00 - val_loss: 903.2489 - val_acc: 0.0000e+00\nEpoch 94/10000\n1/1 [==============================] - ETA: 0s - loss: 10065.8457 - acc: 0.0000e+00\nEpoch 00094: val_loss did not improve from 1.83690\n1/1 [==============================] - 0s 16ms/step - loss: 10065.8457 - acc: 0.0000e+00 - val_loss: 1381.6212 - val_acc: 0.0000e+00\nEpoch 95/10000\n1/1 [==============================] - ETA: 0s - loss: 11717.2988 - acc: 0.0000e+00\nEpoch 00095: val_loss did not improve from 1.83690\n1/1 [==============================] - 0s 18ms/step - loss: 11717.2988 - acc: 0.0000e+00 - val_loss: 2098.8809 - val_acc: 0.0000e+00\nEpoch 96/10000\n1/1 [==============================] - ETA: 0s - loss: 18507.1660 - acc: 0.0000e+00\nEpoch 00096: val_loss did not improve from 1.83690\n1/1 [==============================] - 0s 17ms/step - loss: 18507.1660 - acc: 0.0000e+00 - val_loss: 2647.8704 - val_acc: 0.0000e+00\nEpoch 97/10000\n1/1 [==============================] - ETA: 0s - loss: 8785.3574 - acc: 0.0000e+00\nEpoch 00097: val_loss did not improve from 1.83690\n1/1 [==============================] - 0s 16ms/step - loss: 8785.3574 - acc: 0.0000e+00 - val_loss: 3488.0300 - val_acc: 0.0000e+00\nEpoch 98/10000\n1/1 [==============================] - ETA: 0s - loss: 13951.0645 - acc: 0.0000e+00\nEpoch 00098: val_loss did not improve from 1.83690\n1/1 [==============================] - 0s 16ms/step - loss: 13951.0645 - acc: 0.0000e+00 - val_loss: 4431.7012 - val_acc: 0.0000e+00\nEpoch 99/10000\n1/1 [==============================] - ETA: 0s - loss: 22988.8008 - acc: 0.0000e+00\nEpoch 00099: val_loss did not improve from 1.83690\n1/1 [==============================] - 0s 16ms/step - loss: 22988.8008 - acc: 0.0000e+00 - val_loss: 5665.7896 - val_acc: 0.0000e+00\nEpoch 100/10000\n1/1 [==============================] - ETA: 0s - loss: 40050.0391 - acc: 0.0000e+00\nEpoch 00100: val_loss did not improve from 1.83690\n1/1 [==============================] - 0s 17ms/step - loss: 40050.0391 - acc: 0.0000e+00 - val_loss: 6564.8975 - val_acc: 0.0000e+00\nEpoch 101/10000\n1/1 [==============================] - ETA: 0s - loss: 2292.4233 - acc: 0.0000e+00\nEpoch 00101: val_loss did not improve from 1.83690\n1/1 [==============================] - 0s 20ms/step - loss: 2292.4233 - acc: 0.0000e+00 - val_loss: 7314.4634 - val_acc: 0.0000e+00\nEpoch 102/10000\n1/1 [==============================] - ETA: 0s - loss: 31480.0684 - acc: 0.0000e+00\nEpoch 00102: val_loss did not improve from 1.83690\n1/1 [==============================] - 0s 18ms/step - loss: 31480.0684 - acc: 0.0000e+00 - val_loss: 7928.0903 - val_acc: 0.0000e+00\nEpoch 103/10000\n1/1 [==============================] - ETA: 0s - loss: 5487.2700 - acc: 0.0000e+00\nEpoch 00103: val_loss did not improve from 1.83690\n1/1 [==============================] - 0s 18ms/step - loss: 5487.2700 - acc: 0.0000e+00 - val_loss: 8443.3359 - val_acc: 0.0000e+00\nEpoch 104/10000\n1/1 [==============================] - ETA: 0s - loss: 19012.3750 - acc: 0.0000e+00\nEpoch 00104: val_loss did not improve from 1.83690\n1/1 [==============================] - 0s 18ms/step - loss: 19012.3750 - acc: 0.0000e+00 - val_loss: 8413.5273 - val_acc: 0.0000e+00\nEpoch 105/10000\n1/1 [==============================] - ETA: 0s - loss: 9626.8691 - acc: 0.0000e+00\nEpoch 00105: val_loss did not improve from 1.83690\n1/1 [==============================] - 0s 18ms/step - loss: 9626.8691 - acc: 0.0000e+00 - val_loss: 7681.7217 - val_acc: 0.0000e+00\nEpoch 106/10000\n1/1 [==============================] - ETA: 0s - loss: 13279.5811 - acc: 0.0000e+00\nEpoch 00106: val_loss did not improve from 1.83690\n1/1 [==============================] - 0s 19ms/step - loss: 13279.5811 - acc: 0.0000e+00 - val_loss: 6583.7788 - val_acc: 0.0000e+00\nEpoch 107/10000\n1/1 [==============================] - ETA: 0s - loss: 41069.6602 - acc: 0.0000e+00\nEpoch 00107: val_loss did not improve from 1.83690\n1/1 [==============================] - 0s 20ms/step - loss: 41069.6602 - acc: 0.0000e+00 - val_loss: 5802.3857 - val_acc: 0.0000e+00\nEpoch 108/10000\n1/1 [==============================] - ETA: 0s - loss: 10649.9932 - acc: 0.0000e+00\nEpoch 00108: val_loss did not improve from 1.83690\n1/1 [==============================] - 0s 17ms/step - loss: 10649.9932 - acc: 0.0000e+00 - val_loss: 5052.6094 - val_acc: 0.0000e+00\nEpoch 109/10000\n1/1 [==============================] - ETA: 0s - loss: 18651.3867 - acc: 0.0000e+00\nEpoch 00109: val_loss did not improve from 1.83690\n1/1 [==============================] - 0s 18ms/step - loss: 18651.3867 - acc: 0.0000e+00 - val_loss: 4765.1240 - val_acc: 0.0000e+00\nEpoch 110/10000\n1/1 [==============================] - ETA: 0s - loss: 29516.0898 - acc: 0.0000e+00\nEpoch 00110: val_loss did not improve from 1.83690\n1/1 [==============================] - 0s 20ms/step - loss: 29516.0898 - acc: 0.0000e+00 - val_loss: 4100.0762 - val_acc: 0.0000e+00\nEpoch 111/10000\n1/1 [==============================] - ETA: 0s - loss: 8304.5664 - acc: 0.0000e+00\nEpoch 00111: val_loss did not improve from 1.83690\n1/1 [==============================] - 0s 18ms/step - loss: 8304.5664 - acc: 0.0000e+00 - val_loss: 3345.0410 - val_acc: 0.0000e+00\nEpoch 112/10000\n1/1 [==============================] - ETA: 0s - loss: 6880.4033 - acc: 0.0000e+00\nEpoch 00112: val_loss did not improve from 1.83690\n1/1 [==============================] - 0s 17ms/step - loss: 6880.4033 - acc: 0.0000e+00 - val_loss: 2606.1091 - val_acc: 0.0000e+00\nEpoch 113/10000\n1/1 [==============================] - ETA: 0s - loss: 13937.3965 - acc: 0.0000e+00\nEpoch 00113: val_loss did not improve from 1.83690\n1/1 [==============================] - 0s 17ms/step - loss: 13937.3965 - acc: 0.0000e+00 - val_loss: 1777.4803 - val_acc: 0.0000e+00\nEpoch 114/10000\n1/1 [==============================] - ETA: 0s - loss: 12459.8809 - acc: 0.0000e+00\nEpoch 00114: val_loss did not improve from 1.83690\n1/1 [==============================] - 0s 18ms/step - loss: 12459.8809 - acc: 0.0000e+00 - val_loss: 989.0612 - val_acc: 0.0000e+00\nEpoch 115/10000\n1/1 [==============================] - ETA: 0s - loss: 17369.0742 - acc: 0.0000e+00\nEpoch 00115: val_loss did not improve from 1.83690\n1/1 [==============================] - 0s 16ms/step - loss: 17369.0742 - acc: 0.0000e+00 - val_loss: 428.9272 - val_acc: 0.0000e+00\nEpoch 116/10000\n1/1 [==============================] - ETA: 0s - loss: 5025.3296 - acc: 0.0000e+00\nEpoch 00116: val_loss did not improve from 1.83690\n1/1 [==============================] - 0s 17ms/step - loss: 5025.3296 - acc: 0.0000e+00 - val_loss: 147.0539 - val_acc: 0.0000e+00\nEpoch 117/10000\n1/1 [==============================] - ETA: 0s - loss: 22815.3242 - acc: 0.0000e+00\nEpoch 00117: val_loss did not improve from 1.83690\n1/1 [==============================] - 0s 17ms/step - loss: 22815.3242 - acc: 0.0000e+00 - val_loss: 18.4990 - val_acc: 0.0000e+00\nEpoch 118/10000\n1/1 [==============================] - ETA: 0s - loss: 9052.0400 - acc: 0.0000e+00\nEpoch 00118: val_loss did not improve from 1.83690\n1/1 [==============================] - 0s 17ms/step - loss: 9052.0400 - acc: 0.0000e+00 - val_loss: 9.5947 - val_acc: 0.0000e+00\nEpoch 119/10000\n1/1 [==============================] - ETA: 0s - loss: 20795.3965 - acc: 0.0000e+00\nEpoch 00119: val_loss did not improve from 1.83690\n1/1 [==============================] - 0s 17ms/step - loss: 20795.3965 - acc: 0.0000e+00 - val_loss: 36.1580 - val_acc: 0.0000e+00\nEpoch 120/10000\n1/1 [==============================] - ETA: 0s - loss: 36413.8164 - acc: 0.0000e+00\nEpoch 00120: val_loss did not improve from 1.83690\n1/1 [==============================] - 0s 17ms/step - loss: 36413.8164 - acc: 0.0000e+00 - val_loss: 13.8569 - val_acc: 0.0000e+00\nEpoch 121/10000\n1/1 [==============================] - ETA: 0s - loss: 41308.2734 - acc: 0.0000e+00\nEpoch 00121: val_loss did not improve from 1.83690\n1/1 [==============================] - 0s 16ms/step - loss: 41308.2734 - acc: 0.0000e+00 - val_loss: 36.8022 - val_acc: 0.0000e+00\nEpoch 122/10000\n1/1 [==============================] - ETA: 0s - loss: 9056.3584 - acc: 0.0000e+00\nEpoch 00122: val_loss did not improve from 1.83690\n1/1 [==============================] - 0s 17ms/step - loss: 9056.3584 - acc: 0.0000e+00 - val_loss: 209.5618 - val_acc: 0.0000e+00\nEpoch 123/10000\n1/1 [==============================] - ETA: 0s - loss: 8957.1641 - acc: 0.0000e+00\nEpoch 00123: val_loss did not improve from 1.83690\n1/1 [==============================] - 0s 23ms/step - loss: 8957.1641 - acc: 0.0000e+00 - val_loss: 521.3006 - val_acc: 0.0000e+00\nEpoch 124/10000\n1/1 [==============================] - ETA: 0s - loss: 9235.6816 - acc: 0.0000e+00\nEpoch 00124: val_loss did not improve from 1.83690\n1/1 [==============================] - 0s 19ms/step - loss: 9235.6816 - acc: 0.0000e+00 - val_loss: 959.2216 - val_acc: 0.0000e+00\nEpoch 125/10000\n1/1 [==============================] - ETA: 0s - loss: 66455.2031 - acc: 0.0000e+00\nEpoch 00125: val_loss did not improve from 1.83690\n1/1 [==============================] - 0s 18ms/step - loss: 66455.2031 - acc: 0.0000e+00 - val_loss: 1867.6948 - val_acc: 0.0000e+00\nEpoch 126/10000\n1/1 [==============================] - ETA: 0s - loss: 11717.9434 - acc: 0.0000e+00\nEpoch 00126: val_loss did not improve from 1.83690\n1/1 [==============================] - 0s 16ms/step - loss: 11717.9434 - acc: 0.0000e+00 - val_loss: 2684.9802 - val_acc: 0.0000e+00\nEpoch 127/10000\n1/1 [==============================] - ETA: 0s - loss: 7802.5010 - acc: 0.0000e+00\nEpoch 00127: val_loss did not improve from 1.83690\n1/1 [==============================] - 0s 18ms/step - loss: 7802.5010 - acc: 0.0000e+00 - val_loss: 3406.8496 - val_acc: 0.0000e+00\nEpoch 128/10000\n1/1 [==============================] - ETA: 0s - loss: 9177.2578 - acc: 0.0000e+00\nEpoch 00128: val_loss did not improve from 1.83690\n1/1 [==============================] - 0s 17ms/step - loss: 9177.2578 - acc: 0.0000e+00 - val_loss: 4278.9209 - val_acc: 0.0000e+00\nEpoch 129/10000\n1/1 [==============================] - ETA: 0s - loss: 10877.6855 - acc: 0.0000e+00\nEpoch 00129: val_loss did not improve from 1.83690\n1/1 [==============================] - 0s 23ms/step - loss: 10877.6855 - acc: 0.0000e+00 - val_loss: 4928.0127 - val_acc: 0.0000e+00\nEpoch 130/10000\n1/1 [==============================] - ETA: 0s - loss: 8325.0225 - acc: 0.0000e+00\nEpoch 00130: val_loss did not improve from 1.83690\n1/1 [==============================] - 0s 21ms/step - loss: 8325.0225 - acc: 0.0000e+00 - val_loss: 5767.7578 - val_acc: 0.0000e+00\nEpoch 131/10000\n1/1 [==============================] - ETA: 0s - loss: 8739.9141 - acc: 0.0000e+00\nEpoch 00131: val_loss did not improve from 1.83690\n1/1 [==============================] - 0s 22ms/step - loss: 8739.9141 - acc: 0.0000e+00 - val_loss: 6604.9722 - val_acc: 0.0000e+00\nEpoch 132/10000\n1/1 [==============================] - ETA: 0s - loss: 7350.9009 - acc: 0.0000e+00\nEpoch 00132: val_loss did not improve from 1.83690\n1/1 [==============================] - 0s 16ms/step - loss: 7350.9009 - acc: 0.0000e+00 - val_loss: 7460.4033 - val_acc: 0.0000e+00\nEpoch 133/10000\n1/1 [==============================] - ETA: 0s - loss: 13970.2500 - acc: 0.0000e+00\nEpoch 00133: val_loss did not improve from 1.83690\n1/1 [==============================] - 0s 17ms/step - loss: 13970.2500 - acc: 0.0000e+00 - val_loss: 8064.2119 - val_acc: 0.0000e+00\nEpoch 134/10000\n1/1 [==============================] - ETA: 0s - loss: 10548.7539 - acc: 0.0000e+00\nEpoch 00134: val_loss did not improve from 1.83690\n1/1 [==============================] - 0s 18ms/step - loss: 10548.7539 - acc: 0.0000e+00 - val_loss: 8638.8721 - val_acc: 0.0000e+00\nEpoch 135/10000\n1/1 [==============================] - ETA: 0s - loss: 18828.6836 - acc: 0.0000e+00Restoring model weights from the end of the best epoch.\n\nEpoch 00135: val_loss did not improve from 1.83690\n1/1 [==============================] - 0s 29ms/step - loss: 18828.6836 - acc: 0.0000e+00 - val_loss: 8595.0693 - val_acc: 0.0000e+00\nEpoch 00135: early stopping\n"
    },
    {
     "output_type": "error",
     "ename": "TypeError",
     "evalue": "can't pickle _thread.RLock objects",
     "traceback": [
      "\u001b[0;31m---------------------------------------------------------------------------\u001b[0m",
      "\u001b[0;31mTypeError\u001b[0m                                 Traceback (most recent call last)",
      "\u001b[0;32m<timed exec>\u001b[0m in \u001b[0;36m<module>\u001b[0;34m\u001b[0m\n",
      "\u001b[0;32m<ipython-input-12-e75811426309>\u001b[0m in \u001b[0;36mrun\u001b[0;34m(X_train, y_train)\u001b[0m\n\u001b[1;32m     50\u001b[0m     \u001b[0mhistory_unique_name\u001b[0m \u001b[0;34m=\u001b[0m \u001b[0;34m'models/{}_{}.history'\u001b[0m\u001b[0;34m.\u001b[0m\u001b[0mformat\u001b[0m\u001b[0;34m(\u001b[0m\u001b[0mMODEL_PREFIX\u001b[0m\u001b[0;34m,\u001b[0m \u001b[0mdate_str\u001b[0m\u001b[0;34m)\u001b[0m\u001b[0;34m\u001b[0m\u001b[0;34m\u001b[0m\u001b[0m\n\u001b[1;32m     51\u001b[0m     \u001b[0;32mwith\u001b[0m \u001b[0mopen\u001b[0m\u001b[0;34m(\u001b[0m\u001b[0mhistory_unique_name\u001b[0m\u001b[0;34m,\u001b[0m \u001b[0;34m'wb'\u001b[0m\u001b[0;34m)\u001b[0m \u001b[0;32mas\u001b[0m \u001b[0mf\u001b[0m\u001b[0;34m:\u001b[0m\u001b[0;34m\u001b[0m\u001b[0;34m\u001b[0m\u001b[0m\n\u001b[0;32m---> 52\u001b[0;31m         \u001b[0mpickle\u001b[0m\u001b[0;34m.\u001b[0m\u001b[0mdump\u001b[0m\u001b[0;34m(\u001b[0m\u001b[0mhistory\u001b[0m\u001b[0;34m,\u001b[0m \u001b[0mf\u001b[0m\u001b[0;34m)\u001b[0m\u001b[0;34m\u001b[0m\u001b[0;34m\u001b[0m\u001b[0m\n\u001b[0m\u001b[1;32m     53\u001b[0m \u001b[0;34m\u001b[0m\u001b[0m\n\u001b[1;32m     54\u001b[0m     \u001b[0;31m# load best weights from last checkpoint\u001b[0m\u001b[0;34m\u001b[0m\u001b[0;34m\u001b[0m\u001b[0;34m\u001b[0m\u001b[0m\n",
      "\u001b[0;31mTypeError\u001b[0m: can't pickle _thread.RLock objects"
     ]
    }
   ],
   "source": [
    "%%time\n",
    "\n",
    "if True:\n",
    "    model, history = run(X_train, y_train)\n",
    "    # plot_learning_curves(history.history)"
   ]
  }
 ],
 "metadata": {
  "kernelspec": {
   "display_name": "ou",
   "language": "python",
   "name": "ou"
  },
  "language_info": {
   "codemirror_mode": {
    "name": "ipython",
    "version": 3
   },
   "file_extension": ".py",
   "mimetype": "text/x-python",
   "name": "python",
   "nbconvert_exporter": "python",
   "pygments_lexer": "ipython3",
   "version": "3.6.8-final"
  }
 },
 "nbformat": 4,
 "nbformat_minor": 4
}