{
 "cells": [
  {
   "cell_type": "markdown",
   "id": "18c0f7b5",
   "metadata": {},
   "source": [
    "# Imports"
   ]
  },
  {
   "cell_type": "code",
   "execution_count": 1,
   "id": "298147db",
   "metadata": {},
   "outputs": [],
   "source": [
    "import numpy as np\n",
    "from scipy import stats\n",
    "import random\n",
    "\n",
    "import matplotlib.pyplot as plt\n",
    "%matplotlib inline\n",
    "\n",
    "# import library\n",
    "%run lib.ipynb"
   ]
  },
  {
   "cell_type": "markdown",
   "id": "5a154f05",
   "metadata": {},
   "source": [
    "## Generate data (yulesimon)"
   ]
  },
  {
   "cell_type": "code",
   "execution_count": 2,
   "id": "50c90dc4",
   "metadata": {},
   "outputs": [],
   "source": [
    "from scipy.stats import yulesimon\n",
    "\n",
    "def sample_yulesimon(alpha, size):\n",
    "    return yulesimon.rvs(alpha, loc=0, size=size)\n",
    "\n",
    "def next_alpha(min_alpha=2.0, max_alpha=3.0):\n",
    "    alpha = np.random.uniform(low=min_alpha, high=max_alpha, size=1)[0]\n",
    "    return alpha\n",
    "\n",
    "# generate data\n",
    "H, y = generate_data(N=10000, M=1024, nextConfig=next_alpha, sample=sample_yulesimon)\n",
    "\n",
    "# replace zero values of H with one (so as not to take log of zero)\n",
    "H_tag = H.copy()\n",
    "H_tag[H_tag == 0] = 1\n",
    "\n",
    "# log scale H_tag rows\n",
    "logH = np.apply_along_axis(lambda a: np.log10(a), 1, H_tag)"
   ]
  },
  {
   "cell_type": "markdown",
   "id": "994277ab",
   "metadata": {},
   "source": [
    "### Plot histogram and log scale of a single row"
   ]
  },
  {
   "cell_type": "code",
   "execution_count": 3,
   "id": "448acd3f",
   "metadata": {},
   "outputs": [
    {
     "data": {
      "image/png": "[encoded data removed]",
      "text/plain": [
       "<Figure size 1080x360 with 2 Axes>"
      ]
     },
     "metadata": {
      "needs_background": "light"
     },
     "output_type": "display_data"
    }
   ],
   "source": [
    "# plot random row\n",
    "ROW_INDEX_TO_PLOT = random.randint(0, H.shape[0])\n",
    "\n",
    "fig, axes = plt.subplots(nrows=1, ncols=2, figsize=(15, 5))\n",
    "fig.suptitle(f'plot for row-index: {ROW_INDEX_TO_PLOT}')\n",
    "\n",
    "# plot histogram\n",
    "f_x = H[ROW_INDEX_TO_PLOT,:]\n",
    "x = np.array(range(len(f_x)))\n",
    "plt.subplot(1, 2, 1)\n",
    "plt.title('Histogram (alpha={:.2f})'.format(y[0]))\n",
    "plt.xlabel('sample value')\n",
    "plt.ylabel('number of samples')\n",
    "# _ = plt.plot(x, f_x, zorder=2)\n",
    "_ = plt.scatter(x, f_x, zorder=1, s=2, color=\"blue\")\n",
    "\n",
    "# plot log scale\n",
    "log_x = np.log10(x+1)\n",
    "log_f_x = logH[ROW_INDEX_TO_PLOT,:]\n",
    "plt.subplot(1, 2, 2)\n",
    "plt.title('Log scale')\n",
    "plt.xlabel('log ( sample value )')\n",
    "plt.ylabel('log ( number of samples )')\n",
    "_ = plt.plot(log_x, log_f_x, zorder=2)\n",
    "_ = plt.scatter(log_x, log_f_x, zorder=1, s=2, color=\"blue\")"
   ]
  },
  {
   "cell_type": "markdown",
   "id": "a531b11e",
   "metadata": {},
   "source": [
    "# Create and train DNN model"
   ]
  },
  {
   "cell_type": "code",
   "execution_count": null,
   "id": "dab4dfbc",
   "metadata": {},
   "outputs": [
    {
     "name": "stdout",
     "output_type": "stream",
     "text": [
      "X_train.shape: (7500, 1201)\n"
     ]
    }
   ],
   "source": [
    "# split train/test\n",
    "X_train, X_test, y_train, y_test = train_test_split(logH, y, test_size=0.25)\n",
    "print(f'X_train.shape: {X_train.shape}')\n",
    "\n",
    "dnn_model = create_dnn_model(X_train.shape[1], \n",
    "                        layers=[1024,1024], \n",
    "                        activation='relu', \n",
    "                        init=keras.initializers.HeUniform(), \n",
    "                        batch_normalization=True, \n",
    "                        dropout=0.0, \n",
    "                        optimizer=Adam(learning_rate=1e-3), \n",
    "                        k_reg=True,\n",
    "                        k_reg_lr=1e-5, \n",
    "                        a_reg=True,\n",
    "                        a_reg_lr=1e-5)\n",
    "\n",
    "# train\n",
    "dnn_model, history = train_dnn_model(dnn_model, X_train, y_train)\n",
    "\n",
    "# plot learning curves\n",
    "plot_learning_curves(history)"
   ]
  },
  {
   "cell_type": "code",
   "execution_count": null,
   "id": "a479b70b",
   "metadata": {},
   "outputs": [],
   "source": [
    "# predict\n",
    "y_pred = dnn_model.predict(X_test).flatten()\n",
    "\n",
    "# mse\n",
    "mse = mean_squared_error(y_test, y_pred)\n",
    "\n",
    "# sqrt_mse\n",
    "sqrt_mse = np.sqrt(mse)\n",
    "\n",
    "print(f'sqrt_mse: {sqrt_mse}')"
   ]
  },
  {
   "cell_type": "markdown",
   "id": "a9d25a7c",
   "metadata": {},
   "source": [
    "# Create and train CNN model"
   ]
  },
  {
   "cell_type": "code",
   "execution_count": null,
   "id": "89286948",
   "metadata": {},
   "outputs": [],
   "source": [
    "# # create cnn model\n",
    "# X_train_cnn = X_train.reshape(X_train.shape[0], X_train.shape[1], 1)\n",
    "# cnn_model = create_cnn_model(X_train_cnn.shape[1], filters=32)\n",
    "\n",
    "# # train cnn model\n",
    "# cnn_model, cnn_history, cnn_base_path = train(cnn_model, X_train_cnn, y_train)\n",
    "\n",
    "# # plot learning curves\n",
    "# plot_learning_curves(cnn_history)\n",
    "\n",
    "# # predict\n",
    "# X_test_cnn = X_test.reshape(X_test.shape[0], X_test.shape[1], 1)\n",
    "# y_pred_cnn = cnn_model.predict(X_test_cnn).flatten()\n",
    "\n",
    "# # mse\n",
    "# mse_cnn = mean_squared_error(y_test, y_pred_cnn)\n",
    "\n",
    "# # sqrt_mse\n",
    "# sqrt_mse_cnn = np.sqrt(mse_cnn)\n",
    "\n",
    "# print(f'sqrt_mse: {sqrt_mse_cnn}')"
   ]
  }
 ],
 "metadata": {
  "kernelspec": {
   "display_name": "ou",
   "language": "python",
   "name": "ou"
  },
  "language_info": {
   "codemirror_mode": {
    "name": "ipython",
    "version": 3
   },
   "file_extension": ".py",
   "mimetype": "text/x-python",
   "name": "python",
   "nbconvert_exporter": "python",
   "pygments_lexer": "ipython3",
   "version": "3.8.10"
  }
 },
 "nbformat": 4,
 "nbformat_minor": 5
}
