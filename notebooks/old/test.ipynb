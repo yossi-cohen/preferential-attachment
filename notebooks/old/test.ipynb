{
 "metadata": {
  "language_info": {
   "codemirror_mode": {
    "name": "ipython",
    "version": 3
   },
   "file_extension": ".py",
   "mimetype": "text/x-python",
   "name": "python",
   "nbconvert_exporter": "python",
   "pygments_lexer": "ipython3",
   "version": "3.8.5-final"
  },
  "orig_nbformat": 2,
  "kernelspec": {
   "name": "python38564bitouvenv1660671e70f1438ca37ddb0a4c083fa0",
   "display_name": "Python 3.8.5 64-bit ('ou': venv)"
  }
 },
 "nbformat": 4,
 "nbformat_minor": 2,
 "cells": [
  {
   "cell_type": "code",
   "execution_count": 11,
   "metadata": {},
   "outputs": [],
   "source": [
    "import numpy as np\n",
    "from skimage.measure import block_reduce"
   ]
  },
  {
   "cell_type": "code",
   "execution_count": 3,
   "metadata": {},
   "outputs": [],
   "source": [
    "# a = np.arange(20).reshape(5,4)\n",
    "\n",
    "# print(a)\n",
    "\n",
    "# for i in [2,3]:\n",
    "#     for j in range(0, a.shape[1]-i+1, i):\n",
    "#         print(np.append(a, a[j:j+i,:], axis=1))\n",
    "\n",
    "# print()\n",
    "# print(a)"
   ]
  },
  {
   "cell_type": "code",
   "execution_count": 71,
   "metadata": {},
   "outputs": [],
   "source": [
    "# t = np.array([[4,5,0,7,1,6,8,3,2,9],[4,5,0,7,1,6,8,3,2,9]])\n",
    "t = np.array([4,5,0,7,1,6,8,3,2,9])"
   ]
  },
  {
   "cell_type": "code",
   "execution_count": 72,
   "metadata": {},
   "outputs": [
    {
     "output_type": "execute_result",
     "data": {
      "text/plain": [
       "array([ 9,  7,  7, 11, 11])"
      ]
     },
     "metadata": {},
     "execution_count": 72
    }
   ],
   "source": [
    "block_reduce(t, block_size=(2,), func=np.sum)"
   ]
  },
  {
   "cell_type": "code",
   "execution_count": 73,
   "metadata": {},
   "outputs": [
    {
     "output_type": "execute_result",
     "data": {
      "text/plain": [
       "array([ 9, 14, 13,  9])"
      ]
     },
     "metadata": {},
     "execution_count": 73
    }
   ],
   "source": [
    "block_reduce(t, block_size=(3,), func=np.sum)"
   ]
  },
  {
   "cell_type": "code",
   "execution_count": 74,
   "metadata": {},
   "outputs": [
    {
     "output_type": "execute_result",
     "data": {
      "text/plain": [
       "array([ 9,  7,  7, 11, 11])"
      ]
     },
     "metadata": {},
     "execution_count": 74
    }
   ],
   "source": [
    "np.add.reduceat(t, np.arange(0, len(t), 2))"
   ]
  },
  {
   "cell_type": "code",
   "execution_count": 75,
   "metadata": {},
   "outputs": [
    {
     "output_type": "execute_result",
     "data": {
      "text/plain": [
       "array([ 9, 14, 13,  9])"
      ]
     },
     "metadata": {},
     "execution_count": 75
    }
   ],
   "source": [
    "np.add.reduceat(t, np.arange(0, len(t), 3))"
   ]
  },
  {
   "cell_type": "code",
   "execution_count": 31,
   "metadata": {},
   "outputs": [],
   "source": [
    "t2 = np.array([[4,5,0,7,1,6,8,3,2,9],[4,5,0,7,1,6,8,3,2,9]])"
   ]
  },
  {
   "cell_type": "code",
   "execution_count": 76,
   "metadata": {},
   "outputs": [
    {
     "output_type": "execute_result",
     "data": {
      "text/plain": [
       "array([[4, 5, 0, 7, 1, 6, 8, 3, 2, 9],\n",
       "       [4, 5, 0, 7, 1, 6, 8, 3, 2, 9]])"
      ]
     },
     "metadata": {},
     "execution_count": 76
    }
   ],
   "source": [
    "t2"
   ]
  },
  {
   "cell_type": "code",
   "execution_count": 78,
   "metadata": {},
   "outputs": [
    {
     "output_type": "execute_result",
     "data": {
      "text/plain": [
       "array([[ 9,  7,  7, 11, 11],\n",
       "       [ 9,  7,  7, 11, 11]])"
      ]
     },
     "metadata": {},
     "execution_count": 78
    }
   ],
   "source": [
    "np.add.reduceat(t2, np.arange(0, t2.shape[1], 2), axis=1)"
   ]
  },
  {
   "cell_type": "code",
   "execution_count": 63,
   "metadata": {},
   "outputs": [],
   "source": [
    "t3 = np.array([[4,5,0,7,1,6,8,3,2,9],[4,5,0,7,1,6,8,3,2,9],[4,5,0,7,1,6,8,3,2,9]])"
   ]
  },
  {
   "cell_type": "code",
   "execution_count": 64,
   "metadata": {},
   "outputs": [
    {
     "output_type": "execute_result",
     "data": {
      "text/plain": [
       "array([[ 9,  7,  7, 11, 11],\n",
       "       [ 9,  7,  7, 11, 11],\n",
       "       [ 9,  7,  7, 11, 11]])"
      ]
     },
     "metadata": {},
     "execution_count": 64
    }
   ],
   "source": [
    "np.add.reduceat(t3, np.arange(0, len(t), 2), axis=1)"
   ]
  },
  {
   "cell_type": "code",
   "execution_count": 50,
   "metadata": {},
   "outputs": [],
   "source": [
    "def B(k):\n",
    "    \"\"\"\n",
    "    k = [1 .. M + DELTA]\n",
    "    B(k) = \n",
    "    \"\"\"\n",
    "    pass"
   ]
  },
  {
   "cell_type": "code",
   "execution_count": 52,
   "metadata": {},
   "outputs": [],
   "source": [
    "a = np.array([[4,5,0,7,1,6,8,3,2,9],[4,5,0,7,1,6,8,3,2,9],[4,5,0,7,1,6,8,3,2,9]])"
   ]
  },
  {
   "cell_type": "code",
   "execution_count": 82,
   "metadata": {},
   "outputs": [],
   "source": [
    "a\n",
    "a2 = np.add.reduceat(a, np.arange(0, a.shape[1], 2), axis=1)\n",
    "a3 = np.add.reduceat(a, np.arange(0, a.shape[1], 3), axis=1)"
   ]
  },
  {
   "cell_type": "code",
   "execution_count": 83,
   "metadata": {},
   "outputs": [
    {
     "output_type": "execute_result",
     "data": {
      "text/plain": [
       "array([[4, 5, 0, 7, 1, 6, 8, 3, 2, 9],\n",
       "       [4, 5, 0, 7, 1, 6, 8, 3, 2, 9],\n",
       "       [4, 5, 0, 7, 1, 6, 8, 3, 2, 9]])"
      ]
     },
     "metadata": {},
     "execution_count": 83
    }
   ],
   "source": [
    "a"
   ]
  },
  {
   "cell_type": "code",
   "execution_count": 84,
   "metadata": {},
   "outputs": [
    {
     "output_type": "execute_result",
     "data": {
      "text/plain": [
       "array([[ 9,  7,  7, 11, 11],\n",
       "       [ 9,  7,  7, 11, 11],\n",
       "       [ 9,  7,  7, 11, 11]])"
      ]
     },
     "metadata": {},
     "execution_count": 84
    }
   ],
   "source": [
    "a2"
   ]
  },
  {
   "cell_type": "code",
   "execution_count": 85,
   "metadata": {},
   "outputs": [
    {
     "output_type": "execute_result",
     "data": {
      "text/plain": [
       "array([[ 9, 14, 13,  9],\n",
       "       [ 9, 14, 13,  9],\n",
       "       [ 9, 14, 13,  9]])"
      ]
     },
     "metadata": {},
     "execution_count": 85
    }
   ],
   "source": [
    "a3"
   ]
  },
  {
   "cell_type": "code",
   "execution_count": 93,
   "metadata": {},
   "outputs": [],
   "source": [
    "OUT = a.copy()"
   ]
  },
  {
   "cell_type": "code",
   "execution_count": 94,
   "metadata": {},
   "outputs": [
    {
     "output_type": "execute_result",
     "data": {
      "text/plain": [
       "array([[ 4,  5,  0,  7,  1,  6,  8,  3,  2,  9,  9,  7,  7, 11, 11],\n",
       "       [ 4,  5,  0,  7,  1,  6,  8,  3,  2,  9,  9,  7,  7, 11, 11],\n",
       "       [ 4,  5,  0,  7,  1,  6,  8,  3,  2,  9,  9,  7,  7, 11, 11]])"
      ]
     },
     "metadata": {},
     "execution_count": 94
    }
   ],
   "source": [
    "OUT = np.hstack((OUT,a2))\n",
    "OUT"
   ]
  },
  {
   "cell_type": "code",
   "execution_count": 95,
   "metadata": {},
   "outputs": [
    {
     "output_type": "execute_result",
     "data": {
      "text/plain": [
       "array([[ 4,  5,  0,  7,  1,  6,  8,  3,  2,  9,  9,  7,  7, 11, 11,  9,\n",
       "        14, 13,  9],\n",
       "       [ 4,  5,  0,  7,  1,  6,  8,  3,  2,  9,  9,  7,  7, 11, 11,  9,\n",
       "        14, 13,  9],\n",
       "       [ 4,  5,  0,  7,  1,  6,  8,  3,  2,  9,  9,  7,  7, 11, 11,  9,\n",
       "        14, 13,  9]])"
      ]
     },
     "metadata": {},
     "execution_count": 95
    }
   ],
   "source": [
    "OUT = np.hstack((OUT,a3))\n",
    "OUT"
   ]
  },
  {
   "cell_type": "code",
   "execution_count": 12,
   "metadata": {},
   "outputs": [
    {
     "output_type": "execute_result",
     "data": {
      "text/plain": [
       "{'a_N': 2, 'a_sqrt_mse': 4, 'a_avg_abs_errors': 6}"
      ]
     },
     "metadata": {},
     "execution_count": 12
    }
   ],
   "source": [
    "def foo():\n",
    "    return {'a_N':2, 'a_sqrt_mse':4, 'a_avg_abs_errors':6}\n",
    "\n",
    "zzz = foo()\n",
    "zzz"
   ]
  },
  {
   "cell_type": "code",
   "execution_count": 14,
   "metadata": {},
   "outputs": [
    {
     "output_type": "execute_result",
     "data": {
      "text/plain": [
       "{'username_0': 'user0',\n",
       " 'age_0': 0,\n",
       " 'username_1': 'user1',\n",
       " 'age_1': 1,\n",
       " 'username_2': 'user2',\n",
       " 'age_2': 2}"
      ]
     },
     "metadata": {},
     "execution_count": 14
    }
   ],
   "source": [
    "users = []\n",
    "for i in range(3):\n",
    "    users.append(('username_{}'.format(i), 'user{}'.format(i)))\n",
    "    users.append(('age_{}'.format(i), i))\n",
    "dict(users)"
   ]
  },
  {
   "cell_type": "code",
   "execution_count": 49,
   "metadata": {},
   "outputs": [
    {
     "output_type": "execute_result",
     "data": {
      "text/plain": [
       "array([[3, 3, 3, 3, 0],\n",
       "       [3, 3, 3, 3, 0]])"
      ]
     },
     "metadata": {},
     "execution_count": 49
    }
   ],
   "source": [
    "import numpy as np\n",
    "\n",
    "def max_every_n_elements(a, n):\n",
    "    mod = a.shape[0] % n\n",
    "    if mod > 0:\n",
    "        a = np.hstack((a, np.zeros_like(a, shape=[a.shape[0],mod])))\n",
    "    b = np.reshape(a, (-1,int(a.shape[1]/n),n))\n",
    "    c = np.max(b, axis=2)\n",
    "    return c\n",
    "\n",
    "n = 3\n",
    "a = np.array([[1,2,3,1,2,3,1,2,3,1,2,3,0], [1,2,3,1,2,3,1,2,3,1,2,3,0]])\n",
    "c = max_every_n_elements(a, n)\n",
    "c\n",
    "# mod = 2\n",
    "# np.hstack((a, np.zeros_like(a, shape=[a.shape[0],mod])))"
   ]
  }
 ]
}