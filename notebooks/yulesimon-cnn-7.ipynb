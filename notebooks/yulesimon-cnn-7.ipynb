{
 "cells": [
  {
   "cell_type": "code",
   "execution_count": null,
   "metadata": {},
   "outputs": [],
   "source": [
    "%run yulesimon-common.ipynb"
   ]
  },
  {
   "cell_type": "markdown",
   "metadata": {},
   "source": [
    "# Trials"
   ]
  },
  {
   "cell_type": "code",
   "execution_count": null,
   "metadata": {
    "tags": []
   },
   "outputs": [],
   "source": [
    "def trial(num_alphas=100, random_alpha=False):\n",
    "    print('Processing...')\n",
    "    print()\n",
    "\n",
    "    a_N = np.array([])\n",
    "    a_sqrt_mse = np.array([])\n",
    "\n",
    "    # 10 random states\n",
    "    # random_states = [0, 3, 5, 8, 11, 16, 17, 20, 21, 24]\n",
    "    random_states = [3]\n",
    "    # random_states = [0, 3, 5]\n",
    "    # random_states = [3, 5, 8]\n",
    "    # random_states = [0, 3, 17]\n",
    "\n",
    "    # hold array of absolute errors\n",
    "    abs_errors = np.array([], dtype=float)\n",
    "\n",
    "    # change N [32..2048]\n",
    "    # for i in range(5, 12):\n",
    "    for i in range(5, 8):\n",
    "    # for i in range(5, 12):\n",
    "\n",
    "        N = 2**i\n",
    "\n",
    "        a_N = np.append(a_N, N)\n",
    "\n",
    "        # data generation (fix random state=0)\n",
    "        DATA_SEED = 0\n",
    "        fix_random(seed=DATA_SEED)\n",
    "        X, y, M = generate_data(N=N, num_alphas=num_alphas, samples_per_alpha=100, random_alpha=random_alpha, random_state=DATA_SEED)\n",
    "\n",
    "        # reshape X for Conv1D\n",
    "        X = X.reshape(X.shape[0], X.shape[1], 1)\n",
    "\n",
    "        # split train/test\n",
    "        X_train, X_test, y_train, y_test = train_test_split(X, y, test_size=0.25, random_state=0)\n",
    "\n",
    "        avg_sqrt_mse = 0\n",
    "\n",
    "        # change random state\n",
    "        for rs in random_states:\n",
    "\n",
    "            # fix random\n",
    "            fix_random(seed=rs)\n",
    "        \n",
    "            # training\n",
    "            model, history = train(X_train, y_train, filters=32, batch_size=32, random_state=rs)\n",
    "\n",
    "            # predict\n",
    "            y_pred = model.predict(X_test).flatten()\n",
    "\n",
    "            # mse\n",
    "            mse = mean_squared_error(y_test, y_pred)\n",
    "\n",
    "            # sqrt_mse\n",
    "            sqrt_mse = np.sqrt(mse)\n",
    "\n",
    "            # avg_sqrt_mse (accumulator)\n",
    "            avg_sqrt_mse += sqrt_mse\n",
    "            \n",
    "            print('N = {}, M = {}, random_state = {}    =>    sqrt_mse = {:.6f}'.format(N, M, rs, sqrt_mse))\n",
    "\n",
    "            # absolute errors\n",
    "            abs_errors = np.append(abs_errors, np.abs(y_test - y_pred))\n",
    "\n",
    "        # avg_sqrt_mse\n",
    "        avg_sqrt_mse = avg_sqrt_mse / len(random_states)\n",
    "        a_sqrt_mse = np.append(a_sqrt_mse, avg_sqrt_mse)\n",
    "        print('avg_sqrt_mse = {:.6f}'.format(avg_sqrt_mse))\n",
    "        print()\n",
    "\n",
    "    return abs_errors, a_N, a_sqrt_mse"
   ]
  },
  {
   "cell_type": "code",
   "execution_count": null,
   "metadata": {
    "tags": []
   },
   "outputs": [],
   "source": [
    "abs_errors, a_N, a_sqrt_mse = trial(random_alpha=True)"
   ]
  },
  {
   "source": [
    "# plot log(N) vs sqrt_mse"
   ],
   "cell_type": "markdown",
   "metadata": {}
  },
  {
   "cell_type": "code",
   "execution_count": null,
   "metadata": {},
   "outputs": [],
   "source": [
    "def plot_sqrt_mse():\n",
    "    \n",
    "    plt.figure(figsize=(15, 4))\n",
    "    \n",
    "    ax1 = plt.subplot(1, 2, 1)\n",
    "    ax1.set(title='sqrt_mse', xlabel='log(N)', ylabel='sqrt_mse')\n",
    "    ax1.scatter(np.log10(a_N), a_sqrt_mse)\n",
    "\n",
    "plot_sqrt_mse()"
   ]
  },
  {
   "source": [
    "# plot abs(error) distributions"
   ],
   "cell_type": "markdown",
   "metadata": {}
  },
  {
   "cell_type": "code",
   "execution_count": null,
   "metadata": {},
   "outputs": [],
   "source": [
    "_ = sns.distplot(abs_errors, hist=False, kde=True, kde_kws={\"shade\": True})"
   ]
  },
  {
   "source": [
    "# avg & std of errors"
   ],
   "cell_type": "markdown",
   "metadata": {}
  },
  {
   "cell_type": "code",
   "execution_count": null,
   "metadata": {
    "tags": []
   },
   "outputs": [],
   "source": [
    "print('avg(abs_errors):\\t{:.6f}'.format(np.average(abs_errors)))\n",
    "print()\n",
    "print('std(abs_errors):\\t{:.6f}'.format(np.std(abs_errors)))"
   ]
  }
 ],
 "metadata": {
  "kernelspec": {
   "display_name": "ou",
   "language": "python",
   "name": "ou"
  },
  "language_info": {
   "codemirror_mode": {
    "name": "ipython",
    "version": 3
   },
   "file_extension": ".py",
   "mimetype": "text/x-python",
   "name": "python",
   "nbconvert_exporter": "python",
   "pygments_lexer": "ipython3",
   "version": "3.8.5-final"
  }
 },
 "nbformat": 4,
 "nbformat_minor": 4
}